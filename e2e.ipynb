{
 "cells": [
  {
   "cell_type": "code",
   "execution_count": 1,
   "metadata": {},
   "outputs": [],
   "source": [
    "import sys\n",
    "import os\n",
    "\n",
    "# 프로젝트 디렉토리 경로 추가\n",
    "project_path = \"/home/elicer/capstone_1216\"\n",
    "if project_path not in sys.path:\n",
    "    sys.path.append(project_path)\n",
    "\n",
    "# Text2Video-Zero 경로 추가\n",
    "text2video_path = os.path.join(project_path, \"Text2Video-Zero\")\n",
    "if text2video_path not in sys.path:\n",
    "    sys.path.append(text2video_path)\n",
    "\n"
   ]
  },
  {
   "cell_type": "code",
   "execution_count": 2,
   "metadata": {},
   "outputs": [
    {
     "name": "stderr",
     "output_type": "stream",
     "text": [
      "/home/elicer/.cap/lib/python3.9/site-packages/tqdm/auto.py:22: TqdmWarning: IProgress not found. Please update jupyter and ipywidgets. See https://ipywidgets.readthedocs.io/en/stable/user_install.html\n",
      "  from .autonotebook import tqdm as notebook_tqdm\n",
      "/home/elicer/capstone_1216/Text2Video-Zero/annotator/openpose/body.py:5: DeprecationWarning: Please use `gaussian_filter` from the `scipy.ndimage` namespace, the `scipy.ndimage.filters` namespace is deprecated.\n",
      "  from scipy.ndimage.filters import gaussian_filter\n",
      "/home/elicer/capstone_1216/Text2Video-Zero/annotator/openpose/hand.py:6: DeprecationWarning: Please use `gaussian_filter` from the `scipy.ndimage` namespace, the `scipy.ndimage.filters` namespace is deprecated.\n",
      "  from scipy.ndimage.filters import gaussian_filter\n",
      "/home/elicer/.cap/lib/python3.9/site-packages/skimage/util/dtype.py:27: DeprecationWarning: `np.bool8` is a deprecated alias for `np.bool_`.  (Deprecated NumPy 1.24)\n",
      "  np.bool8: (False, True),\n"
     ]
    },
    {
     "name": "stdout",
     "output_type": "stream",
     "text": [
      "cuda\n",
      "cuda\n",
      "Requirement already satisfied: google-cloud-texttospeech in /home/elicer/.cap/lib/python3.9/site-packages (2.22.0)\n",
      "Requirement already satisfied: sounddevice in /home/elicer/.cap/lib/python3.9/site-packages (0.5.1)\n",
      "Requirement already satisfied: numpy in /home/elicer/.cap/lib/python3.9/site-packages (1.24.1)\n",
      "Requirement already satisfied: google-api-core!=2.0.*,!=2.1.*,!=2.10.*,!=2.2.*,!=2.3.*,!=2.4.*,!=2.5.*,!=2.6.*,!=2.7.*,!=2.8.*,!=2.9.*,<3.0.0dev,>=1.34.1 in /home/elicer/.cap/lib/python3.9/site-packages (from google-api-core[grpc]!=2.0.*,!=2.1.*,!=2.10.*,!=2.2.*,!=2.3.*,!=2.4.*,!=2.5.*,!=2.6.*,!=2.7.*,!=2.8.*,!=2.9.*,<3.0.0dev,>=1.34.1->google-cloud-texttospeech) (2.24.0)\n",
      "Requirement already satisfied: google-auth!=2.24.0,!=2.25.0,<3.0.0dev,>=2.14.1 in /home/elicer/.cap/lib/python3.9/site-packages (from google-cloud-texttospeech) (2.37.0)\n",
      "Requirement already satisfied: proto-plus<2.0.0dev,>=1.22.3 in /home/elicer/.cap/lib/python3.9/site-packages (from google-cloud-texttospeech) (1.25.0)\n",
      "Requirement already satisfied: protobuf!=4.21.0,!=4.21.1,!=4.21.2,!=4.21.3,!=4.21.4,!=4.21.5,<6.0.0dev,>=3.20.2 in /home/elicer/.cap/lib/python3.9/site-packages (from google-cloud-texttospeech) (5.29.1)\n",
      "Requirement already satisfied: CFFI>=1.0 in /home/elicer/.cap/lib/python3.9/site-packages (from sounddevice) (1.17.1)\n",
      "Requirement already satisfied: pycparser in /home/elicer/.cap/lib/python3.9/site-packages (from CFFI>=1.0->sounddevice) (2.22)\n",
      "Requirement already satisfied: googleapis-common-protos<2.0.dev0,>=1.56.2 in /home/elicer/.cap/lib/python3.9/site-packages (from google-api-core!=2.0.*,!=2.1.*,!=2.10.*,!=2.2.*,!=2.3.*,!=2.4.*,!=2.5.*,!=2.6.*,!=2.7.*,!=2.8.*,!=2.9.*,<3.0.0dev,>=1.34.1->google-api-core[grpc]!=2.0.*,!=2.1.*,!=2.10.*,!=2.2.*,!=2.3.*,!=2.4.*,!=2.5.*,!=2.6.*,!=2.7.*,!=2.8.*,!=2.9.*,<3.0.0dev,>=1.34.1->google-cloud-texttospeech) (1.66.0)\n",
      "Requirement already satisfied: requests<3.0.0.dev0,>=2.18.0 in /home/elicer/.cap/lib/python3.9/site-packages (from google-api-core!=2.0.*,!=2.1.*,!=2.10.*,!=2.2.*,!=2.3.*,!=2.4.*,!=2.5.*,!=2.6.*,!=2.7.*,!=2.8.*,!=2.9.*,<3.0.0dev,>=1.34.1->google-api-core[grpc]!=2.0.*,!=2.1.*,!=2.10.*,!=2.2.*,!=2.3.*,!=2.4.*,!=2.5.*,!=2.6.*,!=2.7.*,!=2.8.*,!=2.9.*,<3.0.0dev,>=1.34.1->google-cloud-texttospeech) (2.32.3)\n",
      "Requirement already satisfied: grpcio<2.0dev,>=1.33.2 in /home/elicer/.cap/lib/python3.9/site-packages (from google-api-core[grpc]!=2.0.*,!=2.1.*,!=2.10.*,!=2.2.*,!=2.3.*,!=2.4.*,!=2.5.*,!=2.6.*,!=2.7.*,!=2.8.*,!=2.9.*,<3.0.0dev,>=1.34.1->google-cloud-texttospeech) (1.68.1)\n",
      "Requirement already satisfied: grpcio-status<2.0.dev0,>=1.33.2 in /home/elicer/.cap/lib/python3.9/site-packages (from google-api-core[grpc]!=2.0.*,!=2.1.*,!=2.10.*,!=2.2.*,!=2.3.*,!=2.4.*,!=2.5.*,!=2.6.*,!=2.7.*,!=2.8.*,!=2.9.*,<3.0.0dev,>=1.34.1->google-cloud-texttospeech) (1.68.1)\n",
      "Requirement already satisfied: cachetools<6.0,>=2.0.0 in /home/elicer/.cap/lib/python3.9/site-packages (from google-auth!=2.24.0,!=2.25.0,<3.0.0dev,>=2.14.1->google-cloud-texttospeech) (5.5.0)\n",
      "Requirement already satisfied: pyasn1-modules>=0.2.1 in /home/elicer/.cap/lib/python3.9/site-packages (from google-auth!=2.24.0,!=2.25.0,<3.0.0dev,>=2.14.1->google-cloud-texttospeech) (0.4.1)\n",
      "Requirement already satisfied: rsa<5,>=3.1.4 in /home/elicer/.cap/lib/python3.9/site-packages (from google-auth!=2.24.0,!=2.25.0,<3.0.0dev,>=2.14.1->google-cloud-texttospeech) (4.9)\n",
      "Requirement already satisfied: pyasn1<0.7.0,>=0.4.6 in /home/elicer/.cap/lib/python3.9/site-packages (from pyasn1-modules>=0.2.1->google-auth!=2.24.0,!=2.25.0,<3.0.0dev,>=2.14.1->google-cloud-texttospeech) (0.6.1)\n",
      "Requirement already satisfied: charset-normalizer<4,>=2 in /home/elicer/.cap/lib/python3.9/site-packages (from requests<3.0.0.dev0,>=2.18.0->google-api-core!=2.0.*,!=2.1.*,!=2.10.*,!=2.2.*,!=2.3.*,!=2.4.*,!=2.5.*,!=2.6.*,!=2.7.*,!=2.8.*,!=2.9.*,<3.0.0dev,>=1.34.1->google-api-core[grpc]!=2.0.*,!=2.1.*,!=2.10.*,!=2.2.*,!=2.3.*,!=2.4.*,!=2.5.*,!=2.6.*,!=2.7.*,!=2.8.*,!=2.9.*,<3.0.0dev,>=1.34.1->google-cloud-texttospeech) (3.4.0)\n",
      "Requirement already satisfied: idna<4,>=2.5 in /home/elicer/.cap/lib/python3.9/site-packages (from requests<3.0.0.dev0,>=2.18.0->google-api-core!=2.0.*,!=2.1.*,!=2.10.*,!=2.2.*,!=2.3.*,!=2.4.*,!=2.5.*,!=2.6.*,!=2.7.*,!=2.8.*,!=2.9.*,<3.0.0dev,>=1.34.1->google-api-core[grpc]!=2.0.*,!=2.1.*,!=2.10.*,!=2.2.*,!=2.3.*,!=2.4.*,!=2.5.*,!=2.6.*,!=2.7.*,!=2.8.*,!=2.9.*,<3.0.0dev,>=1.34.1->google-cloud-texttospeech) (3.10)\n",
      "Requirement already satisfied: urllib3<3,>=1.21.1 in /home/elicer/.cap/lib/python3.9/site-packages (from requests<3.0.0.dev0,>=2.18.0->google-api-core!=2.0.*,!=2.1.*,!=2.10.*,!=2.2.*,!=2.3.*,!=2.4.*,!=2.5.*,!=2.6.*,!=2.7.*,!=2.8.*,!=2.9.*,<3.0.0dev,>=1.34.1->google-api-core[grpc]!=2.0.*,!=2.1.*,!=2.10.*,!=2.2.*,!=2.3.*,!=2.4.*,!=2.5.*,!=2.6.*,!=2.7.*,!=2.8.*,!=2.9.*,<3.0.0dev,>=1.34.1->google-cloud-texttospeech) (2.2.3)\n",
      "Requirement already satisfied: certifi>=2017.4.17 in /home/elicer/.cap/lib/python3.9/site-packages (from requests<3.0.0.dev0,>=2.18.0->google-api-core!=2.0.*,!=2.1.*,!=2.10.*,!=2.2.*,!=2.3.*,!=2.4.*,!=2.5.*,!=2.6.*,!=2.7.*,!=2.8.*,!=2.9.*,<3.0.0dev,>=1.34.1->google-api-core[grpc]!=2.0.*,!=2.1.*,!=2.10.*,!=2.2.*,!=2.3.*,!=2.4.*,!=2.5.*,!=2.6.*,!=2.7.*,!=2.8.*,!=2.9.*,<3.0.0dev,>=1.34.1->google-cloud-texttospeech) (2024.12.14)\n",
      "ChromeDriver installed at: /home/elicer/.cap/lib/python3.9/site-packages/chromedriver_autoinstaller/131/chromedriver\n",
      "[100] 정부, 내일 오전 10시 임시국무회의…6개 쟁점법안 거부권 여부 결정: https://n.news.naver.com/mnews/article/081/0003504653\n",
      "[100] '한동훈 사살' 주장 김어준 고발…\"내란선동·명예훼손\": https://n.news.naver.com/mnews/article/421/0007974187\n",
      "[100] 화기애애 상견례… 與 향한 ‘내란동조당’ 해석은 제각각: https://n.news.naver.com/mnews/article/366/0001041157\n",
      "[100] 개혁신당 때아닌 내홍…이준석, 허은아 겨냥 \"결자해지 해야\": https://n.news.naver.com/mnews/article/018/0005909090\n",
      "[100] 오세훈 \"계엄 반대하지만 대통령 이재명도 수용 못하는 상식적 국민 많다\": https://n.news.naver.com/mnews/article/214/0001394625\n",
      "[100] 김병주 “국방홍보원장 지시로 ‘국방일보’ 내란 미화 보도”: https://n.news.naver.com/mnews/article/028/0002722385\n",
      "[100] 국민의힘, '헌재 추가 임명' 반대‥\"시간끌기\": https://n.news.naver.com/mnews/article/214/0001394494\n",
      "[100] 여, 비대위원장 논의 '진통'...\"선수별 후보 추천받기로\": https://n.news.naver.com/mnews/article/052/0002129493\n",
      "[100] [속보] 나경원, 박지원 위원장 선출에 \"민주당, 북치고 장구치고 다 하겠다는 것\": https://n.news.naver.com/mnews/article/031/0000894683\n",
      "[100] 이재명, 권성동에 “선배님, 한번 안아보자”…‘어릴 때 옆방 쓰던 사이’ 사연은?: https://n.news.naver.com/mnews/article/009/0005415757\n",
      "[100] [투나잇이슈] 권성동-이재명 만남…尹 내란혐의 수사 공수처 이첩: https://n.news.naver.com/mnews/article/422/0000699240\n",
      "[100] 계엄 당일 국민의힘 대화록 공개…추경호 당사 집결 공지만: https://n.news.naver.com/mnews/article/079/0003972378\n",
      "[100] [뉴스NIGHT] 여, 비대위 구성 난항...여야 헌재 구도 '수 싸움': https://n.news.naver.com/mnews/article/052/0002129576\n",
      "[100] 與, ‘친윤 비대위원장 비토론’ 진통… 후보추천위 꾸린다 [‘尹 탄핵’ 가결 이후]: https://n.news.naver.com/mnews/article/022/0003995771\n",
      "[100] [전문] ‘12·3 비상계엄’ 때 국힘 의원들 무슨 대화 나눴나 보니: https://n.news.naver.com/mnews/article/009/0005416123\n",
      "[100] 장예찬 “이러다 다 죽는다고 외친 원희룡 말 맞았다”: https://n.news.naver.com/mnews/article/666/0000059960\n",
      "[100] [전문] 12·3 비상계엄 그 밤, 국민의힘 의원들은 무슨 대화를 나눴나: https://n.news.naver.com/mnews/article/032/0003340267\n",
      "[100] 권성동, MBC 기자 질문에 “다른 언론사 하라”: https://n.news.naver.com/mnews/article/022/0003995767\n",
      "[100] [열린토론] 정세균 “한덕수, 거부권 제한적이어야…김건희 특검 거부해선 안 돼”: https://n.news.naver.com/mnews/article/056/0011859914\n",
      "[100] 박지원 \"尹·김건희 미래는 감옥생활, 황금폰·법사폰·스승폰·다이아몬드폰 확보되면 주술국가도 끝\": https://n.news.naver.com/mnews/article/088/0000921573\n",
      "[100] 실체 드러난 계엄 주동 ‘라인’…‘진급 미끼’로 부하 포섭했다: https://n.news.naver.com/mnews/article/032/0003340241\n",
      "[100] “왜 하필 ‘롯데리아’에서 만났나?” 모두의 궁금증, 사실은: https://n.news.naver.com/mnews/article/018/0005909242\n",
      "[100] '잼마을' 이장 사퇴 이재명, SNS 중단 정청래…대선 시동 野: https://n.news.naver.com/mnews/article/629/0000349266\n",
      "[100] “좌파 연예인 저격수?”…정유라, 정우성·김윤아·김제동 싸잡아 비판: https://n.news.naver.com/mnews/article/018/0005909238\n",
      "[100] 한덕수 권한대행, 野 '탄핵 경고'에도 거부권 행사 배경은: https://n.news.naver.com/mnews/article/448/0000496650\n",
      "[100] 野 '박지원 헌법재판관 인청특위 위원장' 의결에...나경원 “북 치고 장구 치고 다 한다”: https://n.news.naver.com/mnews/article/022/0003995750\n",
      "[100] [단독] 12.3 계엄 당일 무슨일이…與 단체방 대화 전문: https://n.news.naver.com/mnews/article/448/0000496649\n",
      "[100] [단독] 계엄선포부터 해제안 가결까지 與 '단체대화방' 전문입수…우왕좌왕 '지도부 혼란': https://n.news.naver.com/mnews/article/448/0000496647\n",
      "[100] 교육위서 ‘비상계엄’ 맹비난…“아이들 응원봉 안 부끄럽나”(종합): https://n.news.naver.com/mnews/article/277/0005519943\n",
      "[100] 눈 덮인 쿠르스크 벌판에 드론 폭격...\"북한군 50명 사망\": https://n.news.naver.com/mnews/article/052/0002129540\n",
      "[100] \"형, 술이나 한잔 할래?\" 이준석, '탄핵 찬성' 김상욱에 건넨 말: https://n.news.naver.com/mnews/article/277/0005519940\n",
      "[100] 개혁신당 ‘휘청’…이준석, 당직서 측근 내친 허은아에 “알아서 결자해지”: https://n.news.naver.com/mnews/article/021/0002678982\n",
      "[100] \"이준석, 지도자 자격 있나\" 민주당 전 부대변인의 저격: https://n.news.naver.com/mnews/article/015/0005071928\n",
      "[100] [뉴스프라임] 여야, 헌법재판관 임명 놓고 충돌…권성동·이재명 첫 회동: https://n.news.naver.com/mnews/article/422/0000699210\n",
      "[100] [단독] 검찰, 명태균-김건희 여사 통화녹음 확보‥尹-명태균 통화 날 이뤄져: https://n.news.naver.com/mnews/article/214/0001394708\n",
      "[100] 한동훈 \"계엄 직후 '국회 가면 죽는다, 피신하라' 전화 받았다\": https://n.news.naver.com/mnews/article/214/0001394706\n",
      "[100] \"윤 대통령, 본인 대선도 부정선거 의심\"‥캠프 인사들 증언: https://n.news.naver.com/mnews/article/214/0001394704\n",
      "[100] [단독] \"김용현과 거의 동급\"…계엄 '총지휘' 정황: https://n.news.naver.com/mnews/article/055/0001216534\n",
      "[100] [단독] \"전화기 두 대 번갈아 가며\"…그날 합참은: https://n.news.naver.com/mnews/article/055/0001216533\n",
      "[100] [돌비뉴스] 이석기 내란사건 때도 등장한 롯데리아…그때보다 더 분명한 '내란': https://n.news.naver.com/mnews/article/437/0000423220\n",
      "[100] “성추행 불명예 전역 후 반란까지, 참 열심히 산다”…‘계엄 버거’ 전 정보사령관: https://n.news.naver.com/mnews/article/021/0002678981\n",
      "[100] 한동훈 \"계엄 직후 '국회 가면 죽는다, 피신하라' 전화 받았다\": https://n.news.naver.com/mnews/article/214/0001394703\n",
      "[100] \"옆방 선배님\" 웃으며 시작했지만…권성동-이재명 '신경전': https://n.news.naver.com/mnews/article/437/0000423218\n",
      "[100] \"대통령이니 내란 아니다\"?‥왕조 시대 논리: https://n.news.naver.com/mnews/article/214/0001394699\n",
      "[100] 김어준 “한동훈 사살조 발언”…여야 6일째 공방전: https://n.news.naver.com/mnews/article/666/0000059953\n",
      "[100] ‘尹 방탄당’ 비판에도, 與 중진들 “권성동 원톱” “투톱” 당권다툼: https://n.news.naver.com/mnews/article/020/0003604956\n",
      "ChromeDriver installed at: /home/elicer/.cap/lib/python3.9/site-packages/chromedriver_autoinstaller/131/chromedriver\n",
      "내용 추출 성공\n",
      "이미지 추출 성공\n",
      "리뷰 추출 성공\n",
      "내용 추출 성공\n",
      "이미지 추출 성공\n",
      "리뷰 추출 성공\n",
      "내용 추출 성공\n",
      "이미지 추출 성공\n",
      "리뷰 추출 성공\n",
      "내용 추출 성공\n",
      "이미지 추출 성공\n",
      "리뷰 추출 성공\n",
      "내용 추출 성공\n",
      "이미지 추출 성공\n",
      "리뷰 추출 성공\n",
      "내용 추출 성공\n",
      "이미지 추출 성공\n",
      "리뷰 추출 성공\n",
      "내용 추출 성공\n",
      "이미지를 추출하지 못했습닌다. : Message: no such element: Unable to locate element: {\"method\":\"css selector\",\"selector\":\"[id=\"img1\"]\"}\n",
      "  (Session info: chrome=131.0.6778.139); For documentation on this error, please visit: https://www.selenium.dev/documentation/webdriver/troubleshooting/errors#no-such-element-exception\n",
      "Stacktrace:\n",
      "#0 0x55914cc9231a <unknown>\n",
      "#1 0x55914c7a86e0 <unknown>\n",
      "#2 0x55914c7f73e6 <unknown>\n",
      "#3 0x55914c7f7681 <unknown>\n",
      "#4 0x55914c83cb04 <unknown>\n",
      "#5 0x55914c81b48d <unknown>\n",
      "#6 0x55914c839ed7 <unknown>\n",
      "#7 0x55914c81b203 <unknown>\n",
      "#8 0x55914c7e9cc0 <unknown>\n",
      "#9 0x55914c7eac9e <unknown>\n",
      "#10 0x55914cc5fd0b <unknown>\n",
      "#11 0x55914cc63c92 <unknown>\n",
      "#12 0x55914cc4cb3c <unknown>\n",
      "#13 0x55914cc64807 <unknown>\n",
      "#14 0x55914cc320df <unknown>\n",
      "#15 0x55914cc81578 <unknown>\n",
      "#16 0x55914cc81740 <unknown>\n",
      "#17 0x55914cc91196 <unknown>\n",
      "#18 0x7fb4754aeac3 <unknown>\n",
      "\n",
      "리뷰 추출 성공\n",
      "내용 추출 성공\n",
      "이미지를 추출하지 못했습닌다. : Message: no such element: Unable to locate element: {\"method\":\"css selector\",\"selector\":\"[id=\"img1\"]\"}\n",
      "  (Session info: chrome=131.0.6778.139); For documentation on this error, please visit: https://www.selenium.dev/documentation/webdriver/troubleshooting/errors#no-such-element-exception\n",
      "Stacktrace:\n",
      "#0 0x55914cc9231a <unknown>\n",
      "#1 0x55914c7a86e0 <unknown>\n",
      "#2 0x55914c7f73e6 <unknown>\n",
      "#3 0x55914c7f7681 <unknown>\n",
      "#4 0x55914c83cb04 <unknown>\n",
      "#5 0x55914c81b48d <unknown>\n",
      "#6 0x55914c839ed7 <unknown>\n",
      "#7 0x55914c81b203 <unknown>\n",
      "#8 0x55914c7e9cc0 <unknown>\n",
      "#9 0x55914c7eac9e <unknown>\n",
      "#10 0x55914cc5fd0b <unknown>\n",
      "#11 0x55914cc63c92 <unknown>\n",
      "#12 0x55914cc4cb3c <unknown>\n",
      "#13 0x55914cc64807 <unknown>\n",
      "#14 0x55914cc320df <unknown>\n",
      "#15 0x55914cc81578 <unknown>\n",
      "#16 0x55914cc81740 <unknown>\n",
      "#17 0x55914cc91196 <unknown>\n",
      "#18 0x7fb4754aeac3 <unknown>\n",
      "\n",
      "리뷰 추출 성공\n",
      "내용 추출 성공\n",
      "이미지 추출 성공\n",
      "리뷰 추출 성공\n",
      "내용 추출 성공\n",
      "이미지 추출 성공\n",
      "리뷰 추출 성공\n",
      "내용 추출 성공\n",
      "이미지를 추출하지 못했습닌다. : Message: no such element: Unable to locate element: {\"method\":\"css selector\",\"selector\":\"[id=\"img1\"]\"}\n",
      "  (Session info: chrome=131.0.6778.139); For documentation on this error, please visit: https://www.selenium.dev/documentation/webdriver/troubleshooting/errors#no-such-element-exception\n",
      "Stacktrace:\n",
      "#0 0x55914cc9231a <unknown>\n",
      "#1 0x55914c7a86e0 <unknown>\n",
      "#2 0x55914c7f73e6 <unknown>\n",
      "#3 0x55914c7f7681 <unknown>\n",
      "#4 0x55914c83cb04 <unknown>\n",
      "#5 0x55914c81b48d <unknown>\n",
      "#6 0x55914c839ed7 <unknown>\n",
      "#7 0x55914c81b203 <unknown>\n",
      "#8 0x55914c7e9cc0 <unknown>\n",
      "#9 0x55914c7eac9e <unknown>\n",
      "#10 0x55914cc5fd0b <unknown>\n",
      "#11 0x55914cc63c92 <unknown>\n",
      "#12 0x55914cc4cb3c <unknown>\n",
      "#13 0x55914cc64807 <unknown>\n",
      "#14 0x55914cc320df <unknown>\n",
      "#15 0x55914cc81578 <unknown>\n",
      "#16 0x55914cc81740 <unknown>\n",
      "#17 0x55914cc91196 <unknown>\n",
      "#18 0x7fb4754aeac3 <unknown>\n",
      "\n",
      "리뷰 추출 성공\n",
      "내용 추출 성공\n",
      "이미지 추출 성공\n",
      "리뷰 추출 성공\n",
      "내용 추출 성공\n",
      "이미지를 추출하지 못했습닌다. : Message: no such element: Unable to locate element: {\"method\":\"css selector\",\"selector\":\"[id=\"img1\"]\"}\n",
      "  (Session info: chrome=131.0.6778.139); For documentation on this error, please visit: https://www.selenium.dev/documentation/webdriver/troubleshooting/errors#no-such-element-exception\n",
      "Stacktrace:\n",
      "#0 0x55914cc9231a <unknown>\n",
      "#1 0x55914c7a86e0 <unknown>\n",
      "#2 0x55914c7f73e6 <unknown>\n",
      "#3 0x55914c7f7681 <unknown>\n",
      "#4 0x55914c83cb04 <unknown>\n",
      "#5 0x55914c81b48d <unknown>\n",
      "#6 0x55914c839ed7 <unknown>\n",
      "#7 0x55914c81b203 <unknown>\n",
      "#8 0x55914c7e9cc0 <unknown>\n",
      "#9 0x55914c7eac9e <unknown>\n",
      "#10 0x55914cc5fd0b <unknown>\n",
      "#11 0x55914cc63c92 <unknown>\n",
      "#12 0x55914cc4cb3c <unknown>\n",
      "#13 0x55914cc64807 <unknown>\n",
      "#14 0x55914cc320df <unknown>\n",
      "#15 0x55914cc81578 <unknown>\n",
      "#16 0x55914cc81740 <unknown>\n",
      "#17 0x55914cc91196 <unknown>\n",
      "#18 0x7fb4754aeac3 <unknown>\n",
      "\n",
      "리뷰 추출 성공\n",
      "내용 추출 성공\n",
      "이미지 추출 성공\n",
      "리뷰 추출 성공\n",
      "내용 추출 성공\n",
      "이미지 추출 성공\n",
      "리뷰 추출 성공\n",
      "내용 추출 성공\n",
      "이미지 추출 성공\n",
      "리뷰 추출 성공\n",
      "내용 추출 성공\n",
      "이미지 추출 성공\n",
      "리뷰 추출 성공\n",
      "내용 추출 성공\n",
      "이미지 추출 성공\n",
      "리뷰 추출 성공\n",
      "내용 추출 성공\n",
      "이미지 추출 성공\n",
      "리뷰 추출 성공\n",
      "내용 추출 성공\n",
      "이미지 추출 성공\n",
      "리뷰 추출 성공\n",
      "내용 추출 성공\n",
      "이미지 추출 성공\n",
      "리뷰 추출 성공\n",
      "내용 추출 성공\n",
      "이미지 추출 성공\n",
      "리뷰 추출 성공\n",
      "내용 추출 성공\n",
      "이미지 추출 성공\n",
      "리뷰 추출 성공\n",
      "내용 추출 성공\n",
      "이미지 추출 성공\n",
      "리뷰 추출 성공\n",
      "내용 추출 성공\n",
      "이미지를 추출하지 못했습닌다. : Message: no such element: Unable to locate element: {\"method\":\"css selector\",\"selector\":\"[id=\"img1\"]\"}\n",
      "  (Session info: chrome=131.0.6778.139); For documentation on this error, please visit: https://www.selenium.dev/documentation/webdriver/troubleshooting/errors#no-such-element-exception\n",
      "Stacktrace:\n",
      "#0 0x55914cc9231a <unknown>\n",
      "#1 0x55914c7a86e0 <unknown>\n",
      "#2 0x55914c7f73e6 <unknown>\n",
      "#3 0x55914c7f7681 <unknown>\n",
      "#4 0x55914c83cb04 <unknown>\n",
      "#5 0x55914c81b48d <unknown>\n",
      "#6 0x55914c839ed7 <unknown>\n",
      "#7 0x55914c81b203 <unknown>\n",
      "#8 0x55914c7e9cc0 <unknown>\n",
      "#9 0x55914c7eac9e <unknown>\n",
      "#10 0x55914cc5fd0b <unknown>\n",
      "#11 0x55914cc63c92 <unknown>\n",
      "#12 0x55914cc4cb3c <unknown>\n",
      "#13 0x55914cc64807 <unknown>\n",
      "#14 0x55914cc320df <unknown>\n",
      "#15 0x55914cc81578 <unknown>\n",
      "#16 0x55914cc81740 <unknown>\n",
      "#17 0x55914cc91196 <unknown>\n",
      "#18 0x7fb4754aeac3 <unknown>\n",
      "\n",
      "리뷰 추출 성공\n",
      "내용 추출 성공\n",
      "이미지 추출 성공\n",
      "리뷰 추출 성공\n",
      "내용 추출 성공\n",
      "이미지 추출 성공\n",
      "리뷰 추출 성공\n",
      "내용 추출 성공\n",
      "이미지를 추출하지 못했습닌다. : Message: no such element: Unable to locate element: {\"method\":\"css selector\",\"selector\":\"[id=\"img1\"]\"}\n",
      "  (Session info: chrome=131.0.6778.139); For documentation on this error, please visit: https://www.selenium.dev/documentation/webdriver/troubleshooting/errors#no-such-element-exception\n",
      "Stacktrace:\n",
      "#0 0x55914cc9231a <unknown>\n",
      "#1 0x55914c7a86e0 <unknown>\n",
      "#2 0x55914c7f73e6 <unknown>\n",
      "#3 0x55914c7f7681 <unknown>\n",
      "#4 0x55914c83cb04 <unknown>\n",
      "#5 0x55914c81b48d <unknown>\n",
      "#6 0x55914c839ed7 <unknown>\n",
      "#7 0x55914c81b203 <unknown>\n",
      "#8 0x55914c7e9cc0 <unknown>\n",
      "#9 0x55914c7eac9e <unknown>\n",
      "#10 0x55914cc5fd0b <unknown>\n",
      "#11 0x55914cc63c92 <unknown>\n",
      "#12 0x55914cc4cb3c <unknown>\n",
      "#13 0x55914cc64807 <unknown>\n",
      "#14 0x55914cc320df <unknown>\n",
      "#15 0x55914cc81578 <unknown>\n",
      "#16 0x55914cc81740 <unknown>\n",
      "#17 0x55914cc91196 <unknown>\n",
      "#18 0x7fb4754aeac3 <unknown>\n",
      "\n",
      "리뷰 추출 성공\n",
      "내용 추출 성공\n",
      "이미지 추출 성공\n",
      "리뷰 추출 성공\n",
      "내용 추출 성공\n",
      "이미지를 추출하지 못했습닌다. : Message: no such element: Unable to locate element: {\"method\":\"css selector\",\"selector\":\"[id=\"img1\"]\"}\n",
      "  (Session info: chrome=131.0.6778.139); For documentation on this error, please visit: https://www.selenium.dev/documentation/webdriver/troubleshooting/errors#no-such-element-exception\n",
      "Stacktrace:\n",
      "#0 0x55914cc9231a <unknown>\n",
      "#1 0x55914c7a86e0 <unknown>\n",
      "#2 0x55914c7f73e6 <unknown>\n",
      "#3 0x55914c7f7681 <unknown>\n",
      "#4 0x55914c83cb04 <unknown>\n",
      "#5 0x55914c81b48d <unknown>\n",
      "#6 0x55914c839ed7 <unknown>\n",
      "#7 0x55914c81b203 <unknown>\n",
      "#8 0x55914c7e9cc0 <unknown>\n",
      "#9 0x55914c7eac9e <unknown>\n",
      "#10 0x55914cc5fd0b <unknown>\n",
      "#11 0x55914cc63c92 <unknown>\n",
      "#12 0x55914cc4cb3c <unknown>\n",
      "#13 0x55914cc64807 <unknown>\n",
      "#14 0x55914cc320df <unknown>\n",
      "#15 0x55914cc81578 <unknown>\n",
      "#16 0x55914cc81740 <unknown>\n",
      "#17 0x55914cc91196 <unknown>\n",
      "#18 0x7fb4754aeac3 <unknown>\n",
      "\n",
      "리뷰 추출 성공\n",
      "내용 추출 성공\n",
      "이미지 추출 성공\n",
      "리뷰 추출 성공\n",
      "내용 추출 성공\n",
      "이미지 추출 성공\n",
      "리뷰 추출 성공\n",
      "내용 추출 성공\n",
      "이미지 추출 성공\n",
      "리뷰 추출 성공\n",
      "내용 추출 성공\n",
      "이미지를 추출하지 못했습닌다. : Message: no such element: Unable to locate element: {\"method\":\"css selector\",\"selector\":\"[id=\"img1\"]\"}\n",
      "  (Session info: chrome=131.0.6778.139); For documentation on this error, please visit: https://www.selenium.dev/documentation/webdriver/troubleshooting/errors#no-such-element-exception\n",
      "Stacktrace:\n",
      "#0 0x55914cc9231a <unknown>\n",
      "#1 0x55914c7a86e0 <unknown>\n",
      "#2 0x55914c7f73e6 <unknown>\n",
      "#3 0x55914c7f7681 <unknown>\n",
      "#4 0x55914c83cb04 <unknown>\n",
      "#5 0x55914c81b48d <unknown>\n",
      "#6 0x55914c839ed7 <unknown>\n",
      "#7 0x55914c81b203 <unknown>\n",
      "#8 0x55914c7e9cc0 <unknown>\n",
      "#9 0x55914c7eac9e <unknown>\n",
      "#10 0x55914cc5fd0b <unknown>\n",
      "#11 0x55914cc63c92 <unknown>\n",
      "#12 0x55914cc4cb3c <unknown>\n",
      "#13 0x55914cc64807 <unknown>\n",
      "#14 0x55914cc320df <unknown>\n",
      "#15 0x55914cc81578 <unknown>\n",
      "#16 0x55914cc81740 <unknown>\n",
      "#17 0x55914cc91196 <unknown>\n",
      "#18 0x7fb4754aeac3 <unknown>\n",
      "\n",
      "리뷰 추출 성공\n",
      "내용 추출 성공\n",
      "이미지를 추출하지 못했습닌다. : Message: no such element: Unable to locate element: {\"method\":\"css selector\",\"selector\":\"[id=\"img1\"]\"}\n",
      "  (Session info: chrome=131.0.6778.139); For documentation on this error, please visit: https://www.selenium.dev/documentation/webdriver/troubleshooting/errors#no-such-element-exception\n",
      "Stacktrace:\n",
      "#0 0x55914cc9231a <unknown>\n",
      "#1 0x55914c7a86e0 <unknown>\n",
      "#2 0x55914c7f73e6 <unknown>\n",
      "#3 0x55914c7f7681 <unknown>\n",
      "#4 0x55914c83cb04 <unknown>\n",
      "#5 0x55914c81b48d <unknown>\n",
      "#6 0x55914c839ed7 <unknown>\n",
      "#7 0x55914c81b203 <unknown>\n",
      "#8 0x55914c7e9cc0 <unknown>\n",
      "#9 0x55914c7eac9e <unknown>\n",
      "#10 0x55914cc5fd0b <unknown>\n",
      "#11 0x55914cc63c92 <unknown>\n",
      "#12 0x55914cc4cb3c <unknown>\n",
      "#13 0x55914cc64807 <unknown>\n",
      "#14 0x55914cc320df <unknown>\n",
      "#15 0x55914cc81578 <unknown>\n",
      "#16 0x55914cc81740 <unknown>\n",
      "#17 0x55914cc91196 <unknown>\n",
      "#18 0x7fb4754aeac3 <unknown>\n",
      "\n",
      "리뷰 추출 성공\n",
      "내용 추출 성공\n",
      "이미지를 추출하지 못했습닌다. : Message: no such element: Unable to locate element: {\"method\":\"css selector\",\"selector\":\"[id=\"img1\"]\"}\n",
      "  (Session info: chrome=131.0.6778.139); For documentation on this error, please visit: https://www.selenium.dev/documentation/webdriver/troubleshooting/errors#no-such-element-exception\n",
      "Stacktrace:\n",
      "#0 0x55914cc9231a <unknown>\n",
      "#1 0x55914c7a86e0 <unknown>\n",
      "#2 0x55914c7f73e6 <unknown>\n",
      "#3 0x55914c7f7681 <unknown>\n",
      "#4 0x55914c83cb04 <unknown>\n",
      "#5 0x55914c81b48d <unknown>\n",
      "#6 0x55914c839ed7 <unknown>\n",
      "#7 0x55914c81b203 <unknown>\n",
      "#8 0x55914c7e9cc0 <unknown>\n",
      "#9 0x55914c7eac9e <unknown>\n",
      "#10 0x55914cc5fd0b <unknown>\n",
      "#11 0x55914cc63c92 <unknown>\n",
      "#12 0x55914cc4cb3c <unknown>\n",
      "#13 0x55914cc64807 <unknown>\n",
      "#14 0x55914cc320df <unknown>\n",
      "#15 0x55914cc81578 <unknown>\n",
      "#16 0x55914cc81740 <unknown>\n",
      "#17 0x55914cc91196 <unknown>\n",
      "#18 0x7fb4754aeac3 <unknown>\n",
      "\n",
      "리뷰 추출 성공\n",
      "내용 추출 성공\n",
      "이미지를 추출하지 못했습닌다. : Message: no such element: Unable to locate element: {\"method\":\"css selector\",\"selector\":\"[id=\"img1\"]\"}\n",
      "  (Session info: chrome=131.0.6778.139); For documentation on this error, please visit: https://www.selenium.dev/documentation/webdriver/troubleshooting/errors#no-such-element-exception\n",
      "Stacktrace:\n",
      "#0 0x55914cc9231a <unknown>\n",
      "#1 0x55914c7a86e0 <unknown>\n",
      "#2 0x55914c7f73e6 <unknown>\n",
      "#3 0x55914c7f7681 <unknown>\n",
      "#4 0x55914c83cb04 <unknown>\n",
      "#5 0x55914c81b48d <unknown>\n",
      "#6 0x55914c839ed7 <unknown>\n",
      "#7 0x55914c81b203 <unknown>\n",
      "#8 0x55914c7e9cc0 <unknown>\n",
      "#9 0x55914c7eac9e <unknown>\n",
      "#10 0x55914cc5fd0b <unknown>\n",
      "#11 0x55914cc63c92 <unknown>\n",
      "#12 0x55914cc4cb3c <unknown>\n",
      "#13 0x55914cc64807 <unknown>\n",
      "#14 0x55914cc320df <unknown>\n",
      "#15 0x55914cc81578 <unknown>\n",
      "#16 0x55914cc81740 <unknown>\n",
      "#17 0x55914cc91196 <unknown>\n",
      "#18 0x7fb4754aeac3 <unknown>\n",
      "\n",
      "리뷰 추출 성공\n",
      "내용 추출 성공\n",
      "이미지를 추출하지 못했습닌다. : Message: no such element: Unable to locate element: {\"method\":\"css selector\",\"selector\":\"[id=\"img1\"]\"}\n",
      "  (Session info: chrome=131.0.6778.139); For documentation on this error, please visit: https://www.selenium.dev/documentation/webdriver/troubleshooting/errors#no-such-element-exception\n",
      "Stacktrace:\n",
      "#0 0x55914cc9231a <unknown>\n",
      "#1 0x55914c7a86e0 <unknown>\n",
      "#2 0x55914c7f73e6 <unknown>\n",
      "#3 0x55914c7f7681 <unknown>\n",
      "#4 0x55914c83cb04 <unknown>\n",
      "#5 0x55914c81b48d <unknown>\n",
      "#6 0x55914c839ed7 <unknown>\n",
      "#7 0x55914c81b203 <unknown>\n",
      "#8 0x55914c7e9cc0 <unknown>\n",
      "#9 0x55914c7eac9e <unknown>\n",
      "#10 0x55914cc5fd0b <unknown>\n",
      "#11 0x55914cc63c92 <unknown>\n",
      "#12 0x55914cc4cb3c <unknown>\n",
      "#13 0x55914cc64807 <unknown>\n",
      "#14 0x55914cc320df <unknown>\n",
      "#15 0x55914cc81578 <unknown>\n",
      "#16 0x55914cc81740 <unknown>\n",
      "#17 0x55914cc91196 <unknown>\n",
      "#18 0x7fb4754aeac3 <unknown>\n",
      "\n",
      "리뷰 추출 성공\n",
      "내용 추출 성공\n",
      "이미지를 추출하지 못했습닌다. : Message: no such element: Unable to locate element: {\"method\":\"css selector\",\"selector\":\"[id=\"img1\"]\"}\n",
      "  (Session info: chrome=131.0.6778.139); For documentation on this error, please visit: https://www.selenium.dev/documentation/webdriver/troubleshooting/errors#no-such-element-exception\n",
      "Stacktrace:\n",
      "#0 0x55914cc9231a <unknown>\n",
      "#1 0x55914c7a86e0 <unknown>\n",
      "#2 0x55914c7f73e6 <unknown>\n",
      "#3 0x55914c7f7681 <unknown>\n",
      "#4 0x55914c83cb04 <unknown>\n",
      "#5 0x55914c81b48d <unknown>\n",
      "#6 0x55914c839ed7 <unknown>\n",
      "#7 0x55914c81b203 <unknown>\n",
      "#8 0x55914c7e9cc0 <unknown>\n",
      "#9 0x55914c7eac9e <unknown>\n",
      "#10 0x55914cc5fd0b <unknown>\n",
      "#11 0x55914cc63c92 <unknown>\n",
      "#12 0x55914cc4cb3c <unknown>\n",
      "#13 0x55914cc64807 <unknown>\n",
      "#14 0x55914cc320df <unknown>\n",
      "#15 0x55914cc81578 <unknown>\n",
      "#16 0x55914cc81740 <unknown>\n",
      "#17 0x55914cc91196 <unknown>\n",
      "#18 0x7fb4754aeac3 <unknown>\n",
      "\n",
      "리뷰 추출 성공\n",
      "내용 추출 성공\n",
      "이미지를 추출하지 못했습닌다. : Message: no such element: Unable to locate element: {\"method\":\"css selector\",\"selector\":\"[id=\"img1\"]\"}\n",
      "  (Session info: chrome=131.0.6778.139); For documentation on this error, please visit: https://www.selenium.dev/documentation/webdriver/troubleshooting/errors#no-such-element-exception\n",
      "Stacktrace:\n",
      "#0 0x55914cc9231a <unknown>\n",
      "#1 0x55914c7a86e0 <unknown>\n",
      "#2 0x55914c7f73e6 <unknown>\n",
      "#3 0x55914c7f7681 <unknown>\n",
      "#4 0x55914c83cb04 <unknown>\n",
      "#5 0x55914c81b48d <unknown>\n",
      "#6 0x55914c839ed7 <unknown>\n",
      "#7 0x55914c81b203 <unknown>\n",
      "#8 0x55914c7e9cc0 <unknown>\n",
      "#9 0x55914c7eac9e <unknown>\n",
      "#10 0x55914cc5fd0b <unknown>\n",
      "#11 0x55914cc63c92 <unknown>\n",
      "#12 0x55914cc4cb3c <unknown>\n",
      "#13 0x55914cc64807 <unknown>\n",
      "#14 0x55914cc320df <unknown>\n",
      "#15 0x55914cc81578 <unknown>\n",
      "#16 0x55914cc81740 <unknown>\n",
      "#17 0x55914cc91196 <unknown>\n",
      "#18 0x7fb4754aeac3 <unknown>\n",
      "\n",
      "리뷰 추출 성공\n",
      "내용 추출 성공\n",
      "이미지 추출 성공\n",
      "리뷰 추출 성공\n",
      "내용 추출 성공\n",
      "이미지 추출 성공\n",
      "리뷰 추출 성공\n",
      "내용 추출 성공\n",
      "이미지를 추출하지 못했습닌다. : Message: no such element: Unable to locate element: {\"method\":\"css selector\",\"selector\":\"[id=\"img1\"]\"}\n",
      "  (Session info: chrome=131.0.6778.139); For documentation on this error, please visit: https://www.selenium.dev/documentation/webdriver/troubleshooting/errors#no-such-element-exception\n",
      "Stacktrace:\n",
      "#0 0x55914cc9231a <unknown>\n",
      "#1 0x55914c7a86e0 <unknown>\n",
      "#2 0x55914c7f73e6 <unknown>\n",
      "#3 0x55914c7f7681 <unknown>\n",
      "#4 0x55914c83cb04 <unknown>\n",
      "#5 0x55914c81b48d <unknown>\n",
      "#6 0x55914c839ed7 <unknown>\n",
      "#7 0x55914c81b203 <unknown>\n",
      "#8 0x55914c7e9cc0 <unknown>\n",
      "#9 0x55914c7eac9e <unknown>\n",
      "#10 0x55914cc5fd0b <unknown>\n",
      "#11 0x55914cc63c92 <unknown>\n",
      "#12 0x55914cc4cb3c <unknown>\n",
      "#13 0x55914cc64807 <unknown>\n",
      "#14 0x55914cc320df <unknown>\n",
      "#15 0x55914cc81578 <unknown>\n",
      "#16 0x55914cc81740 <unknown>\n",
      "#17 0x55914cc91196 <unknown>\n",
      "#18 0x7fb4754aeac3 <unknown>\n",
      "\n",
      "리뷰 추출 성공\n",
      "내용 추출 성공\n",
      "이미지를 추출하지 못했습닌다. : Message: no such element: Unable to locate element: {\"method\":\"css selector\",\"selector\":\"[id=\"img1\"]\"}\n",
      "  (Session info: chrome=131.0.6778.139); For documentation on this error, please visit: https://www.selenium.dev/documentation/webdriver/troubleshooting/errors#no-such-element-exception\n",
      "Stacktrace:\n",
      "#0 0x55914cc9231a <unknown>\n",
      "#1 0x55914c7a86e0 <unknown>\n",
      "#2 0x55914c7f73e6 <unknown>\n",
      "#3 0x55914c7f7681 <unknown>\n",
      "#4 0x55914c83cb04 <unknown>\n",
      "#5 0x55914c81b48d <unknown>\n",
      "#6 0x55914c839ed7 <unknown>\n",
      "#7 0x55914c81b203 <unknown>\n",
      "#8 0x55914c7e9cc0 <unknown>\n",
      "#9 0x55914c7eac9e <unknown>\n",
      "#10 0x55914cc5fd0b <unknown>\n",
      "#11 0x55914cc63c92 <unknown>\n",
      "#12 0x55914cc4cb3c <unknown>\n",
      "#13 0x55914cc64807 <unknown>\n",
      "#14 0x55914cc320df <unknown>\n",
      "#15 0x55914cc81578 <unknown>\n",
      "#16 0x55914cc81740 <unknown>\n",
      "#17 0x55914cc91196 <unknown>\n",
      "#18 0x7fb4754aeac3 <unknown>\n",
      "\n",
      "리뷰 추출 성공\n",
      "내용 추출 성공\n",
      "이미지 추출 성공\n",
      "리뷰 추출 성공\n",
      "내용 추출 성공\n",
      "이미지 추출 성공\n",
      "리뷰 추출 성공\n",
      "content: [{'date': '20241218', 'section': '정치', 'url': 'https://n.news.naver.com/mnews/article/081/0003504653', 'title': '정부, 내일 오전 10시 임시국무회의…6개 쟁점법안 거부권 여부 결정'}, {'date': '20241218', 'section': '정치', 'url': 'https://n.news.naver.com/mnews/article/421/0007974187', 'title': '\\'한동훈 사살\\' 주장 김어준 고발…\"내란선동·명예훼손\"'}, {'date': '20241218', 'section': '정치', 'url': 'https://n.news.naver.com/mnews/article/366/0001041157', 'title': '화기애애 상견례… 與 향한 ‘내란동조당’ 해석은 제각각'}, {'date': '20241218', 'section': '정치', 'url': 'https://n.news.naver.com/mnews/article/018/0005909090', 'title': '개혁신당 때아닌 내홍…이준석, 허은아 겨냥 \"결자해지 해야\"'}, {'date': '20241218', 'section': '정치', 'url': 'https://n.news.naver.com/mnews/article/214/0001394625', 'title': '오세훈 \"계엄 반대하지만 대통령 이재명도 수용 못하는 상식적 국민 많다\"'}, {'date': '20241218', 'section': '정치', 'url': 'https://n.news.naver.com/mnews/article/028/0002722385', 'title': '김병주 “국방홍보원장 지시로 ‘국방일보’ 내란 미화 보도”'}, {'date': '20241218', 'section': '정치', 'url': 'https://n.news.naver.com/mnews/article/214/0001394494', 'title': '국민의힘, \\'헌재 추가 임명\\' 반대‥\"시간끌기\"'}, {'date': '20241218', 'section': '정치', 'url': 'https://n.news.naver.com/mnews/article/052/0002129493', 'title': '여, 비대위원장 논의 \\'진통\\'...\"선수별 후보 추천받기로\"'}, {'date': '20241218', 'section': '정치', 'url': 'https://n.news.naver.com/mnews/article/031/0000894683', 'title': '[속보] 나경원, 박지원 위원장 선출에 \"민주당, 북치고 장구치고 다 하겠다는 것\"'}, {'date': '20241218', 'section': '정치', 'url': 'https://n.news.naver.com/mnews/article/009/0005415757', 'title': '이재명, 권성동에 “선배님, 한번 안아보자”…‘어릴 때 옆방 쓰던 사이’ 사연은?'}, {'date': '20241218', 'section': '정치', 'url': 'https://n.news.naver.com/mnews/article/422/0000699240', 'title': '[투나잇이슈] 권성동-이재명 만남…尹 내란혐의 수사 공수처 이첩'}, {'date': '20241218', 'section': '정치', 'url': 'https://n.news.naver.com/mnews/article/079/0003972378', 'title': '계엄 당일 국민의힘 대화록 공개…추경호 당사 집결 공지만'}, {'date': '20241218', 'section': '정치', 'url': 'https://n.news.naver.com/mnews/article/052/0002129576', 'title': \"[뉴스NIGHT] 여, 비대위 구성 난항...여야 헌재 구도 '수 싸움'\"}, {'date': '20241218', 'section': '정치', 'url': 'https://n.news.naver.com/mnews/article/022/0003995771', 'title': '與, ‘친윤 비대위원장 비토론’ 진통… 후보추천위 꾸린다 [‘尹 탄핵’ 가결 이후]'}, {'date': '20241218', 'section': '정치', 'url': 'https://n.news.naver.com/mnews/article/009/0005416123', 'title': '[전문] ‘12·3 비상계엄’ 때 국힘 의원들 무슨 대화 나눴나 보니'}, {'date': '20241218', 'section': '정치', 'url': 'https://n.news.naver.com/mnews/article/666/0000059960', 'title': '장예찬 “이러다 다 죽는다고 외친 원희룡 말 맞았다”'}, {'date': '20241218', 'section': '정치', 'url': 'https://n.news.naver.com/mnews/article/032/0003340267', 'title': '[전문] 12·3 비상계엄 그 밤, 국민의힘 의원들은 무슨 대화를 나눴나'}, {'date': '20241218', 'section': '정치', 'url': 'https://n.news.naver.com/mnews/article/022/0003995767', 'title': '권성동, MBC 기자 질문에 “다른 언론사 하라”'}, {'date': '20241218', 'section': '정치', 'url': 'https://n.news.naver.com/mnews/article/056/0011859914', 'title': '[열린토론] 정세균 “한덕수, 거부권 제한적이어야…김건희 특검 거부해선 안 돼”'}, {'date': '20241218', 'section': '정치', 'url': 'https://n.news.naver.com/mnews/article/088/0000921573', 'title': '박지원 \"尹·김건희 미래는 감옥생활, 황금폰·법사폰·스승폰·다이아몬드폰 확보되면 주술국가도 끝\"'}, {'date': '20241218', 'section': '정치', 'url': 'https://n.news.naver.com/mnews/article/032/0003340241', 'title': '실체 드러난 계엄 주동 ‘라인’…‘진급 미끼’로 부하 포섭했다'}, {'date': '20241218', 'section': '정치', 'url': 'https://n.news.naver.com/mnews/article/018/0005909242', 'title': '“왜 하필 ‘롯데리아’에서 만났나?” 모두의 궁금증, 사실은'}, {'date': '20241218', 'section': '정치', 'url': 'https://n.news.naver.com/mnews/article/629/0000349266', 'title': \"'잼마을' 이장 사퇴 이재명, SNS 중단 정청래…대선 시동 野\"}, {'date': '20241218', 'section': '정치', 'url': 'https://n.news.naver.com/mnews/article/018/0005909238', 'title': '“좌파 연예인 저격수?”…정유라, 정우성·김윤아·김제동 싸잡아 비판'}, {'date': '20241218', 'section': '정치', 'url': 'https://n.news.naver.com/mnews/article/448/0000496650', 'title': \"한덕수 권한대행, 野 '탄핵 경고'에도 거부권 행사 배경은\"}, {'date': '20241218', 'section': '정치', 'url': 'https://n.news.naver.com/mnews/article/022/0003995750', 'title': \"野 '박지원 헌법재판관 인청특위 위원장' 의결에...나경원 “북 치고 장구 치고 다 한다”\"}, {'date': '20241218', 'section': '정치', 'url': 'https://n.news.naver.com/mnews/article/448/0000496649', 'title': '[단독] 12.3 계엄 당일 무슨일이…與 단체방 대화 전문'}, {'date': '20241218', 'section': '정치', 'url': 'https://n.news.naver.com/mnews/article/448/0000496647', 'title': \"[단독] 계엄선포부터 해제안 가결까지 與 '단체대화방' 전문입수…우왕좌왕 '지도부 혼란'\"}, {'date': '20241218', 'section': '정치', 'url': 'https://n.news.naver.com/mnews/article/277/0005519943', 'title': '교육위서 ‘비상계엄’ 맹비난…“아이들 응원봉 안 부끄럽나”(종합)'}, {'date': '20241218', 'section': '정치', 'url': 'https://n.news.naver.com/mnews/article/052/0002129540', 'title': '눈 덮인 쿠르스크 벌판에 드론 폭격...\"북한군 50명 사망\"'}, {'date': '20241218', 'section': '정치', 'url': 'https://n.news.naver.com/mnews/article/277/0005519940', 'title': '\"형, 술이나 한잔 할래?\" 이준석, \\'탄핵 찬성\\' 김상욱에 건넨 말'}, {'date': '20241218', 'section': '정치', 'url': 'https://n.news.naver.com/mnews/article/021/0002678982', 'title': '개혁신당 ‘휘청’…이준석, 당직서 측근 내친 허은아에 “알아서 결자해지”'}, {'date': '20241218', 'section': '정치', 'url': 'https://n.news.naver.com/mnews/article/015/0005071928', 'title': '\"이준석, 지도자 자격 있나\" 민주당 전 부대변인의 저격'}, {'date': '20241218', 'section': '정치', 'url': 'https://n.news.naver.com/mnews/article/422/0000699210', 'title': '[뉴스프라임] 여야, 헌법재판관 임명 놓고 충돌…권성동·이재명 첫 회동'}, {'date': '20241218', 'section': '정치', 'url': 'https://n.news.naver.com/mnews/article/214/0001394708', 'title': '[단독] 검찰, 명태균-김건희 여사 통화녹음 확보‥尹-명태균 통화 날 이뤄져'}, {'date': '20241218', 'section': '정치', 'url': 'https://n.news.naver.com/mnews/article/214/0001394706', 'title': '한동훈 \"계엄 직후 \\'국회 가면 죽는다, 피신하라\\' 전화 받았다\"'}, {'date': '20241218', 'section': '정치', 'url': 'https://n.news.naver.com/mnews/article/214/0001394704', 'title': '\"윤 대통령, 본인 대선도 부정선거 의심\"‥캠프 인사들 증언'}, {'date': '20241218', 'section': '정치', 'url': 'https://n.news.naver.com/mnews/article/055/0001216534', 'title': '[단독] \"김용현과 거의 동급\"…계엄 \\'총지휘\\' 정황'}, {'date': '20241218', 'section': '정치', 'url': 'https://n.news.naver.com/mnews/article/055/0001216533', 'title': '[단독] \"전화기 두 대 번갈아 가며\"…그날 합참은'}, {'date': '20241218', 'section': '정치', 'url': 'https://n.news.naver.com/mnews/article/437/0000423220', 'title': \"[돌비뉴스] 이석기 내란사건 때도 등장한 롯데리아…그때보다 더 분명한 '내란'\"}, {'date': '20241218', 'section': '정치', 'url': 'https://n.news.naver.com/mnews/article/021/0002678981', 'title': '“성추행 불명예 전역 후 반란까지, 참 열심히 산다”…‘계엄 버거’ 전 정보사령관'}, {'date': '20241218', 'section': '정치', 'url': 'https://n.news.naver.com/mnews/article/214/0001394703', 'title': '한동훈 \"계엄 직후 \\'국회 가면 죽는다, 피신하라\\' 전화 받았다\"'}, {'date': '20241218', 'section': '정치', 'url': 'https://n.news.naver.com/mnews/article/437/0000423218', 'title': '\"옆방 선배님\" 웃으며 시작했지만…권성동-이재명 \\'신경전\\''}, {'date': '20241218', 'section': '정치', 'url': 'https://n.news.naver.com/mnews/article/214/0001394699', 'title': '\"대통령이니 내란 아니다\"?‥왕조 시대 논리'}, {'date': '20241218', 'section': '정치', 'url': 'https://n.news.naver.com/mnews/article/666/0000059953', 'title': '김어준 “한동훈 사살조 발언”…여야 6일째 공방전'}, {'date': '20241218', 'section': '정치', 'url': 'https://n.news.naver.com/mnews/article/020/0003604956', 'title': '‘尹 방탄당’ 비판에도, 與 중진들 “권성동 원톱” “투톱” 당권다툼'}, {'content': '한덕수 대통령 권한대행 국무총리가 17일 서울 종로구 정부서울청사에서 열린 국무회의에 입장하고 있다. 2024.12.17 [대통령실통신사진기자단] 정부는 19일 오전 10시 임시 국무회의를 열어 야당이 단독 처리한 6개 쟁점법안에 대한 재의요구권(거부권) 행사 여부를 확정할 예정이다. 18일 국무총리실에 따르면 정부는 19일 정부서울청사에서 한덕수 대통령 권한대행 국무총리 주재로 임시 국무회의를 개최한다. 이번 국무회의에서는 농업 4법을 비롯한 6개 법안에 대한 거부권 행사 여부를 확정할 것으로 보인다. 해당 법안은 농업 4법(▲양곡관리법 ▲농수산물 가격안정법 ▲농업재해 대책법 ▲농업재해 보험법)과 ▲국회증언 감정법 ▲국회법 개정안 등 6개 법안이다. 이들 법안은 더불어민주당이 지난달 28일 국회 본회의에서 강행 처리해 지난 6일 정부로 이송됐다. 거부권 행사 시한은 오는 21일까지다. 정부는 이들 법안에 대해 재의요구권(거부권)을 행사하는 쪽에 무게를 두는 것으로 전해졌다.'}, {'img': 'https://imgnews.pstatic.net/image/081/2024/12/18/0003504653_001_20241218201910251.jpg?type=w860'}, {'review': {'': '', '쏠쏠정보': '0', '흥미진진': '1', '공감백배': '23', '분석탁월': '1', '후속강추': '15'}}, {'content': '\"황당하고 어처구니없는 주장으로 사회 혼란 가중\" 방송인 김어준 씨가 13일 오전 서울 여의도 국회에서 열린 과학기술정보방송통신위원회 전체회의에 출석해 계엄 사태 당시 암살 제보와 관련해 폭로하고 있다. 2024.12.13/뉴스1 ⓒ News1 김민지 기자 (서울=뉴스1) 이기범 기자 = 국회에서 비상계엄 사태 당시 암살조가 있었다고 주장한 방송인 김어준 씨가 경찰에 고발당했다. 시민단체 서민민생대책위원회(서민위)는 18일 김 씨를 내란선동죄, 명예훼손 등 혐의로 서울경찰청에 고발했다고 밝혔다. 서민위는 고발장을 통해 \"황당하고 어처구니없는 주장으로 여야 대표를 충동해 사회적 혼란을 가중시킨 것도 모자라 국제 정세를 흔드는 북한과 미국을 자극, 한반도에 전쟁의 위기감을 조성한 기가 막힌 언행은 내란선동죄에 해당한다\"며 고발 취지를 설명했다. 김 씨는 지난 13일 국회 과학기술정보방송통신위원회 현안 질의에 참고인으로 출석해 계엄 당시 암살조가 가동됐다는 제보를 받았다고 주장했다. 여기에는 한동훈 국민의힘 대표를 체포해 이송 중 사살하고, 조국 전 조국혁신당 대표와 김 씨 등 체포·호송 부대를 공격하는 시늉을 한 뒤 이를 북한 소행으로 발표한다는 내용이 담겼다. 아울러 서민위는 조지호 경찰청장과 곽종근 특전사령관을 공무상비밀의 누설, 명예훼손 등 혐의로 고발했다.'}, {'img': 'https://imgnews.pstatic.net/image/421/2024/12/18/0007974187_001_20241218092519910.jpg?type=w860'}, {'review': {'': '', '쏠쏠정보': '3', '흥미진진': '2', '공감백배': '154', '분석탁월': '0', '후속강추': '6'}}, {'content': '與 “‘내란동조당’ 정치공세 자제에 대한 공감대 형성” 野 “내란당 규정에 대해 자제하겠다 말한 바 없어” 더불어민주당 이재명 대표가 18일 오후 서울 여의도 국회에서 예방한 국민의힘 권성동 대표 권한대행 겸 원내대표를 만나 자리로 향하고 있다. /연합뉴스 이재명 더불어민주당 대표와 권성동 국민의힘 당대표 권한대행 겸 원내대표가 18일 오후 서울 여의도 국회에서 상견례를 가졌지만, 여당을 향한 ‘내란동조당’에 대한 해석은 제각각인 것으로 나타났다. 중앙대 법대 동기인 이 대표와 권 대행은 비공개 회동에서 여야 협력 필요성을 말하며 화기애애한 분위기를 보인 것으로 전해졌다. 하지만 윤 대통령의 비상계엄 선포 이후 여당을 향한 ‘내란동조당’에 대한 해석에는 견해차가 있었다 권 대행은 비공개 회동에서 여당을 겨냥한 야당의 ‘내란’ 관련 공세를 거론하며 “국민의힘도 비상계엄 해제 요구에 적극 동참했었고, 내란 부분이 확인되지 않은 상태에서 정치 공세가 되면 협치 여건이 조성되겠나”라고 우려를 표한 것으로 전해졌다. 이에 이 대표는 “자주 만나서 같이 합의하고 결론을 낼 수 있는 게 있으면 보여주자”라며 “오른손으로는 싸우더라도 왼손으로는 합의하자”고 말한 것으로 알려졌다. 양당의 대변인에 따르면 국민의힘은 ‘내란동조당’ 정치공세 자제에 대한 “두 사람 간 공감대가 형성됐다”고 했지만, 민주당은 “여당을 내란(동조)당으로 규정하는 것에 대해서 자제하겠다고 말한 바가 없다”고 일축했다. 박수민 국민의힘 원내대변인은 민주당에 여당을 향한 ‘내란죄’ 정치공세를 자제해달라고 요청한 것과 관련, 이 대표의 반응에 대해 “일정 부분 공감한 부분이 다소나마 있었다고 느낀다”고 말했다. 이어 박 원내대변인은 “저희가 전달한 건 내란죄라는 게 너무 무서운 범죄고 누구도 동조할 수 없는 범죄인데 정부까지 위축한다”면서 “(이 대표의 주장인) 추경 등 정부·권한대행 체제를 잘 움직이려면 정치공세 수위를 낮추면서 협치 여건을 높여야 한다는 데 공감대가 있었다”고 말했다. 하지만 조승래 민주당 수석대변인은 “국민의힘이 ‘내란동조당’에 대해 너무 부담스럽다는 이야기를 했지만, 우리가 공세를 낮춘다고 언제 얘기했냐”면서 “우리는 정치는 싸우면서도 대화는 해야 된다는 얘기는 했지만, 정치적 규정까지도 포기한다는 건 아니다”라고 선을 그었다. 이어 조 수석대변인은 “본인(여당)들 희망 사항을 우리가 공감해 줬다고 하면 되나”라고 반문하기도 했다. 정청래 국회 법사위원장이 17일 오전 서울 여의도 국회에서 열린 법제사법위원회 전체회의를 진행하고 있다. /뉴스1 앞서 전날 법제사법위원회의 12·3 비상계엄 사태 현안질의에서는 여야 의원들이 김용민 더불어민주당 의원의 ‘내란 공범’ 발언으로 인해 충돌한 바 있다. 김 의원이 여당 의원들을 향해 “내란 공범들”이라고 발언하자 국민의힘 의원들은 “사과하라”고 요구했다. 하지만 민주당이 사과를 거부하자, 국민의힘 법사위원들은 모두 퇴장했다. 김 의원은 천대엽 법원행정처장에게 “여당 의원들이 이재명 대표 재판 지연을 이야기하는데 법원이 그 말이 맞다고 수긍하면 안 된다”며 “지금 여당 의원 중에 누군지 특정은 못 하겠지만 상당수 의원들이 추경호 의원과 같이 공범으로 이 내란을 공모했다”고 주장했다. 이어 김 의원은 “계엄 해제 본회의를 지연시켰다. 그런 공범들이, 여당 의원들이 있다”면서 “공범들이 하는 이야기를 쉽게 받아들이지 마시라”고 했다. 이에 대해 조배숙 국민의힘 의원은 “내란죄라고 이야기를 하면서 저희 국회의원을 전부 다 내란죄 공범이라고 지칭했다”고 말했다. 이어 조 의원은 “증거도 없으면서 내란의 공범이라는 것은 국회의원으로서 품격에 맞지 않다”며 “본인이 분명 이 발언을 취소하고, 사과하라”고 말했다. 유상범 국민의힘 의원 역시 사과를 요구하며 “김용민 의원이 ‘지금 여당 의원 중에 누군지 특정을 못하겠지만 상당수 의원들은 추경호 의원과 같이 공범들로 내란을 공모를 했다’고 단정해버렸다”고 말했다. 이같은 여당 의원들의 발언에 대해 정청래 법사위원장은 “김용민 의원이 (사과할지를) 판단할 문제”라면서 “사과할지 모르겠다. 저는 사과할 사항이 아니라고 본다”고 했다.'}, {'img': 'https://imgnews.pstatic.net/image/366/2024/12/18/0001041157_001_20241218174315820.jpg?type=w860'}, {'review': {'': '', '쏠쏠정보': '2', '흥미진진': '0', '공감백배': '0', '분석탁월': '0', '후속강추': '0'}}, {'content': '‘레드팀’ 역할한 김철근 사무총장 경질에서 촉발 허은아 대표 향해 내부 반발…”이미지 메이킹 그만” “허은아, 실리 없는 지역 순회와 보여주기 간담회” [이데일리 김응열 기자] 개혁신당이 때아닌 내홍에 휩싸였다. 겉으로는 허은아 개혁신당 대표가 당 사무총장을 경질하며 발생한 갈등이지만, 근본적으로는 허 대표가 당을 사적으로 활용하는 ‘사당화’로 인해 내부에서 불만이 폭발했다는 분석이다. 허은아 개혁신당 대표가 지난 5일 오전 국회 의원회관에서 열린 개혁신당 최고위원-당협위원장 연석회의에서 발언하고 있다. (사진=연합뉴스) 18일 정치권에 따르면 개혁신당 내에서 허 대표를 향한 비판이 연일 이어지고 있다. 개혁신당 싱크탱크인 개혁연구원에 몸을 담고 있는 구혁모 상근부원장은 이날 자신의 사회관계망서비스(SNS)를 통해 “문제의 핵심은 허은아 대표의 리더십과 역할”이라며 “지금 허은아 대표의 행보는 당의 발전보다는 개인 중심인 정치로 읽힌다”고 주장했다. 전날에는 개혁신당 당직자 노동조합이 성명서를 내고 허 대표를 향해 각을 세웠다. 노동조합은 “허은아 당 대표가 2기 지도부로 선출된 7개월간 계속된 비전과 전략의 공백, 당보다 개인을 앞세운 선사후당 정치가 오늘의 사태를 몰고 왔다”고 지적했다 이 같은 반발이 나오는 건 표면적으로는 최근 있었던 당 사무총장 경질 때문이다. 허 대표는 김철근 사무총장과 정재준 전략기획부총장, 이경선 조직부총장 등 사무처 핵심 인물 3명을 교체했다. 김 사무총장이 ‘사무총장은 당대표의 명을 받아 당의 전략·조직·홍보·인사·재정을 총괄한다’는 내용의 기존 당헌·당규에서 ‘당대표의 명을 받아’라는 부분을 삭제하려 하자 허 대표가 문제 삼았다는 것이다. 김 사무총장은 평소에도 허 대표와 당 운영방안을 두고 갈등을 빚어왔다. 김 사무총장이 허 대표에게 반대하는 일종의 ‘레드팀’ 역할을 했다고 한다. 이 같은 상황에서 허 대표가 사무총장이 권한을 확대하려 한다며 경질 명분을 찾았다는 게 안팎의 시선이다. 근본적으로는 그간 허 대표의 당 운영에 관해 내부에서 쌓여온 불만이 터진 것이라는 분석이 우세하다. 정치적 실리나 명분 없는 지역 순회와 보여주기식 간담회 등 허 대표가 당이 아닌 자신의 가치를 높이는 데에만 열중했다는 것이다. 개혁신당 당직자 노동조합이 “더 이상의 선사후당 정치가 용인돼서는 안 된다”며 허 대표에게 당의 명확한 비전과 목표를 제시하라고 요구하고 사무처 당직자를 동지로 대우하라고 강조한 것도 이러한 맥락에서다. 경질된 김철근 사무총장이 이준석 개혁신당 의원 측근인 만큼 당 운영 방식을 두고 허 대표와 이 의원의 갈등이 터진 것 아니냐는 견해도 나온다. 다만 이 의원실에서는 김 사무총장과 허 대표간 갈등이라고 선을 긋는 분위기다. 이준석 의원은 이번 내분을 두고 허 대표가 책임 있게 해결하기를 촉구했다. 그는 자신의 SNS에 “최근 개혁신당 내 인사에 대한 혼란은 대부분 관계자의 판단이 일치한다”며 “당사자가 바로잡고 신속히 결자해지 하기를 기대한다”고 적었다. 구체적인 실명을 언급하지는 않았으나 허 대표를 향한 발언으로 풀이된다. 정치권 관계자는 “사람이 모인 곳에 갈등이 없을 수는 없겠지만, 지금 개혁신당은 대선이나 향후 있을 지방선거 등에 대비해 당을 잘 관리하는 역량이 필요한 상황”이라고 말했다.'}, {'img': 'https://imgnews.pstatic.net/image/018/2024/12/18/0005909090_001_20241218185216554.jpg?type=w860'}, {'review': {'': '', '쏠쏠정보': '2', '흥미진진': '1', '공감백배': '1', '분석탁월': '0', '후속강추': '2'}}, {'content': '오세훈 서울시장 [자료사진] 오세훈 서울시장이 오늘 자신의 페이스북에 \"계엄에는 반대하지만 \\'대통령 이재명\\'도 수용할 수 없는, 합리적이고 상식적인 국민이 훨씬 많다\"고 말했습니다. 그러면서 \"이분들께 희망을 드려야 한다\"며 \"진영의 핵심 지지층과 국민 일반 사이에서 간극이 크다면 당연히 \\'보편적 시각\\'과 \\'상식\\'을 기준 삼아야 한다\"고 주장했습니다. 오 시장은 또 \"우리 당은 절체절명의 갈림길에 서 있다\"며 \"\\'확장지향형 정당\\'의 길로 회생을 도모할지, \\'축소지향형 정당\\'으로 스스로 고립의 길을 걷다가 역사속에서 사라질지 선택해야 한다\"고 말했습니다. 국민의힘은 대통령 탄핵안이 통과된 후 탄핵에 찬성한 한동훈 대표 체제가 붕괴하면서, 윤 정부 출범 이후 5번째 비상대책위원회 전환을 준비하고 있습니다.'}, {'img': 'https://imgnews.pstatic.net/image/214/2024/12/18/0001394625_001_20241218150112404.jpg?type=w860'}, {'review': {'': '', '쏠쏠정보': '20', '흥미진진': '14', '공감백배': '169', '분석탁월': '1', '후속강추': '379'}}, {'content': '채일 원장은 윤석열 대선캠프 출신 지난 13일치 국방일보 1면. 김병주 더불어민주당 최고위원은 18일 국방일보가 지난 13일치 지면에서 ‘(비상계엄 당시) 국회에 군 병력을 투입한 것은 질서 유지를 위한 것’이라고 보도한 것 등을 들어 “내란에 동조하고 있다”고 비판하고 있다. 국방일보의 이런 보도 배경에는 지난 대선 당시 윤석열 캠프에서 활동했던 채일 국방홍보원장의 압박이 있다며, 채 원장의 파면도 요구했다. 김 최고위원은 이날 국회에서 열린 최고위원회의에서 “(국방일보는) 비상계엄은 ‘고도의 정치적 판단’이자 ‘통치행위’라는 내용 일색”이라며 이렇게 말했다. 국방일보는 국방부 산하 국방홍보원이 발행하는 군 일간지다. 그는 “국방일보는 군 장병들이 매일 보는 신문이고, 수요일에는 정신교육 교재로 쓰는 중요한 신문”이라며 “이것만 보면 내란수괴 윤석열의 계엄 선포는 매우 정당한 결정으로 보이는데, 한마디로 내란을 미화한 것”이라고 말했다. 김 최고위원은 이날 회의에서 13일치 국방일보를 화면에 띄워보이며 “한마디로 범죄를 미화한 것”이라고도 했다. 지난 13일치 국방일보 2면 김 최고위원은 이런 보도가 이뤄진 배경과 관련해 “알고 보니 그 뒤에는 윤석열 캠프 출신의 채모 국방홍보원장이 있었다”고 말했다. 특히 “그는 12월12일 윤석열 담화를 비중 있게 다루라는 지시를 강하게 했다고 한다”며 “일부 직원들이 반발했지만, 받아들여지지 않은 것으로 전해졌다”고도 했다. 김 최고위원은 또 “앞서 채 원장은 한강 작가의 노벨상 수상 보도에 대해서도 관련자들을 질타했다고 한다”고도 전했다. 김 최고위원은 이에 “윤석열 정부 곳곳에는 여전히, 내란을 동조하는 세력들이 암약하고 있다”며 “내란수괴 윤석열뿐 아니라 이에 동조한 세력도 발본색원해야 한다”고 했다. 그러면서 “이 신문은 국방부가 다 회수하고, 진상을 규명하고, 국방홍보원장은 파면하고 감옥으로 보내야 한다”며 “내란에 동조하고 부추긴 것과 마찬가지기 때문”이라고 했다.'}, {'img': 'https://imgnews.pstatic.net/image/028/2024/12/18/0002722385_001_20241218204212516.jpg?type=w860'}, {'review': {'': '', '쏠쏠정보': '0', '흥미진진': '0', '공감백배': '0', '분석탁월': '0', '후속강추': '0'}}, {'content': '국민의힘, \\'헌재 추가 임명\\' 반대‥\"시간끌기\" MBC뉴스 Play 2.2K 00:00 02:08 [뉴스투데이] ◀ 앵커 ▶ 공석인 헌법재판관 3명의 임명 절차를 두고 국민의힘이 돌연 이 절차에 불참하겠다고 선언했습니다. 대통령 권한대행에게 임명 권한이 없다는 주장인데, 헌법재판소와 국회 입법조사처는 임명에 문제가 없다고 반박했습니다. 이문현 기자입니다. ◀ 리포트 ▶ 헌법재판소가 9인 체제를 갖춰 윤석열 대통령 탄핵심판을 심리할 수 있도록, 국회가 공석 3명의 임명 절차에 나선 가운데, 국민의힘 권성동 대표 권한대행이 돌연 절차에 제동을 걸고 나섰습니다. 국회 몫 3명을 추천한다 해도, 한덕수 권한대행이 임명할 수 없다는 겁니다. [권성동/국민의힘 대표 권한대행] \"탄핵안이 헌재에서 인용되기 전까지는 권한대행의 헌법재판관 임명은 불가능합니다.\" 지난 2017년 박근혜 전 대통령 직무 정지 때도 황교안 권한대행이 헌법재판관을 임명 못 했고, 파면 뒤에야 임명했다는 전례도 제시했습니다. 하지만, 헌법재판소는 국민의힘 주장을 정면으로 반박했습니다. [김정원/헌법재판소 사무처장] \"대통령 권한대행이 (헌법)재판소 재판관에 대한 임명권을 행사할 수 있다고 저희들은 생각하고 있습니다.\" 국회 입법조사처 역시 \"국회 몫 또는 대법원 몫 헌법재판관의 경우, 대통령의 임명은 형식적인 권한에 불과하다\"며 \"권한대행이 임명할 수 있고, 학계에서도 이견을 찾지 못했다\"고 못 박았습니다. 2017년 황교안 권한대행이 임명을 미룬 건 대통령 추천 몫 재판관도 포함됐기 때문에, 국회가 사실상 정하면 형식적으로 임명만 하는 이번 경우와는 다르다는 지적도 나옵니다. [박찬대/더불어민주당 원내대표] \"국민의힘은 구질구질한 절차 지연 작전을 포기하고 인사청문회 일정 협의에 서둘러 응하기 바랍니다.\" \\'억지 주장\\'이라는 반박이 이어졌지만, 국민의힘은 끝내 인사청문회 불참을 선언했습니다. 더불어민주당은 국민의힘 없이, 야당 몫 후보자 2명이라도 인사청문회와 임명 절차를 강행할 계획입니다. MBC뉴스 이문현입니다. MBC 뉴스는 24시간 여러분의 제보를 기다립니다. ▷ 전화 02-784-4000 ▷ 이메일 mbcjebo@mbc.co.kr ▷ 카카오톡 @mbc제보'}, {'review': {'': '', '쏠쏠정보': '0', '흥미진진': '0', '공감백배': '2', '분석탁월': '0', '후속강추': '1'}}, {'content': \"[앵커] 국민의힘이 한동훈 전 대표 사퇴 이후, 내홍을 수습하고 당을 이끌 비상대책위원장 인선을 논의했지만, 이번에도 결론을 내지 못했습니다. 대신 선수별로 후보를 추천받고 추후 의견을 더 모아보기로 했습니다. 국회 취재기자 연결합니다, 손효정 기자! 오늘도 여당이 한동훈 전 대표 사퇴로 공석인 당의 수장을 누가 맡느냐, 논의를 이어갔는데 결론이 나왔나요? [기자] 네, 국민의힘 비상의원총회는 2시간 넘게 진행됐지만, 결론을 내진 못했습니다. 권성동 당대표 권한대행은 의원총회 뒤 기자들을 만나, 선수별로 의견을 모아 구체적인 비대위원장 후보를 추천받겠다고 밝혔습니다. 후보추천위원회를 구성해서 초선부터 중진까지, 의견들을 고루 듣고 반영하겠다는 겁니다. 비공개 의원총회에선 비대위원장 후보로 당의 6선이자 국회 부의장인 주호영 의원 등이 언급된 것으로 알려졌습니다. 앞서 권영세·나경원 등 당내 중진 의원들의 이름이 물망에 올랐었는데, 권 대행이 비대위원장까지 겸임하는 방안도 거론됐습니다. 다만, 4선 이상 중진 회동에서 권 대행이 비대위원장을 겸직하는 '원톱 체제'보다 비대위원장을 따로 뽑는 '투톱 체제'가 낫다는 쪽에 의견을 모은 것으로 전해졌습니다. 여당은 한동훈 전 대표 사퇴 이후, 비대위원장 인선 논의를 이어가고 있지만 당내 중진이 적합하다는 데까지 공감대를 모았을 뿐, 구체적인 후보군을 추리진 못하고 있습니다. [앵커] 국민의힘 권성동 권한대행과 민주당 이재명 대표가 오늘 오후 상견례를 가졌는데 어떤 내용을 논의했나요? [기자] 비상계엄 사태 이후 원내대표로 선출된 권성동 당 대표 권한대행과 민주당 이재명 대표는 오후 2시에 만나 45분가량 회동했습니다. 윤 대통령 탄핵소추안이 국회에서 가결된 뒤 첫 만남입니다. 회동은 화기애애하게 진행됐는데, 먼저 권 대행은 입법부가 민생과 안보를 위해 머리를 맞대야 한다며, 정치공세 성격이 강한 여타 탄핵소추안을 철회해달라고 촉구했습니다. 특히 이 대표가 국방부 장관 임명 필요성을 언급한 것을 환영하며 '대통령 중심제' 개헌 필요성도 논의 테이블에 올렸습니다. [권성동 / 국민의힘 당 대표 권한대행 겸 원내대표 : 전부 아니면 전무 게임인 대통령제를 좀 더 많은 국민의 의견 반영될 수 있는, 상생과 협력을 할 수 있는 제도로의 변경이 필요한 시점이라 생각하고….] 이에 이재명 대표도 현재는 정치가 아니라 전쟁이 돼버린 상황이 안타깝다며 정치가 복원되길 바란다고 화답했습니다. 또, 민생 추경을 전향적으로 검토해달라고 당부하며 앞서 제안한 국정안정 협의체는 필요한 부분까지 양보할 의사가 있다고 강조했습니다. [이재명 / 더불어민주당 대표 : 제가 제안드렸던 국정 안정 협의체에 대해 약간 비관적인 생각을 갖고 계신 것 같아서요, 저희는 필요한 부분까지는 저희는 다 양보할 수 있다, 실질적인 협의를 해야 한다고 생각합니다.] 두 사람의 회동은 비공개로 이어졌는데, 양당 모두 정치적 공세는 자제하자는 공감대와 함께, 추경에 대한 논의도 이뤄졌지만, 합의에 다다르진 못한 것으로 알려졌습니다. 지금까지 국회에서 YTN 손효정입니다. ※ '당신의 제보가 뉴스가 됩니다' [카카오톡] YTN 검색해 채널 추가 [전화] 02-398-8585 [메일] social@ytn.co.kr\"}, {'review': {'': '', '쏠쏠정보': '5', '흥미진진': '0', '공감백배': '0', '분석탁월': '0', '후속강추': '1'}}, {'content': '18일 민주당이 헌법재판관 인사청문위원장으로 박지원 더불어민주당 의원을 추대한 가운데, 나경원 국민의힘 의원이 이를 \\'일방적인 처사\\'라고 쏘아붙였다. 사진은 나경원 국민의힘 의원. [사진=연합뉴스] 나 의원은 18일 페이스북에 \"민주당이 기어이 헌법재판관 인사청문 절차를 일방적으로 진행하려고 인사청문위원장을 박지원 의원으로 의결했다\"고 말문을 열었다. 이어 \"그동안 자신들이 탄핵심판 청구한 방통위원장, 검사 등의 탄핵심판이 기각될까봐 막무가내로 헌재(헌법재판소) 재판관 추천을 미루어 오더니 이제는 마음대로 (인사청문 절차를) 밀어붙이기 시작했다\"며 민주당의 행보를 비판했다. 그러면서 \"대통령 권한대행이 헌재재판관 임명 권한이 있느냐 없느냐의 논란은 물론, 이번 헌법재판관 후보자는 야당이 추천한 두 명이 포함된다\"고 불만을 표했다. \"탄핵심판은 국회가 기소하고 헌재가 판단하는 것\"이라고 말한 나 의원은 \"(이는 민주당이) 검사, 판사 다 하고, 북 치고 장구 치겠다는 것이다. 과연 공정성을 담보할 수 있겠냐\"며 문제를 제기했다. 끝으로 그는 \"헌재의 공정성, 중립성을 훼손하는 국회 추천 몫의 헌재 재판관 임명 절차는 합리적 해법을 다시 논의해야 한다\"고 강조했다. 사진은 나경원 국민의힘 의원이 올린 페이스북 글 전문. [사진=나경원 페이스북] 한편 이날 국회 인사청문특별위원회는 서울 여의도 국회 본관에서 첫 전체 회의를 열고 박지원 의원을 위원장으로 선출했다. 같은 날 회의에는 국민의힘 소속 위원 전원이 불참한 가운데, 더불어민주당과 야당 의원들만 참석해 만장일치로 박 의원을 위원장으로 추대했다. 박 의원은 위원장 선출 직후 \"위원장으로 선출해 준 의원들에 감사하다\"며 \"헌법재판관 후보자들에 대한 심사가 보다 원활하고 내실 있게 진행될 수 있게 위원장으로서 최선의 노력 다하겠다는 것을 약속한다\"고 말했다.'}, {'img': 'https://imgnews.pstatic.net/image/031/2024/12/18/0000894683_001_20241218153906191.jpg?type=w860'}, {'review': {'': '', '쏠쏠정보': '25', '흥미진진': '4', '공감백배': '241', '분석탁월': '0', '후속강추': '22'}}, {'content': '중앙대 법학 동문...고시반 함께 준비했던 친분 이재명 “민생 추경, 국정안정협의체 검토해달라” 권성동 “대통령제 개헌 전향적 검토해달라” 전날 양당 원내대표 회동과는 다른 분위기 더불어민주당 이재명 대표가 18일 오후 서울 여의도 국회에서 예방한 국민의힘 권성동 대표 권한대행 겸 원내대표를 만나 자리로 향하고 있다. [사진 출처 = 연합뉴스] 이재명 더불어민주당 대표와 권성동 국민의힘 대표 권한대행 겸 원내대표가 18일 상견례를 진행했다. 윤석열 대통령 탄핵소추안이 국회를 통과한 이후 첫 만남이다. 두 사람은 친분을 드러내며 화기애애한 모습을 보였다. 동시에 권 대행은 이 대표를 향해 ‘대통령제 개헌의 전향적 검토’를 요청했고, 이 대표는 ‘민생추경’과 ‘국정안정협의체’를 거듭 제안했다. 이 대표는 이날 국회 민주당 당대표실을 찾은 권 대행에 대해 “어제도 전화드렸는데 (중앙대) 대학 선배님이시고, 어릴 때 고시 공부를 같이한, 옆방 쓰던 선배님”이라며 “개인적으로 가까운 사이”라고 소개했다. 그는 “전화할 때 말한 것처럼 정치가 복원됐으면 좋겠다”며 “원래 세상 사람들이 모여살다보면 이해관계가 다르고 입장이 다를 수 있어서 다투거나 경쟁할 수 있는데, 전쟁처럼 상대방을 제거하려고 한다. 정치가 아니라 전쟁이 돼버린 상황”이라고 토로했다. 이 대표는 “정치인들이 누군가를 제거하기 위해 싸우고, 내 이익을 어떻게 챙길까 노심초사하다 보면 본인도 불행하다”며 “정치인들에게 가끔 농담삼아 ‘지금 행복하십니까’ 물어본다. ‘밤에 잠 잘오십니까’ 질문하고 싶다. 정치가 복원됐으면 좋겠다”고 거듭 강조했다. 또 이 대표는 “지금 국정이 매우 불안한데 국정안정이라고 말하지만 중요한 건 헌정질서의 신속한 복귀”라며 “국민의힘과 민주당이 대화하지 못할 주제는 없고, 협의하지 못할 주제도 없다. 국민 눈높이에 맞게 얼마든지 협의해 나갈 수 있다”고 말했다. 그러면서 “정부가 건전재정에 매몰돼 경제부분의 책임이 미약했다”며 “조속하게 민생안정을 위한 민생추경을 했으면 좋겠다. 전향적인 검토를 부탁드린다”고 촉구했다. 이 대표는 ‘국정안정협의체’를 다시 제안했다. 그는 “지금 대통령이 직무정지된 상태라 국정이 매우 불안정하다”며 “대행체제가 완벽할 수는 없어서 이런 때일 수록 국회 1당, 2당 모든 정치세력이 힘을 합려서 국정이 안정될 수 있게 협의해야 한다. 권 대행께서 비관적인 생각을 가지고 있는 것 같아서 필요한 부분까지 양보할 수 있다”고 힘주어 말했다. 더불어민주당 이재명 대표가 18일 오후 서울 여의도 국회에서 예방한 국민의힘 권성동 대표 권한대행 겸 원내대표를 만나 악수하고 있다. [사진 출처 = 연합뉴스] 권 대행은 “행정부는 행정부 나름대로 본연의 업무에 집중해야할 것이고, 사법부는 흔들림 없이 신속 공정한 결정을 내릴 것으로 예상된다”면서도 “다만 우리 입법부만 서로 지나친 경쟁을 자제하고 머리를 맞대면 이 혼란정국 잘 수습할 거라고 생각한다”고 당부했다. 이어 “이 대표 말씀 중에 ‘우리 국방과 안보를 책임지는 국방부 장관에 대한 임명 필요성’ 언급에 대해 환영하고 정말 잘한 결정이라 생각한다”고 호응하기도 했다. 권 대행은 “이런 작금의 사태, 헌정사 세 번에 걸친 탄핵 정국이 있는데 우리 헌법이 채택하는 통치구조. 대통령 중심제 국가가 우리 현실과 잘 맞는지 부분에 대해 검토할 필요가 있다고 생각한다”고 주장했다. 권 대행은 “1987년 (개헌) 이후 7번째 대통령을 맞이하고 있는데 제대로 잘했다는 평가를 받는 대통령이 거의 없는 게 사실”이라며 “좀 더 많은 국민 의견이 반영될 수 있는, 상생 협력할 수 있는 제도로의 변경이 필요한 시점이다. 이 대표가 좀 더 전향적인 자세를 보여달라”고 요구했다. 또 권 대행은 “최재원 감사원장, 박성재 법무부 장관 등 14건의 탄핵소추안이 헌법재판소에 계류 중”이라며 “대통령 탄핵안까지 가서 헌재가 언제 탄핵소추안을 다 처리할 수 있을지 의문이다. 남발한 탄핵소추, 정치공세 성격이 강한 탄핵소추는 국회 차원에서 철회해서 헌재 부담을 덜어달라”고 강조했다. 한편 이 대표와 권 대행은 2022년 8월 31일에도 공개 만남을 가진 바 있다. 당시 두 사람은 중앙대 2년 선후배 사이이며, 학교 다닐 때 함께 고시공부 했다는 사실을 공개했다. 이날 상견례가 비공개로 전환되기 전 이 대표가 웃으면서 “카메라도 많은데 악수 말고 한번 안아보자”고 농담했고 권 대행 역시 장난으로 응수하기도 했다. 앞서 우원식 국회의장 주재로 양당 원내대표가 회동했을 때 날카로운 신경전을 벌이던 것과는 대비되는 모습이다. 박찬대 민주당 원내대표는 전날 “내란 수괴 윤석열 대통령에 동조했던 국민의힘”이라고 공세를 퍼부었고, 권 대행도 “저를 협상 파트너로서 인정하는 건지 되묻지 않을 수 없다”고 응수했다.'}, {'img': 'https://imgnews.pstatic.net/image/009/2024/12/18/0005415757_001_20241218165308957.jpg?type=w860'}, {'review': {'': '', '쏠쏠정보': '296', '흥미진진': '7', '공감백배': '32', '분석탁월': '7', '후속강추': '14'}}, {'content': \"<출연 : 김재원 전 국민의힘 최고위원·최인호 전 더불어민주당 의원> 권성동 국민의힘 대표 권한대행 겸 원내대표와 이재명 더불어민주당 대표가 국회 민주당 당대표실에서 대통령 탄핵소추안 가결 후 첫 만남을 가졌습니다. 정국 수습의 필요성에는 동의했지만 입장차만 확인했는데요. 한편 검찰이 윤석열 대통령과 이상민 전 행안부 장관의 '내란 혐의' 사건을 공수처로 이첩했습니다. 오늘 정치권 이슈 김재원 전 국민의힘 최고위원, 최인호 전 더불어민주당 의원 두 분과 자세한 이야기 나눠보겠습니다. <질문 1> 권성동 국민의힘 대표 권한대행과 민주당 이재명 대표가 오늘 국회에서 만났습니다. 권 대행은 탄핵소추를 철회해달라는 요청과 함께 개헌 필요성을 언급했는데요. 이 대표는 헌정 질서의 신속한 복귀가 가장 중요하다고 강조했습니다. 이번에 만나서 나눈 대화 어떻게 들으셨습니까? <질문 2> 이재명 대표는 권 대행에게 민생 추경을 제안하면서 다시 한번 국정안정협의체 참여를 촉구했습니다. 여당이 주도권을 가져가도 좋으니 국정안정협의체를 함께 꾸리자고도 했는데요. 어떻게 보셨습니까? <질문 3> 국회 추천 몫 헌법재판관 후보자 3명을 임명하기 위한 인사청문특별위원회 회의도 열렸습니다. 23일부터 열릴 인사청문회 계획서도 야당 단독으로 처리됐는데요. 국민의힘은 한덕수 대통령 권한대행의 헌법재판관 임명은 불가라는 입장을 고수하고 있거든요. 향후 여야 합의가 가능할 거라고 보십니까? <질문 4> 정부가 내일 한덕수 권한대행 국무총리 주재로 임시 국무회의를 열기로 했습니다. 국무총리실은 쟁점법안 6건에 대해 거부권 행사를 심의하고 의결할 지에 대해서는 아직 밝히지 않고 있는데요. 일단 한 대행이 거부권을 행사할 것이란 전망에 무게가 실려요? 어떻게 전망하고 계십니까? <질문 4-1> 민주당에선 한덕수 권한대행이 거부권을 행사한다면 묵과하지 않겠다며 탄핵소추 가능성까지 언급하고 있어요? <질문 5> 국민의힘은 의원총회를 열고 비상대책위원장 선임을 논의했지만 합의에 이르지 못했습니다. 대신 선수별 추천 후보위를 구성하기로 했는데요. 일단 당내 중진 인사들과 권 원내대표의 겸임 등이 거론됐지만 오늘 합의에 이르지 못한 이유, 어디에 있다고 보십니까? <질문 6> 검찰이 윤석열 대통령과 이상민 전 행안부 장관의 '내란 혐의' 사건을 공수처로 넘겼습니다. 중복 수사 논란이 커지자 수사 주체를 공수처로 일원화하기로 한 건데요. 혼선이 일부 해소된 만큼 이제부턴 각 기관들의 기싸움 없이 수사가 제대로 이뤄질까요? <질문 7> 비상계엄 사태를 사전 기획한 혐의를 받는 노상원 전 정보사령관이 조금 전 구속됐습니다. 함께 계엄 사전 모의를 한 혐의를 받는 문상호 정보사령관도 다시 체포된 상황인데, 대통령을 향한 수사도 더 속도가 붙을까요? <질문 8> 헌법재판소가 윤 대통령에게 '비상계엄' 관련 국무회의 회의록과 포고령을 24일까지 제출하라고 명령했습니다. 앞서 헌재는 탄핵 관련 서류를 발송했지만 윤 대통령이 수신했다는 확인을 받지 못했는데요. 윤 대통령 측이 어떻게 대응할 거라 보십니까? 연합뉴스TV 기사문의 및 제보 : 카톡/라인 jebo23\"}, {'review': {'': '', '쏠쏠정보': '0', '흥미진진': '0', '공감백배': '0', '분석탁월': '0', '후속강추': '0'}}, {'content': '12·3 계엄 발령 당시 국민의힘 대화록 전문 공개 \"원내대표 정리해주세요\" 요구에 당사 집결 공지만 황진환 기자 12·3 내란사태 당시 비상계엄 선포 직후 국민의힘 의원들이 단체 대화방에서 어떤 대화를 나눴는지 공개됐다. 18일 TV조선은 지난 3일 오후 10시28분부터 다음날인 19일 오전 1시16분까지 국민의힘 의원 108명이 모여있는 사회관계망서비스(SNS) 대화방 내용 전문을 공개했다. 당시 더불어민주당 의원들은 국회 본회의장으로 일사불란하게 집결했지만, 국민의힘은 총 108명 중 18명만 모여 비상계엄 해제 표결에 참석했다. 상당수 국민의힘 의원들은 당시 추경호 원내대표의 당사 집결 공지로 당사에 모여 있었다. 추 당시 원내대표는 계엄 발령 당시 단체 대화방에서 구체적인 대응을 묻는 의원들의 질의에도 당사 집결 알림만 공지한 것으로 보인다. 22대 국회 국민의힘 의원 SNS단체방 대화 12.3 비상계엄 직후부터 본회의 계엄 해제안 의결까지. (편의상 의원 호칭은 생략했습니다.) 22:23~28 尹 대통령 비상계엄 선포 22:29 박수영 \"비상계엄 선포\" 22:31 조승환 \"저도 특보봤습니다\" 22:39 조승환 \"내일 규탄대회 일정 재확인이 필요합니다\" 22:45 김소희 \"민주당은 바로 국회 소집한다는데. 우리는 어찌해야할까요?\" 22:46 권영세 \"그러게. 비상으로 국회해산이라도 하겠단건가?\" 22:49 박수영 \\'헌법 77조\\' 계엄 관련 조문 공유 \"대통령의 비상계엄 선포는 잘못된 것입니다. 국민과 함께 막겠습니다. - 당대표 한동훈\" (한동훈 대표 당 공지 공유) 22:55 주진우 \"우리도 긴급의총 소집해야할 사안\" 22:56 서지영 \"지도부에서 빠른 입장을 정리해주시기 바랍니다\" 조정훈 \"동의합니다\" 김소희 \"긴급의총 해야합니다\" 22:48 김상욱 \"비상계엄을 저는 납득할 수 없습니다\" 22:58 박정하 \"대통령의 비상계엄 선포는 잘못된 것입니다. 국민과 함께 막겠습니다. - 당대표 한동훈\" (한동훈 대표 당 공지 공유) 22:59 김용태 \"국회 입구를 국회 경비단이 막아 출입이 봉쇄됐다고 합니다. 지도부에서 빠르게 판단을 해주셔야할 것 같습니다. 의원총회를 열어주십시오\" 22:59 김상욱 \"역사의 죄인이 되어서는 안됩니다\" 23:00 김종양 \"정말 아쉽습니다. 이렇게 있어도 되는 것입니까?\" 23:01 송언석 \"비상의총은 언제 어디서 하는건가요?\" 신성범 \"국회는 해산되는건가요?\" 23:02 주진우 \"현재 국회 통제중\" 23:02 정연욱 \"긴급 의총 열어야합니다\" 23:02 김용태 (경찰이 통제중인 사진 공유) 23:02 김종양 \"일단 저는 국회로 갑니다\" 23:03 추경호 원내대표, 첫 비상의총 장소 문자 공지(국회) 23:03 당대표실, 최고위 장소 국회->당사로 변경 23:03 신성범 \"저는 국회로 출발. 이럴 때 의원이 위치해야할 장소 대한민국 국회입니다\" 23:04 서범수 \"국회는 폐쇄되었다 합니다. 의원님들께서는 당사로 모이시죠\" 23:04 한지아 \"추경호 원내대표님 비상 계엄령 선포 관련하여 긴급의총을 소집 요청합니다\" 23:04 김은혜 \"의총 소집했습니다\" 23:04 김용태 [비상의원총회 알림] 문자 공유. 잠시후 비상의총을 개최하오니 의원님들께서는 지금 즉시 국회로 모여주시기 바랍니다. - 원내대표 추경호 드림 23:04 한지아 \"국회 통제되었습니다\" 23:04 김용태 \"국회가 봉쇄되어 들어갈 수가 없다고 합니다\" 23:05 성일종 \"국방위원 출장 중단하고 최대한 빨리 귀국하겠습니다\" 23:07 배준영 \"원내수석입니다. 모든 의원님들 당사로 모여주십시오\" 23:08 김용태 \"민주당 국회의원들은 국회 담넘어서 들어오라고 했다고 합니다. 국회 본회의장은 의장 지시로 경비국장이 열겠다고 합니다\" 23:09 추경호 원내대표 문자공지 비상의총 장소 변경 (국회->당사) 23:24 주진우 (한동훈 대표 입장 공유) \"즉시 계엄을 해제해야 합니다. 지금 민주당은 담을 넘어서라도 국회에 들어가는 상황입니다. 계엄해제 안에 반대하는 분 계시는지요? - 한동훈 당대표\" 23;28 이양수 \"일단 내일 유가증권 시장은 하루라도 휴장하는 게 좋을 것 같습니다\" 23:08 박수영 (뉴스 속보 링크 공유) [속보]계엄사 \"국회, 지방의회, 정당활동 금지\" 23:29 김건 \"국제위원장의 국제민주연맹 참석도 중단하고 최대한 빨리 귀국토록 하겠습니다\" 23:30 박수영 ([계엄사령부에서 알려드립니다] 포고령 내용 공유) (탱크 사진 공유) 23:33 추경호 원내대표 문자공지 비상의총 장소 변경 (당사->국회 예결위장) 23:34 서범수 \"국회로 오세요\" 23:35 서명옥 \"국회정문 앞? 당사?\" 23:35 한지아 \"당사에서 국회 정문으로 걸어갑니다. 신분증 지참해주세요\" 23:36 송언석 앞선 배준영 공지에 답장형태로 \"당사에서 모이는 것 맞지요?\" 23:38 최형두 \"지금 마산 숙모상 문상하고 KTX 상경중 12시 넘어 서울역 도착합니다. 업데이트 주시는 곳으로 즉시 달려가겠습니다\" 23:40 조정훈 \"국회 어디에서 모이나요?\" 23:41 배준영 \"다시 공지합니다. 본청 예결위 회의장에서 모입니다\" 23:41 최형두 [비상의원총회 장소 변경 알림] 문자 공유 \"잠시후 비상의원총회를 개최하오니 의원님들께서는 지금 즉시 국회 예결위장으로 모여주시기 바랍니다. - 추경호 원내대표 드림\" 23:44 김미애 \"도서관 뒤쪽으로 출입 가능하답니다\" 23:44 배준영 \"차량은 통제할 경우 도보로 이용합니다. 의원 신분증 제시하십시오\" 23:44 박수영 (현장 사진올림) 23:47 서범수 \"의총장소는 예결위회의장입니다. 오시는 의원님은 의총장으로 와주십시오\" 23:47 송언석 \"국회 출입이 안되는데..\" 23:48 김은혜 \"도서관 뒤는 되나요?\" 23:49 추경호 원내대표 문자공지 비상의총 장소 (국회 예결위장) 23:49 한지아 \"도서관쪽으로 신분증 갖고 오시면 됩니다\" 23:49 우재준 \"막히기 전에 빨리 와주셔야할 것 같습니다\" 23:50 강대식 \"도서관쪽도 안됩니다\" 23:52 서지영 \"출입가능한 문이 어디입니까?\" 23:53 이양수 \"(국회소집 문자 공유하며) 들어가지를 못하는데\" 23:54 우재준 \"담 넘어서라도 와주세요\" 23:56 서지영 \"출입증 찍는 곳이 가능한 모양입니다. 도서관앞 철문 출입증 찍는 쪽으로 저도 가고 있습니다 김삼보 맞은편\" 23:57 조정훈 \"지금 추대표님과 소통했는데 들어가지 못하는 의원님들이 있어서 당사로 모이라고 하시네요\" 23:57 박수민 \"도서관 쪽 막힌 거 같습니다\" 23:57 김희정 \"국회 차 들어오는 문 신분증 확인후 들어옴. 차는 못 들어오고 사람은 출입 가능\" 23:58 우재준 \"본회의장 휴게실로 와주세요\" 23:58 한지아 \"본회의장 휴게실로 와주세요\" 00:00 조승환 \"사람 출입도 안되어 당사로 갑니다\" 00:01 김정재 \"김정재 정점식 김미애 조정훈 박성훈 윤한홍의원 국회 못 들어가 당사에 왔습니다. 권성동 대표님도 당사에 계십니다\" 00:03 추경호 원내대표 문자공지 비상의총 장소 재공지 (당사 3층) 00:03 우재준 \"경찰이 적극적으로 막지 않습니다. 가능하신 분들은 담 넘어 와주세요\" 00:04 박수민 \"담 타고 진입 했습니다\" 00:04 서명옥 \"담벼락 곳곳에 경찰 배치되어 담도 못 넘어요\" 00:04 조정훈 \"본청에 몇분이나 계신지요?\" 00:04 박형수 \"메시지에 혼선이 있으면 안됩니다, 추대표님께서 직접 말씀해 주세요\" 00:04 김소희 \"맞아요. 경찰들 있어서 담도 못넘어가요ㅠ\" 00:05, 00:07, 00:08 추경호 원내대표 문자공지 비상의총 장소 재공지 (당사 3층) 00:05 김정재 \"박덕흠 이상휘 김도읍 나경원 정동만 박준태 당사로 왔습니다\" 00:05 박대출 \"추경호 원내대표가 정리해주세요\" 00:05 한지아 \"군인들이 총을 갖고 국회 진입했습니다. 국회로 와주세요 의원님\" 00:05 서지영 \"못들어갑니다\" 00:05 한지아 \"군인들 본청 들어오려고 합니다\" 00:05 김희정 \"집결장소 명확히 해주시길 바랍니다\" 00:05 이인선 배준영 공지 언급하며 \"뭔가 혼선이 있네요\" 00:05 서지영 \"충전소쪽도\" 00:06 한지아 \"집결장소는 국회 본회의장 휴게실입니다\" 00:06 이인선 \"비서실장이라도 메시지 주세요\" 00:06 서명옥 \"당사로 갑니다\" 00:06 김소희 \"처음에는 되다가 지금은 안되는 상황 같아요\" 00:06 우재준 \"대표님 지시 사항입니다. 본회의장 와주세요\" 00:07 우재준 \"방금 옆에서 보고 지시하셨습니다\" 00:07 박정하 \"국회 본회의장으로 무슨 수를 써서라도 와야합니다\" 00:07 우재준 \"최대한 각자 방법을 써서라도 와주세요\" 00:07 조정훈 \"지금 당사에 약 18분 넘게 있습니다\" 00:09 박정훈 \"본회의장으로 오셔야 합니다\" 00:10 우재준 \"당대표 한동훈입니다. 본회의장으로 모두 모이십시오. 당대표 지시입니다.\" 00:10 송언석 \"우여곡절 끝에 예결위회의장에 도착했습니다. 아무도 안 계시네요\" 00:11 우재준 \"본회의장입니다. 예결위 아니에요\" 00:13 박덕흠 \"중앙당사입니다\" 00:14 박정훈 \"대표님 본회의장에 들어와 계시고, 여기서 모여달라고 하십니다\" 00:15 김소희 \"거길 들어갈 수가 없어요. 처음과 달리 경찰도 깔려서 담도 못 넘어가요\" 00:15 김장겸 \"못 들어가고 민주당 지지자들에게 봉변당했어요\" 00:15 송언석 \"의총 장소가 어딥니까? 예결위회의장 아닌가요?\" 00:15 이달희 \"들어갈 수 없어 당사로 왔습니다\" 00:16 박덕흠 \"중앙당사입니다\" 00:17 박수영 \"공수부대 진입 중입니다\" 00:19 조승환 \"내부사진 올리지 않았으면 합니다\" 00:26 한지아 \"국회에는 군헬기가 뜨고 군인들이 총을 들고 국회에 진입했습니다. 정당활동은 중지를 지시했습니다. 의원님들 오늘은 우리가 똘똘 뭉쳐야할 때입니다. 원대실에 계시지 마시고 본회의장 휴게실로 모여주세요\" 00:30 김정재 \"국회 들어가는 것이 불가능해 중앙당사에 모여있습니다\" \"의원님들 50여명 계십니다\" 00:41 최형두 \"지금 마산에서 막 도착해서 국회앞입니다. 시민들이 국회 주변으로 많이 걸어다닙니다. 국회 담 안쪽에는 경찰이 배치되어 출입을 못하게 합니다\" 00:41 조정훈 \"당사로 오세요\" 00:47 최형두 \"지금 헬기 3대가 국회 운동장으로 내린듯합니다\" \"헬기는 다시 날아갔습니다\" 00:47 본회의 개의 00:56 강민국 \"지금 서강대교 위인데 차가 움직이지 못하네요. 차량통제 하는듯합니다\" 1:00 국회 본회의 비상계엄 해제 요구 결의안 의결 1:01 최형두 \"170명 들어옸습니까?\" 1:11 최형두 \"담 넘어 왔습니다\" 1:15 조배숙 \"이미 190명 찬성으로 해제 의결되었습니다\" 1:16 최형두 \"국회 들어왔습니다\" ※CBS노컷뉴스는 여러분의 제보로 함께 세상을 바꿉니다. 각종 비리와 부당대우, 사건사고와 미담 등 모든 얘깃거리를 알려주세요. 이메일 : jebo@cbs.co.kr 카카오톡 : @노컷뉴스 사이트 : https://url.kr/b71afn'}, {'img': 'https://imgnews.pstatic.net/image/079/2024/12/18/0003972378_001_20241218224108995.jpg?type=w860'}, {'review': {'': '', '쏠쏠정보': '1', '흥미진진': '1', '공감백배': '3', '분석탁월': '0', '후속강추': '5'}}, {'content': \"■ 진행 : 성문규 앵커 ■ 출연 : 정옥임 전 새누리당 국회의원, 신경민 전 새로운미래 책임위원 * 아래 텍스트는 실제 방송 내용과 차이가 있을 수 있으니 보다 정확한 내용은 방송으로 확인하시기 바랍니다. 인용 시 [YTN 뉴스NIGHT] 명시해주시기 바랍니다. [앵커] 정치권 관심 뉴스 짚어보는 포커스 나이트 시간입니다. 오늘은 정옥임 전 새누리당 의원 그리고 신경민 전 새로운미래 책임위원 나오셨습니다. 어서 오십시오. 국민의힘이 오늘 의원총회를 열고 비상대책위원장 인선을 논의했습니다. 결론을 내지 못했습니다. 다만 선수별로 의견 수렴 절차를 이어가기로 했는데요.관련 발언 직접 듣고 오시겠습니다. [권성동 / 국민의힘 당 대표 권한대행 : 지금은 비상상황입니다. 당이 하나 된 목소리로 잡음을 최소화하면서 비상 상황을 수습해야 합니다.] [안철수 / 국민의힘 의원 : 대다수 의원들이 지금 같으면 아무래도 투톱 체제가 낫지 않겠냐는 의견이 좀 더 많았던 거 같습니다.] [권성동 / 국민의힘 당 대표 권한대행 : 비대위 설치 관련해서는 아직까지 의원들 의견이 수렴되지 않았습니다. 그래서 선수별로 의견을 들어서 제시하도록 그렇게 말씀을 드렸습니다. 선수별로 초선별, 재선 모임, 삼선 모임에서 여기서 의견을 수렴해서 제게 비대위원장으로 적합한 사람 추천하도록 그렇게 했다는 말씀드립니다. 선수별로 의견 모으는 데 좀 시간이 걸릴 것 같습니다.] [앵커] 국민의힘 비대위원장 논의의 큰 갈래는 원톱이냐, 투 톱이냐 이 얘기였는데요. 지금 권성동 당대표 권한대행이 비대위원장을 겸임하는 원톱 방안. 투톱은 이제 원내 중진인사를 선임해서 비대위원장하고 원내대표를 둘로 두는 투톱 방안. 어떻게 보시나요, 어떤 게 더 나은 방안이라고 보시나요? [정옥임] 지금 탄핵을 찬성한 사람들은 전부 소외되는 분위기 아닙니까? 그리고 한동훈 대표는 이미 축출된 상황이고요. 그래서 90여 명이 똘똘 뭉쳐서 결집하자라는 것이고 그 공감대 하에서 원톱이냐 투톱이냐가 과연 국민들에게 무슨 공감과 동의를 얻을 수 있을지 원톱, 투톱을 떠나 쓰리톱이 된다고 하더라도 별로 거들떠 볼 것 같지 않다는 느낌마저 듭니다. [앵커] 일단은 그래서 당에서는 원내 중진으로 새로운 비대위원장을 뽑고 투톱으로 가는 것이 어떠냐. 보통 이렇게 의견이 모아지고 있나 보더군요. [신경민] 글쎄요, 들리는 얘기로는 산뜻한 사람을 하자 그러면서 초선의원까지 얘기가 이번에 나왔다 그러더라고요. 그래서 그분 이름을 자꾸 이야기하는데 이렇게 되면 얼굴마담 내세워서 쇼를 하자는 거죠. [앵커] 김재섭 의원 말씀하시는 건가요? [신경민] 그렇죠. 그렇게 되면 김 의원이 그 말을 듣고 즐거워할지 싫어할지는 잘 모르겠지만 만약에 이걸 받아들인다고 그러면 국민들한테 그래, 참 잘했어라는 소리를 들을 수 있을 것인지 모르겠어요. 그런데 지금 문제의 핵심은 이렇게 가면 결국은 친윤으로 가겠다는 거 아니에요? 친윤으로 가는 건 결국은 고립되고 소외되고 지역정당으로 가고 국민의힘의 미래가 정말로 걱정된다 하는 얘기들을 보수 쪽에 있는 분들이 하지 않을 수 없을 거예요. 만약에 얼마 안 되는 그분들의 힘만 믿고 간다 그러면 앞으로 선거가 계속 뭔가 있을 텐데 그 선거에서 고립된다는 얘기고 그쪽 지역에서는 잘 되겠지만 나머지 지역 특히 수도권 이쪽 지역에서는 계속 소외되고 고립된다는 것을 자초하는 결론이 날 수가 있어서 이게 한국 정치에 바람직하지 않습니다. 이건 분명히 역효과가 있을 거고요. 저는 12월 14일날 탄핵이 찬성으로 결론이 난 건 우리가 기뻐하고 올바른 방향이라고 얘기했지만 반대표가 너무 많았어요. 이게 이번 주에 넘어와서 이렇게 되는 건데. 그 반대표가 결국은 이렇게 국힘당을 또 방향 설정을 잘 못하게 하는구나라고 판단이 됩니다. [앵커] 그래서 국민의힘 비대위원장을 선출하는 데도 비상계엄 책임론이 아니라 탄핵 책임론 이 얘기가 목소리가 상당히 큰 것 같습니다. 이게 원내는 아닙니다마는 홍준표 시장 같은 경우는 탄핵 찬성 의원의 당원권을 정지시키자 이런 얘기도 했었고. 반대 입장에서는 김상욱 의원, 탄핵 찬성했죠. 당 안에서 극우의 암덩어리를 제거해야 한다. 이렇게 강한 이야기를 했습니다마는 이런 목소리는 작은 것 같고 어떻게 보십니까? [정옥임] 그런데 홍준표 시장은 법을 누구보다도 잘 아는 율사 출신이거든요. 그러면 비상계엄의 성격이 어떠한지에 대해서 법을 제대로 공부한 사람이라면 아니, 법을 전공하지 않은 상식을 가진 사람이라도 알 텐데 이러한 목소리가 아마 국민의힘의 주류인 것 같습니다. 그리고 우리 성 앵커님도 말씀하셨듯이 비상계엄과 관련해서는 거기 18명 외에는 의결에 참여하지 않았잖아요. 그러면 비상계엄 선포에 대해서 해제 결의에 참여 안 한 사람이 훨씬 많은 데다가 비상계엄과 관련해서 단호히 반대한다는 것인지 아니면 또 표결에 참여하지 않은 것에 대해서 성찰하고 있다는 것인지 그 부분도 분명하지 않고 탄핵을 가지고 얘기를 하거든요. 그래서 제가 볼 때는 무슨 이념이라든지 또는 이해로 진영이 나눠졌다기보다는 우리나라 정치문화가 말이에요. 정당 민주주의가 헌법에 명시돼 있음에도 불구하고 권력이 딱 정해지면 그 권력에 맹종하는. 그건 민주당도 다르지 않더라고요. 이게 그렇다면 정당이 이런 문화라면 조폭 양아치하고 무슨 차이가 있는지. 지금 그것의 연결선에서 이런 상황이 나오는 거죠. [앵커] 좀 과격한 표현도 쓰셨습니다마는 어쨌든 오늘도 결론이 안 났고 당내 중진을 추대하는 의견이 많았다. 이렇게 얘기를 해서 선수별로 의논한다고 했으니까 그 상황 함께 지켜보기로 하고요. 이런 가운데 오늘 권성동 당대표 권한대행하고 이재명 대표가 탄핵안 가결 이후에 처음으로 만났습니다. 어떤 이야기가 오고갔는지 한번 들어보시겠습니다. [조승래 / 더불어민주당 수석대변인 : 그럼 먼저 권성동 국민의힘 당 대표 권한대행 겸 원내대표께서 인사말 하시겠습니다.] [이재명 / 더불어민주당 대표 : 모든 게 더…. 선배님 먼저 하시죠. 허허.] [권성동 / 국민의힘 당 대표 권한대행 : 작금의 사태, 우리 헌정사에 세 번에 걸친 탄핵 정국이 이번까지 세 번의 탄핵 정국이 있는데 저는 우린 헌법이 채택하고 있는 통치 구조, 대통령 중심제 국가가 과연 우리의 그런 현실과 잘 맞는지, 이 부분에 대해 좀 더 우리가 이 시점에선 검토할 필요 있다고 생각하고 있습니다. 이점에 이재명 대표께서 전향적인 자세를 보여줬으면 하는 그런 부탁의 말씀을 드리도록 하겠습니다.] [이재명 / 더불어민주당 대표 : 혹시 아실지 모르겠는데 (권성동 원내대표는) 저희 대학 선배님이시고 어릴 때 고시공부 같이한, 옆방 쓰던 선배님이십니다. 개인적으로는 아주 가까운 사이인데…. 권성동 대표께서 제가 제안 드렸던 국정안정 협의체에 대해서 약간 비관적 생각을 가지고 계신 것 같아서요. 저희가 필요한 부분까지는 다 양보할 수 있다…. (그리고) 민생 추경을 하면 좋겠다. 그런 생각을 갖고 있고 이 부분에 대해서 전향적인 검토를 부탁드립니다.] [앵커] 지금 얼어붙은 정국을 생각하면 오늘 두 사람의 분위기는 상당히 화기애애한 분위기가 연출됐는데 실제로 대학 선후배 관계죠? [신경민] 이 얘기는 만나면 맨날 하는 얘기이기 때문에 저희들은 상당히 오래전부터 잘 알고 있습니다. [앵커] 중대 법대. [신경민] 오늘 또 얘기가 나왔는데 이거하고는 상관없고요. 선후배라는 것 가지고 서로 양보하고 안 될 걸 되게 하고 그런 분위기는 아닌 것 같아요. 오늘도 사실은 평행선을 그었다고 볼 수 있죠. 사실 서로 웃는 낯만 보인 거지 아무것도 합의된 건 없고요. 앞으로도 합의가 뭔가 이루어질 것 같지는 않습니다. 그런 점에서 봤을 때는 그냥 인사했다. 서로 보직을 맡은 이후 첫 상견례를 했다. 그 정도 의미 외에는 없는 것 같고요.진짜 중요한 얘기에 대해서는 아직 아무것도 안 됐습니다. 지금 제일 당면한 문제는 사실 헌법재판소를 완전체로 가느냐, 못 가느냐. 결국은 임명권을 어떻게 할 것이냐. 한덕수 권한대행이 임명을 해야 되는 거냐 이건 하면 안 되는 거냐. 이 부분에 대해서 뭔가 얘기를 했어야 되는데 이게 진짜 중요한 문제거든요. 그리고 수사를 서로 경쟁적으로 하는 이런 구조. 이 구조를 어떻게 수사를 제대로 할 수 있는 체제로 하루빨리 가야 되느냐. 이런 게 지금 현재로써는 제일 중요한 문제 아닌가 싶어요. 물론 국정안정 문제가 그 밑에 깔려 있는 거죠. 그런데 그런 문제에 대해서는 일언반구 특별한 이야기가 없습니다. [앵커] 헌법재판소 재판관 얘기는 잠시 뒤에 한번 해 보기로 하고요. 오늘 두 분이 만난 자리에서 권성동 권한대행이 제안했었죠. 지금의 승자독식 구조의 대통령제 폐해를 거론하면서 개헌 문제를 얘기했단 말이에요. 개헌 카드를 꺼낸 이유가 있을까요? [정옥임] 지금 개헌 카드로 국면을 전환하겠다는 생각도 있을 거고요. 국민의힘이 국민의힘의 골수지지자들을 빼면 아주 전방위적인 지탄을 받고 있는 상황 아닙니까? 그렇기 때문에 뭔가 그런 것에 대한 국면 전환 내지는 고민을 하고 있다는 모습을 보여주고 싶었던 것 같아요. 그런데 우리가 조금만 이렇게 지난 일을 되돌아보면 사실은 대통령이 비상계엄 선포하기 전에 여러 정치 문제 또 부인 문제로 공격을 받았을 때 실제로 개헌을 주장했던 쪽은 민주당이었어요. 그런데 지금 계엄을 선포하고 탄핵된 상황에서 그 전까지는 개헌에 대해서는 어림도 없다는 입장이었던 국민의힘이 개헌 얘기를 하지 않습니까? 그러니까 진작에 개헌해서 제가 이 자리에서도 임기단축 개헌에 대해서 막 얘기했던 기억이 나는데 그때 그러면 머리를 맞대고 했었으면... [앵커] 그때 해법으로 제시했었죠. [정옥임] 그랬는데 지금은 너무 지난 거예요. 대통령이 탄핵되기 전이고 지금 이재명 대표의 머릿속에는 내가 조금만, 몇 달만 있으면 대통령이 될 거야라고 생각하는 사람보고 개헌하자 그러면 그 사람이 받겠습니까? 그러니까 각자 자기 소리하고 끝난 거예요. [앵커] 국면 전환용이라는 말씀이셨고 각 당마다 위기에 처했을 때 꺼내는 정치적인 도구, 카드 이렇게 말씀하셨는데요. [신경민] 윤 대통령의 이 문제, 12월 3일 이후 지금 벌어지고 있는 상황은 사실은 대통령제 폐해를 단적으로 드러낸 것이기 때문에 제도 개혁, 체제 개혁 이건 맞아요. 그런데 지금 그런 것을 꺼낼 만한 분위기가 아니에요. 당장 수사 문제, 탄핵 문제, 헌법재판소 구성 문제 이런 것이 너무 급해서 이 얘기하면 귀를 기울일 수 있는 사람이 대한민국에 몇 사람이나 있을까요? 그러니까 그냥 해 본 얘기고요. 이거에 주목하는 사람은 저는 거의 없다고 봅니다. [앵커] 지금 대통령제 4년으로 줄여서 대통령 4년 중임제라든가 의원내각제라든가 이원집정부제라든가 이런 식으로 언론들에서는 진지하게 이 이야기를 하고는 있거든요. 그러니까 필요성하고 지금 이렇게 국민의힘에서 이야기를 꺼낸 것하고는 별개다, 그렇게 보시는 건가요? [정옥임] 그럴 뿐만 아니라 우리나라는 개헌이 쉽지가 않은 게 일단 개헌하겠다고 그러다가 자기가 정권을 잡으면 개헌의 개자도 안 끄내는 그런 분위기. 왜냐하면 권력을 장악했으니까, 대통령제 하에. 그다음에 지금 4년 중임제, 의원내각제, 이원집정부제 얘기를 하지만 실제로 개헌 그러면 이것뿐만 아니라 헌법에 집어넣어야 될 다른 문항이 너무나 많은 거예요. 그래서 요구가 많기 때문에 개헌이 안 돼요. 미국식으로 그때그때 필요한 것에 따라 수정헌법을 하는 그런 시스템이 갖춰져 있지 않는 한 마치 정치적으로 국면을 전환할 때만 얘기를 하다가 그다음에 쏙 들어가죠. 그리고 지금 와서 해 보니까 이게 여당도 그렇고 야당도 그렇고 권력중심을 마치도 소위 전문 용어로는 패트론 클라이어라고 하고 일본 속어로 쓰면 오야에 밑에 마치도 그런 식의 구도를 갖고 있기 때문에 의원내각제로 하면 쉽게 말하면 지금 권력을 쥐고 있는 사람, 당에서. 그 사람은 평생 할 수 있는 정치제도로 바뀐다는 건데. 그게 그럼 우리 시정에 맞나? 이런 생각을 지금 또 하게 되더라고요. [앵커] 그렇지 않아도 우원식 국회의장도 개헌주의자이시고 몇 달 전에 한참 주장을 하셨죠. 그리고 전병헌 새미래민주당 대표도 지금이 개헌의 절호의 시간이다. 선개헌, 그러니까 개헌부터 하고 나중에 대선 치르자. 이런 의건을 갖고 있던데요. [신경민] 이런 얘기한 사람들은 많고요. 역대 국회의장들은 다 이 얘기했어요. 지금 우원식 의장만 하는 게 아니고 그 전의 의장, 그 전전 의장, 전전전 의장도 항상 취임사에서 내 임기 때 개헌을 어쩌고 저쩌고 해 가지고 띄워놓고 특위 만들고 그랬는데 항상 다 용두사미로 끝났고요. 이것이 진지하게 논의된 적이 한 번도 없었던 것 같습니다. 그리고 이번에도 이게 아마 탄핵정국에서 결국은 그냥 소리 없이 사라질 것 같습니다. [앵커] 그런 반면에 또 이재명 대표는 국정안전협의체 참여를 거듭 촉구했죠. 공식적으로 세 번째인데 두 사람 모두 국정안정은 강조는 했지만 해법은 좀 다른 것 같은데. 여당에서는 지금 당정협의회를 이야기하고 있고 야당에서는 야당까지 아우러서 협의체를 만들자 그러고 있단 말이에요. [정옥임] 그러니까 일단 시범으로 지금 국정과 관련해서 정치 말고 정책과 관련해서 중요한 사안들이 있거든요. 예를 든다면 트럼프 취임 이전에 여러 가지로 관세의 압력이라든지 또는 주둔군 부담금의 문제라든지 또 당장 반도체, 자동차와 관련해서 우리 경제나 민생과 직결되는 그런 현안들이 있잖아요. 그러면 그걸 꼭 무슨 기구를 만들어서 뭘 해야 된다는 생각을 하기 이전에 그런 실무적인 부분과 관련해서는 관련 법 통과도 못 시켰어요. 예를 든다면 반도체 칩스법 같은 것이 그 대표적인 예거든요. 그런 것에 대해서는 뭘 만들자, 기구를 만들자 하기 전에 그런 것부터 먼저 솔선해서 해결을 해서 지금 제가 보니까 정치판이 말입니다. 여당이든 야당이든 간단히 끝날 부분이 아니에요. 지금 탄핵 과정도 그렇고. 그럼에도 불구하고 경제는 정치의 파고에서 자유롭게 경제 자체는 단단하게 움직이도록 그것과 관련해서는 협의를 해서 합의를 도출했으면 좋겠다는 간절한 소망이 있어요. [앵커] 조금 전에 권성동 권한대행이 얘기했던 개헌 문제도 그렇고 지금 이재명 대표가 얘기했던 국정안전협의체도 그렇고 다 어떻게 보면 옳은 이야기고 그렇게 같이 합의하면 좋은 것입니다마는 서로 다른 속내를 보면서 서로 제안을 받을 수 없는 그런 상황으로 가고 있는 것 같아요. [신경민] 결국은 유불리 따지다 보면요. 옳고 그름의 문제는 별로 중요하지 않고요. 금방 앵커께서 말씀하신 여러 가지 문제는 메아리 없이 끝날 겁니다. [앵커] 오늘 권성동 대행이 이런 얘기도 했습니다. 감사원장, 법무부 장관. 최근에 민주당이 탄핵을 했지 않았습니까? 그래서 그 탄핵 철회도 요구했는데 이건 다 정치적 공세들이 강한 성격이고 국회 차원에서 철회하자 그랬는데 오늘 어떤 일이 있었느냐 하면 이창수 중앙지검장 등 검사 3명에 대한 첫 탄핵심판 재판이 오늘 열렸는데 3분 만에 종료가 됐습니다. 이게 어떻게 3분 만에 종료가 된 건가요? [정옥임] 왜냐하면 정청래 법사위이 탄핵소추위원인데 본인도 청구인도 출석하지 않았고 대리인 선임도 않았고 그러다 보니까 오히려 소추를 한 국회의원 내지는 국회에서 소극적으로 나오니까 오늘은 3분 만에 다시 기일을 잡는 그런 진풍경이 벌어졌거든요. 이건 권성동 원내대표가 주장하듯이 그동안에 줄줄이 탄핵을 했는데 과연 탄핵이 진정성이 있다면 그렇게 무책임하게 오늘을 그냥 넘겼겠습니까? 그래서 그런 차원이 있고요. 그래서 권성동 원내대표가 그러면 다른 탄핵에 대해서 정치적으로 풀자 그랬는데 풀 수는 없죠. 왜냐하면 그걸 풀게 되면 대통령이 비상계엄 선포하는 중요한 근거가 바로 무차별적인 탄핵 아니었습니까? 그러면 자기네들 스스로 잘못하는 걸 인정하는 것인데. 그러니까 속으로는 다 정치적 계산을 하는 거지만 실제로 오늘 중앙지검장 탄핵 과정에 있어서 국회가 보여준 그런 웃지 못할 해프닝은 바로 그런 정치로 탄핵을 시켜놓고 그 뒷수습은 안 하는 거잖아요. 탄핵을 하겠다고 그랬으면 그럼 어떠어떠하여 이 사람은 탄핵 대상이라고 적극적으로 임해야 되는데 전혀 헌법재판소에 나타나지도 않고 임하지도 않았다는 거 아니겠습니까? [앵커] 권 대행 이야기로는 지금 14건의 탄핵안이 헌재에 계류돼 있다는 거 아닙니까? 신 의원님 짧게 한말씀 하시죠. [신경민] 이건 정말 잘못된 거예요. 이건 틀림없이 뭔가 착오가 있을 거고 누군가가 이 기일을 미스한 걸겁니다. 그러니까 이건 이런 일이 벌어지면 안 되고요. 만약에 이게 잘못됐으면 기일을 새로 잡아야 되는 건데 그런 것도 안 했다는 거죠. [앵커] 오늘 밀어달라고 했는데 헌재에서 안 받아들였고 안 나왔습니다. [신경민] 그러니까 이걸 그러면 관철을 시켜야 되는 건데 못 나가게 되는 이유를 분명히 해서 헌재를 설득했어야죠. 헌재가 이렇게 강행을 하게 하고 이렇게 하고 또 못 나가게 돼 버리면 이건 국민들 앞에 체면이 안 서는 일입니다. 이런 일은 다시 일어나면 안 됩니다. [앵커] 다시 준비기일이 1월 8일로 잡혔다고 하니까 그때 어떻게 진행되는지 함께 보고요. 헌법재판관 후보자 3명 이야기를 하겠습니다. 지금 그 임명을 두고 상당히 시끄러운데요. 오늘 인사청문 특위가 열렸는데 야당 위원들만 참석한 채 진행됐습니다. 다들 아시죠. 여당에서는 한덕수 권한대행이 임명권을 행사하면 안 된다는 거고 민주당은 국회의 추천몫이니까 꼭 이건 임명해야 한다는 건데 신 의원님부터 말씀 들어볼까요. [신경민] 이게 임명권 문제 가지고 다투다 보니까 인사청문회 문제나 표결 문제가 별로 의미가 없어지는 것 같아요. 만약에 여러 가지 의석 분포로 봤을 때는 인사청문도 할 수 있고 표결도 할 수 있고 결국은 대통령 권한대행한테 넘기는 것까지는 할 수 있지만 마지막에 임명권이 그럼 어떻게 되는 거냐라는 문제를 여야가 적절하게 합의를 하지 않고. 협의, 합의해야 되잖아요. 안 하고 어정쩡하게 어제 아침에 권성동 원내대표가 6인 체제를 고사를 뜻한 얘기를 했잖아요. 그렇게 되면서 이렇게 되면 앞의 절차, 국회 절차가 아무 의미를 갖지 못합니다. 그래서 국회 절차가 완료된다고 하더라도 권한대행이 국회 절차가 야당의 일방통행이 됐기 때문에 나는 못하겠다고 그래도 할 말이 없는 거예요. 그러니까 국회 절차를 좀 완벽하게 해야 되는데요. 이 문제는 4월 18일날 두 분의 헌법재판관 임기가 만료되기 때문에 그 전에 만약에 이 탄핵절차가 모두 끝나서 결론까지 난다면 모르지만 만약에 그때까지도 결론이 안 난다고 그러면 헌법재판소는 탄핵 절차를 완료하지 못한 상태에서 헌법재판소가 불능이 되는 상태가 되거든요. 그러니까 지금 이번에 세 분 재판관들에 대한 임명권한 문제는 지금 깔끔하게 정리하고 국회 절차를 시작해야 돼요. 그런데 23~24일 청문회, 27일 본회의 표결 그렇게 잡아놓은 거 아니에요. 이게 야당의 일방적인 건데 이것을 여야가 모여서 합의해야 합니다. 만약에 9인 체제가 안 된다면 헌법재판소법에 있는 7인체제라도 만들어야 됩니다. 그런데 지금 이렇게 여야가 전혀 다른 생각을 하고 다른 얘기를 하고 또 입이 달린 사람들마다 다 다른 얘기를 하는 거 아니겠어요? [앵커] 그러니까 지금 국민의힘은 여당하고 야당하고 각각 1명씩 하고 그리고 또 합의한 한 사람으로 해서 3명을 만들어야 된다는 건데 민주당에서는 민주당이 2명 하고 국민의힘이 1명 하고 그렇게 해서 지금 논의가 안 됐었잖아요, 그동안에. [정옥임] 그러니까 그렇게 해서 늦어진 거예요. 사실은 민주당 2명 해야 된다고 그러면서 늦춰지다가 대통령이 탄핵을 당한 겁니다. 그런데 지금은 민주당이나 국민의힘이나 자신들의 정치적인 이익을 생각하는 거거든요. 아주 간단히 말씀드리면 국민의힘이나 지금 탄핵된 대통령 입장에서는 6명이면 승산이 있다고 계산하는 것 같아요. 그중에 한 명만 거부하면 탄핵이 기각되거든요. [앵커] 어쨌든 6명이든 9명이든 6명이 해야 되니까. [정옥임] 6명이 해야 되니까 그러니까 민주당은 그걸 알기 때문에 9명을 하자고 하면서 자기네 2명을 이미 추천한 거예요. 국민의힘에서도 추천이 되어 있고요. 그런데 그런 계산이 있다는 건 아는데 이게 탄핵이 우리가 벌써 세 번째 아닙니까? 그러다 보니까 전례가 있더라 이거죠. 지난 박근혜 대통령을 탄핵할 때 그때는 주객이 전도가 돼서 국민의힘에서는 재판관을 뽑자고 그랬고 민주당에서는 절대 대통령 권한대행이 헌법재판관을 임명해서는 안 된다고 정말 아주 부르짖었어요. 그래서 제가 지금 자료를 보니까 당시에 추미애, 박범계, 박주민 할 것 없이 그렇게 해서 권한대행이 임명하면 이건 거의 위헌이라는, 민주주의를 아주 완전히 흩뜨려놓는 것 같은 그런 주장을 했는데 지금 상황이 달라지다 보니까 민주당에서는 9명이 해야 될 뿐만 아니라 이번에 추천하는 건 국회 추천 몫이니까 권한대행은 그냥 임명만 하면 된다 이렇게 얘기하는 거고. 권성동 의원은 뭐라고 했냐면 그때 5년 전에는 결국은 민주당이 안 된다고 그래서 대통령이 권한이 유지될 때는 안 했다가 대통령이 탄핵된 다음에 대통령 궐위시에 대법원장이 추천하는 사람을 했다. 이렇게 나오는 거예요. [앵커] 서로 유리한 얘기만 하는 거죠. [정옥임] 그러니까 탄핵을 이렇게 많이 할 줄 알았습니까? 그리고 그때그때마다 자신들의 정치적 이해가 아니라 전례를 잘 만들고 법리에 따라서 했었으면 이런 논란이 안 붙겠죠. 그런데 아마 국민의힘은 계속 주장할 것 같아요. [앵커] 결국에는 한덕수 권한대행이 이걸 받아들이냐, 안 받아들이냐. [신경민] 이제는 한덕수 권한대행의 결정에 따라서 이것이 흘러가게 돼 있습니다. 그래서 한덕수 권한대행이 지금 갖고 있는 숙제가 많아요. 법안거부권 문제는 어떻게 할 것이냐. 그리고 헌법재판관 임명은 어떻게 할 것이냐. 또 특검문제 포함해서 두 번째 법안 거부권 문제는 또 어떻게 할 것이냐. [앵커] 알겠습니다. 그러면 그게 다 엮여 있다는 지금 말씀이시잖아요. [신경민] 전부 엮여 있어서 국힘당하고 민주당하고 정반대의 얘기를 하고 있기 때문에 결국은 한덕수 권한대행이 아마 이제 본인의 유불리를 따질 거예요. [앵커] 그러면 녹취 하나 듣고 그 말씀 계속 이어가도록 하겠습니다. 지금 민주당이 신 의원님 말씀하신 것처럼 6개 쟁점법안에 대한 거부권 행사를 고심하고 있는 한덕수 권한대행을 압박하기도 했는데요. 전현희 최고위원의 발언 들어보시겠습니다. [전현희 / 더불어민주당 최고위원 : 한덕수 권한대행에게도 경고합니다. 청소대행은 청소가 본분입니다. 주인의 물건을 자신의 것처럼 사용한다면 절도범이 됩니다. 권한대행의 권한은 국민이 선출한 국회의 동의 범위 내에 행사돼야 합니다. 양곡관리법 등 6개 법안과 내란 특검법, 김건희 특검법은 국민의 명령을 따르는 것이 순리입니다. 거부권 행사는 월권입니다.] [앵커] 청소대행은 청소가 본분이다. 참 거친 발언이었죠. 어쨌든 내일 바로 이 6개 쟁점법안에 대해서 임시 국무회의가 열리는데 과연 한덕수 대행이 이 쟁점 법안들에 대해서 거부권을 행사할 것이냐, 말 것이냐 이게 쟁점인데. 신 의원님은 이게 어쨌든 앞에서 헌법재판소 재판관들 이야기하고 다 엮여 있다? [신경민] 다 엮여 있죠. 지금 세 가지가 엮여 있는 거예요. 거기다가 추경까지 얘기하고 있기 때문에 4개가 엮여 있다고 보는데요. 보면 어떤 건 적극적으로 하라고 그러고 어떤 건 적극적으로 하지 말라고 하고. 또 국힘당과 민주당은 정반대의 주문을 해서 아마 정리하기가 굉장히 어려운 상황으로 들어가고요. 아마 한 대행은 이리 가도 욕을 먹고 저리 가도 욕을 얻어먹을 것 같으면 탄핵을 당하는 게 유리한가, 불리한가. 아마 이걸 따지고 있을 것 같아요. 그래서 내일 임시국무회의에서 어떻게 결론을 낼지가 굉장히 중요한 바로미터가 될 것 같은데요. 한 대행은 지금까지는 자기 소신을 밝혔던 관료는 아닙니다. 자기 소신은 항상 감추고 윗분의 뜻을 많이 살피는 분이었는데 이제는 그 윗분이 없어진 상황이기 때문에 본인이 아마 일생일대의 외로운 결단을 할 수밖에 없는 상황이 되고요. 이제는 탄핵을 당하더라도 이쪽으로 갈 것이냐. 아니면 국힘당 뜻을 따르는 게 맞을 것이냐 하는 양자택일의 기로에 서 있기 때문에 내일이 굉장히 중요한 날 중의 하나가 될 겁니다. [앵커] 그러니까 지금 말씀은 내일 당장 6개의 쟁점법안 그것만 가지고 이야기할 것이 아니라 한덕수 대행은 내란 특검법, 김건희 특검법 그리고 앞서서 이야기했던 헌법재판관 임명 이것도 같이 통째로 고려할 것이라는 그런 말씀을 하셨어요. [정옥임] 삼권분립에 자유민주주의 체제 하에서 어쨌든 대통령 권한대행인데 청소대행은 청소나 하라는 이런 원색적이고 상당히 예의 없는 이런 식의 이야기들은 아마 이번에 탄핵 과정에서 탄핵을 반대했던 일부 보수주의자들의 주장을 일정 정도 합리화하는 빌미가 될 수도 있다는 점을 경고하지 않을 수 없고요. 한덕수 총리는 가만히 보면 민주당이 원하는 대로 하지 않는다면 또 탄핵을 시도할 가능성이 있는데 만약에 그런 상황이 도래되면 이건 민주당에게 굉장한 역풍이 될 것이다. 한덕수 권한대행은 권한대행으로서 국가를 위해서 소신껏 하라. 특히 양곡관리법 같은 거. 본인이 총리 때도 거부했던 것이고 국가재정과 관련된 것이고 그러면 국민 세금과 관련한 것인데 이걸 민주당의 정략적 이해에 따라서 휘둘리는 그런 대통령 권한대행이 돼서는 안 된다고 강조합니다. [앵커] 양곡관리법 같은 경우에는 세 번씩이나 거부권을 행사했던 것이기 때문에. 마지막으로 한 가지만 더 보죠. 조국 전 조국혁신당 대표, 지금 서울구치소에 수감돼 있는데. 수감된 지 하루 만에 옥중 메시지를 보냈는데요. 지금 보시는 것처럼 바깥에 비해서 모든 것이 낯설고 불편하다. 잠자리 얘기도 했고요. 상당히 외풍이 들어와서 잠자리를 설친 것 같은데요. 그다음 장도 한번 보여주실까요. 하지만 이런 상황에서 윤 대통령 탄핵 투쟁 등등 모든 순간을 되새겨보았다. 여의도를 꽉 채운 응원봉의 물결, 평생 잊지 못할 것 같다. 이런 얘기를 옥중 메시지를 보냈습니다. 이거 한번 짧게 한마디씩 들어볼까요, 어떻게 보셨나요? [정옥임] 독립운동한 건 아니지 않습니까? 그런 데다가 여의도를 꽉 채운 응원봉은 아마 윤석열 대통령의 무모한 비상계엄 선포에 대한 국민의 경고라는 거고요. 지금 국민들은 이러한 식의 국민의 자유를 제한하는 것뿐만 아니라 적어도 국가 지도자라면 범죄로부터 자유롭고 또 정말 국민을 진정성 있게 위하는 그런 정치인을 희구하고 있을 거라고 저는 믿습니다. [앵커] 신 의원님. [신경민] 옥중서신, 생각지도 않은 메시지인 것 같아요. 옥중서신 읽어보니까 그냥 감사인 것 같은데요. 특별하게 메시지가 별로 담겨 있는 것 같지는 않습니다. 이걸 궁금하게 생각할 국민들은 별로 많아 보이지 않고 지금 그러기에는 현재의 상황이 너무나 요란하고 소란하고 이게 1분 1초가 계속 바뀌고 있기 때문에 이게 어떤 감흥이나 감동을 줄 수 있을지는 잘 모르겠습니다. [앵커] 알겠습니다. 지금까지 정옥임 전 새누리당 의원, 신경민 전 새로운미래 책임위원과 함께했습니다. 고맙습니다. ※ '당신의 제보가 뉴스가 됩니다' [카카오톡] YTN 검색해 채널 추가 [전화] 02-398-8585 [메일] social@ytn.co.kr\"}, {'review': {'': '', '쏠쏠정보': '0', '흥미진진': '0', '공감백배': '0', '분석탁월': '0', '후속강추': '0'}}, {'content': '비주류 반대 확산… 인선 난항 친한계 조경태 “尹과 당 분리해야” 김상욱 “버티면 된다는 사람 안돼” 유승민 “탄핵 반대파 앉히면 골로 가” 권성동 “선수별 의견 모아 후보 추천” 일각 權 대행 겸직 ‘원톱 체제’ 거론 여러 대표 뽑아 집단지도체제 의견도 국민의힘이 탄핵 정국 위기를 수습할 비상대책위원장 인선을 두고 난항을 겪고 있다. 경험이 많은 당내 중량급 인사가 맡아야 한다는 의견이 모였지만, 중진 대다수가 친윤(친윤석열) 색채가 짙어 마땅한 인물을 찾기 어려운 탓이다. 권성동 당대표 권한대행 겸 원내대표의 비대위원장 겸직설이 제기되는 가운데 ‘친윤 비대위원장 절대 불가’를 외치는 당 비주류의 목소리가 높아지고 있다. 국민의힘 권성동 당대표 권한대행 겸 원내대표(앞줄 오른쪽 두 번째)와 의원들이 18일 서울 여의도 국회에서 열린 비상의원총회에서 국기에 대한 경례를 하고 있다. 이재문 기자 국민의힘은 18일 의원총회를 열고 비대위원장 인선을 논의했지만 결론을 내지 못하고 후보추천위원회를 구성하기로 했다. 권 대행은 의총 이후 기자들과 만나 “비대위 설치와 관련해 아직 의원들의 의견이 수렴되지 않았다”면서 “선수별로 초선, 재선, 3선 모임에서 의견을 수렴해 비대위원장으로 적합한 사람을 추천하도록 했다”고 말했다. 권 대행은 “선수별 의견을 모으는 데 시간이 걸릴 것 같다”면서 “의원들이 비대위원장에 누가 적합한지에 대해 말하길 꺼린다”고도 했다. 원내에서는 친한(친한동훈)계를 중심으로 ‘친윤 불가론’이 제기됐다. 6선 조경태 의원은 이날 의총에 앞서 열린 중진회의 이후 기자들과 만나 “이번 비대위는 우리 당이 계엄을 옹호하는 정당이라는 이미지를 씻고, 대통령과 우리 당을 분리하는 작업을 해야 한다”면서 “거기에 걸맞은 사람이 비대위를 꾸려야 한다”고 주장했다. 조 의원은 주호영 국회부의장과 함께 당내 최다선(6선)으로, 윤석열 대통령 탄핵 찬성 의사를 공개적으로 밝힌 바 있다. 역시 탄핵에 찬성한 초선 김상욱 의원은 YTN 라디오에서 비대위원장 인선과 관련해 “대통령과 가까웠던 사람, 대통령과 성향을 공유했던 사람, 이번 비상계엄에 책임이 있는 사람은 절대 리더가 돼서는 안 된다”고 강조했다. 그러면서 “박근혜 (전) 대통령 탄핵 이후 보수는 극렬 지지자를 중심으로 똘똘 뭉쳐서 버티면 다시 기회가 온다는 이상한 배움을 얻어버렸다. 반성·쇄신 없이 충성스럽게 뭉쳐 있으면 세월이 해결해 준다는 생각을 가진 사람은 비대위원장이 돼서는 안 된다”고 했다. 원외에서도 ‘친윤 비토’ 목소리가 분출했다. 유승민 전 의원은 “탄핵에 반대했던 중진들 중 비대위원장을 앉히면 당이 진짜 속된 말로 골로 가는 것”이라면서 “그럴 바에는 권 대행 그대로 가면 된다”고 비판했다. 또 그는 권 대행이 자신에게 비대위원장직을 제안할 경우에 대해서는 “가능성 제로인 얘기에 대해서는 논평하지 않겠다”고 선을 그었고, 가능성이 없는 이유를 두고도 “그분들이 아직 정신을 못 차리고 있다”고 설명했다. 국민의힘 김상욱 의원이 지난 13일 국회 본청 앞에서 동료의원들에게 탄핵 찬성에 나서줄 것을 호소하고 있다. 세계일보 자료 사진 앞서 국민의힘은 경험이 많은 당내 인사가 비대위원장을 맡아야 한다는 데 공감대를 이뤘다. 탄핵 정국에서 당을 이끌어야 할 뿐 아니라 윤 대통령의 탄핵 심판 결과에 따라 조기 대선을 준비해야 할 수도 있기 때문이다. 특히 윤 대통령, 한동훈 전 대표 등 외부 인사들이 당을 위기에 빠뜨렸다는 인식이 있는 만큼 ‘용병 불가론’에 힘이 실리는 분위기다. 김대식 원내수석대변인은 이날 의총 이후 “원내에서 (비대위원장을) 해야 한다는 것은 거의 의견이 모이는 것 같다”면서 “한 두 명이 거론됐는데 아직 협의가 안 됐다”고 했다. 후보군으로는 5선 권영세·나경원 의원이 가장 많이 오르내린다. 다만 권 의원은 윤석열정부에서 통일부 장관을 지내 친윤 이미지가 있고, 나 의원은 탄핵을 반대한 대표적 인물이라 당내 일각에 부정적 기류가 존재한다. 한 재선 의원은 “원내에 집착하는 것부터 잘못됐다”면서 “대선을 치를 수 있고, 이 상황을 헤쳐나갈 수 있는 분을 모셔와야 한다”고 말했다. 권영세 국민의힘 의원(왼쪽), 나경원 의원. 뉴스1 효율적인 혼란 수습을 위해 권 대행이 비대위원장을 맡는 ‘원톱 체제’도 거론된다. 김 수석대변인은 ‘원톱 체제 주장은 없어졌다고 봐야 하나’라는 질문에 “아니다. 그것도 살아 있다”고 답했다. 다만 당내에서는 현실적으로 비대위원장과 원내대표를 겸하기는 무리라는 의견도 적지 않다. 4선 김도읍 의원은 의총 도중 기자들과 만나 “쉽지 않은 상황인데 한 분이 이걸 감당을 못한다”고 말했다. 4선 안철수 의원은 “투톱 체제가 낫지 않겠느냐는 의견이 좀 더 많았다”고 전했다. 일각에서는 집단지도체제 필요성도 제기된다. 김도읍 의원은 “5∼6선 중 경험이 많고 친윤 색이 옅은 분이 비대위원장을 하고, 초선·재선·3선·4선 선수별로 대표 의원을 뽑아 비대위원을 하면 계파 논쟁도 불식되고 민주성도 확보될 것”이라면서 “집단지도체제와 유사한 방식으로 가면서 비대위가 책임질 수 있는 상황으로 가는 게 맞지 않냐는 식으로 중진들의 의견이 모였다”고 했다.'}, {'img': 'https://imgnews.pstatic.net/image/022/2024/12/18/20241218516546_20241218225709299.jpg?type=w860'}, {'review': {'': '', '쏠쏠정보': '0', '흥미진진': '0', '공감백배': '0', '분석탁월': '0', '후속강추': '0'}}, {'content': '‘12·3 비상계엄’ 때 국민의힘 의원들 단톡방 내화 내용 [사진 = TV조선 뉴스9 화면 갈무리] 윤석열 대통령이 비상계엄을 선포했던 지난 3일 밤 국민의힘 의원들이 단체 대화방에서 나눈 대화 내용이 공개됐다. 18일 TV조선은 지난 3일 오후 10시28분부터 다음날인 4일 오전 1시16분까지 국민의힘 의원 108명이 모여있는 사회관계망서비스(SNS) 대화방 내용 전문을 공개했다. 더불어민주당 의원들은 국회 본회의장으로 집결했지만, 국민의힘 의원들은 국회와 서울 여의도 중앙당사로 갈라졌다. 국회 본회의장에서 비상계엄 해제 표결에 참석한 국민의힘 의원은 총 18명이었다. 다음은 대화 전문이다. <22대 국회 국민의힘 의원 SNS단체방 대화> -12.3 비상계엄 직후부터 본회의 계엄 해제안 의결까지. (의원 호칭 생략.) 22:23~28 尹 대통령 비상계엄 선포 22:29 박수영 “비상계엄 선포” 22:31 조승환 “저도 특보봤습니다” 22:39 조승환 “내일 규탄대회 일정 재확인이 필요합니다” 22:45 김소희 “민주당은 바로 국회 소집한다는데. 우리는 어찌해야할까요?” 22:46 권영세 “그러게. 비상으로 국회해산이라도 하겠단건가?” 22:49 박수영 ‘헌법 77조’ 계엄 관련 조문 공유 “대통령의 비상계엄 선포는 잘못된 것입니다. 국민과 함께 막겠습니다. - 당대표 한동훈” (한동훈 대표 당 공지 공유) 22:55 주진우 “우리도 긴급의총 소집해야할 사안” 22:56 서지영 “지도부에서 빠른 입장을 정리해주시기 바랍니다” 조정훈 “동의합니다” 김소희 “긴급의총 해야합니다” 22:48 김상욱 “비상계엄을 저는 납득할 수 없습니다” 22:58 박정하 “대통령의 비상계엄 선포는 잘못된 것입니다. 국민과 함께 막겠습니다. - 당대표 한동훈” (한동훈 대표 당 공지 공유) 22:59 김용태 “국회 입구를 국회 경비단이 막아 출입이 봉쇄됐다고 합니다. 지도부에서 빠르게 판단을 해주셔야할 것 같습니다. 의원총회를 열어주십시오” 22:59 김상욱 “역사의 죄인이 되어서는 안됩니다” 23:00 김종양 “정말 아쉽습니다. 이렇게 있어도 되는 것입니까?” 23:01 송언석 “비상의총은 언제 어디서 하는건가요?” 신성범 “국회는 해산되는건가요?” 23:02 주진우 “현재 국회 통제중” 23:02 정연욱 “긴급 의총 열어야합니다” 23:02 김용태 (경찰이 통제중인 사진 공유) 23:02 김종양 “일단 저는 국회로 갑니다” 23:03 추경호 원내대표, 첫 비상의총 장소 문자 공지(국회) 23:03 당대표실, 최고위 장소 국회->당사로 변경 23:03 신성범 “저는 국회로 출발. 이럴 때 의원이 위치해야할 장소 대한민국 국회입니다” 23:04 서범수 “국회는 폐쇄되었다 합니다. 의원님들께서는 당사로 모이시죠” 23:04 한지아 “추경호 원내대표님 비상 계엄령 선포 관련하여 긴급의총을 소집 요청합니다” 23:04 김은혜 “의총 소집했습니다” 23:04 김용태 [비상의원총회 알림] 문자 공유. 잠시후 비상의총을 개최하오니 의원님들께서는 지금 즉시 국회로 모여주시기 바랍니다. - 원내대표 추경호 드림 23:04 한지아 “국회 통제되었습니다” 23:04 김용태 “국회가 봉쇄되어 들어갈 수가 없다고 합니다” 23:05 성일종 “국방위원 출장 중단하고 최대한 빨리 귀국하겠습니다” 23:07 배준영 “원내수석입니다. 모든 의원님들 당사로 모여주십시오” 23:08 김용태 “민주당 국회의원들은 국회 담넘어서 들어오라고 했다고 합니다. 국회 본회의장은 의장 지시로 경비국장이 열겠다고 합니다” 23:09 추경호 원내대표 문자공지 비상의총 장소 변경 (국회->당사) 23:24 주진우 (한동훈 대표 입장 공유) “즉시 계엄을 해제해야 합니다. 지금 민주당은 담을 넘어서라도 국회에 들어가는 상황입니다. 계엄해제 안에 반대하는 분 계시는지요? - 한동훈 당대표” 23;28 이양수 “일단 내일 유가증권 시장은 하루라도 휴장하는 게 좋을 것 같습니다” 23:08 박수영 (뉴스 속보 링크 공유) [속보]계엄사 “국회, 지방의회, 정당활동 금지” 23:29 김건 “국제위원장의 국제민주연맹 참석도 중단하고 최대한 빨리 귀국토록 하겠습니다” 23:30 박수영 ([계엄사령부에서 알려드립니다] 포고령 내용 공유) (탱크 사진 공유) 23:33 추경호 원내대표 문자공지 비상의총 장소 변경 (당사->국회 예결위장) 23:34 서범수 “국회로 오세요” 23:35 서명옥 “국회정문 앞? 당사?” 23:35 한지아 “당사에서 국회 정문으로 걸어갑니다. 신분증 지참해주세요” 23:36 송언석 앞선 배준영 공지에 답장형태로 “당사에서 모이는 것 맞지요?” 23:38 최형두 “지금 마산 숙모상 문상하고 KTX 상경중 12시 넘어 서울역 도착합니다. 업데이트 주시는 곳으로 즉시 달려가겠습니다” 23:40 조정훈 “국회 어디에서 모이나요?” 23:41 배준영 “다시 공지합니다. 본청 예결위 회의장에서 모입니다” 23:41 최형두 [비상의원총회 장소 변경 알림] 문자 공유 “잠시후 비상의원총회를 개최하오니 의원님들께서는 지금 즉시 국회 예결위장으로 모여주시기 바랍니다. - 추경호 원내대표 드림” 23:44 김미애 “도서관 뒤쪽으로 출입 가능하답니다” 23:44 배준영 “차량은 통제할 경우 도보로 이용합니다. 의원 신분증 제시하십시오” 23:44 박수영 (현장 사진올림) 23:47 서범수 “의총장소는 예결위회의장입니다. 오시는 의원님은 의총장으로 와주십시오” 23:47 송언석 “국회 출입이 안되는데..” 23:48 김은혜 “도서관 뒤는 되나요?” 23:49 추경호 원내대표 문자공지 비상의총 장소 (국회 예결위장) 23:49 한지아 “도서관쪽으로 신분증 갖고 오시면 됩니다” 23:49 우재준 “막히기 전에 빨리 와주셔야할 것 같습니다” 23:50 강대식 “도서관쪽도 안됩니다” 23:52 서지영 “출입가능한 문이 어디입니까?” 23:53 이양수 “(국회소집 문자 공유하며) 들어가지를 못하는데” 23:54 우재준 “담 넘어서라도 와주세요” 23:56 서지영 “출입증 찍는 곳이 가능한 모양입니다. 도서관앞 철문 출입증 찍는 쪽으로 저도 가고 있습니다 김삼보 맞은편” 23:57 조정훈 “지금 추대표님과 소통했는데 들어가지 못하는 의원님들이 있어서 당사로 모이라고 하시네요” 23:57 박수민 “도서관 쪽 막힌 거 같습니다” 23:57 김희정 “국회 차 들어오는 문 신분증 확인후 들어옴. 차는 못 들어오고 사람은 출입 가능” 23:58 우재준 “본회의장 휴게실로 와주세요” 23:58 한지아 “본회의장 휴게실로 와주세요” 00:00 조승환 “사람 출입도 안되어 당사로 갑니다” 00:01 김정재 “김정재 정점식 김미애 조정훈 박성훈 윤한홍의원 국회 못 들어가 당사에 왔습니다. 권성동 대표님도 당사에 계십니다” 00:03 추경호 원내대표 문자공지 비상의총 장소 재공지 (당사 3층) 00:03 우재준 “경찰이 적극적으로 막지 않습니다. 가능하신 분들은 담 넘어 와주세요” 00:04 박수민 “담 타고 진입 했습니다” 00:04 서명옥 “담벼락 곳곳에 경찰 배치되어 담도 못 넘어요” 00:04 조정훈 “본청에 몇분이나 계신지요?” 00:04 박형수 “메시지에 혼선이 있으면 안됩니다, 추대표님께서 직접 말씀해 주세요” 00:04 김소희 “맞아요. 경찰들 있어서 담도 못넘어가요ㅠ” 00:05, 00:07, 00:08 추경호 원내대표 문자공지 비상의총 장소 재공지 (당사 3층) 00:05 김정재 “박덕흠 이상휘 김도읍 나경원 정동만 박준태 당사로 왔습니다” 00:05 박대출 “추경호 원내대표가 정리해주세요” 00:05 한지아 “군인들이 총을 갖고 국회 진입했습니다. 국회로 와주세요 의원님” 00:05 서지영 “못들어갑니다” 00:05 한지아 “군인들 본청 들어오려고 합니다” 00:05 김희정 “집결장소 명확히 해주시길 바랍니다” 00:05 이인선 배준영 공지 언급하며 “뭔가 혼선이 있네요” 00:05 서지영 “충전소쪽도” 00:06 한지아 “집결장소는 국회 본회의장 휴게실입니다” 00:06 이인선 “비서실장이라도 메시지 주세요” 00:06 서명옥 “당사로 갑니다” 00:06 김소희 “처음에는 되다가 지금은 안되는 상황 같아요” 00:06 우재준 “대표님 지시 사항입니다. 본회의장 와주세요” 00:07 우재준 “방금 옆에서 보고 지시하셨습니다” 00:07 박정하 “국회 본회의장으로 무슨 수를 써서라도 와야합니다” 00:07 우재준 “최대한 각자 방법을 써서라도 와주세요” 00:07 조정훈 “지금 당사에 약 18분 넘게 있습니다” 00:09 박정훈 “본회의장으로 오셔야 합니다” 00:10 우재준 “당대표 한동훈입니다. 본회의장으로 모두 모이십시오. 당대표 지시입니다.” 00:10 송언석 “우여곡절 끝에 예결위회의장에 도착했습니다. 아무도 안 계시네요” 00:11 우재준 “본회의장입니다. 예결위 아니에요” 00:13 박덕흠 “중앙당사입니다” 00:14 박정훈 “대표님 본회의장에 들어와 계시고, 여기서 모여달라고 하십니다” 00:15 김소희 “거길 들어갈 수가 없어요. 처음과 달리 경찰도 깔려서 담도 못 넘어가요” 00:15 김장겸 “못 들어가고 민주당 지지자들에게 봉변당했어요” 00:15 송언석 “의총 장소가 어딥니까? 예결위회의장 아닌가요?” 00:15 이달희 “들어갈 수 없어 당사로 왔습니다” 00:16 박덕흠 “중앙당사입니다” 00:17 박수영 “공수부대 진입 중입니다” 00:19 조승환 “내부사진 올리지 않았으면 합니다” 00:26 한지아 “국회에는 군헬기가 뜨고 군인들이 총을 들고 국회에 진입했습니다. 정당활동은 중지를 지시했습니다. 의원님들 오늘은 우리가 똘똘 뭉쳐야할 때입니다. 원대실에 계시지 마시고 본회의장 휴게실로 모여주세요” 00:30 김정재 “국회 들어가는 것이 불가능해 중앙당사에 모여있습니다” “의원님들 50여명 계십니다” 00:41 최형두 “지금 마산에서 막 도착해서 국회앞입니다. 시민들이 국회 주변으로 많이 걸어다닙니다. 국회 담 안쪽에는 경찰이 배치되어 출입을 못하게 합니다” 00:41 조정훈 “당사로 오세요” 00:47 최형두 “지금 헬기 3대가 국회 운동장으로 내린듯합니다” “헬기는 다시 날아갔습니다” 00:47 본회의 개의 00:56 강민국 “지금 서강대교 위인데 차가 움직이지 못하네요. 차량통제 하는듯합니다” 1:00 국회 본회의 비상계엄 해제 요구 결의안 의결 1:01 최형두 “170명 들어옸습니까?” 1:11 최형두 “담 넘어 왔습니다” 1:15 조배숙 “이미 190명 찬성으로 해제 의결되었습니다” 1:16 최형두 “국회 들어왔습니다”'}, {'img': 'https://imgnews.pstatic.net/image/009/2024/12/18/0005416123_001_20241218224107801.jpg?type=w860'}, {'review': {'': '', '쏠쏠정보': '1', '흥미진진': '3', '공감백배': '2', '분석탁월': '1', '후속강추': '17'}}, {'content': '“한동훈 끝없는 당정갈등 보수진영 죽을 위기 몰아” “대표 사퇴, 국회의원 텔레그램방 캡처 언론플레이” 국민의힘 장예찬 전 청년 최고위원. 연합뉴스 국민의힘 한동훈 전 대표가 사퇴하자마자 국회의원 텔레그램 방 캡처를 언론에 보내는 등 언론플레이를 하고 있다는 주장이 나왔다. 국민의힘 소속 장예찬 전 최고위원은 18일 페이스북을 통해 “결과적으로 ‘이러다 다 죽는다’고 외쳤던 원희룡의 말이 맞았다”며 “한동훈의 끝없는 당정 갈등은 보수 진영을 죽을 위기로 몰아넣은 원인이 됐다”고 말했다. 장 전 최고위원은 이어 “그럼에도 한동훈은 당 대표 사퇴하자마자 국회의원 텔레그램 방 캡처를 언론에 보내고, 방송사에 단독을 주며 지저분한 언론플레이를 계속하고 있다”며 “한동훈과 동조해 탄핵에 찬성한 의원들을 굳이 색출하겠다는 것도 이해하기 힘든 논란”이라고 밝혔다. 장 전 최고위원은 또 “떳떳하게 내가 탄핵 찬성했다고 알아서 밝히고, 그 잘난 소신에 대해 국민과 당원들의 평가를 받는 게 당연한 일”이라며 “무기명 투표라고 해서 이 중대한 표결을 숨기고 침묵하는 것은 정치인으로 정도가 아니다”고 강조했다. 그러면서 “찬성이든 반대든 솔직하게 소신을 밝히고 책임지는 게 정치인의 책무”라며 “그렇게 잘나고 고상한 소신파들, 스스로 탄핵 찬성 입장을 밝히는 게 두렵나”라고 일갈했다. 장 전 최고위원은 계속해서 “이제 와서 당원들에게 욕먹을 게 두려워 침묵하는 모습이 가장 비겁한 행태”라며 “차라리 소신을 밝히고 욕이든 칭찬이든 달게 받겠다는 의원들이 100배 낫다”고 말했다. 장 전 최고위원은 끝으로 “침묵하는 당신들은 위선의 가발을 썼다는 점에서 양심의 대머리”라고 덧붙였다.'}, {'img': 'https://imgnews.pstatic.net/image/666/2024/12/18/0000059960_001_20241218221407686.jpg?type=w860'}, {'review': {'': '', '쏠쏠정보': '2', '흥미진진': '0', '공감백배': '5', '분석탁월': '0', '후속강추': '0'}}, {'content': 'SNS 대화방 내용 전문 공개 TV조선 뉴스9 화면 캡처 윤석열 대통령이 비상계엄을 선포했던 지난 3일 밤 국민의힘 의원들은 단체 대화방에서 어떤 대화를 나눴을까. 18일 TV조선은 지난 3일 오후 10시28분부터 다음날인 19일 오전 1시16분까지 국민의힘 의원 108명이 모여있는 사회관계망서비스(SNS) 대화방 내용 전문을 공개했다. 더불어민주당 의원들은 국회 본회의장으로 집결했지만, 국민의힘 의원들은 국회와 서울 여의도 중앙당사로 갈라졌다. 국회 본회의장에서 비상계엄 해제 표결에 참석한 국민의힘 의원은 총 18명이었다. 다음은 대화 전문. ======================================================== <22대 국회 국민의힘 의원 SNS단체방 대화> -12.3 비상계엄 직후부터 본회의 계엄 해제안 의결까지. (편의상 의원 호칭은 생략했습니다.) 22:23~28 尹 대통령 비상계엄 선포 22:29 박수영 “비상계엄 선포” 22:31 조승환 “저도 특보봤습니다” 22:39 조승환 “내일 규탄대회 일정 재확인이 필요합니다” 22:45 김소희 “민주당은 바로 국회 소집한다는데. 우리는 어찌해야할까요?” 22:46 권영세 “그러게. 비상으로 국회해산이라도 하겠단건가?” 22:49 박수영 ‘헌법 77조’ 계엄 관련 조문 공유 “대통령의 비상계엄 선포는 잘못된 것입니다. 국민과 함께 막겠습니다. - 당대표 한동훈” (한동훈 대표 당 공지 공유) 22:55 주진우 “우리도 긴급의총 소집해야할 사안” 22:56 서지영 “지도부에서 빠른 입장을 정리해주시기 바랍니다” 조정훈 “동의합니다” 김소희 “긴급의총 해야합니다” 22:48 김상욱 “비상계엄을 저는 납득할 수 없습니다” 22:58 박정하 “대통령의 비상계엄 선포는 잘못된 것입니다. 국민과 함께 막겠습니다. - 당대표 한동훈” (한동훈 대표 당 공지 공유) 22:59 김용태 “국회 입구를 국회 경비단이 막아 출입이 봉쇄됐다고 합니다. 지도부에서 빠르게 판단을 해주셔야할 것 같습니다. 의원총회를 열어주십시오” 22:59 김상욱 “역사의 죄인이 되어서는 안됩니다” 23:00 김종양 “정말 아쉽습니다. 이렇게 있어도 되는 것입니까?” 23:01 송언석 “비상의총은 언제 어디서 하는건가요?” 신성범 “국회는 해산되는건가요?” 23:02 주진우 “현재 국회 통제중” 23:02 정연욱 “긴급 의총 열어야합니다” 23:02 김용태 (경찰이 통제중인 사진 공유) 23:02 김종양 “일단 저는 국회로 갑니다” 23:03 추경호 원내대표, 첫 비상의총 장소 문자 공지(국회) 23:03 당대표실, 최고위 장소 국회->당사로 변경 23:03 신성범 “저는 국회로 출발. 이럴 때 의원이 위치해야할 장소 대한민국 국회입니다” 23:04 서범수 “국회는 폐쇄되었다 합니다. 의원님들께서는 당사로 모이시죠” 23:04 한지아 “추경호 원내대표님 비상 계엄령 선포 관련하여 긴급의총을 소집 요청합니다” 23:04 김은혜 “의총 소집했습니다” 23:04 김용태 [비상의원총회 알림] 문자 공유. 잠시후 비상의총을 개최하오니 의원님들께서는 지금 즉시 국회로 모여주시기 바랍니다. - 원내대표 추경호 드림 23:04 한지아 “국회 통제되었습니다” 23:04 김용태 “국회가 봉쇄되어 들어갈 수가 없다고 합니다” 23:05 성일종 “국방위원 출장 중단하고 최대한 빨리 귀국하겠습니다” 23:07 배준영 “원내수석입니다. 모든 의원님들 당사로 모여주십시오” 23:08 김용태 “민주당 국회의원들은 국회 담넘어서 들어오라고 했다고 합니다. 국회 본회의장은 의장 지시로 경비국장이 열겠다고 합니다” 23:09 추경호 원내대표 문자공지 비상의총 장소 변경 (국회->당사) 23:24 주진우 (한동훈 대표 입장 공유) “즉시 계엄을 해제해야 합니다. 지금 민주당은 담을 넘어서라도 국회에 들어가는 상황입니다. 계엄해제 안에 반대하는 분 계시는지요? - 한동훈 당대표” 23;28 이양수 “일단 내일 유가증권 시장은 하루라도 휴장하는 게 좋을 것 같습니다” 23:08 박수영 (뉴스 속보 링크 공유) [속보]계엄사 “국회, 지방의회, 정당활동 금지” 23:29 김건 “국제위원장의 국제민주연맹 참석도 중단하고 최대한 빨리 귀국토록 하겠습니다” 23:30 박수영 ([계엄사령부에서 알려드립니다] 포고령 내용 공유) (탱크 사진 공유) 23:33 추경호 원내대표 문자공지 비상의총 장소 변경 (당사->국회 예결위장) 23:34 서범수 “국회로 오세요” 23:35 서명옥 “국회정문 앞? 당사?” 23:35 한지아 “당사에서 국회 정문으로 걸어갑니다. 신분증 지참해주세요” 23:36 송언석 앞선 배준영 공지에 답장형태로 “당사에서 모이는 것 맞지요?” 23:38 최형두 “지금 마산 숙모상 문상하고 KTX 상경중 12시 넘어 서울역 도착합니다. 업데이트 주시는 곳으로 즉시 달려가겠습니다” 23:40 조정훈 “국회 어디에서 모이나요?” 23:41 배준영 “다시 공지합니다. 본청 예결위 회의장에서 모입니다” 23:41 최형두 [비상의원총회 장소 변경 알림] 문자 공유 “잠시후 비상의원총회를 개최하오니 의원님들께서는 지금 즉시 국회 예결위장으로 모여주시기 바랍니다. - 추경호 원내대표 드림” 23:44 김미애 “도서관 뒤쪽으로 출입 가능하답니다” 23:44 배준영 “차량은 통제할 경우 도보로 이용합니다. 의원 신분증 제시하십시오” 23:44 박수영 (현장 사진올림) 23:47 서범수 “의총장소는 예결위회의장입니다. 오시는 의원님은 의총장으로 와주십시오” 23:47 송언석 “국회 출입이 안되는데..” 23:48 김은혜 “도서관 뒤는 되나요?” 23:49 추경호 원내대표 문자공지 비상의총 장소 (국회 예결위장) 23:49 한지아 “도서관쪽으로 신분증 갖고 오시면 됩니다” 23:49 우재준 “막히기 전에 빨리 와주셔야할 것 같습니다” 23:50 강대식 “도서관쪽도 안됩니다” 23:52 서지영 “출입가능한 문이 어디입니까?” 23:53 이양수 “(국회소집 문자 공유하며) 들어가지를 못하는데” 23:54 우재준 “담 넘어서라도 와주세요” 23:56 서지영 “출입증 찍는 곳이 가능한 모양입니다. 도서관앞 철문 출입증 찍는 쪽으로 저도 가고 있습니다 김삼보 맞은편” 23:57 조정훈 “지금 추대표님과 소통했는데 들어가지 못하는 의원님들이 있어서 당사로 모이라고 하시네요” 23:57 박수민 “도서관 쪽 막힌 거 같습니다” 23:57 김희정 “국회 차 들어오는 문 신분증 확인후 들어옴. 차는 못 들어오고 사람은 출입 가능” 23:58 우재준 “본회의장 휴게실로 와주세요” 23:58 한지아 “본회의장 휴게실로 와주세요” 00:00 조승환 “사람 출입도 안되어 당사로 갑니다” 00:01 김정재 “김정재 정점식 김미애 조정훈 박성훈 윤한홍의원 국회 못 들어가 당사에 왔습니다. 권성동 대표님도 당사에 계십니다” 00:03 추경호 원내대표 문자공지 비상의총 장소 재공지 (당사 3층) 00:03 우재준 “경찰이 적극적으로 막지 않습니다. 가능하신 분들은 담 넘어 와주세요” 00:04 박수민 “담 타고 진입 했습니다” 00:04 서명옥 “담벼락 곳곳에 경찰 배치되어 담도 못 넘어요” 00:04 조정훈 “본청에 몇분이나 계신지요?” 00:04 박형수 “메시지에 혼선이 있으면 안됩니다, 추대표님께서 직접 말씀해 주세요” 00:04 김소희 “맞아요. 경찰들 있어서 담도 못넘어가요ㅠ” 00:05, 00:07, 00:08 추경호 원내대표 문자공지 비상의총 장소 재공지 (당사 3층) 00:05 김정재 “박덕흠 이상휘 김도읍 나경원 정동만 박준태 당사로 왔습니다” 00:05 박대출 “추경호 원내대표가 정리해주세요” 00:05 한지아 “군인들이 총을 갖고 국회 진입했습니다. 국회로 와주세요 의원님” 00:05 서지영 “못들어갑니다” 00:05 한지아 “군인들 본청 들어오려고 합니다” 00:05 김희정 “집결장소 명확히 해주시길 바랍니다” 00:05 이인선 배준영 공지 언급하며 “뭔가 혼선이 있네요” 00:05 서지영 “충전소쪽도” 00:06 한지아 “집결장소는 국회 본회의장 휴게실입니다” 00:06 이인선 “비서실장이라도 메시지 주세요” 00:06 서명옥 “당사로 갑니다” 00:06 김소희 “처음에는 되다가 지금은 안되는 상황 같아요” 00:06 우재준 “대표님 지시 사항입니다. 본회의장 와주세요” 00:07 우재준 “방금 옆에서 보고 지시하셨습니다” 00:07 박정하 “국회 본회의장으로 무슨 수를 써서라도 와야합니다” 00:07 우재준 “최대한 각자 방법을 써서라도 와주세요” 00:07 조정훈 “지금 당사에 약 18분 넘게 있습니다” 00:09 박정훈 “본회의장으로 오셔야 합니다” 00:10 우재준 “당대표 한동훈입니다. 본회의장으로 모두 모이십시오. 당대표 지시입니다.” 00:10 송언석 “우여곡절 끝에 예결위회의장에 도착했습니다. 아무도 안 계시네요” 00:11 우재준 “본회의장입니다. 예결위 아니에요” 00:13 박덕흠 “중앙당사입니다” 00:14 박정훈 “대표님 본회의장에 들어와 계시고, 여기서 모여달라고 하십니다” 00:15 김소희 “거길 들어갈 수가 없어요. 처음과 달리 경찰도 깔려서 담도 못 넘어가요” 00:15 김장겸 “못 들어가고 민주당 지지자들에게 봉변당했어요” 00:15 송언석 “의총 장소가 어딥니까? 예결위회의장 아닌가요?” 00:15 이달희 “들어갈 수 없어 당사로 왔습니다” 00:16 박덕흠 “중앙당사입니다” 00:17 박수영 “공수부대 진입 중입니다” 00:19 조승환 “내부사진 올리지 않았으면 합니다” 00:26 한지아 “국회에는 군헬기가 뜨고 군인들이 총을 들고 국회에 진입했습니다. 정당활동은 중지를 지시했습니다. 의원님들 오늘은 우리가 똘똘 뭉쳐야할 때입니다. 원대실에 계시지 마시고 본회의장 휴게실로 모여주세요” 00:30 김정재 “국회 들어가는 것이 불가능해 중앙당사에 모여있습니다” “의원님들 50여명 계십니다” 00:41 최형두 “지금 마산에서 막 도착해서 국회앞입니다. 시민들이 국회 주변으로 많이 걸어다닙니다. 국회 담 안쪽에는 경찰이 배치되어 출입을 못하게 합니다” 00:41 조정훈 “당사로 오세요” 00:47 최형두 “지금 헬기 3대가 국회 운동장으로 내린듯합니다” “헬기는 다시 날아갔습니다” 00:47 본회의 개의 00:56 강민국 “지금 서강대교 위인데 차가 움직이지 못하네요. 차량통제 하는듯합니다” 1:00 국회 본회의 비상계엄 해제 요구 결의안 의결 1:01 최형두 “170명 들어옸습니까?” 1:11 최형두 “담 넘어 왔습니다” 1:15 조배숙 “이미 190명 찬성으로 해제 의결되었습니다” 1:16 최형두 “국회 들어왔습니다”'}, {'img': 'https://imgnews.pstatic.net/image/032/2024/12/18/0003340267_001_20241218221814694.png?type=w860'}, {'review': {'': '', '쏠쏠정보': '7', '흥미진진': '0', '공감백배': '10', '분석탁월': '0', '후속강추': '43'}}, {'content': '국민의힘 권성동 당대표 권한대행 겸 원내대표가 18일 특정 언론사의 질문을 받지 않아 논란이 일 것으로 보인다. 권성동 국민의힘 당 대표 권한대행 겸 원내대표가18일 오후 서울 여의도 국회에서 열린 의원총회에서 발언하고 있다.    뉴시스 권 권한대행은 이날 의원총회 이후 기자들과 만나 비상대책위원장 후보추천위원회 구성과 ‘12·3 비상계엄 사태’ 당일 당 소속 의원들의 텔레그램 대화방 캡처 사진을 보도한 언론사를 언론중재위원회에 제소하겠다는 내용을 브리핑했다. 브리핑에 앞서 서지영 원내대변인은 기자들에게 “소속사 좀 말씀하시고 질문해달라”고 말했고, 짧은 브리핑을 마친 권 권한대행은 “질문 한 3개만 받겠다”라고 했다. 이에 MBC 기자가 자신의 소속과 이름을 밝히고 “원내에서..”로 시작하는 질문을 하려고 하자 권 권한대행은 이를 가로막고 “다시, 저기 다른 언론사 하세요”라며 고개를 돌렸다. 권 권한대행은 이어 다른 기자들의 질문 3개를 받은 뒤 이어지는 질문에는 답하지 않고 자리를 떴다. 그 후 김대식 원내수석대변인이 기자들과 질의응답을 이어가는 과정에서 한 기자가 “아까 MBC에서 질문했는데 (권성동) 원내대표가 질문을 받지 않고 그냥 갔는데 이유가 있나”라고 묻자 김 수석대변인은 “누가 MBC였나? 특별한 이유는 없다”고 답했다. “특별한 이유가 없는데 왜 질문을 안 받는 거냐”는 질문이 이어지자 김 수석대변인은 웃으며 “이쪽에서 손 들고 이쪽에서 손 드니까 이렇게 간 것 같다”고 했고, 이에 MBC 기자는 “제가 먼저 손을 들었는데 넘겼다”고 말했다. 김 수석대변인은 “그건 뭐 특별한 이유는 없는 걸로. 제가 한 번 파악해보겠다. 그런 점이 있다면 이해를 하시기 바란다”고 답했다. 권 권한대행은 2022년 당대표 직무대행 겸 원내대표 시절에도 기자들과의 질의응답에서 비슷한 논란을 빚은 적이 있다. 당시 KBS 기자가 국회 과학기술정보방송통신위원회 관련 질문을 하려고 하자 권 직무대행은 “누구시죠? 어디죠?”라고 물었다. 이에 기자가 “KBS 기자다. 그런 부분(방송 장악) 때문에 과방위를 가지려고 하는 게 아니냐는 민주당의 비판이 나왔다”고 하자 권 직무대행은 “KBS에 대해서 얘기했는데 KBS 기자가 묻는 것은 적절치가 않은 것 같다. 나중에 따로 얘기하자”고 답했다. 그는 또 다른 질의응답에서도 “됐다. (KBS·MBC) 두 분은 이제 질문 그만하시고 다른 분 질문 받겠다”고 말했다. 또 권 직무대행은 국회 안에서 이동하던 중 질문을 한 기자에게 소속사를 묻고, 해당 기자가 한겨레라고 답하자 “한겨레는 항상 제목도 이상하게 뽑대”라고 하거나 MBC 기자에게 “MBC지? 민주노총 소속이지?”라고 말하면서 특정 언론에 대한 적대감을 여과없이 드러냈다는 비판을 받았다.'}, {'img': 'https://imgnews.pstatic.net/image/022/2024/12/18/20241218518610_20241218215514113.jpg?type=w860'}, {'review': {'': '', '쏠쏠정보': '0', '흥미진진': '0', '공감백배': '16', '분석탁월': '0', '후속강추': '8'}}, {'content': \"정세균 “한덕수, 거부권 제한적이어야... 김건희 특검 거부해선 안 돼” - 비상계엄 사태, 한국 정치 구조의 심각한 결함이 초래해 - 시민들의 용기와 열정이 계엄 해제와 탄핵까지 이끌어 - 헌법재판소, 추가 3인 임명 여부보다 완결 체제로 가는 것이 중요해 - 제왕적 대통령제 수명 다해... 차제에 의회 책임제 개헌해야 - 다음 세대 생각하는 민주주의자가 대한민국의 미래를 이끌어야 ======================================================= 인터뷰 자료의 저작권은 KBS라디오에 있습니다. 전문 게재나 인터뷰 인용 보도 시, 아래와 같이 채널명과 정확한 프로그램명을 밝혀주시기 바랍니다. ======================================================= 배종찬 : 국회의장과 국무총리를 역임하신 정세균 전 국무총리 모셨습니다. 어서 오십시오. 정세균 : 네 반갑습니다. 배종찬 : 오랜만으로 오랜만에 방송으로 만나 뵙는데요. 어떻게 지내셨는지 청취자분들께 먼저 인사를 해 주신다면요? 정세균 : 네. 시민 여러분 오랜만에 이렇게 뵙습니다. 저는 시민의 한 사람으로 잘 지내고 있었는데 특별한 정치 격변 사태로 인해서 시민 여러분들이 걱정하시는 것처럼 저도 나라 걱정 많이 하고 있습니다. 배종찬 : 먼저 첫 질문으로 안 여쭤볼 수 없는 것이 지난 11월 3일 이 비상계엄 선포 뉴스를 어디서 접하셨는지 또 어떤 생각이 드셨는지요? 정세균 : 집에서 TV를 보고 있다가 이제 그 소식을 접했는데 저는 그냥 지금 이제 국정이 잘 안 돌아가니까 대통령이 국민 여러분께 호소하는 담화 정도로 생각을 했는데 나중에 이게 비상계엄이라고 하니까 저는 이게 꿈인가 현실인가 사실 믿어지지가 않았어요. 꿈인가 사실인가. 배종찬 : 바로 지난 12월 3일 불과 며칠 되지 않았습니다. 이런 사태가 전 총리께서는 어떻게 무슨 이유 때문에 발생했다고 보시는지요? 정세균 : 전 이해가 안 되죠. 사람들이 아마 다 그럴 거예요. 어떻게 이런 일이 그런데 저는 그 사람의 문제라고 생각해요. 윤석열 대통령이라는 분이 이런 일을 벌였다 이렇게밖에 볼 수 없는데 그것은 이제 좀 더 들여다보면 우리들의 정치 구조 그게 뭔가 심각한 결함이 있기 때문에 이런 상황이 온 거 아닌가 그렇게 보죠. 그래서 이번 사태가 진정이 되고 나면 우리 정치 구조가 무엇이 문제이고 이걸 어떻게 해야 될지 좀 더 진지하게 논의하고 고민해야 될 거라고 생각합니다. 배종찬 : 대통령제 권력 구조까지도 말씀하시는 거죠? 정세균 : 그렇습니다. 배종찬 : 돌이켜 보면 8년 전입니다. 2016년 12월 박근혜 당시 대통령에 대한 탄핵소추안 가결을 선포할 때 그 국회에 국회의장이 정세균 전 총리이셨어요. 이번에 탄핵 소추안 국회에서의 가결 상황을 보면서는 어떤 생각이 드셨는지요? 정세균 : 저는 뭐 시간 문제지 결국은 이제 탄핵은 가결될 거다 이렇게 봤죠. 그래서 이게 오래 가면 국정에 대단한 부담이 되고 우리 국민 경제에 매우 큰 어려움을 줄 것이기 때문에 이게 좀 빨리 끝나야 되겠다 그런 생각을 했죠. 이제 그런데 뭐 사실은 아마 다른 나라 국민들께서는 참 한국이 참 신속하다고 이렇게 경탄하는 것 같아요. 저도 처음 이 첫 번째 표결에서 부결됐을 때는 굉장히 안타까웠지만 사실은 그게 이제 여당이 참여를 하지 않아서 표결 자체가 성립되지 않았지 않습니까? 그런데 이제 두 번째는 그래도 다행히 가결이 되었는데 사실은 아슬아슬했어요. 저는 이제 제가 생각했던 것보다 훨씬 찬성표가 많을 것으로 생각하셨는데 사안의 심각성이 제가 박근혜 대통령 탄핵 시에 의결할 때에 비해서 이번 상황이 훨씬 더 심각하다고 보고 더 많은 국민들께서 이건 절대 좌시할 수 없다고 판단하고 계심에도 불구하고 표가 굉장히 덜 나왔죠. 배종찬 : 시간을 되돌이켜 봅니다. 8년 전에 당시에 이제 정세균 국회의장 시절에 탄핵소추안이 가결됐을 때는 찬성표가 그때는 몇 표가 나왔었습니까? 정세균 : 그때는 234표가 나왔죠. 그때 배종찬 : 상황과 지금 상황 그때 상황을 좀 다시 한 번 돌이켜 보신다면 어떤 차이가 있다고 보시는지요? 정세균 : 이제 우선 대통령을 그 직에서 격리시킨다고 하는 점은 똑같습니다마는 그 당시에는 박근혜 대통령의 국정농단 또 통치 불능 이런 게 이제 문제가 됐는데 지금은 완전히 헌법과 법률을 위반한 이제 범죄를 저지른 그런 최고 통치권자로 이렇게 국민들께서 많이 생각하고 계시기 때문에 그 정도가 다르다고 생각합니다. 배종찬 : 정도의 차이가 있다라는 말씀을 주셨는데 방금 전에 이제 정전 총리께서 그 말씀 주셨습니다. 참 우리 시민들의 의식이 참 높다 그게 외신들에서도 평가를 하더라라는 말씀을 주셨는데 이번에 참 질서정연하게 집회와 시위를 하고 또 탄핵소추안 가결에 이르기까지 시민들의 역할이 컸다라는 평가가 나오는데 이 부분은 어떻게 보시는지요? 정세균 : 네 뭐 우리 시민들의 열정과 용기 그것이 빠른 시간 내에 계엄을 해제하고 또 탄핵까지 이끌어냈다 이렇게 생각을 합니다. 그리고 그 당시에 국회의원들 또 국회의장의 노력도 돋보였다. 리더십이 빛났다 이렇게 생각한 조사에서 상당히 신뢰도가 높은 걸로 나와서 우원식 의장이 주목받기도 했습니다. 제가 보기에도 상황을 참으로 잘 정리했고 용기 있게 감당했다. 저는 이렇게 평가를 합니다. 배종찬 : 또 하나 궁금해서 여쭤보면 8년 전에는 대체로 이제 장외 집회에 나오는 시민들의 숫자가 서울시에서 통계 발표를 했는데 총리께 좀 여쭤보면요. 40대 남성이 많은데 이번에는 20대 여성이 그렇게 많았다고 합니다. 그런 좀 특징적인 모습의 어떤 배경 어떻게 이해를 하시는지요? 정세균 : 그 당시에도 이제 40, 50대 남성들이 원래 전통적으로 정치 고관여층이 이제 4050대 남성들 아닙니까? 그런데 이번에는 MZ세대 그중에서도 여성들의 참여가 굉장히 야광봉을 들고 그리고 세상 사람들을 놀라게 했지 않습니까? 대한민국의 시 문화가 완전히 바뀌었어요. 그때하고 지금하고 그때도 아주 질서정연하게 시위를 하는 한국 국민에 대해서 세계인들이 아주 경의적인 눈으로 보았고 찬사를 보냈었거든요. 그런데 이번에는 또 다른 모습을 보여줌으로 해서 세계인들을 놀라게 했죠. 저는 그 젊은 세대가 정치에 관심을 갖고 자신들의 미래에 대해서 무언가 나름대로 노력하려고 하는 모습이 참으로 꼭 필요한 그런 모습이다 이렇게 생각합니다. 배종찬 : 참 인상적이었던 집회 또 장애 현장의 모습도 기억이 나고요. 이번에 많은 분들이 좀 의아하게 생각했던 것은 윤석열 대통령이 비상계엄을 선포하기 전에 국무회의를 열었는데 그때 왜 국무총리를 비롯해서 국무위원들이 결사적으로 막지 못했을까 이 점은 총리를 역임하셨으니까 어떻게 보시는지요? 정세균 : 그때 국무회의가 정상적으로 임시 국무회의를 정상적으로 회의장에서 연 것이 아니고 아마 그냥 마지 못해서 간담회 비슷하게 열린 그런 아쉬움이 있었던 것 같아요. 이제 국정은 그렇게 하면 안 되는 거거든요. 당연히 임시 국무회의를 정상적으로 열었어야 되는 것이죠. 그럼에도 불구하고 수단과 방법을 가리지 않고 막았어야 되는데 그걸 막지 못한 것에 대해서는 매우 아쉽게 생각합니다. 그리고 그것 때문에 앞으로도 아마 책임 추궁을 당할 가능성도 있다고 생각해요. 그런 점은 참 아쉬운 대목이죠. 배종찬 : 추가적으로 좀 여쭤보면 사실은 대통령의 권한이 워낙 막강하다 보니까 국무총리 인들 또 국무위원 인들 누가 막을 수 있었겠느냐 이런 이야기를 합니다만 정 전 총리 보시기에는 그럴 때는 어떻게 국무위원이라면 행동을 어떻게 하는 것이 가장 좋은 효과적인 방법일까요? 정세균 : 저는 이런 불법적이고 반헌법적인 계엄 사태에 대해서는 수단과 방법을 가리지 않고 막았어야 한다고 생각해요. 설령 그게 불발하고 무위에 그쳤다 하더라도 그냥 이렇게 딸려가는 것은 옳지 않다고 생각합니다. 옛날에 이제 조선시대나 과거에 그 당시 왕이 옳지 않은 처신을 할 때 신하들이 이건 아닙니다라고 진언하던 그런 수준에 그때는 사실은 지금은 목을 내놓고 하는 건 아니잖아요. 그냥 그 자리만 그만두면 되는 거 아니에요? 그 당시에는 목숨을 걸고 그렇게 했지 않습니까? 아무리 시대가 바뀌었다 하더라도 그냥 대충 넘어가는 것은 적절치 않았다고 저는 봅니다. 배종찬 : 정세균 총리께서는 또 장관직 경험도 있으시기 때문에 아마 상세하게 말씀을 해 주셨는데요. 윤석열 대통령은 담화문을 통해서 이렇게 설명을 합니다. “거대 야당이 국정을 마비시키기 위해 수십 명의 정부 공직자 탄핵을 추진했고 위헌적 특검 법안도 27번이나 발의했다. 민주주의 핵심인 선거를 관리하는 전산 시스템도 엉터리 헌법의 틀 내에서 대통령의 권한을 행사했다. 그래서 야당의 폭거라고 이제 대통령은 강조했고 그것을 막기 위한 비상계엄이고 이것은 고도의 통치 행위다.” 이렇게 주장하는 부분에 대해서는 어떻게 보시는지요? 정세균 : 예 뭐 저는 전혀 공감하지 않습니다. 현상을 상황을 보는 대통령의 시각도 전혀 공감하지 않고요. 원래 여야 간의 갈등이나 대립은 민주주의 국가에서는 어디에서나 정치 지도자가 마주하게 되는 그런 것이거든요. 그것을 이제 자기 편의적으로 그렇게 국민들께 말씀하시는 것은 그건 옳지 않다 전혀 공감하지 않는다 이렇게 말씀드리겠고요. 저는 그것은 그냥 특수부 검사의 문화 더도 덜도 아니다 그런 수준에 불과하다 이렇게 생각을 합니다. 배종찬 : 네 참 지난 2년간, 2년 이상이죠. 윤석열 대통령 임기 들어서 협치 이야기했습니다만 거의 그런 장면들은 볼 수가 없었고 여야 진영 간 대립이 참 심각했습니다. 이 부분은 어떻게 보시는지 좀 치유하거나 극복하거나 그럴 수는 없었을까요? 정세균 : 저는 대통령이 민주주의자로 보기 어렵다 이렇게 말씀드리고 싶어요. 이제 민주주의를 민주 정치를 체득하고 또 훈련 받은 사람이라면 그런 접근을 할 수 없다. 그래서 이렇게 제대로 되지 않은 그런 사람이 공직, 특히 대통령직을 맡으면 정말 국민에게 굉장히 큰 어려움을 줄 것이다. 그 점을 아마 국민들께서 이번에 느끼셨을 거라고 생각합니다. 배종찬 : 윤석열 대통령의 비상계엄 선포에 대해서는 많은 비판이 쏟아지고 있습니다. 또 대통령이 좀 더 소통을 잘했더라면 라고 지적하는 목소리도 많습니다. 하지만 또 좀 야당이 이재명 대표가 좀 더 협력이라면 협력적이었더라면 어땠을까라는 이야기가 나오는데 누군가 중재를 너무 진영 대립이 심각하다 보니까 누군가 중재를 할 수는 없었을까요? 정세균 : 과도하게 진영 대립을 하고 여야가 대립을 하고 특히 대통령 권력과 의회 권력이 충돌한 것은 바람직하지 않은 것이었다고 생각합니다. 그것은 이제 언론이나 시민사회에서는 이제 그런 것을 완화하기 위해서 좀 도움을 주고 거들고는 할 수 있지만 중심적인 역할을 하기는 어렵죠. 사실은 그런 문제는 정치권 내에서 스스로 해결해야 될 문제인데 그런 것을 해결하지 못하고 계속 갈등하고 분열하고 또 충돌함으로 해서 국민에게 불안과 걱정을 끼쳐준 정치권이 대오 각성해야 된다고 저는 생각을 합니다. 배종찬 : 정말 반성을 할 필요가 있다라는 말씀을 또 강조를 해 주셨습니다. 헌법재판소에 시간이 되고 있는 상황인데요, 한덕수 국무총리가 대통령 권한대행을 맡고 있습니다. 대통령 권한대행 시스템 이번이 세 번째입니다. 고건 권한대행이 있었고요. 황교안 권한대행이 있었고. 권한대행 시간 동안 그것이 2개월이 될지 또는 3개월이 될지 또 더 긴 시간이 될 수 있습니다. 분명히 대선 기간까지 만약에 대통령 선거가 일찍 치러지게 된다면 더 길어질 테니까요. 이런 권한대행 체제 우려되는 부분은 없을까요? 정세균 : 권한대행 체제라고 하면 이제 외교 안보라든지 특히 외교에 있어서 굉장한 우려가 되죠. 정상외교가 불가능하니까요. 특히 미국이 지금 정권 교체기에 있지 않습니까? 그리고 우리 대한민국을 둘러싼 여러 가지 외교적인 과제들이 굉장히 많은데 정상 외교가 불가능하지 않습니까? 그렇기 때문에 권한대행 체제가 장기화되는 것은 바람직하다고 보기 어렵겠죠. 그렇지만 이제 그것은 법과 제도 헌법에 의해서 제대로 절차를 거치면서 순리대로 가야 될 문제이기 때문에 어쩔 수 없이 감당해야 될 거다 이런 사태가 난 것 자체가 국가적인 큰 손실을 초래한 그런 것이죠. 그래서 이제 그 권한대행은 그런 국가적인 손실 또 국민적인 어려움을 최소화하는 노력을 적극적으로 펼치면서 자신의 역할을 제대로 잘 해줘야 될 것이라고 판단합니다. 배종찬 : 총리님 그 권한에 있어서 지금 정치권에서 또 논의가 되고 있는 부분은 바로 권한대행의 권한이 어디까지인가라는 부분입니다. 구체적으로 좀 여쭤보겠습니다. 헌법재판관을 임명할 수 있느냐 여부, 또 국회에서 통과된 법안 자체에 대해서 거부권을 행사할 수 있는지 여부 이 부분은 어떻게 보시는지요? 정세균 : 지금 이제 그 문제를 가지고 여야가 입장을 달리하고 있다고 생각하는데요. 우리 대한민국의 제일 중요한 것은 국가적인 이익입니다. 그리고 또 국정도 경중 완급이 있습니다. 따라서 헌법재판소에서 탄핵을 제대로 심리하고 판단해야 될 거 아니겠습니까? 그렇다고 그러면 헌법재판소를 정상화하는 것 다시 말해서 현재 6인 체제를 완결 체제인 9인 체제로 하는 것과 또 그 추가적인 3인을 권한대행이 임명할 수 있느냐 없느냐를 따지는 것 어떤 것이 더 중요하냐 저는 완결 체제로 가는 게 너무 중요하다고 생각해요. 그리고 탄핵에 대해서 심의 의결을 할 텐데 완결된 9인 체제가 하는 게 더 바람직한지 6인 체제가 바람직한지 국민에게 물어보면 답은 뻔하기 때문에 답은 나와 있다 그렇게 생각하고요. 권한대행이 왜 있습니까? 국정을 운영하라고 있는 것 아닙니까? 그렇지만 원래의 대통령보다는 좀 그 권한을 행사함에 있어서 세심한 주의를 기울일 필요가 있겠죠. 그래서 저는 이 권한대행이 거부권을 행사함에 있어서는 아주 제한적으로 행사하는 게 좋겠다 그렇지만 국가적으로 꼭 필요한 재의 요구권은 행사하는 게 옳다고 생각을 해요. 그러나 국민적인 반대가 분명한 김건희 특검법 같은 거 이런 건 저는 하면 안 된다고 생각해요. 다른 문제에 대해서는 국민들이 어떻게 생각하는지 이게 국익에 어떤 영향을 미치는지 등등을 종합적으로 따져서 정말 양심적으로 판단해서 최소한의 이 행사 여부를 행사가 필요하다고 저는 생각합니다. 하지만 김건희 여사 특검법에 대해서는 거부권 행사를 하면 안 된다, 지금 국민 여론이 압도적이지 않습니까? 그리고 그 문제로 또다시 정치적으로 휘말려드는 것을 피해야 되죠. 배종찬 : 김대중 전 대통령은 정세균 전 총리 같은 분을 가리켜서 서생적 문제의식 의식과 상인적 현실 감각이 있는 사람이라고 평가했던 것으로 기억을 하고 있습니다. 대기업에서도 또 역할을 하셨던 경험이 있었기 때문에 지금 대한민국의 경제에 대한 우려 목소리가 높습니다. 어떻게 해야 됩니까? 정세균 : 정부도 그렇고 이제 정말 경제는 최우선적으로 다루어야 되죠. 우선 외환 관리가 굉장히 중요합니다. 지금 현재 우리 외환 보유고가 4천억 달러가 넘습니다마는 그래도 환율을 방어한다든지 외환을 관리하는 것 이게 이제 국가 건전성이 굉장히 중요한 거 아닙니까? 그다음에 이제 금융 문제 말하자면 이것은 금융은 기업에 있어서 그 피와 같은 것이거든요. 피가 돌지 않으면 죽는 거란 말이에요. 돈맥경화입니다. 그러면 이제 그 부도가 나는 거 아니에요? 그래서 흑자 부도가 난다든지 불필요하게 부도가 많이 나도 안 되겠죠. 그래서 외환이나 금융과 같은 이런 아주 필수적인 것을 제대로 잘 관리해야 되고 또 지금 이제 우리 기업들이 미국에 많이 나가 있지 않습니까? 중요한 기업들이 굉장히 많이 나가 있는데 삼성 SK 지금 그래서 그 기업들이 아마 전전긍긍하고 있을 거예요. 우리나라 대통령이 지금 외교 활동을 할 수 없기 때문에 특히 이제 최근에 일본의 손정희 씨나 이런 일본 측이 움직이는 것들을 보면서 국민들은 야 우리는 이게 어떻게 하나. 트럼프 당선인을 손정희 소프트뱅크 대표가 만나서 그렇죠 아베 총리 부인도 만났고요. 그래서 국민들이 걱정이 많으실 텐데 저는 가능한 한 뭐 권한대행도 노력하고 장차관들도 노력하고 특히 의회가 좀 역할을 해주는 게 좋겠다고 저는 생각을 해요. 제가 박근혜 대통령이 국정을 제대로 감당하지 못하고 있을 때 제가 동북아 평화의원외교단이라는 걸 만들어 가지고 여야의 중진들을 모셔서 그분들이 미국을 비롯해서 중국 등 주요한 국가를 방문하면서 대통령이 할 수 없는 일을 보완적으로 할 수 있도록 그렇게 조치했던 적이 있어요. 저는 뭐 그런 것도 지금 필요하지 않나 이런 생각도 하고 우리나라는 이제 개방 국가이고 통상이 굉장히 중요한 나라이기 때문에 특히 이제 지금 그런 것들이 더 과거보다도 더 중요해졌거든요. 그래서 총력 체제로 정부와 의회가 함께 문제를 해결하기 위해서 노력해야 된다고 생각합니다. 배종찬 : 조금 더 지혜를 주십시오. 1월 20일이면 트럼프 당선인의 임기가 시작됩니다. 우리는 권한대행 체제인데 지금 국회는 탄핵 심판 국면이고 트럼프 집권이 시작되면 어떻게 상대를 해야 될까요? 정세균 : 이제 가능하면 가능하면 그 권한대행이라도 만날 수 있으면 좋은데 아마 트럼프 대통령의 스타일상 현실성은 좀 떨어진다고 생각합니다. 그렇다고 포기할 일은 아니죠. 그래서 의회라도 나서서 의회 지도자들이나 트럼프와 관계되는 여러 장관들이라든지 그런 분들하고 지금부터 만나는 노력 그래서 대한민국의 국익을 잘 지키고 또 문제가 있으면 그런 문제들을 트럼프 행정부와 조율하는 그런 노력이 필요하다고 봅니다. 배종찬 : 오늘 이재명 더불어민주당 대표, 권성동 국민의힘 원내대표 첫 상견례를 가졌습니다. 이제 기자들에게 공개된 장면은 상당히 훈훈하게도 보였는데 신경전은 또 만만치 않습니다. 국정안정협의체를 만들자고 하는 이 대표의 제안에 대해서 상당히 또 권성동 원내대표는 경계하는 눈치인데요. 지금 상황에서 국회에서의 역할 국정안정협의체의 이재명 대표 제안은 있습니다만 어떻게 하는 것이 좋을까요? 정세균 : 예 저는 이재명 대표가 진정성을 가지고 그런 제안을 했다고 생각합니다. 그런 제안을 해서 정부나 여당이 응하면 거기에서 무언가 이 결과물이 도출되도록 야당이 노력할 것 아니겠습니까? 저는 정부나 여당이 전혀 마다할 일이 아니다. 어떻게 하면 그런 협의체가 신속하게 만들어져서 성과를 내게 할 거냐. 지금 현재 마땅히 처리되어야 될 경제 관계법들이 처리되지 않고 계류되어 있는 것들이 있거든요. 그런 것들도 거기서 논의해 가지고 조율해서 빨리 처리하면 저는 매우 유용한 수단이 될 거라고 생각합니다. 배종찬 : 권성동 원내대표는 또 그런 이야기를 했습니다. 이참에 개헌도 좀 논의를 해보자. 아마 총리께서 말씀하신 권력 구조와 관련된 부분에 대한 이야기인 것 같은데 물론 이번에 그게 어느 정도 진전이 될지는 모르겠습니다만 권력 구조 개편에 대한 논의가 제한되는 것은 어떻게 보시는지요? 정세균 : 이번 사태를 보면서 국민들께서 현재 우리가 가지고 있는 이 대통령제로는 도저히 안 되겠다고 하는 판단을 하신 분들이 굉장히 많습니다. 다시 말해서 이런 제왕적 대통령 혹은 식물 대통령으로는 우리가 가지고 있는 여러 난제 또 미래에 해야 될 그런 과제들을 감당하기 어렵다라고 생각하셨을 거예요. 특히 이제 여소야대 상황이 되면 대통령 권력과 의회 권력이 충돌하면서 국정이 돌아가질 않습니다. 이 제왕적 대통령제를 고쳐야 합니다. 그것은 지금 이제 37년 동안 우리가 개헌을 못하고 있는 거거든요. 그래서 저는 정말 이 문제는 중요하다. 과거에도 제가 국회의장을 하면서 개헌을 하기 위해서 많은 노력을 했고 국민적인 지지를 받았음에도 불구하고 여야의 정치 지도자들이 결단을 하지 못해서 개헌에 성공을 하지 못했는데 이번 기회에 차제에 저는 개헌을 꼭 성공시켜야 된다고 저는 생각합니다. 배종찬 : 개헌이라면 5년 단임제니까 4년 중임제와 의원내각제가 논의될 수 있는데 어느 쪽이 좀 더 효율적이다 이런 의견은 있으신지요? 정세균 : 예 저는 의회 책임제라고 할까요? 의회가 좀 더 역할을 하는 노력 그리고 대통령의 권한을 분산하는 노력이 저는 꼭 필요하다고 봅니다. 그래서 그걸 어느 제도라고 명명하지 않는다 하더라도 현행 제왕적 대통령제는 이제 수명을 다했다. 이것은 계속 국정의 갈등과 어려움을 주고 있기 때문에 이 제도를 빨리 선진적인 그런 제도로 바꾸는 노력이 절실하다고 생각합니다. 배종찬 : 대통령 탄핵 심판 국면에서 이 헌법재판소의 일정이 얼마나 걸리느냐도 상당히 주목을 받고 있음과 동시에 또 정치권 일각에서는 이재명 대표의 재판 일정과 관련된 이야기가 같이 거론됩니다. 이 부분은 어떻게 보시는지요? 정세균 : 예 뭐 저는 양측이 다 할 수 있는 일이라고 생각합니다. 그러나 이제 중요한 것은 현재 의회에서 탄핵이 의결된 이 헌재에서의 탄핵 절차와 어느 정치인 개인의 문제와는 이제 경중이 좀 다르다고 생각을 해요. 그래서 그걸 같이 마치 맞불 놓는 식으로 이렇게 정쟁을 하는 것은 옳지 않다고 생각합니다. 그래서 할 말이 있으면 다 하되 현재 국가적으로는 대통령이 기능을 하지 않고 있기 때문에 그 대통령 권력을 정상화하는 것 다시 말해서 헌재에서의 심리를 신속하게 추진하는 것이 매우 중요한 과제다 이렇게 봅니다. 배종찬 : 정 전 총리께서도 대선 경쟁에 참여해 보신 적도 있습니다. 많은 분들이 이런 이야기를 합니다. 대한민국에는 참 똑똑하고 잘난 사람들이 많은데 정작 지도자를 고르라면 못 고르겠다 어떤 리더가 정말 이 시대에 우리 시대에 21세기 2024년 5년의 대한민국에 필요하다고 보시나요? 정세균 : 저는 민주주의자여야 된다고 생각합니다. 그리고 그런 말이 있어요. 그 나쁜 정치인은 다음 선거를 생각하고 진짜 정치인은 다음 세대를 생각한다는 말이 있어요. 지금 우리 대한민국의 미래 그리고 우리 대한민국의 차세대를 걱정하고 차세대의 문제를 해결하려고 하는 미래의 관심과 역량을 보여줄 수 있는 그런 리더가 꼭 필요하다고 생각합니다. 배종찬 : 총리님, 우리 국민들 참 이번 사태를 겪으면서 충격도 크고 마음도 아프고 참 짜증도 많이 나고 분노도 납니다. 많은 상처가 있는데요. 우리 국민들에게 희망의 말씀 위로의 한마디를 전해주신다면요? 정세균 : 우리 대한민국은 지난 70년 동안 많은 어려움과 곡절을 겪으면서 오늘에 이르렀습니다. 그 과정에서 계속 우상향으로 경제도 발전하고 민주주의도 발전하고 문화예술도 발전하고 세계인들이 부러워하는 나라로 성장했습니다. 그것은 위대한 국민들과 또 지도자들도 나름대로 역할을 했기 때문에 가능했다고 봅니다. 그리고 우리 대한민국 국민들의 DNA는 참으로 훌륭하다 이렇게 생각하고 있기 때문에 지금 우리가 겪고 있는 이 어려움 때문에 당연히 손실을 보죠. 비용이 수반되죠. 그렇지만 우리는 이것을 잘 극복할 수 있다. 특히 이제 비상계엄 사태 같은 것을 지금 뭐 6시간 만에 감당했지 않습니까? 그것을 의회와 시민들이 손잡고 한 거거든요. 그리고 이제 아마 열 하루 만입니까? 그 탄핵을 의결했잖아요. 그래서 세계 사람들이 놀라지 않습니까? 정말 이제 여야가 정치권이나 국민들이 진영으로 나뉘어서 갈등하고 싸우고 하지 말고 알겠습니다. 손 잡고 미래로 나아갔으면 좋겠어요. 배종찬 : 말씀 들으니까 힘이 납니다. 지금까지 정세균 전 국무총리와 함께했습니다. 오늘 말씀 감사합니다. 정세균 : 감사합니다. 배종찬 : 아까 김건희 여사 특검 국민 여론이 압도적이라는 발언이 있었는데요. 관련된 여론조사입니다. 엠브레인 퍼블릭, 케이스텟 리서치, 코리아 리서치, 한국 리서치가 지난 11월 18일부터 20일까지 휴대전화 가상번호 전화면접 조사, 김건희 여사 관련 의혹 수사를 위한 특검법에 찬성한다는 응답 64%, 반대 의견은 26%고요. 자세한 사항은 조사기관의 홈페이지 또는 중앙선거여론조사 심의위원회 홈페이지에서 확인 가능합니다. ※ AI로 작성된 스크립트임을 알려드립니다. ■ 제보하기 ▷ 전화 : 02-781-1234, 4444 ▷ 이메일 : kbs1234@kbs.co.kr ▷ 카카오톡 : 'KBS제보' 검색, 채널 추가 ▷ 네이버, 유튜브에서 KBS뉴스를 구독해주세요!\"}, {'img': 'https://imgnews.pstatic.net/image/056/2024/12/18/0011859914_001_20241218215614261.jpg?type=w860'}, {'review': {'': '', '쏠쏠정보': '4', '흥미진진': '0', '공감백배': '1', '분석탁월': '0', '후속강추': '0'}}, {'content': '윤석열 대통령과 부인 김건희 여사. 연합뉴스 박지원 더불어민주당 국회의원 페이스북 박지원 더불어민주당 국회의원은 윤석열 대통령 탄핵 사안과 부인 김건희 여사, 이들 부부 관련 인물인 명태균 씨와 이날 정치자금법 위반 혐의로 체포돼 구속영장이 청구된 역술인 건진법사(전성배), 역술인 천공(천공스승) 등과 관련해 18일 업데이트 된 소식을 정리해 견해 및 전망을 덧붙여 페이스북에 올렸다. 박지원 의원은 최근 국회 추천 몫 헌법재판관 후보자 3인 인사청문특위 위원장을 맡아 윤석열 대통령 탄핵심판 과정의 주요 인물로 등장하게 됐다. ▶박지원 의원은 이날 오후 9시 16분쯤 페이스북에 윤석열 대통령의 대선 당선과 연결고리로 화제가 됐던 \\'손바닥 王(왕) 자\\'를 언급하며 시작하는 글을 올렸다. 박지원 의원은 \"\\'王\\' 자를 손바닥에 써서 TV토론에 나왔을 때, 주술 속에 사는 윤건희(윤석열+김건희)에게 속아서 국민이 대통령으로 뽑았다\"며 \"이걸 우리가 되돌려받고 있다\"고 표현했다. 그는 \"명태균 씨가 \\'내가 구속되면 한달 내로 윤은 하야 혹은 탄핵된다\\'(고 했다)\"고 주목하면서 명태균 씨가 11월 15일 구속된 데 이어 딱 한 달 뒤인 12월 14일 국회 윤석열 대통령 2차 탄핵소추안 표결이 가결된 걸 가리켰다. 그 사이인 12월 3일 밤 윤석열 대통령의 계엄 선포와 12월 4일 새벽 국회의 해제 의결까지 중간에 집어넣으면, 명태균 씨가 자신의 구속 시점 이후 가리킨 한 달 동안 발생한 사건들은 대한민국 헌정사에서도 손에 꼽을 만한 \\'스펙터클(spectacle)\\'을 구성하게 되는 셈. 이어 박지원 의원은 명태균 씨가 검찰에 제출한, 각종 통화 내역과 주고받은 문자 메시지 등이 담긴 일명 \\'황금폰\\'이 3대라며 \"\\'대통령 오빠 빨리 계엄해요\\'라고 했다는 그럴듯한 시중 풍문도 있었다\"면서 \"명태균 씨 황금폰 포렌식(범죄 과학 수사)이 끝났단 보도에 얼마나 떨고 있는 사람 많겠나. 윤건희도 떨까? 잘 나갈 때 같았으면 건진법사가 구속될까? 법사폰(건진법사 휴대전화)도 터질 것이다. 천공스승도 기승이다. 하늘이 낸 대통령이라며 100일 공부 등\"이라고 윤석열 대통령과 김건희 여사 관련 인물들의 이야기가 곧 수사 등의 과정을 통해 세상으로 공개될 수 있다는 뉘앙스를 보였다. 박지원 의원은 또 \"윤석열이 탄핵 후 끝까지 싸우겠다며 변호인들 내세워 괴변을 늘어놓는 것을 보고도 역술인의 말을 듣고 있다는 말들이 사실로 나타나는 것 같다\"고 윤석열 대통령이 역술에 기대어 탄핵심판과 계엄 사태 관련 수사와 기소 등의 과정에 맞설 것이라고 분석했다. 지난 2021년 10월 1일 국민의힘 대선 경선 TV토론에서 윤석열 후보가 왼손 손바닥을 펼쳐 보이자 공개된 한자 임금 王(왕) 자. 윤석열 후보 측은 당시 윤석열 후보와 같은 아파트에 사는 지지자가 응원 의미에서 적어준 것이라고 설명했다. MBN 유튜브 명태균, 건진법사(전성배), 천공. 연합뉴스, 매일신문DB, 유튜브 ▶그러면서 \"김건희 카페가 문제될 때 관계없다 선언하니 조용, 천공스승도 관계 없다 선언 촉구했지만 무응답\"이라며 \"이제 (천공)스승 폰도 압수하고 신병 확보를 검경(검찰과 국가수사본부) 중 누가 먼저할까\"라면서 \"힘 있으면 덮지만 이제 내란 수괴로(윤석열 대통령이 내란죄 피의자로 수사를 받게 돼, 그간 대통령 권력에 의해 가려졌던 일들이 드러나게 된다는 의미), 특검으로 사상 최초 대통령 부부가 감옥 생활(을 하는 게) 그들의 미래인데, 덮히지 않는다\"라고 윤석열 대통령과 김건희 여사에 대한 기소 및 징역형 등 유죄 처벌을 전망했다. 박지원 의원은 재차 윤석열 대통령과 김건희 여사 및 관련 인물들의 휴대폰을 수사당국이 확보하는 게 관건이라고 강조, \"황금폰(명태균의 휴대폰) 법사폰(건진법사의 휴대폰) 다이아몬드폰(윤석열 대통령과 김건희 여사의 휴대폰) 스승폰(천공의 휴대폰)이 다 압수수색으로 확보되면, 주술국가도 끝난다\"고 단언했다. 이어 글 말미에서 \"검경의 분발을 촉구한다\"면서도 \"다이아몬드폰? 윤건희도 폰 바꿨다\"고 적었다. 다이아몬드폰은 박지원 의원이 계엄 사태가 발생하기 전이었던 11월 28일 CBS 라디오 김현정의 뉴스쇼에 출연, 윤석열 대통령과 김건희 여사가 당시 기존 개인 휴대폰 사용을 중단하고 새 휴대폰으로 교체한 걸 두고 \\'증거인멸\\'이라고 주장하면서 황금폰보다 더 핵심인 증거가 담겨 있을 것이라며 쓴 표현이다.'}, {'img': 'https://imgnews.pstatic.net/image/088/2024/12/18/0000921573_002_20241218223108968.jpg?type=w860'}, {'review': {'': '', '쏠쏠정보': '28', '흥미진진': '0', '공감백배': '22', '분석탁월': '0', '후속강추': '2'}}, {'content': '‘햄버거 4인 회동’ 정모 대령 “다음엔 네가 여단장이라는 노상원 말에 욕심 생겼다” 김용현 | 여인형 윤석열 대통령이 나온 고교 출신 군인들이 12·3 비상계엄 사태를 주도했을 뿐 아니라 전현직 정보사령부 수뇌부가 핵심 참모를 데리고 패스트푸드 음식점에서 만나 계엄을 모의한 정황이 드러나면서 군내 사적 모임에 관심이 집중되고 있다. 군내 사조직은 하나회·알자회 이후 자취를 감춘 것으로 알려졌지만 이번 비상계엄 사태를 계기로 이른바 ‘충암파’ ‘용현파’ 등 사적 모임의 실체가 나타났다. 18일 경향신문 취재를 종합하면, 지난 1일 전현직 정보사령부 간부 4인이 경기 안산의 한 햄버거집에 모여 계엄을 모의할 때 참석한 정모 대령은 경찰 조사에서 진급을 이유로 노상원 전 정보사령관과 연을 맺었다는 취지로 진술했다. 이른바 ‘롯데리아 회동’에는 당시 현직에 있던 문상호 전 정보사령관, 박근혜 정부 시절 정보사령관을 지내고 퇴역한 노상호 전 사령관 외에 정 대령과 김모 대령이 참석했다. 노 전 사령관은 계엄을 준비하던 지난 11월부터 진급을 미끼로 부하 군인들을 포섭한 것으로 전해졌다. 정 대령은 노 전 사령관이 자신에게 “전역이 몇년 남았냐” “김 대령이 먼저 여단장을 하고 다음에 네가 하면 되겠다. 내가 많이 도와주겠다”고 말했다고 경찰에 진술했다. 정 대령은 군내 인맥이 약해 진급을 크게 기대하지 않았는데 이런 제안이 오자 욕심이 생겨 ‘부정선거 관련 유튜브 자료를 정리해달라’는 요구에 응했다고 했다. 김 대령도 문 전 사령관의 요구로 ‘사업(공작) 잘하는 요원’ 명단을 작성해 넘긴 것으로 전해졌다. 노 전 사령관은 예비역 신분이었지만 김용현 전 국방부 장관과의 친분, 전현직 정보사 군인들과의 끈끈한 인맥 등을 바탕으로 군 인사에 직간접적인 영향을 행사해온 것으로 보인다. 더불어민주당 윤석열내란 진상조사단은 전날 정보사 내부에서 입수한 제보라면서 “노 전 사령관이 김 대령, 정 대령 등으로 구성된 ‘노상원 라인’을 구축했고 이 조직을 통해 이른바 ‘OB’(예비역)들을 이끌었다”고 주장했다. 노 전 사령관은 롯데리아 회동에서 정·김 대령에게 “중앙선거관리위원회 전산 서버를 확인하면 부정선거 증거를 확보할 수 있을 것”이라며 “너희가 선관위 전산실에 가면 된다”고 말한 것으로 전해졌다. 경찰은 노 전 사령관이 김 전 장관과 긴밀히 소통하며 계엄을 준비해왔다고 보고 있다. 한 예비역 중장은 이날 기자와 통화하면서 “대령들은 장군 진급 문제로 스트레스를 많이 받는다는 심리를 이용한 것”이라면서 “국방부 장관에게 장군 인사권이 집중돼 있다보니 ‘장관과 연이 있다’고 하면 상대가 예비역이라도 충분히 혹할 수 있다”고 말했다. 여인형 전 국군방첩사령관을 비롯한 충암고 출신 인사들이 이번 계엄을 주도했고, 김 전 장관이 자신의 측근인 이른바 ‘용현파’를 군과 국방부 요직에 배치한 정황도 다수 드러났다. 이번 사태를 계기로 전두환 군부 독재를 이끈 하나회, 박근혜·최순실 게이트로 세상에 알려진 알자회 등도 재조명되고 있다.'}, {'img': 'https://imgnews.pstatic.net/image/032/2024/12/18/0003340241_001_20241218213422462.jpg?type=w860'}, {'review': {'': '', '쏠쏠정보': '1', '흥미진진': '0', '공감백배': '1', '분석탁월': '0', '후속강추': '8'}}, {'content': '롯데리아...내란 사건에 등장 이번이 처음 아냐 과거 통합진보당 사건 때도 \\'롯데리아\\'서 대화 \"일부러 사람 많아 시끄러운 곳, 잡음 많은 곳 택\" 매장 위치도 영향...사령부에서 30분 거리 [이데일리 홍수현 기자] ‘12·3 비상계엄’ 직전 전·현직 정보사령관들이 버거 프랜차이즈 롯데리아에서 ‘비밀 회동’을 한 것으로 알려지면서 ‘왜 하필 롯데리아냐’는 질문이 쏟아지고 있다. 18일 오후 ‘12·3 비상계엄’ 직전 전현직 정보사령관들이 계엄 직전 햄버거 프랜차이즈 롯데리아에서 비밀 회동을 가진 것으로 알려진 경기 안산시의 한 롯데리아 매장의 모습.(사진=뉴스1) 내란 사건에서 롯데리아가 등장한 것은 이번이 처음이 아니다. 과거 통합진보당의 내란음모 사건 재판에도 롯데리아 매장이 등장한 적 있다. 2014년 1월 관련 재판을 진행하던 수원지방법원 형사합의12부 김정운 부장판사는 “조서에 나온 건 아니지만 롯데리아가 시끄럽다는 것도 다시 한번 확인할 수 있었습니다. 오늘 롯데리아에 두 번이나 갔는데 오전에도 시끄럽고, 오후에도 시끄럽네요.” 라고 말했다. 조용하던 법정 곳곳에서 ‘큭큭’ 웃음소리가 터져 나왔다. 농담처럼 보였지만 사실 매우 중요한 말이었다. 당시 재판부는 제보자가 국가정보원에 제출한 녹음파일 32개를 법정에서 직접 재생·청취하고 있었다. “롯데리아에 두 번이나 갔다”는 김 부장판사의 말은 직접 갔다 왔다는 뜻이 아니라 대화 녹음 파일을 들었다는 뜻인데 문제는 너무 시끄럽다는 점이었다. 녹음된 대화는 옆자리 사람들로 보이는 목소리에, 매장에 울려 퍼지는 최신가요, 부스럭거리는 잡음 등에 묻혀 알아듣기 힘들었다. 롯데리아뿐이 아니었다. 돈까스전문점, 설렁탕집, 카페 등 다른 장소에서 만났을 때를 녹음한 파일들도 상태가 비슷했다. 무슨 이야기가 오갔는지 제대로 들려야 내란죄인지 단순 친목모임인지 판단할 수 있는데 재판부로서는 난감할 노릇이었다. 이씨는 일부러 사람들이 많아 시끄러운 롯데리아 같은 식당에서 관계자들을 만나 내란 음모를 계획한 것으로 밝혀졌다. 그리고 2024년 롯데리아가 또다시 등장했다. 노상원 전 국군정보사령관과 문상호 정보사령관 등이 계엄 이틀 전 롯데리아에서 만난 사실이 알려진 것이다. 꼭 ‘롯데리아’일 필요는 없지만 패스트푸드점이라는 특성상 많은 사람이 오가고 항시 음악이 틀어져 있는 번잡한 환경이 이번에도 기밀대화에 적합했을 것이란 추정이 나오고 있다. 아울러 매장의 위치도 영향을 끼쳤을 것으로 보인다. 이들이 만난 매장은 안산시 상록구에 있다. 정보사령부는 안산시와 인접한 경기도 안양시 만안구에 위치한다. 두 장소는 자동차로 약 30여분 거리다. 정보사령관이 부대를 장시간 비우기는 어렵기 때문에 사령부 인근에서 회동을 했을 것이란 추측도 제기되고 있다. 온라인에서 폭발적인 반응을 얻고 있는 ‘네란 버거’. 롯데리아는 출시계획이 없다고 말했다. (사진=사회관계망서비스) 한편 정치적 이슈로 화제의 중심에 선 롯데리아는 당혹감을 감추지 못하고 있다. 온라인에는 관련 제품을 출시해달라는 요청이 빗발치고 있는데 그 중 챗GPT가 만들었다고 알려진 ‘네란버거’가 가장 인기다. 계란 네 개를 햄버거 안에 넣었다는 뜻에서 ‘네란’인데 ‘내란’을 연상하게 한다. 롯데리아 관계자는 “관련 상품 출시 계획은 당연히 없다”고 단칼에 잘라 말했다.'}, {'img': 'https://imgnews.pstatic.net/image/018/2024/12/18/0005909242_001_20241218212311162.jpg?type=w860'}, {'review': {'': '', '쏠쏠정보': '7', '흥미진진': '0', '공감백배': '1', '분석탁월': '1', '후속강추': '0'}}, {'content': '팬카페 \\'이장직\\' 내려놓은 이재명 정청래도 \"SNS 활동 줄이겠다\" 전문가들 \"당권 아닌 대권서 강성 지지층 걸림돌\" 이재명 대표는 지난 16일 팬카페 \\'재명이네 마을\\'에 \"요즘 챙겨야 할 일이 참 많아졌다\"며 \"이장직을 내려놓겠다는 아쉬운 말씀을 전하고자 한다\"고 적었다. /남윤호 기자 이재명 더불어민주당 대표가 팬카페 \\'재명이네 마을\\'의 \\'이장직\\'을 내려놓은 데 이어 당내 \\'강성 스피커\\'로 꼽히는 정청래 의원도 대외활동 중단을 선언했다. 민주당이 조기 대선을 염두에 두고 중도층 외연 확장에 본격적으로 나섰다는 평가가 나온다. 18일 정치권에 따르면 이 대표는 지난 16일 \\'재명이네 마을\\'에 \"요즘 챙겨야 할 일이 참 많아졌다\"며 \"이장직을 내려놓겠다는 아쉬운 말씀을 전하고자 한다\"고 적었다. 재명이네 마을은 이른바 \\'개딸(개혁의 딸들)\\'로 불리는 이 대표의 강성 지지층이 모여 있는 대표적인 커뮤니티로 회원 수가 20만 7000여명에 달한다. 그는 \"사실 이장이라고 해서 무슨 권한을 행사하거나 한 것은 아니지만, 비상한 시국인 만큼 저의 업무에 조금 더 주력하겠다는 각오라고 생각해주시면 좋을 것 같다\"고 설명했다. 그러면서 \"이장은 아니더라도 전 여전히 재명이네 마을 주민\"이라며 \"주민으로서 늘 함께하겠다. 기약할 수 없지만 다시 돌아오겠다\"고 덧붙였다. 이 대표는 지난 22대 총선 과정에서 일부 비명계 의원들에게 강성 팬덤과의 이별을 위해 \\'이장직\\' 사퇴를 요구 받았지만 응하지 않은 바 있다. 당내 강성 스피커로 꼽히는 정청래 의원도 잠시 대외활동 중단을 선언했다. 정 의원은 전날 자신의 페이스북을 통해 \"잠시 대외활동을 중단하겠다\"며 \"SNS도 가급적 줄이고 윤석열 탄핵소추위원 활동에만 집중할 것\"이라고 밝혔다. 정 의원은 자신의 X(옛 트위터)에 \\'자칭 SNS 전문가\\'라고 소개글을 올릴 만큼 평소 SNS 활동을 활발히 하는 의원으로 꼽힌다. 당내 강성 스피커로 꼽히는 정청래 의원도 잠시 대외활동 중단을 선언했다. /배정한 기자 정치권에서는 조기 대선이 가시화되는 상황에서 민주당이 본격적 외연 확장에 나섰다는 분석이 나온다. 최수영 정치평론가는 <더팩트>와의 통화에서 \"당권을 잡기 위해선 강성 지지층이 필요하지만 대권으로 가기 위해선 강성 지지층이 오히려 걸림돌이 된다\"며 \"정 의원같은 강성 의원들은 출력을 줄임으로써 이 대표의 외연 확장에 도움이 되겠다는 전략을 펼친 것으로 보인다\"라고 평가했다. 그러면서 \"일회성에 그치는 것이 아닌 향후 국회 운영과 대정부관계 등 측면에서도 중도 외연에 대한 소구력을 실질적으로 보여줘야 (중도 확장) 효과가 있을 것\"이라고 전망했다. 발로 뛰는 더팩트는 24시간 여러분의 제보를 기다립니다. ▶카카오톡: \\'더팩트제보\\' 검색 ▶이메일: jebo@tf.co.kr ▶뉴스 홈페이지: http://talk.tf.co.kr/bbs/report/write'}, {'img': 'https://imgnews.pstatic.net/image/629/2024/12/18/20249683173452417700_20241218211713884.jpg?type=w860'}, {'review': {'': '', '쏠쏠정보': '12', '흥미진진': '0', '공감백배': '3', '분석탁월': '2', '후속강추': '0'}}, {'content': '국회출동 계엄군 ‘정신건강위험군’ 분류 소식엔 “누가 죽길 했나, 죽이길 했나…유난” 입장 밝혀 [이데일리 이로원 기자] 박근혜 정부 국정농단 주범 최서원(개명 전 최순실) 씨의 딸 정유라 씨가 연일 탄핵 정국과 관련해 야권을 향한 비판의 날을 세우고 있는 가운데 이번에는 배우 정우성, 가수 자우림의 보컬 김윤아, 개그맨 김제동 씨를 싸잡아 비판하고 나섰다. 이른바 ‘좌파’로 분류되는 연예인들 비판 공세에 나선 것. 국정농단 혐의로 구속기소된 최서원씨 딸 정유라씨가 지난 2022년 5월 19일 오후 경기도 수원시 팔달구 지동시장에서 열린 강용석 무소속 경기도지사 후보 유세에서 찬조 연설을 하고 있다. 사진=뉴시스 18일 정 씨는 자신의 사회관계망서비스(SNS)를 통해 최근 혼외자 출산으로 화제인 배우 정우성이 모델 문가비에 대해 ‘사랑한 적 없고, 오래된 여자친구도 혼외자 존재를 알고 걱정했다’는 내용이 담긴 기사를 공유했다. 그러면서 “오래된 여자친구, 혼외자, 걱정, 이 단어들이 한 문장에 있는 것도 신기한데 저걸로 만들어낸 문장은 진짜 답이 없다. 뭘 걱정한 건가?”라면서 “애 엄마를 사랑한 적 없는걸 자랑이라고 얘기하나”라고 지적했다. 이어 정 씨는 밴드 자우림의 멤버 김윤아를 향해서도 날을 세웠다. 그는 오는 2025년 예정된 자우림의 일본 콘서트와 관련 “일본인 가수 노래 표절하고 놀러 가서 스시 먹으면서 후쿠시마 욕하는 상여자”라고 김윤아를 비꼬며 “사람이 저렇게 내 말이 앞뒤가 다르든지 말든지 신경 안 쓰고 세상 살아야 하는데 존경한다. 멋지다 정말”이라고 비꼬았다. 또 정 씨는 “이 언니보고 진짜 일본 초밥이 문제가 있긴 한 건가 진짜 처음으로 의심했다”며 “역시 본인 한 몸 불살라 오염수의 위험함을 상기시켜주시는 참 애국자”라고 비난했다. 일부 연예인들에 대한 비판은 여기서 그치지 않았다. 정 씨는 최근 광주광역시 서구에서 주최한 아카데미에 강연자로 참석한 김제동을 두고는 “계엄령보다 김제동이 강연에 나선 것이 훨씬 더 비상사태 아니냐”면서 “민주당 이재명 대표가 ‘세상에서 제일 재밌는 게 불난 집 불구경’이라고 했는데 오늘부터 이해 가능”이라고 적었다. 한편 정 씨는 이날 비상계엄령 당시 국회에 출동한 계엄군 수십 명도 ‘정신건강 위험군’에 속한다는 소식에 “계엄령 때 누가 죽길 했나 누굴 죽이길 했나, 유난이다 정말”이라며 “진짜 별것도 아닌 걸로 울고불고 난리 난 우리 아들 보는 것 같다”라고 비판해 계엄령 사태에 대한 자신의 입장을 밝혔다.'}, {'img': 'https://imgnews.pstatic.net/image/018/2024/12/18/0005909238_001_20241218211414308.jpg?type=w860'}, {'review': {'': '', '쏠쏠정보': '6', '흥미진진': '0', '공감백배': '207', '분석탁월': '2', '후속강추': '2'}}, {'content': '한덕수 권한대행, 野 \\'탄핵 경고\\'에도 거부권 행사 배경은 TV조선 뉴스 Play 1.7K 00:00 04:00 [앵커] 윤석열 대통령 탄핵 소추 이후 벌어지고 있는 정치권의 정국 주도권 움직임에 한덕수 권한대행의 거부권 행사는 또다른 정국의 변곡점이 될 가능성이 큽니다. 내일 거부권을 행사할 경우 정치권에 닥칠 파장과 전망, 정치부 한송원 기자와 알아보겠습니다. 우선 한덕수 권한대행이 자신에 대한 탄핵 압박 속에서도 \\'거부권 행사\\'로 방향을 잡았다는 건데, 그 배경은 어떻게 봐야 할까요? [기자] 그동안 총리실에서 여러 차례 이를 암시하는 메시지를 내긴 했습니다. 위헌성 여부와 함께 \\'국가의 미래\\'를 보겠다는 표현을 썼었는데, 이는 국가 재정 부담을 뜻하는 겁니다. 대표적으로 양곡관리법은 정부가 쌀을 의무적으로 매입하는 게 골자죠. 정부는 법이 시행되면 매년 조 단위의 재정이 투입돼야 하고, 2030년엔 남는 쌀 63만t을 사기 위해 1조4천억원까지 필요하다고 전망했습니다. 또 이미 계엄 정국 이전인 지난달 말 법안 처리 직후부터 거부권 입장을 결정한데다, 특검법처럼 정쟁의 대상이 아닌 \\'정책법안\\' 이기 때문에 야당에서도 달리 판단할 거란 판단도 깔린 걸로 보입니다. [앵커] 그럼 한 기자가 조금 전 말한 특검법은 어떻게 되는 건가요. 이것도 거부권을 행사한다는 기류인가요? [기자] 어제 정부로 이송된 내란 특검법과 김건희여사 특검법 이 두 개 법안이 31일까지 결론을 내야 합니다. 여권에선 \\'분리 대응\\'이 거론되는데, 쉽게 말하면 내란 특검법은 수용하고, 김여사 특검법은 거부할 가능성이 높다는 겁니다. 우선 내란특검법은 한덕수 대행 본인도 수사 대상에 포함된 만큼 직접 거부권을 행사하기 어려울 거란 이유고, 이미 윤 대통령이 여러차례 거부권을 행사했던 김 여사 특검법은 이번에 반헌법적 요소가 더 강해졌다는 시각이 있기 때문입니다. [앵커] 실제 거부권을 행사하면 민주당의 대응이 관건인데, 실제 한덕수 권한대행 탄핵소추까지 갈 가능성이 있나요? [기자] 어제 오늘 민주당에서 나온 기류를 종합하면 실제 탄핵소추할 가능성도 배제할 수 없는 게 사실입니다. 다만, 민주당내에서도 양곡법 등에 대해선 이견이 있는 만큼 즉각적인 탄핵 카드를 꺼내진 않을 것으로 보는 시각이 좀 더 우세합니다. 하지만 특검법은 얘기가 다릅니다. 둘 중 하나라도 거부권을 행사할 경우 곧바로 \\'권한대행 탄핵\\'이 추진될 수 있다는 게 민주당 분위기입니다. [앵커] 그런데, 권한대행 탄핵의 기준을 대통령으로 볼지, 총리로 볼지를 놓고도 학자들 간에 주장이 다르다면서요? [기자] 네, 대통령으로 보면 200석이 필요해 야당 단독으로 처리가 어렵고, 총리로 본다면 150석이 필요해 민주당 의석만으로 가능합니다. 전례가 없는 상황이라 학자들 사이에서도 판단이 엇갈리는데요. \"\\'직위\\'와 \\'권한\\'은 다른 만큼, 총리란 \\'직위\\'를 따라야 한다\"는 주장과 대통령의 \\'권한\\'을 대신 행사하는 만큼 권한에 무게를 둬야 한다는 해석이 엇갈립니다. [앵커] 그런데 이재명 대표는 추가 탄핵은 좀 자제하겠다고 하지 않았나요? [기자] 그런 측면에서 한덕수 권한대행에 대해 바로 탄핵소추 하는 대신, 다른 방식으로 압박에 나설 가능성도 거론됩니다. 민주당은 이미 김문수 고용노동부 장관에 대한 탄핵을 검토하겠단 예고를 한 상태죠. 한 대행 대신 국무위원들을 추가로 탄핵하면서 권한대행을 압박할 수 있다는 건데 어느 방향이 됐든 거부권 행사 이후 국면은 지금과는 또 달라질 공산이 큽니다. [앵커] 지난 주말 헌정사상 두번째 대통령 탄핵소추를 지켜보며 국민들께서 적지 않은 혼란을 겪으셔야 했는데, 언제까지 이런 모습을 봐야 하는 건지 답답하군요. 한 기자 수고했습니다.'}, {'review': {'': '', '쏠쏠정보': '7', '흥미진진': '1', '공감백배': '16', '분석탁월': '1', '후속강추': '1'}}, {'content': '나경원 “마음대로 밀어붙이기 시작” 野 비판 국민의힘 나경원(왼쪽), 박덕흠 의원이 14일 오전 서울 여의도 국회에서 열린 의원총회에 참석하고 있다. 뉴스1 박지원 더불어민주당 의원이 헌법재판관 인사청문특별위원회 위원장에 야당 단독으로 임명됐다. 나경원 국민의힘 의원은 “북 치고 장구 치겠다는 것”이라고 비판했다. 나경원 의원은 18일 페이스북을 통해 더불어민주당 등 야당을 겨냥해 “그동안 자신들이 탄핵심판 청구한 방통위원장, 검사 등의 탄핵심판이 기각될까 봐 막무가내로 헌재 재판관 추천을 미뤄 오다가 이제는 마음대로 밀어붙이기 시작했다”며 이같이 밝혔다. 이어 “대통령 권한대행이 헌재 재판관 임명 권한이 있느냐 없느냐 논란은 물론 이번 헌법재판관 후보자는 야당이 추천한 두 명이 포함 된다”며 “탄핵심판이 뭔가? 국회가 기소하고, 헌재가 판단하는 것”이라며 야당이 일방적으로 인사 청문 절차를 진행했다고 지적했다. 18일 서울 여의도 국회에서 열린 헌법재판소 재판관 선출에 관한 인사청문특별위원회 제1차 전체회의에서 박지원 위원장이 의원들의 의사진행 발언을 듣고 있다. 국민의힘 의원들 자리는 텅 비어 있다. 뉴시스 나 의원은 “과연 공정성을 담보할 수 있겠는가. 검사, 판사 다 하고, 북 치고 장구 치겠다는 것”이라며 “헌재의 공정성, 중립성을 훼손하는 국회 추천 몫의 헌재 재판관 임명 절차는 합리적 해법을 다시 논의해야 한다”고 촉구했다. 국회 인사청문특위는 이날 국회에서 첫 전체회의를 열고 국회 추천 몫 헌법재판관 3명에 대한 위원장으로 박 의원을 선출했다. 국민의힘 의원들 불참 속에 민주당 등 야당 단독으로 의결했다. 당초 정점식 국민의힘 의원이 위원장으로 내정됐으나 박 의원이 특위를 이끌게 됐다. 박 의원은 선출 직후 “헌법재판관 선출에 대한 심사가 보다 원활하고 내실 있게 진행될 수 있도록 위원장으로서 최선의 노력을 다 하겠다”고 밝혔다.'}, {'img': 'https://imgnews.pstatic.net/image/022/2024/12/18/20241218518614_20241218222212951.jpg?type=w860'}, {'review': {'': '', '쏠쏠정보': '2', '흥미진진': '13', '공감백배': '8', '분석탁월': '0', '후속강추': '2'}}, {'content': '/TV조선 방송화면 캡처 지난 12월 3일 오후 10시 23분 경, 윤석열 대통령은 비상계엄을 선포했습니다. 이후 더불어민주당 의원들은 국회 본회의장으로 집결했지만 국민의힘 의원들은 국회와 당사로 나뉘었고, 결국 국회 본회의장에 온 18명의 의원만 본회의 비상계엄 해제 표결에 참석했습니다. TV조선은 \\'국민의 알 권리\\' 보장 차원에서 당시 언제 어떤 일이 있었던 건지 보다 객관적으로 판단하기 위해, 국민의힘 의원 SNS단체방에서 있던 대화록을 입수해 그대로 보도합니다. ======================================================== <22대 국회 국민의힘 의원 SNS단체방 대화> -12.3 비상계엄 직후부터 본회의 계엄 해제안 의결까지. (편의상 의원 호칭은 생략했습니다.) 22:23~28 尹 대통령 비상계엄 선포 22:29 박수영 \"비상계엄 선포\" 22:31 조승환 \"저도 특보봤습니다\" 22:39 조승환 \"내일 규탄대회 일정 재확인이 필요합니다\" 22:45 김소희 \"민주당은 바로 국회 소집한다는데. 우리는 어찌해야할까요?\" 22:46 권영세 \"그러게. 비상으로 국회해산이라도 하겠단건가?\" 22:49 박수영 \\'헌법 77조\\' 계엄 관련 조문 공유 \"대통령의 비상계엄 선포는 잘못된 것입니다. 국민과 함께 막겠습니다. - 당대표 한동훈- (한동훈 대표 당 공지 공유) 22:55 주진우 \"우리도 긴급의총 소집해야할 사안\" 22:56 서지영 \"지도부에서 빠른 입장을 정리해주시기 바랍니다\" 조정훈 \"동의합니다\" 김소희 \"긴급의총 해야합니다\" 22:48 김상욱 \"비상계엄을 저는 납득할 수 없습니다\" 22:58 박정하 \"대통령의 비상계엄 선포는 잘못된 것입니다. 국민과 함께 막겠습니다. - 당대표 한동훈- (한동훈 대표 당 공지 공유) 22:59 김용태 \"국회 입구를 국회 경비단이 막아 출입이 봉쇄됐다고 합니다. 지도부에서 빠르게 판단을 해주셔야할 것 같습니다. 의원총회를 열어주십시오\" 22:59 김상욱 \"역사의 죄인이 되어서는 안됩니다\" 23:00 김종양 \"정말 아쉽습니다. 이렇게 있어도 되는 것입니까?\" 23:01 송언석 \"비상의총은 언제 어디서 하는건가요?\" 신성범 \"국회는 해산되는건가요?\" 23:02 주진우 \"현재 국회 통제중\" 23:02 정연욱 \"긴급 의총 열어야합니다\" 23:02 김용태 (경찰이 통제중인 사진 공유) 23:02 김종양 \"일단 저는 국회로 갑니다\" 23:03 추경호 원내대표, 첫 비상의총 장소 문자 공지(국회) 23:03 당대표실, 최고위 장소 국회->당사로 변경 23:03 신성범 \"저는 국회로 출발. 이럴 때 의원이 위치해야할 장소 대한민국 국회입니다\" 23:04 서범수 \"국회는 폐쇄되었다 합니다. 의원님들께서는 당사로 모이시죠\" 23:04 한지아 \"추경호 원내대표님 비상 계엄령 선포 관련하여 긴급의총을 소집 요청합니다\" 23:04 김은혜 \"의총 소집했습니다\" 23:04 김용태 [비상의원총회 알림] 문자 공유. 잠시후 비상의총을 개최하오니 의원님들께서는 지금 즉시 국회로 모여주시기 바랍니다. - 원내대표 추경호 드림 23:04 한지아 \"국회 통제되었습니다\" 23:04 김용태 \"국회가 봉쇄되어 들어갈 수가 없다고 합니다\" 23:05 성일종 \"국방위원 출장 중단하고 최대한 빨리 귀국하겠습니다\" 23:07 배준영 \"원내수석입니다. 모든 의원님들 당사로 모여주십시오\" 23:08 김용태 \"민주당 국회의원들은 국회 담넘어서 들어오라고 했다고 합니다. 국회 본회의장은 의장 지시로 경비국장이 열겠다고 합니다\" 23:09 추경호 원내대표 문자공지 비상의총 장소 변경 (국회->당사) 23:24 주진우 (한동훈 대표 입장 공유) \"즉시 계엄을 해제해야 합니다. 지금 민주당은 담을 넘어서라도 국회에 들어가는 상황입니다. 계엄해제 안에 반대하는 분 계시는지요? - 한동훈 당대표- 23:28 이양수 \"일단 내일 유가증권 시장은 하루라도 휴장하는 게 좋을 것 같습니다\" 23:08 박수영 (뉴스 속보 링크 공유) [속보]계엄사 \"국회, 지방의회, 정당활동 금지\" 23:29 김건 \"국제위원장의 국제민주연맹 참석도 중단하고 최대한 빨리 귀국토록 하겠습니다\" 23:30 박수영 ([계엄사령부에서 알려드립니다] 포고령 내용 공유) (탱크 사진 공유) 23:33 추경호 원내대표 문자공지 비상의총 장소 변경 (당사->국회 예결위장) 23:34 서범수 \"국회로 오세요\" 23:35 서명옥 \"국회정문 앞? 당사?\" 23:35 한지아 \"당사에서 국회 정문으로 걸어갑니다. 신분증 지참해주세요\" 23:36 송언석 앞선 배준영 공지에 답장형태로 \"당사에서 모이는 것 맞지요?\" 23:38 최형두 \"지금 마산 숙모상 문상하고 KTX 상경중 12시 넘어 서울역 도착합니다. 업데이트 주시는 곳으로 즉시 달려가겠습니다\" 23:40 조정훈 \"국회 어디에서 모이나요?\" 23:41 배준영 \"다시 공지합니다. 본청 예결위 회의장에서 모입니다\" 23:41 최형두 [비상의원총회 장소 변경 알림] 문자 공유 \"잠시후 비상의원총회를 개최하오니 의원님들께서는 지금 즉시 국회 예결위장으로 모여주시기 바랍니다. - 추경호 원내대표 드림 - 23:44 김미애 \"도서관 뒤쪽으로 출입 가능하답니다\" 23:44 배준영 \"차량은 통제할 경우 도보로 이용합니다. 의원 신분증 제시하십시오\" 23:44 박수영 (현장 사진올림) 23:47 서범수 \"의총장소는 예결위회의장입니다. 오시는 의원님은 의총장으로 와주십시오\" 23:47 송언석 \"국회 출입이 안되는데..\" 23:48 김은혜 \"도서관 뒤는 되나요?\" 23:49 추경호 원내대표 문자공지 비상의총 장소 (국회 예결위장) 23:49 한지아 \"도서관쪽으로 신분증 갖고 오시면 됩니다\" 23:49 우재준 \"막히기 전에 빨리 와주셔야할 것 같습니다\" 23:50 강대식 \"도서관쪽도 안됩니다\" 23:52 서지영 \"출입가능한 문이 어디입니까?\" 23:53 이양수 \"(국회소집 문자 공유하며) 들어가지를 못하는데\" 23:54 우재준 \"담 넘어서라도 와주세요\" 23:56 서지영 \"출입증 찍는 곳이 가능한 모양입니다. 도서관앞 철문 출입증 찍는 쪽으로 저도 가고 있습니다 김삼보 맞은편\" 23:57 조정훈 \"지금 추대표님과 소통했는데 들어가지 못하는 의원님들이 있어서 당사로 모이라고 하시네요\" 23:57 박수민 \"도서관 쪽 막힌 거 같습니다\" 23:57 김희정 \"국회 차 들어오는 문 신분증 확인후 들어옴. 차는 못 들어오고 사람은 출입 가능\" 23:58 우재준 \"본회의장 휴게실로 와주세요\" 23:58 한지아 \"본회의장 휴게실로 와주세요\" 00:00 조승환 \"사람 출입도 안되어 당사로 갑니다\" 00:01 김정재 \"김정재 정점식 김미애 조정훈 박성훈 윤한홍의원 국회 못 들어가 당사에 왔습니다. 권성동 대표님도 당사에 계십니다\" 00:03 추경호 원내대표 문자공지 비상의총 장소 재공지 (당사 3층) 00:03 우재준 \"경찰이 적극적으로 막지 않습니다. 가능하신 분들은 담 넘어 와주세요\" 00:04 박수민 \"담 타고 진입 했습니다\" 00:04 서명옥 \"담벼락 곳곳에 경찰 배치되어 담도 못 넘어요\" 00:04 조정훈 \"본청에 몇분이나 계신지요?\" 00:04 박형수 \"메시지에 혼선이 있으면 안됩니다, 추대표님께서 직접 말씀해 주세요\" 00:04 김소희 \"맞아요. 경찰들 있어서 담도 못넘어가요ㅠ\" 00:05, 00:07, 00:08 추경호 원내대표 문자공지 비상의총 장소 재공지 (당사 3층) 00:05 김정재 \"박덕흠 이상휘 김도읍 나경원 정동만 박준태 당사로 왔습니다\" 00:05 박대출 \"추경호 원내대표가 정리해주세요\" 00:05 한지아 \"군인들이 총을 갖고 국회 진입했습니다. 국회로 와주세요 의원님\" 00:05 서지영 \"못들어갑니다\" 00:05 한지아 \"군인들 본청 들어오려고 합니다\" 00:05 김희정 \"집결장소 명확히 해주시길 바랍니다\" 00:05 이인선 배준영 공지 언급하며 \"뭔가 혼선이 있네요\" 00:05 서지영 \"충전소쪽도\" 00:06 한지아 \"집결장소는 국회 본회의장 휴게실입니다\" 00:06 이인선 \"비서실장이라도 메시지 주세요\" 00:06 서명옥 \"당사로 갑니다\" 00:06 김소희 \"처음에는 되다가 지금은 안되는 상황 같아요\" 00:06 우재준 \"대표님 지시 사항입니다. 본회의장 와주세요\" 00:07 우재준 \"방금 옆에서 보고 지시하셨습니다\" 00:07 박정하 \"국회 본회의장으로 무슨 수를 써서라도 와야합니다\" 00:07 우재준 \"최대한 각자 방법을 써서라도 와주세요\" 00:07 조정훈 \"지금 당사에 약 18분 넘게 있습니다\" 00:09 박정훈 \"본회의장으로 오셔야 합니다\" 00:10 우재준 \"당대표 한동훈입니다. 본회의장으로 모두 모이십시오. 당대표 지시입니다.\" 00:10 송언석 \"우여곡절 끝에 예결위회의장에 도착했습니다. 아무도 안 계시네요\" 00:11 우재준 \"본회의장입니다. 예결위 아니에요\" 00:13 박덕흠 \"중앙당사입니다\" 00:14 박정훈 \"대표님 본회의장에 들어와 계시고, 여기서 모여달라고 하십니다\" 00:15 김소희 \"거길 들어갈 수가 없어요. 처음과 달리 경찰도 깔려서 담도 못 넘어가요\" 00:15 김장겸 \"못 들어가고 민주당 지지자들에게 봉변당했어요\" 00:15 송언석 \"의총 장소가 어딥니까? 예결위회의장 아닌가요?\" 00:15 이달희 \"들어갈 수 없어 당사로 왔습니다\" 00:16 박덕흠 \"중앙당사입니다\" 00:17 박수영 \"공수부대 진입 중입니다\" 00:19 조승환 \"내부사진 올리지 않았으면 합니다\" 00:26 한지아 \"국회에는 군헬기가 뜨고 군인들이 총을 들고 국회에 진입했습니다. 정당활동은 중지를 지시했습니다. 의원님들 오늘은 우리가 똘똘 뭉쳐야할 때입니다. 원대실에 계시지 마시고 본회의장 휴게실로 모여주세요\" 00:30 김정재 \"국회 들어가는 것이 불가능해 중앙당사에 모여있습니다\" \"의원님들 50여명 계십니다\" 00:41 최형두 \"지금 마산에서 막 도착해서 국회앞입니다. 시민들이 국회 주변으로 많이 걸어다닙니다. 국회 담 안쪽에는 경찰이 배치되어 출입을 못하게 합니다\" 00:41 조정훈 \"당사로 오세요\" 00:47 최형두 \"지금 헬기 3대가 국회 운동장으로 내린듯합니다\" \"헬기는 다시 날아갔습니다\" 00:47 본회의 개의 00:56 강민국 \"지금 서강대교 위인데 차가 움직이지 못하네요. 차량통제 하는듯합니다\" 1:00 국회 본회의 비상계엄 해제 요구 결의안 의결 1:01 최형두 \"170명 들어옸습니까?\" 1:11 최형두 \"담 넘어 왔습니다\" 1:15 조배숙 \"이미 190명 찬성으로 해제 의결되었습니다\" 1:16 최형두 \"국회 들어왔습니다\"'}, {'img': 'https://imgnews.pstatic.net/image/448/2024/12/18/2024121890311_0_20241218215519040.jpg?type=w860'}, {'review': {'': '', '쏠쏠정보': '11', '흥미진진': '3', '공감백배': '69', '분석탁월': '0', '후속강추': '97'}}, {'content': '[단독] 계엄선포부터 해제안 가결까지 與 \\'단체대화방\\' 전문입수…우왕좌왕 \\'지도부 혼란\\' TV조선 뉴스 Play 1.1K 00:00 02:01 [앵커] 비상계엄 선포 직후 당사와 국회로 나뉘어 있던 국민의힘 의원들의 행적을 두고 말들이 많습니다. 의도적으로 국회 출석을 막았다, 계파로 나뉘어 제 역할을 못했다. 이런 내용들인데, TV조선이 계엄 선포 직후부터 해제요구안이 가결된 시점까지 약 2시간 동안 여당 의원 단체대화방 대화 전문을 입수했습니다. 실제로 당시 상황이 어땠던 건지, 이채림 기자가 단독으로 보도해 드리고, 대화 전문은 온라인으로 공개합니다. [리포트] 비상 계엄 선포 직후 단체대화방엔 \"민주당은 바로 국회로 소집한다는데, 우리는 어찌하나?\", \"비상으로 국회해산이라도 하겠단 건가\"라는 당황스런 반응의 글들이 잇따라 올라왔습니다. 의원들의 의총 소집 요구가 이어지자 추경호 원내대표는 밤 11시 3분, 대화방이 아닌 문자메시지로 국회에서 비상의총을 연다고 공지했습니다. 하지만 잠시 뒤 국회가 통제됐단 소식이 전해지자, 서범수 사무총장이 \\'당사로 모이자\\'고 제안하고, 의총 장소는 6분 만에 당사 건물로 바뀝니다. 그로부터 20여분 뒤 한동훈 전 대표는 의원 핸드폰을 빌려 \"즉시 계엄을 해제하자, 민주당은 담을 넘어서 국회에 들어간다\"는 입장을 밝힙니다. 이후 한 전 대표와 추 원내대표 등 일부 의원들은 걸어서 국회로 들어갔는데, 지도부가 국회로 진입한 이후, 의총 장소는 다시 국회로 바뀌었습니다. 하지만 대화방엔 국회에 들어가려다 \"민주당 지지자들에게 봉변 당했다\", \"경찰 때문에 담도 넘어갈 수 없다\"며 당사로 왔다는 의원들의 글이 잇따라 올라옵니다. 이후 다시 당사로 바뀌는 등 혼선이 빚어지면서 \"집결장소를 명확히 해달라\", \"추 대표가 직접 말씀해달라\"는 글이 여러 건 올라왔습니다. 추 원내대표는 모두 8차례 문자 메시지 공지를 발송했지만, 대화방엔 별도 답을 달지 않았습니다. TV조선 이채림입니다.'}, {'review': {'': '', '쏠쏠정보': '0', '흥미진진': '2', '공감백배': '4', '분석탁월': '0', '후속강추': '3'}}, {'content': '‘AI 교과서는 교육자료’ 여야 공방도 국회 교육위원회에서 윤석열 대통령의 12·3 비상계엄에 대한 맹비난이 쏟아졌다. 이주호 사회부총리 겸 교육부 장관은 결국 고개 숙여 사과했다. 14일 서울 영등포구 여의도 국회 앞에서 열린 윤석열 대통령 탄핵 촉구 집회에서 참석자들이 탄핵소추안 가결 소식을 듣고 기뻐하며 응원봉을 흔들고 있다. 연합뉴스 국회 교육위원회는 18일 전체회의를 열고 현안 질의를 진행했다. 교육부에 따르면 이 부총리는 비상계엄 당시 계엄 선포 전 열린 국무회의엔 불참했고 계엄 해제 요구 결의안이 국회에서 통과된 뒤 열린 국무회의엔 참석했다. 박성준 더불어민주당 의원은 \"비상계엄은 국무회의를 거쳐야 하기 때문에 장관들에겐 다 연락하지 않았을까 (의심스럽다)\"면서 \"촛불 대신 꺼지지 않는 불빛을 들고 10대 20대가 광장에 나왔는데 교육부 장관으로서 잘못됐다고 분명히 얘기해야 되는 거 아니냐. 아이들 보기에 부끄럽지 않냐\"고 직격했다. 백승아 민주당 의원은 \"그날 비상계엄을 해제하지 못 했으면 저 어디 지하 감옥에 끌려갈 뻔했다\"며 \"최소한 국무위원으로서 반헌법적인 상황에 대해서 유감 표명이라도 해야 되는 것 아니냐\"고 물었다. 같은 당 정을호 의원은 \"탄핵당한 윤 대통령은 국민과 국회 국회의원에게 총부리를 겨누는 반헌법적이고 불법적인 계엄을 선포한 반국가세력 내란의 우두머리\"라며 \"윤 대통령의 탄핵이 부당하다고 생각하냐\"고 물었지만 이 부총리는 \"탄핵에 대한 심의는 헌재에서 하는 것\"이라며 즉답을 피했다. 그러나 야당 의원들의 압박 질의가 계속되자 이 부총리는 \"이번 사태로 인해 많은 어려움을 겪었을 청소년들, 학생들, 학부모들께 교육을 책임지는 부총리 겸 장관으로서 깊이 사과의 말씀 드린다\"며 \"앞으로 국회와 정부가 힘을 합해서 우리 미래 세대가 마음껏 뻗어 나갈 수 있도록 응원하고 지원하는 데 최선을 다하겠다\"고 결국 사과했다. 이주호 사회부총리 겸 교육부 장관. 연합뉴스 이날 전체회의에서는 인공지능(AI) 디지털교과서를 \\'교과서\\'가 아닌 \\'교육자료\\'로 규정한 초·중등교육법 개정안을 두고도 여야 간 공방이 벌어졌다. 개정안은 전날 국민의힘 의원들이 반대하는 가운데 국회 법제사법위원회에서 통과됐다. 김용태 국민의힘 의원은 \"AI 교과서가 \\'교육자료\\'로 규정되면 막대한 돈을 투자한 개발업체들의 반발이 클 것\"이라며 \"이미 정부가 교과서로 선정했는데 뒤늦게 법률로 교육자료로 규정한다면 법적인 문제도 우려된다\"고 말했다. 고민정 민주당 의원은 \"개정안은 AI 교과서를 쓰지 말자는 게 아니라 강제하지 말자는 것\"이라고 강조했다. 김영호 교육위원장은 윤석열 대통령의 직무가 정지된 것을 거론하며 \"교육부는 국회 입법을 존중하고 다른 방법으로 야당을 설득하라\"고 요구했다. 교육위는 이날 임태희 경기도 교육감이 지난 10월 국정감사에서 자료 제출에 응하지 않았다며 야당 주도로 고발 안건을 의결했다. 박성준 민주당 의원은 국감에서 경기도교육청 소속 한 장학사가 2022년 지방선거 시기 특정 후보 지지를 호소하는 문자를 주변에 발송해 공직선거법 위반으로 벌금형을 받았는데도 경징계 처분을 받았다며 임 교육감에게 도 교육청 징계위 회의록 제출을 요구한 바 있다. 한편 교육위는 교원 보호공제사업 범위에 교육활동 침해 행위로 휴직한 교원의 학교 복귀 지원을 추가하는 내용의 교원지위법 개정안, 사이버폭력의 범위에 딥페이크 영상을 포함하는 내용의 학교폭력예방법 개정안 등은 여야 합의로 의결했다. 교육부의 \\'고등교육기관에 대한 지도·감독 권한\\'을 \\'긴급하고 중대한 사유가 있는 경우\\'로 축소하고 대학교에 학·석·박사학위 통합 과정을 둘 수 있게 하는 등 고등교육 혁신방안을 담은 고등교육법 개정안은 법안소위에 회부됐다.'}, {'img': 'https://imgnews.pstatic.net/image/277/2024/12/18/0005519943_001_20241218210513116.jpg?type=w860'}, {'review': {'': '', '쏠쏠정보': '0', '흥미진진': '0', '공감백배': '0', '분석탁월': '0', '후속강추': '0'}}, {'content': '[앵커] 치열한 교전이 펼쳐지고 있는 러시아 쿠르스크 지역에서 우크라이나 군이 드론으로 공격하는 영상을 추가로 공개했습니다. 북한군을 공격했다며 공개한 영상인데, 이 공격으로 모두 50명이 숨지고 47명 이상이 다쳤다고 주장했습니다. 박희재 기자입니다. [기자] 흰 눈으로 덮인 허허벌판에 군인들 몇몇이 숨 가쁘게 몸을 피합니다. 1인칭 시점으로 촬영한 카메라와 산타 인형을 부착한 드론이 순식간에 이들 사이로 향합니다. 다른 각도에서 촬영된 현장, 벌판 위 군인들 사이로 폭발과 함께 시커먼 연기가 나고, 쓰러진 병사를 숲으로 끌고 가는 모습도 보입니다. 현지시간으로 17일, 우크라이나 특수작전군이 SNS로 공개한 1분이 조금 넘는 영상입니다. 영상에 드러난 공격 장면만 무려 17차례입니다. 이 영상을 올린 우크라군은, 쿠르스크로 온 북한군을 사흘에 걸쳐 공격했다고 주장했습니다. 모두 50명이 숨졌고, 최소 47명이 다쳤으며, 장갑차 두 대를 비롯한 군사용 차량도 폭파했다고도 밝혔습니다. 그보다 앞서 젤렌스키 우크라이나 대통령은 드론으로 북한군을 촬영했다며 그 얼굴을 공개했습니다. 영상에는, 나무 뒤로 몸을 숨긴 동양인 얼굴의 군인이 보이는데 드론을 발견하고는 체념한 듯 고개를 숙이기도 합니다. 또 다른 영상에선 군복을 입은 한 동양인이 자신의 얼굴을 촬영하자, 누군가가 서투른 영어 억양으로 마스크를 얼른 쓰라고 외칩니다. \"마스크 쓰라고 해, 얼른 쓰라고\" 젤렌스키 대통령은 이를 두고, 러시아가 북한군을 동원한 사실을 숨기기 위해 얼굴 노출을 금지시키고 있다고 주장했습니다. 그러면서, 러시아가 이들의 사망 사실까지 은폐하려 한다며 맹비난했습니다. 북한군이 이번 러시아-우크라이나 전쟁에 동원된 것으로 알려진 지 벌써 두 달째. 다른 전투까지 고려할 때 사상자만 이미 200명이 넘는 것으로 파악되지만, 북한은 긍정도 부정도 없이 침묵하고 있습니다. YTN 박희재입니다. ※ \\'당신의 제보가 뉴스가 됩니다\\' [카카오톡] YTN 검색해 채널 추가 [전화] 02-398-8585 [메일] social@ytn.co.kr'}, {'review': {'': '', '쏠쏠정보': '1', '흥미진진': '2', '공감백배': '4', '분석탁월': '0', '후속강추': '5'}}, {'content': '탄핵 찬성표 던진 뒤 김상욱에 다가간 이준석 이준석 \"젊은 의원들과 식사 하는 사이\" 윤석열 대통령의 탄핵소추안이 가결된 후 홀로 국민의힘 의원석에 앉아있던 김상욱 의원(44)과 이준석 개혁신당 의원(39) 사이에 오간 대화 내용이 공개됐다. 당시 김 의원은 당론을 거부하고 탄핵 찬성표를 던진 뒤 한동안 고개를 들지 못한 채 자리를 지키고 있었고, 이때 이 의원이 위로를 전하듯 그에게 손을 내미는 장면이 포착돼 눈길을 끌었다. 지난 14일 윤석열 대통령 탄핵소추안이 가결된 뒤 국민의힘 의원석에 앉아 있던 김상욱 의원(가운데)에게 이준석 개혁신당 의원(오른쪽) 등이 다가가 격려하는 모습. JTBC 캡처 이 의원은 18일 채널A \\'정치시그널\\'에서 \"그날은 그냥 \\'형, 오늘 저녁에 술이나 한잔할래?\\'라고 물었고 김 의원은 \\'오늘은 아닌 것 같아\\'라고 했다\"며 당시 김 의원이 많이 힘들어했다고 전했다. 이 의원은 \"원래 김 의원은 저와 친하기 때문에 가끔 몇몇 젊은 의원끼리 식사도 하는 사이다\"라고도 했다. 진행자가 \"국민의힘 중진, 영남권 의원을 중심으로 찬성표를 던진 젊은 의원들에 대한 비토 여론이 있는데 젊은 보수 의원들과 뭔가 도모할 생각이 있느냐\"고 묻자 이 의원은 \"지금까지 고민하는 의원들한테 단 한 번도 \\'어떻게 했으면 좋겠다\\' 이런 얘기를 한 적이 없다. 그건 예의가 아니다\"라고 선을 그었다. 다만 \"큰 결단을 하고 고민하는 사람들이기 때문에 그들이 물어보면 가끔 조언은 한다\"며 이런 식으로 소통은 이어갈 것이라고 덧붙였다. 이날 이 의원은 \"국민의힘 대표 시절 최고위원회 때 제가 가끔 김재원 최고에게 귓속말을 하면 기자들이 \\'무슨 소리를 하셨어요?\\'라고 물었지만 공개하면 웃길 것 같아서 제가 공개를 안 했다\"라고도 했다. 그러면서 \"그때 김재원 최고에 한 귓속말은 \\'어제 방송에서 쓸데없는 소리 하셨던데 하지 마세요\\' 뭐 이런 것이었다\"며 넌지시 김 전 최고위원을 꼬집었다. 앞서 김 의원은 지난 7일 윤 대통령 1차 탄핵소추안 표결 당시 당론을 어기고 같은 당 안철수·김예지 의원과 함께 표결에 참여했다. 그는 2차 표결을 앞두고는 탄핵 찬성 입장을 밝히며 이틀 동안 국회 본청에서 같은 당 의원을 상대로 탄핵 찬성을 촉구하는 1인 시위를 펼치기도 했다. 공개적으로 탄핵 찬성 입장을 밝힌 김 의원에 대해 응원과 지지를 보내는 이들도 있었지만, 탄핵을 반대하는 보수 지지층을 중심으로 \\'배신자\\'라는 비난도 쏟아졌다. 가족 등에 대한 협박이 잇따르자 김 의원은 경찰에 신변 보호를 요청한 것으로도 알려졌다.'}, {'img': 'https://imgnews.pstatic.net/image/277/2024/12/18/0005519940_001_20241218205617196.jpg?type=w860'}, {'review': {'': '', '쏠쏠정보': '36', '흥미진진': '0', '공감백배': '10', '분석탁월': '3', '후속강추': '4'}}, {'content': '이준석 개혁신당 의원과 허은아 개혁신당 대표. 뉴시스 김철근·정재준·이경선 경질…사무총장 권한 확대 당규에 허은아 발끈 정치권 일각 “허은아 사퇴 후 비대위 전환…이준석 대선캠프 꾸려질 것” 윤석열 대통령에 대한 탄핵소추안이 국회에서 가결돼 조기 대선이 치러질 가능성이 커진 가운데, 개혁신당에서 허은아 대표의 당직자 인사를 둘러싼 갈등이 불거져 나왔다. 허 대표가 차기 대선 출마를 시사한 이준석 의원 측 핵심 인사들을 전격 경질한 데 따른 것인데, 이 의원과 당직자 노동조합이 허 대표를 거세게 비판하면서 “당이 쪼개지는 것 아니냐”는 우려가 나오고 있다. 18일 정치권에 따르면, 허 대표는 전날 김철근 사무총장과 정재준 전략기획부총장, 이경선 조직부총장을 전격 경질하고 후임 인선 절차를 진행하고 있다. 김철근 총장은 이준석 의원이 국민의힘 당 대표 시절 정무실장을 지내며 성매매 의혹 등이 불거져 이 의원이 곤경에 처했을 때 최전선에서 적극 방어했던 최측근이다. 정재준 부총장, 이경선 부총장도 이 의원과 김 총장을 도와 개혁신당 창당에 큰 역할을 한 인물들로, 이 의원 측 인사들이다. 허 대표는 당 운영 형태를 놓고 이들 3명과 갈등을 빚다 경질을 결심한 것으로 알려졌다. 결정적으로 지난달 치러진 비공개 최고위원회의에서 김 총장이 자신에게 보고하지 않고 사무총장의 전략·조직·인사 권한을 대폭 확대하는 내용을 담은 ‘당헌·당규 개정안’을 상정하자 크게 화를 낸 것으로 전해졌다. 이 의원 측 인사들이 ‘원외 당대표’인 자신과 상의 없이 당 장악력을 강화하려고 한 것에 대한 반발로 풀이된다. 이에 대해 이준석 의원은 전날 자신의 페이스북에 “알아서 고립무원의 지위에 놓인 사람이 결자해지해야지요”라며 “어떻게 그렇게 단시간에 당을 사랑하는 모든 사람에게 배척당하는지 의문”이라고 허 대표를 직격했다. 이어 “자기가 사고쳐놓고 누구한테 뒤집어씌웁니까”라며 “최근 당직 인선과 관련해 허은아 대표에게 어떤 의견도 개진한 바 없고 어떤 소통도 한 바 없다”고 선을 그었다. 이 의원은 지난 14일 한 라디오 방송에 출연해 “대선출마를 진지하게 검토하고 있다”고 밝히기도 했는데, 자신의 당에서 때아닌 내분이 일어나면서 당혹스러운 처지가 됐다. 개혁신당 당직자 노동조합도 허 대표 비판에 가세했다. 노조는 17일 성명서를 내고 “사무총장과 조직부총장 등 주요 핵심 당직자가 직에서 사퇴하는 ‘당무 비상사태’를 맞았다”며 “허 대표의 지난 임기는 비전과 정책은 뒷전으로 미루고, 오로지 ‘허은아’라는 개인을 띄우는 데 당과 사무처 당직자를 동원했다”고 꼬집었다. 그러면서 “임기 7개월 동안 정치적 실리와 명분 없는 지역순회와 후속 대응 없는 보여주기식 간담회·입법전략 없는 메시지 정치·언론 앞에 서는 데만 열중한 이미지 정치는 당을‘사당화’로 이끌었다”고 덧붙였다. 정치권 한 관계자는 개혁신당의 이같은 내부갈등에 대해 “애초부터 당의 대주주인 이준석 의원이 당대표를 맡지 않았던 게 이번 사태로 귀결된 것”이라며 “허 대표는 머지 않아 사퇴할 것으로 보이고, 이후 자연스럽게 비대위로 전환해 이 의원 대선캠프가 꾸려지는 게 개혁신당의 자연스러운 수순이 될 것”이라고 내다봤다.'}, {'img': 'https://imgnews.pstatic.net/image/021/2024/12/18/0002678982_001_20241218211312224.jpg?type=w860'}, {'review': {'': '', '쏠쏠정보': '43', '흥미진진': '1', '공감백배': '5', '분석탁월': '2', '후속강추': '3'}}, {'content': '이준석 개혁신당 의원과 허은아 대표 /사진=뉴스1 \"자기가 사고쳐놓고 누구한테 뒤집어씌웁니까. 고립무원에 놓인 사람이 알아서 결자해지해야지요.\" 이준석 개혁신당 의원의 17일 발언으로 정치권이 뜨겁다. 개혁신당 내홍은 당 대표와 당 사무처 간 당 운영 방향을 두고 빚어온 갈등 끝에 촉발한 것으로 보인다. 18일 정치권에 따르면 허은아 개혁신당 대표가 이 의원의 측근인 김철근 사무총장을 경질했다. 이 상황에 이 의원이 \"사고 친 사람이 결자해지하라\"며 원상회복을 요구하고 나선 것으로 보인다. 당 일각에서는 조기 대선 가능성이 있는 상황에서 돌연 이뤄진 사무총장 교체가 이해하기 어렵다는 잡음이 쏟아져 나왔다. 이 상황을 지켜보던 하헌기 더불어민주당 전 상근부대변인이 사회관계망서비스(SNS)에 글을 올려 \"개혁신당은 대외적으로 그냥 \\'이준석 당\\'인데 상징적으로 큰 지분은 가진 그가 자당 인사를 공개 저격 비슷하게 하는 것은 좀 우스꽝스럽다\"고 저격했다. 하 전 부대변인은 \"정치 고관여층이나 ‘개혁신당’ 이름 넉자를 알지, ’이준석이 탈당해서 새로 만든 당‘이라고 설명 안 하면 아직도 그 당 모르는 사람 천지다\"라며 \"심지어 ’정치 고관여층‘ 조차 개혁신당 당 대표가 허은아인지 모르는 사람이 많다\"고 주장했다. 이어 \"그런 이준석이 자기 당에서 터진 뭔가의 문제에 대해 SNS에 논평으로 ‘결자해지하라’ 한 마디 툭 얹어놓으며 자당 인사들 공개 저격 비슷하게 하는 것은 좀 우스꽝스럽다\"면서 \"평상시였으면 원래 그런 스타일이니 그런가 보다 했을 거다. 그런데 그는 며칠 전에 언론에 대고 \\'대선 출마 검토 중\\'이라는 메시지를 내지 않았다. 첫 공개 행보에 가까운 웅장한 메시지가 고작 \\'허은아 저격\\'이라니\"라고 안타까움을 표했다. 그러면서 \"허은아가 잘했다 누가 잘못했다 이런 이야기 하려는 게 아니라 관심도 없다\"면서 \"정치인은 어떤 문제에 대해 \\'당신이 결자해지하라\\'하는 사람들이 아니라는 얘기를 하는 것이다. 네가 결자해지 하세요’ 하는 사람들이 아니란 이야길 하는 거다. 소위 자 당의 ‘대선주자’가 되겠다는 사람이 자기가 속한 작은 당의 갈등 하나 조율할 의지를 보이지 못해 ‘당신이 알아서 풀어라\\' 하고 툭 던지는 걸 유권자들은 어떻게 이해할까. 그런 사람이 대한민국의 수많은 복합갈등은 어떻게 대할지 의문을 갖지 않을까. 게다가 그 대상이 다른 이도 아니고 국민의힘 때부터 천아용인이니 하며 같이 해온 핵심 동지 아닌가\"라고 지적했다. 아울러 \"이런 태도로는 외연 확장은 고사하고 지지층까지 와해하는 것으로 사실상 자해행위에 가깝다\"면서 \"본인이 지도자가 되는 건 저런 점에 대한 진지한 성찰 없인 무리다\"라고 했다. 앞서 이 의원은 허 대표를 겨냥해 \"알아서 고립무원의 지위에 놓인 사람이 결자해지해야 한다\"며 \"어떻게 그렇게 단시간에 당을 사랑하는 모든 사람에게 배척당하는지 의문이다. 자기가 사고 쳐 놓고 누구한테 뒤집어씌우느냐\"고 일갈했다.'}, {'img': 'https://imgnews.pstatic.net/image/015/2024/12/18/0005071928_001_20241218210912656.jpg?type=w860'}, {'review': {'': '', '쏠쏠정보': '9', '흥미진진': '2', '공감백배': '61', '분석탁월': '0', '후속강추': '1'}}, {'content': '<출연 : 윤주진 국민의힘 미디어특별위원회 위원·장윤미 전 민주당 법률위 부위원장> 여야가 윤 대통령의 탄핵 심판을 위한 헌재 구성을 놓고 줄다리기를 이어가고 있습니다. 한덕수 권한대행은 헌법재판관 임명과 거부권 행사를 놓고 고심 중입니다. 이런 가운데, 국민의힘 권성동 대표 권한대행과 더불어민주당 이재명 대표가 윤 대통령 탄핵소추안 가결 이후 처음으로 회동을 가졌는데요. 윤주진 국민의힘 미디어특별위원회 위원, 장윤미 전 민주당 법률위 부위원장 두 분과 어떤 얘기가 오갔는지 보겠습니다. <질문 1> 권성동 당 대표 권한대행과 이재명 대표가 오늘 처음 회동했습니다. 권 권한대행은 \"무분별한 탄핵소추안을 국회 차원에서 철회해달라\"고 제안하며 \\'대통령 중심제\\' 개헌 필요성을 언급했습니다. 이 대표는 국정안정협의체를 꾸릴 것과 민생 안정을 위한 추경을 집행하자고 제안했는데요. 이번 회동 어떻게 보셨습니까? <질문 2> 여야는 공석인 국회 몫 헌법재판관 3명 임명 문제를 둘러싸고 첨예하게 대립 중인데요. 우원식 의장이 한덕수 권한대행을 향해 \"헌법재판관 후보자 3명의 인사청문 절차가 마무리되는 즉시 임명하는 것이 합당하다\"고 밝혔습니다. 국민의힘은 권한대행이 직무 정지된 대통령을 대신해 헌법재판관을 임명하는 건 법리적 문제가 있다고 반박하고 있잖아요. 앞으로 어떻게 진행될까요? <질문 2-1> 헌법재판관 3명에 대한 청문회는 23~24일 열릴 예정입니다. 민주당은 국민의힘이 청문회에 들어오지 않더라도 오는 27일 본회의 표결을 거쳐 헌법재판관 임명 절차를 강행하겠단 입장이에요? <질문 3> 한 권한대행이 야당 주도로 국회를 통과한 6개 쟁점 법안 비롯해 김건희 여사 특검법과 내란 특검법에 거부권을 행사할지 여부도 주목을 받고 있습니다. 탄핵 정국이라는 상황에 처리 시한 마지막까지 고민할 것이란 전망이 나오는데요. 한 권한대행이 어떤 결정을 내릴 것이라 보세요? <질문 4> 헌법재판소가 윤 대통령에게 준비명령을 내리면서, 오는 24일까지 비상계엄 포고령 1호와 계엄 관련 국무회의 회의록을 제출하라고 했습니다. 지난 13일 국회 행안위에서 고기동 행정안전부 장관 직무대행은 비상계엄 선포 직전 국무회의 회의록 존재 여부를 묻는 말에 \"회의록은 없다\"고 답한 바 있는데요. 이번 헌재의 준비명령에 대해 윤 대통령 측이 어떻게 회신할지 관심이 쏠리는데요? <질문 5> 한편, 비상계엄 사태를 수사 중인 검찰은 윤 대통령 사건을 공수처에 넘기기로 했습니다. 윤 대통령 측은 그동안 중복수사 조정이 필요하다며 수사기관의 출석 요구에 불응해 왔는데, 이제 수사 주체가 공수처로 일원화됐잖아요. 이제 윤 대통령 측이 어떻게 대응할 것이라 보세요? <질문 6> 국민의힘 상황도 짚어봅니다. 당내에서는 누가 비대위원장을 맡느냐를 놓고도 논의가 이어지고 있는데, 구체적인 후보군을 추리진 못하고 있는 것으로 알려졌습니다. 권성동 원내대표가 비대위원장까지 겸임하는 방안도 나오고, 중진 의원들 사이에선 \\'투톱 체제가 낫다\\'는 의견이 나온 것으로 알려졌는데요. 어떻게 결정날까요? <질문 7> 이재명 더불어민주당 대표는 공직선거법 위반 사건 항소심 통지서를 수령하지 않고, 변호사도 선임하지 않은 것으로 알려졌습니다. 일각에선 조기 대선 가능성을 염두에 둔 것 아니냐는 해석도 나오는데, 어떻게 보십니까? 연합뉴스TV 기사문의 및 제보 : 카톡/라인 jebo23'}, {'review': {'': '', '쏠쏠정보': '0', '흥미진진': '0', '공감백배': '0', '분석탁월': '1', '후속강추': '0'}}, {'content': '[단독] 검찰, 명태균-김건희 여사 통화녹음 확보‥尹-명태균 통화 날 이뤄져 MBC뉴스 Play 6.5K 00:00 02:26 [뉴스데스크] ◀ 앵커 ▶ 그동안 소문으로 떠돌던 김건희 여사와 명태균 씨의 녹음파일이 확인됐습니다. 윤석열 대통령 부부의 공천개입 의혹을 수사 중인 검찰이, 명 씨의 휴대전화에서 김 여사와 명씨의 녹음파일을 확보한 겁니다. 국민의힘 김영선 전 의원 공천을 두고, 취임을 하루 앞둔 윤 대통령이 명 씨와 통화한 날, 김건희 여사도 명씨와 통화한 건데요. 압수된 명 씨의 휴대전화에선 많은 양의 녹음파일이 쏟아진 것으로 전해집니다. 박솔잎 기자의 단독보도입니다. ◀ 리포트 ▶ 창원지검 수사팀이 명태균씨와 김건희 여사의 통화녹음을 확보했습니다. 명태균씨가 임의제출한 휴대전화 잠금 패턴을 풀고 녹음파일을 찾아낸 겁니다. 지난 대선 기간을 포함해 명씨가 4년 넘게 썼던 휴대폰입니다. 통화한 전화번호는 김건희 여사 번호였습니다. 김여사와 명씨의 통화 날짜는 2022년 5월 9일. 취임을 하루 앞둔 윤석열 당시 대통령 당선인이 명씨와 통화한 바로 그날입니다. [윤석열 대통령 - 명태균 씨 (2022년 5월 9일)] \"공관위에서 나한테 들고 왔길래 내가 김영선이 경선 때부터 열심히 뛰었으니까 그거를 김영선이를 좀 해줘라 그랬는데 말이 많네 당에서…<진짜 평생 은혜 잊지 않겠습니다, 고맙습니다.>\" 명씨는 이날 김여사와도 전화했다고 주변에 말해왔습니다. [명태균 - 지인 대화] \"바로 끊자마자 마누라한테 전화 왔어. \\'선생님, 윤상현이한테 전화했습니다. 보안 유지하시고 내일 취임식 꼭 오십시오.\\' 이래 가지고 전화 끊은 거야.\" 윤상현 의원은 2022년 6·1 재·보궐선거 당시 국민의힘 공천관리위원장이었습니다. 윤 의원은 윤 대통령 부부의 연락을 받은 적 없다는 입장을 고수하고 있습니다. 검찰은 당시 공천관리위원회에 참여했던 한기호, 강대식 의원을 조사한 데 이어 조만간 윤상현 의원도 불러 김영선 전 의원 공천 과정을 들여다보겠다는 방침입니다. 검찰이 확보한 명씨의 휴대폰은 모두 3대, 그리고 USB도 있습니다. 나머지 휴대폰 2대는 다 보지도 않았지만, 많은 양의 녹음파일이 쏟아진 것으로 알려졌습니다. 명씨가 그동안 오세훈 서울시장, 홍준표 대구시장, 박완수 경남지사, 김진태 강원지사, 이준석 개혁신당 의원 등 유력 정치인들과 친분이 있다고 주장해온 만큼 녹음파일에 어떤 내용이 담겼을지 관심이 쏠립니다. MBC뉴스 박솔잎입니다. 영상취재: 정인학 / 영상편집: 박찬영 MBC 뉴스는 24시간 여러분의 제보를 기다립니다. ▷ 전화 02-784-4000 ▷ 이메일 mbcjebo@mbc.co.kr ▷ 카카오톡 @mbc제보'}, {'review': {'': '', '쏠쏠정보': '4', '흥미진진': '1', '공감백배': '27', '분석탁월': '2', '후속강추': '238'}}, {'content': '한동훈 \"계엄 직후 \\'국회 가면 죽는다, 피신하라\\' 전화 받았다\" MBC뉴스 Play 5.4K 00:00 02:39 [뉴스데스크] ◀ 앵커 ▶ 12·3 비상계엄 선포 직후 한동훈 당시 국민의힘 당대표에게 의문의 전화가 걸려왔던 것으로 파악됐습니다. \"국회에 가면 목숨이 위험하니 피신하라\"는 긴박한 내용의 전화였는데요. 한 전 대표는 \\'설마 그러겠나\\' 싶어 국회로 향했고, 실제 체포조가 가동됐다는 이야기를 전해들은 뒤 크게 놀랐던 것으로 전해졌습니다. 손하늘 기자입니다. ◀ 리포트 ▶ 윤석열 대통령이 비상계엄을 선포한 지난 3일 밤. 한동훈 국민의힘 전 대표는 11시 반쯤 당사에서 국회의사당으로 향했습니다. 한 전 대표는 \"이 당시 군 내부정보에 밝은 한 관계자에게 전화를 받았다\"는 사실을 최근 주변 인사들에게 공개했습니다. 복수의 친한동훈계 인사들에 따르면, 한 전 대표는 이 관계자에게서 \"국회에 절대 가지 말고 피신하라, 체포될 것이고 잡히면 죽을 수 있다, 절대 잡히면 안 된다\"고 들었다는 겁니다. 다만, 한 전 대표는 그대로 국회로 향했고, 계엄해제 요구안 표결이 이뤄지는 본회의장에 머물렀습니다. [한동훈/전 국민의힘 대표(지난 3일)] \"국민과 함께 자유민주주의를 지키겠습니다. 비상계엄을 반드시 막아내겠습니다.\" 한 대표는 사흘 뒤, 윤 대통령의 탄핵소추안 첫 표결을 하루 앞두고 \"윤 대통령이 방첩사령부를 통해 정치인 체포를 명령한 사실을 확인했다\"고 폭로했습니다. [한동훈/전 국민의힘 대표(지난 6일)] \"주요 정치인들 등을 반국가세력이라는 이유로 고교 후배인 여인형 방첩사령관에게 체포하도록 지시했던 사실…\" 국가정보원 홍장원 전 1차장도 \"윤 대통령이 직접 전화해 \\'이번 기회에 싹 잡아들이라\\'고 말했다\", \"방첩사령관이 한 전 대표를 포함한 체포대상자 명단을 불러줬다\"고 국회 정보위에 보고했습니다. 한 친한동훈계 의원은 MBC에 \"통화 발신자가 신뢰할만한 인물이었지만 한 전 대표가 \\'설마 그러겠나, 내용이 말이 안 된다\\' 싶어 국회로 들어온 것으로 안다\"며 \"나중에 \\'체포조\\' 정황이 실제 드러나 한 대표가 크게 놀랐다\"고 전했습니다. 또다른 당 핵심 관계자는 \"당시 윤 대통령이 계엄 해제 선포를 미루자, 한 대표가 혹시 모를 체포 가능성에 대비해 본청 안에 계속 머무른 것으로 안다\"고 전했습니다. 여당 대표까지 포함한 정치인 체포 시도에 대한 진실은, 속도를 내고 있는 \\'내란죄\\' 수사를 통해 밝혀질 것으로 보입니다. MBC뉴스 손하늘입니다. 영상취재: 이지호 / 영상편집: 박병근 MBC 뉴스는 24시간 여러분의 제보를 기다립니다. ▷ 전화 02-784-4000 ▷ 이메일 mbcjebo@mbc.co.kr ▷ 카카오톡 @mbc제보'}, {'review': {'': '', '쏠쏠정보': '10', '흥미진진': '1', '공감백배': '14', '분석탁월': '0', '후속강추': '31'}}, {'content': '\"윤 대통령, 본인 대선도 부정선거 의심\"‥캠프 인사들 증언 MBC뉴스 Play 3.6K 00:00 03:06 [뉴스데스크] ◀ 앵커 ▶ 윤석열 대통령이 당선 이전부터 극우 유튜브를 즐겨 봤고, 부정선거 음모론에 깊이 빠져들었던 정황들이 속속 드러나고 있습니다. 심지어 본인이 당선된 대선 결과도 의심했다는 게 후보 시절 가까이서 보좌했던 캠프 관계자들의 증언인데요. 극우 유튜버들은 지금도 부정선거 주장을 쏟아내고 있습니다. 윤수한 기자입니다. ◀ 리포트 ▶ 20대 대선을 일주일여 앞뒀던 재작년 2월 말. 윤석열 당시 후보는 사전투표를 독려한다며 대뜸 2년 전 총선의 부정선거 의혹을 꺼냅니다. [윤석열/당시 국민의힘 대선후보 (2022년 2월)] \"(2020년) 4.15 총선에서 좀 부정 의혹이 있다고 생각하시는 분들이 많이 계시는 걸로 알고 있습니다.\" 대선 캠프 출신의 한 핵심 관계자는 MBC와의 통화에서, \"윤 대통령이 자신이 당선된 대선 결과조차 의심했다\"고 털어놓았습니다. 사전 여론조사에서 5~10% 포인트 앞섰는데 개표 결과 0.73% 포인트밖에 못 이긴 게 이상하다는 주장을 했다는 겁니다. 윤 대통령은 특히 대선과 같은 날 치러진 국회의원 재보궐 선거 결과와 비교하며, 서울 서초갑의 국민의힘 후보가 73%를 득표했는데 자신의 서초구 득표율이 65%에 그친 것도, 부정선거의 증거란 주장까지 한 걸로 전해졌습니다. [김 웅/국민의힘 전 의원 (지난 12일, CBS 라디오 \\'박재홍의 한판승부\\')] \"정권 초기였을 때 유경준 의원하고 대통령하고 좀 언쟁이 좀 있었습니다. 대통령께서 부정선거 얘기를 하시니까. \\'유튜브에서 나오는 것들을 하나씩 하나씩 이야기를 하시더라…\" 윤 대통령은 이미 대선 경선 후보 때부터 \\'민주당 지지자가 국민의힘에 몰래 당원으로 가입하고 있다\\'는 근거 없는 의혹을 꺼냈다가 비판을 자초하기도 했습니다. [윤석열/당시 국민의힘 대선경선 후보 (2021년 10월 4일)] \"이제는 우리당 경선에까지 마수를 뻗치고 있습니다. 여러분들 들으셨죠? 위장당원들이 엄청 가입을 했다는 것을…\" 한 극우 유튜버의 하루 전 발언을 공개 석상에서 사실상 되풀이 한 셈입니다. [윤희석/국민의힘 대변인 (지난 13일, 유튜브 \\'신용산객잔\\')] \"특정 유튜브를 좀 많이 보신 건 맞아요. 그 \\'위장 당원\\'이라는 딱 그 단어가 특정 유튜브 속에 썸네일에 써 있더라고요.\" 당선 이후 윤 대통령은 극우 유튜버들을 취임식과 간담회에 초청하고 명절 선물을 보내며 각별히 챙겼습니다. 국회의 탄핵소추안 가결 뒤에도 극우 인사들은 부정선거 음모론을 확산시키며 계엄의 정당성을 주장하고 있습니다. [전광훈 (오늘, 유튜브 \\'펜앤드마이크TV\\')] \"야당 192석이잖아요 저는 그중에 절반은 가짜라고 생각합니다…이번에 4월 10일 총선이 가짜라는 거야. 대통령은 이걸 확신하고 있었어.\" [이봉규 (어제, 유튜브 \\'이봉규TV\\')] \"한국 부정선거 증거를 다 가져갔습니다 트럼프 장남이요. 그러면 트럼프 임기 시작과 함께 윤석열 대통령한테 힘을 실어주지 않겠느냐.\" MBC뉴스 윤수한입니다. 영상편집: 박초은 MBC 뉴스는 24시간 여러분의 제보를 기다립니다. ▷ 전화 02-784-4000 ▷ 이메일 mbcjebo@mbc.co.kr ▷ 카카오톡 @mbc제보'}, {'review': {'': '', '쏠쏠정보': '0', '흥미진진': '0', '공감백배': '2', '분석탁월': '0', '후속강추': '16'}}, {'content': '<앵커> 내란 혐의로 긴급체포된 노상원 전 정보사령관은 민간인 신분이지만, 이번 비상계엄 사태의 핵심 인물로 꼽히고 있습니다. 수사기관도 김용현 전 국방장관과 거의 같은 급의 인물로 보고 있는 걸로 저희 취재 결과 파악됐습니다. 정보사를 사실상 총지휘하며 계엄의 기획, 실행, 심지어 추가작전까지 준비한 정황들이 잇따라 나오고 있습니다. 이 내용은 김태훈 국방전문기자가 단독 취재했습니다. <기자> 비상계엄 당일인 3일 저녁 경기도 판교에 소집된 정보사 요원들은 북파공작원 HID와 인적정보 휴민트의 혼성 부대인 계엄 상황관리 TF로 확인됐습니다. 정보사 소식통은 \"계엄 상황관리 TF는 최소 5개에서 최대 10개 팀으로 구성됐다\"며 \"전체 규모와 각 팀의 구체적인 임무는 공개되지 않고 있다\"고 밝혔는데, 팀별로 공작, 체포, 경호, 경비 등의 임무를 맡았을 것으로 추정됩니다. 소식통은 계엄 당시 선관위에 출동해 서버를 촬영한 정보사 장교들은 상황관리 TF와 다른 조직이라며, 별도로 \"정보사에 계엄 수사본부를 설치하려는 계획도 있었다\"고 전했습니다. 또 \"정보사 경력이 1년 정도밖에 되지 않는 문상호 현 사령관은 상황관리 TF만 책임지고, 노상원 전 사령관이 부정선거 음모론을 조사하기 위한 계엄수사본부 등 정보사 계엄조직 전체를 총괄하는 실질적 사령관\"이라고 강조했습니다. 노 전 사령관이 사실상 지휘한 정보사 계엄조직의 숨겨진 규모와 임무가 상당하다는 겁니다. 비상계엄사태를 수사하고 있는 공조수사본부 고위 관계자도 SBS에 \"노 전 사령관은 김용현 전 장관과 거의 같은 급으로 보인다\"고 말했습니다. 긴급체포 되기 직전 노 전 사령관은 SBS와 인터뷰에서 국회에서 계엄해제요구 결의안이 통과된 직후인 4일 새벽 1시 반쯤 김용현 전 장관으로부터 첫 전화를 받았고, 이후 한두 시간 뒤 김 전 장관에게 전화를 걸어 \"살 길을 찾아야 한다\"는 취지로 말했다고 밝혔습니다. [노상원/전 정보사령관 : 그러고 나서 한 한두 시간 있다가 내가 다시 전화를 해서 \\'어떻게 하실 거냐\\' 그러니까 (김용현 전 장관이) 한숨만 푹푹 쉬길래, \\'힘내십시오 그리고 죽으라는 법은 없으니까 살 길을 찾아야하지 않습니까\\' 그런 식으로 통화를 하고…] 민주당 박선원 의원은 두 번째 통화에서 노 전 사령관이 김 전 장관에게 추가 작전을 건의했다고 주장했습니다. [박선원/민주당 의원(오늘, 김어준 뉴스공장) : 노상원이 SBS에 실토를 한 것은 1시 20분에 김용현이 자기한테 전화를 했다는 거잖아요. 그 다음에 3시 20분경에 다시 노상원이가 김용현에게 전화를 하거든요. 그래서 \\'추가 작전\\'을 하자는 식으로 강력하게 노상원이가 이야기를 하는데….] 계엄 사전 모의혐의를 받고 있는 노 전 사령관이 김 전 장관에게 말했다는 \\'살 길\\'이 계엄 추가작전인지, 최대 10개 팀으로 꾸려진 상황관리 TF의 정확한 역할이 무엇인지는 수사로 밝혀야 할 대목입니다. (영상취재 : 조춘동, 영상편집 : 정성훈, 디자인 : 최재영)'}, {'review': {'': '', '쏠쏠정보': '21', '흥미진진': '4', '공감백배': '17', '분석탁월': '2', '후속강추': '132'}}, {'content': '<앵커> 다음은 저희가 단독 취재한 내용 전해 드리겠습니다. 지난 3일 비상계엄선포 직후 김용현 전 국방장관이 합동참모본부 지휘통제실에서 계엄 상황을 지휘했습니다. 저희 취재 결과 김 전 장관은 당시 전화기 두 대를 사용했는데 한 전화로는 대통령의 지시를 받고, 다른 전화로는 작전 지시를 했던 걸로 드러났습니다. 김수영 기자가 단독 취재했습니다. <기자> 비상계엄이 선포된 뒤 1시간 반쯤 지난 4일 새벽 0시부터 1시 반까지 김용현 전 국방장관은 합동참모본부 지휘통제실에서 계엄 상황을 지휘하고 있었습니다. 당시 상황을 잘 아는 국방부 관계자는 SBS에 \"김 전 장관 혼자 전화기를 들고 지휘하고, 차관을 비롯한 나머지 부서장들은 지휘통제실에 조용히 앉아 있었다\"고 밝혔습니다. 이 관계자는 김 전 장관이 한 손으로 전화를 받아 \\'알겠습니다\\'라고 대답을 한 뒤 다른 손에 든 전화로 현장에 작전을 지시했다는 겁니다. [국방부 관계자 : \\'예 알겠습니다\\' 하고, 뭐 지시하고 \\'야 그렇게 하란 말이야, 이렇게 하면 말이야\\' 이렇게 막 계속 통화를 하고 있는 상황이고 남들은 조용히 그것만 듣고 있는 거야.] 김 전 장관에게 지시를 한 사람은 윤석열 대통령으로 이해했다며, 윤 대통령이 새벽 1시 반쯤 합참 지휘통제실에 오기 전까지 이런 상황이 이어졌다고 설명했습니다. [국방부 관계자 : 나중에 대통령 오고 그다음에 신원식 안보실장 오고 정진석 비서실장 오고 그랬었다.] 이 관계자는 당시 지휘통제실에는 30여 명이 있었고 정확한 출입 기록과 CCTV가 남아 있다고 말했습니다. 앞서 김 전 장관의 개인 휴대전화와 국방부에 남아 있던 비화폰은 경찰이 최근 압수수색으로 확보했습니다. 하지만, 김 전 장관이 국무위원으로서 사용하던 비화폰은 대통령 경호처가 보관하고 있는 것으로 전해졌는데, 압수수색이 불발되면서 아직 확보하지 못한 것으로 알려졌습니다. 김 전 장관이 계엄 직후부터 국회에서 계엄해제요구결의안이 통과된 직후까지 합참 지휘통제실에서 어떤 명령을 내렸는지 수사로 밝혀져야 할 대목입니다. (영상취재 : 조춘동, 영상편집 : 황지영, 디자인 : 방민주)'}, {'review': {'': '', '쏠쏠정보': '3', '흥미진진': '2', '공감백배': '1', '분석탁월': '1', '후속강추': '55'}}, {'content': \"[돌비뉴스] 이석기 내란사건 때도 등장한 롯데리아…그때보다 더 분명한 '내란' JTBC뉴스 Play 1.7K 00:00 02:53 < 이곳이 내란 본점? > [기자] 전·현직 정보사령관이 롯데리아에서 계엄을 논의한 정황이 드러난 가운데, 과거에도 비슷한 사례가 있었습니다. 10여년 전 떠들썩했던 이석기 내란 음모 사건 당시, 내란 선동혐의로 유죄, 징역 8년을 확정을 받았는데요. 이 'RO', 지하 혁명 조직의 약자인데요. 이 'RO 조직'의 회합 장소 중 하나로 롯데리아가 등장합니다. [앵커] 그 사건이 기억은 나는데 거기서도 롯데리아가 등장했었습니까? [기자] 그래서 실제 판결문을 찾아봤습니다. 내란 모의 과정의 중요한 장소로 적시가 되는데요. 1심 판결문입니다. 홍순석 당시 내란의 중요 업무 종사자 격으로 파악이 되고 있는 홍순석 통합진보당 경기도당 부위원장인데. RO 조직원 이 모 씨를 수원의 한 롯데리아 매장에서 만나서 혁명적 의리에 대한 생각을 주체로 사상 학습을 실시했다고 적시가 돼 있습니다. 판결문 다른 쪽을 보시면 같은 홍 씨가 RO 조직원에 대해서 다른 롯데리아 매장에서 USB에 북한 찬양하는 문건을 저장해서 넘겨줬다, 이렇게 적시가 되고 있습니다. [앵커] 공교롭게도 이때도 롯데리아가 등장했었군요. [기자] 당시에 이석기 전 의원 측에서는 아니, 롯데리아에서 내란을 모의하는 게 가당키나 하냐, 이런 식의 반박을 한 적이 있습니다. 실제로 국정원이 제출했던 법원에 제출했던 롯데리아 그 대화 녹음파일도 너무 시끄러워서 잘 들리지 않아서 법원 재판 과정에서 판독이 좀 어려운 경우도 있었습니다. 그러다 보니까 롯데리아는 과연 내란음모 장소가 될 수 있을까라는 2014년, 당시 보도도 나온 적이 있었는데. 지금 보면 시대를 앞서간 측면도 없지 않아 보이죠. 결국 대법원에서는 이석기 사건 관련해서 내란 선동은 유죄지만 내란 음모에 대해서는 무죄 판결을 내리기도 했습니다. [앵커] 이번에는 롯데리아에서 계엄 직전에 또 비밀회동을 가진 게 드러났잖아요. CCTV까지 있다고 하고요. [기자] 참고로 이석기 사건 같은 경우에 대법원이 내란음모에 대해서 무죄를 판결한 이유는 형법상 내란음모죄가 성립되기 위해서는 실행에 실질적인 합의가 있어야 된다. 구체적인 합의가 없었다고 판결한 겁니다. 그런데 말씀하신 것처럼 이번에는 롯데리아에서 이렇게 너희들 중앙선관위 전산실로 가면 된다, 합의에 이르렀고 실제로 선관위에 진입하는 실행이 이루어졌기 때문에 이석기 사건 판례와 비교했을 때 내란죄 혐의가 더 짙어지는 게 아니냐, 이런 분석들도 나오고 있는 겁니다. [앵커] 그런데 하나 짚고 넘어가야 할 게 이렇게 언급되는 걸 롯데리아에서 굉장히 난감해한다, 난색을 표하고 있다고 합니다. 그런데 이게 롯데리아가 사실 잘못한 건 하나도 없는 상황인 거잖아요. [기자] 그렇죠. 뭐 죄라고 하면 맛있는 죄. 이거밖에 없다고 볼 수 있는 건데. 점주들도 군인들이 와서 계엄을 논의할지 몰랐던 측면이 있는 것이죠. [앵커] 어떻게 알겠습니까? [기자] 어떻게 보면 좀 역사적 장소가 될 수도 있을 것 같으니 가서 좀 많이 먹어봐도 될 것 같습니다.\"}, {'review': {'': '', '쏠쏠정보': '0', '흥미진진': '0', '공감백배': '2', '분석탁월': '0', '후속강추': '0'}}, {'content': '인공지능(AI)이 생성한, 게란이 네개 들어간 ‘네란 버거’‘계엄 버거’ 이미지 이미지. 온라인 커뮤니티 갈무리 ‘햄버거 계엄 회동’노상원 전 정보사령관 군사법원, 징역 1년 6개월 \"반란군인데 성추행까지…참 열심히 산다\" 비난 봇물 여인형 \"김용현, 계엄 직후 노상원에게 연락하라고 지시\" ‘롯데리아 계엄 모의’를 주도해 계란 네개 들어간 ‘네란 버거’‘계엄 버거’ 신조어를 낳게 한 주인공인 예비역 준장 노상원 전 정보 사령관이 재임 시절 여군 교육생을 강제 추행한 혐의로 불명예 전역한 사실이 드러났다. 18일 JTBC가 입수한 판결문에 따르면 노 전 사령관은 육군정보학교장 재임 시절인 2018년 10월 1일 국군의날에 교육생이던 피해자를 술자리로 불러내 강제로 신체 접촉했다. 당시 피해자가 \"부대에 일이 생겨 가야겠다\"며 도망치려 하자, 노 전 사령관은 \"말도 안 되는 소리\"라며 강제추행을 이어갔다. 한술더떠 전속부관이 운전하는 귀갓길 차량에서도 성추행을 계속했다. 피해자는 소속 부대 법무실에 신고했고, 이를 접수한 육군은 사실관계 확인 후 노 전 사령관을 즉각 보직해임하고 피의자 신분으로 형사입건했다. 군사법원은 노 전 사령관에 대해 집행유예 없이 징역 1년 6개월을 선고했으며 \"피고인의 직업에 따른 불이익과 부작용이 크다\"며 성범죄자 고지 명령은 면제시켜 줬다. 신분을 숨겨야 하는 정보사 고위직이란 이유로 봐주기 판결이란 비판도 나왔다. 군사법원은 \"피고인이 모든 지위와 명예를 상실했다\"며 양형을 낮춰주기도 했다. 노상원 전 정보사령관 .연합뉴스 해당 보도 등과 관련해 엑스(X·옛 트위터)에는 \"내란의 배후 계획자 노상원이 장군 옷을 벗은 이유는 여군을 성추행하고 형사처벌 받아서다. 이런 말종들이 내란을 일으켰다\"는 등 비난의 글이 올라왔다. \"반란군 XX가 성욕으로 부하 추행하고 장군 예비역으로 권력 똥구멍 쫓아다니며 참 열심히 산다\" 등 힐난하는 글이 올라오기도 했다. 한편 여인형 전 국군방첩사령관이 \"계엄 직후 김용현 전 국방장관이 노상원 전 정보사령관에게 연락해 보라고 지시했다\"고 검찰 특별수사본부에 진술한 것으로 알려졌다. 여 전 사령관은 \"김 전 장관으로부터 중앙선거관리위원회 서버를 확보하라는 지시를 받을 때 노 전 사령관에게 연락하라는 지시도 함께 받았다\"고 구체적으로 진술한 것으로 전해졌다. 이후 여 사령관은 정성우 전 방첩사 1처장에게 노 전 사령관과 연락해 보라고 지시를 내린 것으로 알려졌다 정 전 처장은 지난 10일 국회 국방위에 출석해 \"여인형 사령관이 선관위 서버를 복사하라고 구두로 지시했다\"고 증언한 바 있다. 노 전 사령관은 김 전 장관의 핵심 측근으로 꼽힌다. 앞서 경찰청 국가수사본부 비상계엄 특별수사단(단장 우종수 국수본부장)은 지난 15일 노 전 사령관을 긴급체포했다. 노 전 사령관은 18일 오후 3시 예정된 구속 전 피의자 심문(영장실질심사)을 앞두고 출석 진술을 포기했다.'}, {'img': 'https://imgnews.pstatic.net/image/021/2024/12/18/0002678981_001_20241218201616222.jpg?type=w860'}, {'review': {'': '', '쏠쏠정보': '2', '흥미진진': '0', '공감백배': '9', '분석탁월': '0', '후속강추': '15'}}, {'content': '사진 제공:연합뉴스 12·3 내란 직후 국회 본회의장에서 국민의힘 일부 의원들의 계엄 해제 요구안 표결 동참을 독려했던 한동훈 전 국민의힘 대표가, 당시 \"국회에 가면 목숨이 위험하니 몸을 피하라\"는 전화를 받은 사실이 뒤늦게 전해졌습니다. 복수의 친한동훈계 인사들에 따르면, 한동훈 전 대표는 비상계엄 선포 직후 국회로 향하던 도중, 군 내부 정보에 밝은 한 관계자에게서 전화를 받은 사실을 최근 주변에 공개했습니다. 당시 한 대표에게 전화를 한 관계자는 \"국회에 절대 가지 말고 피신하라, 체포될 것이고 잡히면 죽을 수 있다, 절대 잡히면 안 된다\"고 말한 것으로 전해졌습니다. 다만 한 전 대표는 이같은 조언을 무시한 채 그대로 국회로 향했고, 계엄해제 요구안 표결이 이뤄지는 본회의장에 머물렀습니다. 한 친한동훈계 의원은 \"통화 발신자가 신뢰할 만한 인물이었지만 한 대표가 \\'설마 그러겠나, 내용이 말이 안 된다\\' 싶어 그냥 국회로 들어간 것으로 안다\"며 \"나중에 \\'체포조\\' 정황이 실제 드러나 한 대표가 크게 놀랐다\"고 전했습니다. 한 전 대표는 당시 국회가 계엄 해제 요구안을 의결한 뒤에도 본청 건물을 빠져나오지 않았는데, 당 관계자는 \"당시 윤 대통령이 계엄 해제 선포를 미루고 있었던 만큼, 한 전 대표가 혹시 모를 체포 가능성에 대비해 국회 안에 계속해서 머무른 것으로 안다\"고 전했습니다. 결국 집권여당 대표까지 아우르는 비판 인사 체포와 위해 시도에 대한 진실은, 속도를 내고 있는 내란죄 수사를 통해 밝혀지게 됐습니다.'}, {'img': 'https://imgnews.pstatic.net/image/214/2024/12/18/0001394703_001_20241218202310561.jpg?type=w860'}, {'review': {'': '', '쏠쏠정보': '3', '흥미진진': '1', '공감백배': '3', '분석탁월': '1', '후속강추': '15'}}, {'content': '첫 상견례 자리서 자기 말만 \"옆방 선배님\" 웃으며 시작했지만…권성동-이재명 \\'신경전\\' JTBC뉴스 Play 2.4K 00:00 02:22 [앵커] 국민의힘 권성동 대표 권한대행 겸 원내대표가 탄핵안 가결 뒤 처음으로 민주당 이재명 대표와 만났습니다. 화기애애한 분위기 속에서 첫 상견례가 시작됐지만 바로 신경전이 이어졌는데, 자세한 소식 황예린 기자입니다. [기자] 권성동 국민의힘 당대표 권한대행, 민주당 이재명 대표와 함께 미소를 지으며 악수합니다. 곧바로 화기애애한 인사말이 오갔습니다. [권성동/국민의힘 대표 권한대행 겸 원내대표 : 국민의힘 원내대표단 일행을 환영해주신 우리 이재명 대표님께 감사의 말씀을 드립니다.] [이재명/더불어민주당 대표 : 어제도 제가 전화 한번 드렸었는데 대학 선배님이시고 어릴 때 고시 공부를 같이한 옆방을 쓰던 우리 선배님이십니다.] 하지만 본론에 들어가며 신경전이 시작됐습니다. 권 대표 권한대행은 국정을 수습하기 위해 정치 공세를 자제해 달라고 요구했습니다. 구체적으로 최재해 감사원장, 박성재 법무부 장관 등 14건의 탄핵소추안을 풀어달라고 했습니다. [권성동/국민의힘 대표 권한대행 겸 원내대표 : 남발했던 탄핵소추, 정치 공세적인 성격이 좀 강한 탄핵소추는 좀 우리 국회 차원에서 철회를 해서 많은 분들이 탄핵소추를 돼서 국정이 마비 상태니까 그것도 좀 풀어주시기를…] 그러면서 \"대통령 탄핵안까지 헌재가 언제 다 처리할 수 있을지 의문\"이라고 덧붙였습니다. 또 개헌 필요성도 시사했습니다. [권성동/국민의힘 대표 권한대행 겸 원내대표 : 전부 아니면 전무 게임인 대통령제를 좀 더 많은 국민들의 의견이 반영될 수 있는 이런 제도로의 변경이 필요한 시점이다…] 이 대표는 즉답을 피했습니다. [이재명/더불어민주당 대표 : (권성동 대표 권한대행께서) 제가 제안드렸던 국정안정협의체에 대해서 약간 비관적인 생각을 갖고 계신 거 같아서요. 저희가 필요한 부분까지는 다 양보할 수 있다, (민주당·국민의힘이) 원내교섭단체로서는 실질적인 협의를 해야 된다.] 그러면서 재차 추경안을 처리해 달라고 요청했습니다. [이재명/더불어민주당 대표 : 조속하게 민생 안정을 위한 민생 추경을 좀 하면 좋겠다, 이 부분에 대해서도 전향적인 검토를 부탁드립니다.] 이후 비공개 자리에서도 서로의 입장만 강조했을 뿐 의견이 좁혀진 부분은 없었고, 여야 협치를 위해 자주 만나자는 공감대만 나눴습니다. [영상취재 김영묵 / 영상편집 류효정]'}, {'review': {'': '', '쏠쏠정보': '0', '흥미진진': '0', '공감백배': '0', '분석탁월': '0', '후속강추': '1'}}, {'content': '\"대통령이니 내란 아니다\"?‥왕조 시대 논리 MBC뉴스 Play 5K 00:00 02:47 [뉴스데스크] ◀ 앵커 ▶ 탄핵 심판에 대비해 변호인단을 구성 중이라는 윤석열 대통령. 그런데 이 변호인단의 자문 역할을 한다는 윤 대통령 측 인사가 \"정권을 가진 대통령이 내란을 일으키냐\"며, 내란이 아니라는 식의 주장을 했는데요. 일단 국민주권, 삼권분립이라는 헌법 기본 원칙에도 반하는 내용일 뿐더러, 왕조시대에나 있을 법한 사고방식이라는 비판이 나옵니다. 윤상문 기자가 보도합니다. ◀ 리포트 ▶ 윤석열 대통령 변호인단을 자문한다는 석동현 변호사. 어제 기자들과 만난 자리에서, 정권을 잡은 대통령이 정권 찬탈을 위해 내란을 일으키는 건 말이 안된다는 취지로 말했습니다. \"대통령이 왜 반란을 일으키냐\"고도 했습니다. 정권 찬탈 목적이 있어야 내란이라 부를 수 있다는 겁니다. 극우 성향 유튜버도 비슷한 주장을 펼쳤습니다. [고성국 (유튜브 \\'고성국TV\\')] \"대통령이 대통령 권력을 찬탈하기 위해서, 국회의원이 150명만 모여서 의결하면 바로 해제될 수 밖에 없는 것을…그게 내란이라는 거예요 그게.\" 헌법학자들은 왕이 국가 권력을 독점했던 전제 군주시대에나 있을 법한 논리라고도 했습니다. [방승주/한양대 법학전문대학원 교수] \"대한민국의 주권은 국민에게 있고 모든 권력은 국민으로부터 나온다라고 하는 것이 우리 헌법 제 1조잖아요. 국민이 곧 국가인 거예요. 사실상 대통령을 그냥 왕으로 생각하시다시피 하시는 것 아니냐.\" [임지봉/서강대 법학전문대학원 교수] \"과거 왕이 모든 국가 권력을 독점하고 왕이 국가라고 생각되던 그러한 전제 군주 시대에나 있을 법한 그런 주장이고요. 내란죄는 대통령도 주체가 될 수 있습니다.\" 국가 권력을 행정부와 입법부, 사법부가 나눠 갖게 한 권력 분립 원칙에도 위배되는 주장입니다. [이준일/고려대학교 법학전문대학원 교수] \"선거를 통해서 정당성을 부여받는 기관은 대통령 뿐만 아니라 국회가 있기 때문에, 대통령이 일방적으로 국회의 권한을 무력화시킨 거기 때문에 그게 명백한 내란이죠.\" 형법 조문만 봐도 내란죄는 정권 찬탈과 관계가 없습니다. 국헌을 문란하게 할 목적으로 폭동을 일으키면 내란입니다. [노희범/변호사 (전 헌법재판소 헌법연구관)] \"\\'전두환·노태우가 정권 장악 내지 정권 찬탈 목적으로 내란을 일으켰던 거하고 다르다\\' 이렇게 차별화를 시도하려고 하는데, 그거는 형법의 구성요건 조항에 명백히 위배되는 거죠.\" 석동현 변호사는 수사기관의 출석 요구에 대해 \"윤석열 대통령은 권한만 정지되었을 뿐 엄연한 대통령\"이라면서 \"대통령이 오란다고 가냐\"고 했습니다. 하지만 모든 국민은 법 앞에 평등한 만큼, 윤 대통령은 내란죄 수사와 관련해서는 대통령이 아니라 피의자 신분이라는 지적입니다. MBC뉴스 윤상문입니다. 영상편집: 이유승 MBC 뉴스는 24시간 여러분의 제보를 기다립니다. ▷ 전화 02-784-4000 ▷ 이메일 mbcjebo@mbc.co.kr ▷ 카카오톡 @mbc제보'}, {'review': {'': '', '쏠쏠정보': '1', '흥미진진': '0', '공감백배': '7', '분석탁월': '1', '후속강추': '24'}}, {'content': \"서지영 “역시 김어준 씨 선동 기술은 남 달라” 강유정 “언론, 국회가면 목숨 위험 전화 공개” ‘12·3 비상계엄’과 관련해 방송인 김어준 씨가 국회 과학기술정보방송통신위원회 전체회의에서 최민희 위원장의 질의에 답변하고 있다. 연합뉴스 방송인 김어준 씨의 ‘한동훈 사살조’ 가동 발언을 놓고 국민의힘과 더불어민주당이 각각 격앙된 반응을 내놓고 있다. 18일 경기일보 취재를 종합하면 국민의힘 서지영 원내대변인은 이날 논평에서 “‘프로 선동꾼’ 김어준 씨와 민주당의 선전·선동 티키타카를 보니, 한두 번 해본 솜씨가 아닌 듯하다”고 말했다. 서 대변인은 이어 “역시 김어준 씨 선동의 기술은 남달랐다”며 “참고인으로 국회에 출석해 ‘사살’, ‘테러’, ‘북한 소행’ 등 충격적인 주장을 일방적으로 쏟아내며, 우방국으로부터 받은 제보”라고 했다. 서 대변인은 또 “민주당 4성 장군 출신 김병주 의원은 ‘미국 측에서 많은 정보들이 흘러나오고 있다’라며 김 씨의 폭로 출처가 미국 정부인 듯한 여지를 남겼다”며 “주미대사관은 즉각 ‘아니다’라고 입장을 밝혔고, 매슈 밀러 미 국무부 대변인도 ‘미국 정부에서 나온 그러한 정보는 알지 못한다’”고 말했다. 국민의힘 이를 민주당이 선동을 위해라면 한미동맹과 외교적 문제 따윈 안중에도 없는 것으로 규정했다. 서 대변인은 “탄핵 표결을 하루 앞두고, 민주당 최민희 과방위 위원장은 김 씨에게 궤변의 장을 깔아주고, 이재명 대표는 김 씨의 주장에 대해 ‘충분히 그런 계획을 했을 만한 집단’이라는 등의 동조 발언으로 판을 키웠다”며 “그런데 민주당 내부 문건에는 김 씨의 주장이 ‘상당한 허구’라고 되어 있다며, 김 씨의 폭로에 손절하는 모습”이라고 평가했다. 서 대변인은 이어 “김 씨와 민주당은 여론을 현혹하고, 여권 분열을 조장하기 위해 내뱉은 선동성 궤변에 대해 즉시 국민께 사죄하라”며 “또한 이번 비상계엄을 선전·선동의 도구로 이용하려 한 것에 대한 심판을 받아야 할 것”이라고 지적했다. 국민의힘 한동훈 대표가 16일 오전 국회에서 열린 기자회견에서 당 대표직 사퇴 입장을 밝히고 있다. 연합뉴스 반면 민주당 강유정 원내대변인은 서면 브리핑을 통해 “한동훈 전 국민의힘 대표가 비상계엄령 선포 당일 ‘국회에 가면 목숨이 위험하다’는 전화를 받은 사실이 언론을 통해 공개됐다”며 “군 관계자가 한 전 대표에 ‘가족도 대피시키라’며 살해 위협을 암시했다는 것”이라고 말했다. 강 대변인은 “보도가 사실이라면, 윤석열이 획책한 내란은 본인이 변명하듯 ‘소수 병력 투입한 질서 유지’가 절대 아니었다”며 “정적 암살이 목표인 치밀하고도 무도한 쿠데타다. 이재명 대표와 우원식 국회의장 등 마음대로 안 되는 정치인 제거가 ‘체포조'의 실체였던 것”이라고 밝혔다. 강 대변인은 이어 “윤석열의 체포 리스트는 결국 눈엣가시 제거 살생부였다”며 “정치를 대화와 협의가 아닌 총칼로 해결하려 한 의도가 명확해졌다”고 강조했다. 강 대변인은 그러면서 “신속하고 철저한 수사와 탄핵 절차의 조속한 마무리로 최소 권한까지 제거하는 게 윤석열이 망친 대한민국을 회복하는 첫걸음”이라며 “국민의 눈엣가시인 윤석열이야말로 통치자 자리에서 깨끗이 사라져야 한다”고 주장했다. 강 대변인은 끝으로 “한 전 대표를 비롯한 윤석열 정적 제거 시도에 대한 공수처의 철저한 수사와 조속한 사실 규명을 촉구한다”며 “빠른 내란 종식으로 국정 공백에 따른 혼란을 최소화할 것”이라고 약속했다.\"}, {'img': 'https://imgnews.pstatic.net/image/666/2024/12/18/0000059953_002_20241218202308683.jpg?type=w860'}, {'review': {'': '', '쏠쏠정보': '15', '흥미진진': '0', '공감백배': '1', '분석탁월': '0', '후속강추': '2'}}, {'content': '국민의힘 의원들이 18일 오후 서울 여의도 국회에서 열린 의원총회에서 권성동 당 대표 권한대행 겸 원내대표의 발언을 듣고 있다. 2024.12.18. 서울=뉴시스 국민의힘이 한동훈 전 대표 사퇴 후 당을 수습할 당 비상대책위원장 선출을 위한 의원총회를 16일에 이어 18일에도 열었지만 결론을 내지 못했다. 6선의 주호영 국회부의장과 친윤(친윤석열)계인 5선의 권성동 당 대표 권한대행 겸 원내대표과 권영세 의원, 탄핵 반대 당론을 주도한 4선 나경원 의원 등의 이름이 비대위원장으로 오르내리고 있다. 이번에 선출되는 비대위원장은 윤 대통령의 탄핵소추안이 헌법재판소에서 인용될 경우 대선 후보 선출 등 조기 대선까지 당을 이끌 가능성이 높다. 일반 국민-당원 대상 투표가 아닌 ‘비선출 권력’임에도 조기 대선 국면에서 당권을 잡을 수 있어 중진들간 물밑 알력 다툼이 비대위원장 선출을 늦춘 것이란 해석도 나왔다. 한 3선 의원은 “중진들이 서로 당권을 쥐려고 나섰다”고 말했다. 이런 상황에서 친윤계를 중심으로 한 중진과 대구·경북(TK) 의원, 법조계 출신 의원들이 탄핵 심판을 지연하고 “내란이 아니다”라는 주장을 이어가면서 당내에선 “더불어민주당을 ‘이재명 방탄 정당’이라고 비판하기 어려울 정도로 윤 대통령 방탄에 나서고 있다”는 비판이 나왔다. ● “권성동 원톱” “다른 중진이 해야” 당권 다툼 권 원내대표는 이날 의총 시작 때 “당내 혼란 수습과 국정 혼란을 최소화하기 위해 당도 정부도 정상 작동을 해야 한다”며 “의총에서 비대위원장 논의의 가닥을 잡겠다”고 밝혔다. 하지만 2시간 넘게 진행된 의총은 결론 없이 끝났다. 권 원내대표는 의총 후 “초선, 재선, 3선 의원들이 의견을 수렴해서 적합한 사람을 추천받기로 했다”며 “선수별로 의견을 모으는 데 시간이 걸릴 것 같다”고 말했다. 앞서 중진회의에선 “5, 6선 의원 중에 경험이 많고 친윤 색채가 옅은 분이 비대위원장을 하고, 초선 재선 3선 등 선수별로 비대위원을 하자”는 의견이 나온 것으로 알려졌다. 당내에선 권 원내대표가 비대위원장을 겸임하는 ‘원톱’ 체제와 권 원내대표와 중진 비대위원장이 이끄는 ‘투톱’ 체제로 나뉘는 분위기다. 원내 지도부를 중심으로 일부 의원들은 권 원내대표가 비대위원장까지 겸임해 “원톱으로 원 보이스를 내야 한다”고 주장하고 있다. 의총에 앞서 열린 4선 중진 회의에서도 ‘원톱 체제’ 주장이 나왔다. 반면 일부 중진 의원들은 “겸직하려면 일이 너무 많고, 투톱으로 가야한다”고 견제한 것으로 알려졌다. 이날 중진회의에는 권 의원과 나 의원이 참석했다. 8일 오후 국회에서 열린 국민의힘 비상의원총회. 이훈구 기자 ufo@donga.com 김대식 원내수석대변인은 의총 뒤 기자들과 만나 ‘원톱 체제 주장은 없어졌느냐’ 질문에 “아니다. 그것도 살아 있다”고 답했다. 한 재선 의원은 “중진 의원들이 서로 하고 싶어하면서도 의총에서 자가발전하기 겸연쩍은지 아직 말을 아끼는 분위기”라고 전했다. 비대위원장 선출 난항이 길어지면 당궈을 둘러싼 물밑 알력이 수면으로 고개를 들 것이란 관측도 나온다. 유승민 전 의원은 “탄핵에 반대했던 중진들 중에 비대위원장을 앉히면 속된 말로 당이 골로 간다”고 했다. ● 친윤-검사-TK ‘尹 구하기’에 “윤 방탄당 전락” 검사 출신 의원들을 중심으로 윤 대통령에 대한 헌법재판소 탄핵 심판을 지연하려는 움직임도 계속되고 있다. 권 원내대표는 의총에서 “헌법재판소는 이진숙 방송통신위원장, 최재해 감사원장, 이창수 서울중앙지검장 탄핵을 비롯한 주요 사건을 대통령 탄핵 사건보다 우선적으로 심리하거나 결정해 국정 공백을 최소화해야 한다”고 말했다. 당 법률자문위원회 위원장인 주진우 의원은 “재판관 6명만으로 재판 심리가 진행된다면 ‘적법절차 논란’이 불가피하다”며 “졸속 진행돼서는 어떤 결론이 나오더라도 국민들이 수긍할 수 없게 된다”고 했다. 윤 대통령 탄핵안을 찬성했던 한 전 대표가 사퇴한 뒤 친윤계를 필두로 “내란이 아니다”고 옹호하는 목소리도 나왔다. 한 중진 의원은 “윤 대통령은 이미 권력자이므로 ‘권력 침탈 목적’이 인정되지 않는다. 워낙 야당의 국정 발목잡기에 시달려왔고, 계엄으로 다친 사람도 없다”고 주장했다. 친윤을 필두로 영남, 중진 의원들이 윤 대통령을 옹호하고 나선 것은 당내 기득권 유지 때문이란 분석이 나온다. 한 친한계 의원은 “비상 계엄 해제 표결에 불참하고 탄핵에 반대한 친윤, 중진 의원들은 자신이 당권을 잡아야 탄핵 반대 전력이 공천에서 불리하게 작용하지 않을 것이라 본 것”이라고 말했다. 당내 쇄신 목소리는 비주류 아우성으로 묻히는 모양새다. 한 친한계 의원은 “한 줌 남은 10%, 15%의 지지층을 보고 중진 의원들이 계엄을 옹호하고, 이들의 주도하는 분위기에 다들 입 다물고 쓸려가고 있다”고 말했다.'}, {'img': 'https://imgnews.pstatic.net/image/020/2024/12/18/0003604956_001_20241218210617223.jpg?type=w860'}, {'review': {'': '', '쏠쏠정보': '49', '흥미진진': '4', '공감백배': '49', '분석탁월': '0', '후속강추': '18'}}]\n",
      "한덕수 대통령 권한대행 국무총리가 17일 서울 종로구 정부서울청사에서 열린 국무회의에 입장하고 있다. 정부는 19일 오전 10시 임시 국무회의를 열어 야당이 단독 처리한 6개 쟁점법안에 대한 재의요구권(거부권) 행사 여부를 확정할 예정이다. 정부는 19일 정부서울청사에서 한덕수 대통령 권한대행 국무총리 주재로 임시 국무회의를 개최한다. 이번 국무회의에서는 농업 4법을 비롯한 6개 법안에 대한 거부권 행사 여부를 확정할 것으로 보인다. 해당 법안은 농업 4법(▲양곡관리법 ▲농수산물 가격안정법 ▲농업재해 대책법 ▲농업재해 보험법)과 ▲국회증언 감정법 ▲국회법 개정안 등 6개 법안이다. 이들 법안은 더불어민주당이 지난달 28일 국회 본회의에서 강행 처리해 지난 6일 정부로 이송됐다. 거부권 행사 시한은 오는 21일까지다. 정부는 이들 법안에 대해 재의요구권(거부권)을 행사하는 쪽에 무게를 두는 것으로 전해졌다.\n",
      "```python\n",
      "[\n",
      "    [\n",
      "        \"한덕수 대통령 권한대행 국무총리가 국무회의에 참석하고 있습니다.\",\n",
      "        \"정부는 야당의 6개 법안에 대한 거부권 행사 여부를 논의할 예정입니다.\",\n",
      "        \"19일 임시 국무회의가 정부서울청사에서 열립니다.\",\n",
      "        \"농업 4법 등 6개 법안의 거부권 여부가 확정될 것으로 보입니다.\",\n",
      "        \"거부권 행사 시한은 21일까지이며, 무게를 두고 있는 것으로 전해집니다.\"\n",
      "    ],\n",
      "    [\n",
      "        \"한덕수 총리님이 국무회의에 참석한대요!\",\n",
      "        \"정부가 야당의 6개 법안에 대해 거부할지를 정할 거래요.\",\n",
      "        \"서울청사에서 19일 임시 국무회의가 열릴 예정이라네요.\",\n",
      "        \"농업 4법 등 6개 법안의 거부 여부를 결판 낼 것 같아요!\",\n",
      "        \"행사 시한은 21일까지고, 정부는 거부 쪽인 듯해요!\"\n",
      "    ]\n",
      "]\n",
      "```\n",
      "Formal summary: ['한덕수 대통령 권한대행 국무총리가 국무회의에 참석하고 있습니다.', '정부는 야당의 6개 법안에 대한 거부권 행사 여부를 논의할 예정입니다.', '19일 임시 국무회의가 정부서울청사에서 열립니다.', '농업 4법 등 6개 법안의 거부권 여부가 확정될 것으로 보입니다.', '거부권 행사 시한은 21일까지이며, 무게를 두고 있는 것으로 전해집니다.']\n",
      "Casual summary: ['한덕수 총리님이 국무회의에 참석한대요!', '정부가 야당의 6개 법안에 대해 거부할지를 정할 거래요.', '서울청사에서 19일 임시 국무회의가 열릴 예정이라네요.', '농업 4법 등 6개 법안의 거부 여부를 결판 낼 것 같아요!', '행사 시한은 21일까지고, 정부는 거부 쪽인 듯해요!']\n",
      "Raw Response from TTV API: [\n",
      "  \"A man enters a government building.\",\n",
      "  \"People sit around a large table in a conference room.\",\n",
      "  \"A person writes on a notepad during a meeting.\",\n",
      "  \"A group discusses documents in an office.\",\n",
      "  \"A clock on the wall shows the date.\"\n",
      "]\n",
      "summerize_TTV: ['A man enters a government building.', 'People sit around a large table in a conference room.', 'A person writes on a notepad during a meeting.', 'A group discusses documents in an office.', 'A clock on the wall shows the date.']\n",
      "Initializing the model...\n",
      "Generating video for prompt: A man enters a government building.\n",
      "Module Text2Video\n",
      "Model update\n"
     ]
    },
    {
     "name": "stderr",
     "output_type": "stream",
     "text": [
      "Fetching 12 files: 100%|██████████| 12/12 [00:00<00:00, 4763.55it/s]\n"
     ]
    },
    {
     "name": "stdout",
     "output_type": "stream",
     "text": [
      "Processing chunk 1 / 5\n",
      "t0 = 881 t1 = 941\n"
     ]
    },
    {
     "name": "stderr",
     "output_type": "stream",
     "text": [
      "  0%|          | 0/50 [00:00<?, ?it/s]"
     ]
    },
    {
     "name": "stdout",
     "output_type": "stream",
     "text": [
      "Continue DDIM with i = 0, t = 981, latent = torch.Size([1, 4, 64, 64]), device = cuda:0, type = torch.float16\n"
     ]
    },
    {
     "name": "stderr",
     "output_type": "stream",
     "text": [
      "  6%|▌         | 3/50 [00:00<00:08,  5.83it/s]"
     ]
    },
    {
     "name": "stdout",
     "output_type": "stream",
     "text": [
      "latent t1 found at i=1, t = 961\n"
     ]
    },
    {
     "name": "stderr",
     "output_type": "stream",
     "text": [
      " 12%|█▏        | 6/50 [00:00<00:05,  7.74it/s]"
     ]
    },
    {
     "name": "stdout",
     "output_type": "stream",
     "text": [
      "latent t0 found at i = 4, t = 901\n"
     ]
    },
    {
     "name": "stderr",
     "output_type": "stream",
     "text": [
      "100%|██████████| 50/50 [00:06<00:00,  8.33it/s]\n",
      "WARNING:py.warnings:/home/elicer/.cap/lib/python3.9/site-packages/torch/functional.py:504: UserWarning: torch.meshgrid: in an upcoming release, it will be required to pass the indexing argument. (Triggered internally at ../aten/src/ATen/native/TensorShape.cpp:3190.)\n",
      "  return _VF.meshgrid(tensors, **kwargs)  # type: ignore[attr-defined]\n",
      "\n",
      "WARNING:py.warnings:/home/elicer/.cap/lib/python3.9/site-packages/torch/nn/functional.py:4227: UserWarning: Default grid_sample and affine_grid behavior has changed to align_corners=False since 1.3.0. Please specify align_corners=True if the old behavior is desired. See the documentation of grid_sample for details.\n",
      "  warnings.warn(\n",
      "\n",
      "  0%|          | 0/50 [00:00<?, ?it/s]"
     ]
    },
    {
     "name": "stdout",
     "output_type": "stream",
     "text": [
      "Continue DDIM with i = 2, t = 941, latent = torch.Size([8, 4, 64, 64]), device = cuda:0, type = torch.float16\n"
     ]
    },
    {
     "name": "stderr",
     "output_type": "stream",
     "text": [
      " 96%|█████████▌| 48/50 [00:31<00:01,  1.50it/s]\n"
     ]
    },
    {
     "name": "stdout",
     "output_type": "stream",
     "text": [
      "Processing chunk 2 / 5\n",
      "t0 = 881 t1 = 941\n"
     ]
    },
    {
     "name": "stderr",
     "output_type": "stream",
     "text": [
      "  2%|▏         | 1/50 [00:00<00:05,  8.73it/s]"
     ]
    },
    {
     "name": "stdout",
     "output_type": "stream",
     "text": [
      "Continue DDIM with i = 0, t = 981, latent = torch.Size([1, 4, 64, 64]), device = cuda:0, type = torch.float16\n"
     ]
    },
    {
     "name": "stderr",
     "output_type": "stream",
     "text": [
      "  6%|▌         | 3/50 [00:00<00:05,  8.71it/s]"
     ]
    },
    {
     "name": "stdout",
     "output_type": "stream",
     "text": [
      "latent t1 found at i=1, t = 961\n"
     ]
    },
    {
     "name": "stderr",
     "output_type": "stream",
     "text": [
      " 12%|█▏        | 6/50 [00:00<00:05,  8.69it/s]"
     ]
    },
    {
     "name": "stdout",
     "output_type": "stream",
     "text": [
      "latent t0 found at i = 4, t = 901\n"
     ]
    },
    {
     "name": "stderr",
     "output_type": "stream",
     "text": [
      "100%|██████████| 50/50 [00:05<00:00,  8.67it/s]\n",
      "  0%|          | 0/50 [00:00<?, ?it/s]"
     ]
    },
    {
     "name": "stdout",
     "output_type": "stream",
     "text": [
      "Continue DDIM with i = 2, t = 941, latent = torch.Size([8, 4, 64, 64]), device = cuda:0, type = torch.float16\n"
     ]
    },
    {
     "name": "stderr",
     "output_type": "stream",
     "text": [
      " 96%|█████████▌| 48/50 [00:32<00:01,  1.49it/s]\n"
     ]
    },
    {
     "name": "stdout",
     "output_type": "stream",
     "text": [
      "Processing chunk 3 / 5\n",
      "t0 = 881 t1 = 941\n"
     ]
    },
    {
     "name": "stderr",
     "output_type": "stream",
     "text": [
      "  2%|▏         | 1/50 [00:00<00:05,  8.67it/s]"
     ]
    },
    {
     "name": "stdout",
     "output_type": "stream",
     "text": [
      "Continue DDIM with i = 0, t = 981, latent = torch.Size([1, 4, 64, 64]), device = cuda:0, type = torch.float16\n"
     ]
    },
    {
     "name": "stderr",
     "output_type": "stream",
     "text": [
      "  6%|▌         | 3/50 [00:00<00:05,  8.69it/s]"
     ]
    },
    {
     "name": "stdout",
     "output_type": "stream",
     "text": [
      "latent t1 found at i=1, t = 961\n"
     ]
    },
    {
     "name": "stderr",
     "output_type": "stream",
     "text": [
      " 12%|█▏        | 6/50 [00:00<00:05,  8.70it/s]"
     ]
    },
    {
     "name": "stdout",
     "output_type": "stream",
     "text": [
      "latent t0 found at i = 4, t = 901\n"
     ]
    },
    {
     "name": "stderr",
     "output_type": "stream",
     "text": [
      "100%|██████████| 50/50 [00:05<00:00,  8.69it/s]\n",
      "  0%|          | 0/50 [00:00<?, ?it/s]"
     ]
    },
    {
     "name": "stdout",
     "output_type": "stream",
     "text": [
      "Continue DDIM with i = 2, t = 941, latent = torch.Size([8, 4, 64, 64]), device = cuda:0, type = torch.float16\n"
     ]
    },
    {
     "name": "stderr",
     "output_type": "stream",
     "text": [
      " 96%|█████████▌| 48/50 [00:32<00:01,  1.49it/s]\n"
     ]
    },
    {
     "name": "stdout",
     "output_type": "stream",
     "text": [
      "Processing chunk 4 / 5\n",
      "t0 = 881 t1 = 941\n"
     ]
    },
    {
     "name": "stderr",
     "output_type": "stream",
     "text": [
      "  2%|▏         | 1/50 [00:00<00:05,  8.70it/s]"
     ]
    },
    {
     "name": "stdout",
     "output_type": "stream",
     "text": [
      "Continue DDIM with i = 0, t = 981, latent = torch.Size([1, 4, 64, 64]), device = cuda:0, type = torch.float16\n"
     ]
    },
    {
     "name": "stderr",
     "output_type": "stream",
     "text": [
      "  6%|▌         | 3/50 [00:00<00:05,  8.61it/s]"
     ]
    },
    {
     "name": "stdout",
     "output_type": "stream",
     "text": [
      "latent t1 found at i=1, t = 961\n"
     ]
    },
    {
     "name": "stderr",
     "output_type": "stream",
     "text": [
      " 12%|█▏        | 6/50 [00:00<00:05,  8.64it/s]"
     ]
    },
    {
     "name": "stdout",
     "output_type": "stream",
     "text": [
      "latent t0 found at i = 4, t = 901\n"
     ]
    },
    {
     "name": "stderr",
     "output_type": "stream",
     "text": [
      "100%|██████████| 50/50 [00:05<00:00,  8.66it/s]\n",
      "  0%|          | 0/50 [00:00<?, ?it/s]"
     ]
    },
    {
     "name": "stdout",
     "output_type": "stream",
     "text": [
      "Continue DDIM with i = 2, t = 941, latent = torch.Size([8, 4, 64, 64]), device = cuda:0, type = torch.float16\n"
     ]
    },
    {
     "name": "stderr",
     "output_type": "stream",
     "text": [
      " 96%|█████████▌| 48/50 [00:32<00:01,  1.49it/s]\n"
     ]
    },
    {
     "name": "stdout",
     "output_type": "stream",
     "text": [
      "Processing chunk 5 / 5\n",
      "t0 = 881 t1 = 941\n"
     ]
    },
    {
     "name": "stderr",
     "output_type": "stream",
     "text": [
      "  2%|▏         | 1/50 [00:00<00:05,  8.69it/s]"
     ]
    },
    {
     "name": "stdout",
     "output_type": "stream",
     "text": [
      "Continue DDIM with i = 0, t = 981, latent = torch.Size([1, 4, 64, 64]), device = cuda:0, type = torch.float16\n"
     ]
    },
    {
     "name": "stderr",
     "output_type": "stream",
     "text": [
      "  6%|▌         | 3/50 [00:00<00:05,  8.60it/s]"
     ]
    },
    {
     "name": "stdout",
     "output_type": "stream",
     "text": [
      "latent t1 found at i=1, t = 961\n"
     ]
    },
    {
     "name": "stderr",
     "output_type": "stream",
     "text": [
      " 12%|█▏        | 6/50 [00:00<00:05,  8.64it/s]"
     ]
    },
    {
     "name": "stdout",
     "output_type": "stream",
     "text": [
      "latent t0 found at i = 4, t = 901\n"
     ]
    },
    {
     "name": "stderr",
     "output_type": "stream",
     "text": [
      "100%|██████████| 50/50 [00:05<00:00,  8.65it/s]\n",
      "  0%|          | 0/50 [00:00<?, ?it/s]"
     ]
    },
    {
     "name": "stdout",
     "output_type": "stream",
     "text": [
      "Continue DDIM with i = 2, t = 941, latent = torch.Size([3, 4, 64, 64]), device = cuda:0, type = torch.float16\n"
     ]
    },
    {
     "name": "stderr",
     "output_type": "stream",
     "text": [
      " 96%|█████████▌| 48/50 [00:13<00:00,  3.66it/s]\n"
     ]
    },
    {
     "name": "stdout",
     "output_type": "stream",
     "text": [
      "Video successfully generated: ./generated_videos/text2video_A_man_enters_a_government_building..mp4\n",
      "Initializing the model...\n",
      "Generating video for prompt: People sit around a large table in a conference room.\n",
      "Module Text2Video\n",
      "Model update\n"
     ]
    },
    {
     "name": "stderr",
     "output_type": "stream",
     "text": [
      "Fetching 12 files: 100%|██████████| 12/12 [00:00<00:00, 6452.78it/s]\n"
     ]
    },
    {
     "name": "stdout",
     "output_type": "stream",
     "text": [
      "Processing chunk 1 / 5\n",
      "t0 = 881 t1 = 941\n"
     ]
    },
    {
     "name": "stderr",
     "output_type": "stream",
     "text": [
      "  2%|▏         | 1/50 [00:00<00:05,  8.57it/s]"
     ]
    },
    {
     "name": "stdout",
     "output_type": "stream",
     "text": [
      "Continue DDIM with i = 0, t = 981, latent = torch.Size([1, 4, 64, 64]), device = cuda:0, type = torch.float16\n"
     ]
    },
    {
     "name": "stderr",
     "output_type": "stream",
     "text": [
      "  6%|▌         | 3/50 [00:00<00:05,  8.62it/s]"
     ]
    },
    {
     "name": "stdout",
     "output_type": "stream",
     "text": [
      "latent t1 found at i=1, t = 961\n"
     ]
    },
    {
     "name": "stderr",
     "output_type": "stream",
     "text": [
      " 12%|█▏        | 6/50 [00:00<00:05,  8.63it/s]"
     ]
    },
    {
     "name": "stdout",
     "output_type": "stream",
     "text": [
      "latent t0 found at i = 4, t = 901\n"
     ]
    },
    {
     "name": "stderr",
     "output_type": "stream",
     "text": [
      "100%|██████████| 50/50 [00:05<00:00,  8.65it/s]\n",
      "  0%|          | 0/50 [00:00<?, ?it/s]"
     ]
    },
    {
     "name": "stdout",
     "output_type": "stream",
     "text": [
      "Continue DDIM with i = 2, t = 941, latent = torch.Size([8, 4, 64, 64]), device = cuda:0, type = torch.float16\n"
     ]
    },
    {
     "name": "stderr",
     "output_type": "stream",
     "text": [
      " 96%|█████████▌| 48/50 [00:31<00:01,  1.50it/s]\n"
     ]
    },
    {
     "name": "stdout",
     "output_type": "stream",
     "text": [
      "Processing chunk 2 / 5\n",
      "t0 = 881 t1 = 941\n"
     ]
    },
    {
     "name": "stderr",
     "output_type": "stream",
     "text": [
      "  2%|▏         | 1/50 [00:00<00:05,  8.67it/s]"
     ]
    },
    {
     "name": "stdout",
     "output_type": "stream",
     "text": [
      "Continue DDIM with i = 0, t = 981, latent = torch.Size([1, 4, 64, 64]), device = cuda:0, type = torch.float16\n"
     ]
    },
    {
     "name": "stderr",
     "output_type": "stream",
     "text": [
      "  6%|▌         | 3/50 [00:00<00:05,  8.63it/s]"
     ]
    },
    {
     "name": "stdout",
     "output_type": "stream",
     "text": [
      "latent t1 found at i=1, t = 961\n"
     ]
    },
    {
     "name": "stderr",
     "output_type": "stream",
     "text": [
      " 12%|█▏        | 6/50 [00:00<00:05,  8.64it/s]"
     ]
    },
    {
     "name": "stdout",
     "output_type": "stream",
     "text": [
      "latent t0 found at i = 4, t = 901\n"
     ]
    },
    {
     "name": "stderr",
     "output_type": "stream",
     "text": [
      "100%|██████████| 50/50 [00:05<00:00,  8.66it/s]\n",
      "  0%|          | 0/50 [00:00<?, ?it/s]"
     ]
    },
    {
     "name": "stdout",
     "output_type": "stream",
     "text": [
      "Continue DDIM with i = 2, t = 941, latent = torch.Size([8, 4, 64, 64]), device = cuda:0, type = torch.float16\n"
     ]
    },
    {
     "name": "stderr",
     "output_type": "stream",
     "text": [
      " 96%|█████████▌| 48/50 [00:32<00:01,  1.49it/s]\n"
     ]
    },
    {
     "name": "stdout",
     "output_type": "stream",
     "text": [
      "Processing chunk 3 / 5\n",
      "t0 = 881 t1 = 941\n"
     ]
    },
    {
     "name": "stderr",
     "output_type": "stream",
     "text": [
      "  2%|▏         | 1/50 [00:00<00:05,  8.66it/s]"
     ]
    },
    {
     "name": "stdout",
     "output_type": "stream",
     "text": [
      "Continue DDIM with i = 0, t = 981, latent = torch.Size([1, 4, 64, 64]), device = cuda:0, type = torch.float16\n"
     ]
    },
    {
     "name": "stderr",
     "output_type": "stream",
     "text": [
      "  6%|▌         | 3/50 [00:00<00:05,  8.62it/s]"
     ]
    },
    {
     "name": "stdout",
     "output_type": "stream",
     "text": [
      "latent t1 found at i=1, t = 961\n"
     ]
    },
    {
     "name": "stderr",
     "output_type": "stream",
     "text": [
      " 12%|█▏        | 6/50 [00:00<00:05,  8.59it/s]"
     ]
    },
    {
     "name": "stdout",
     "output_type": "stream",
     "text": [
      "latent t0 found at i = 4, t = 901\n"
     ]
    },
    {
     "name": "stderr",
     "output_type": "stream",
     "text": [
      "100%|██████████| 50/50 [00:05<00:00,  8.67it/s]\n",
      "  0%|          | 0/50 [00:00<?, ?it/s]"
     ]
    },
    {
     "name": "stdout",
     "output_type": "stream",
     "text": [
      "Continue DDIM with i = 2, t = 941, latent = torch.Size([8, 4, 64, 64]), device = cuda:0, type = torch.float16\n"
     ]
    },
    {
     "name": "stderr",
     "output_type": "stream",
     "text": [
      " 96%|█████████▌| 48/50 [00:32<00:01,  1.49it/s]\n"
     ]
    },
    {
     "name": "stdout",
     "output_type": "stream",
     "text": [
      "Processing chunk 4 / 5\n",
      "t0 = 881 t1 = 941\n"
     ]
    },
    {
     "name": "stderr",
     "output_type": "stream",
     "text": [
      "  2%|▏         | 1/50 [00:00<00:05,  8.63it/s]"
     ]
    },
    {
     "name": "stdout",
     "output_type": "stream",
     "text": [
      "Continue DDIM with i = 0, t = 981, latent = torch.Size([1, 4, 64, 64]), device = cuda:0, type = torch.float16\n"
     ]
    },
    {
     "name": "stderr",
     "output_type": "stream",
     "text": [
      "  6%|▌         | 3/50 [00:00<00:05,  8.61it/s]"
     ]
    },
    {
     "name": "stdout",
     "output_type": "stream",
     "text": [
      "latent t1 found at i=1, t = 961\n"
     ]
    },
    {
     "name": "stderr",
     "output_type": "stream",
     "text": [
      " 12%|█▏        | 6/50 [00:00<00:05,  8.60it/s]"
     ]
    },
    {
     "name": "stdout",
     "output_type": "stream",
     "text": [
      "latent t0 found at i = 4, t = 901\n"
     ]
    },
    {
     "name": "stderr",
     "output_type": "stream",
     "text": [
      "100%|██████████| 50/50 [00:05<00:00,  8.64it/s]\n",
      "  0%|          | 0/50 [00:00<?, ?it/s]"
     ]
    },
    {
     "name": "stdout",
     "output_type": "stream",
     "text": [
      "Continue DDIM with i = 2, t = 941, latent = torch.Size([8, 4, 64, 64]), device = cuda:0, type = torch.float16\n"
     ]
    },
    {
     "name": "stderr",
     "output_type": "stream",
     "text": [
      " 96%|█████████▌| 48/50 [00:32<00:01,  1.49it/s]\n"
     ]
    },
    {
     "name": "stdout",
     "output_type": "stream",
     "text": [
      "Processing chunk 5 / 5\n",
      "t0 = 881 t1 = 941\n"
     ]
    },
    {
     "name": "stderr",
     "output_type": "stream",
     "text": [
      "  2%|▏         | 1/50 [00:00<00:05,  8.70it/s]"
     ]
    },
    {
     "name": "stdout",
     "output_type": "stream",
     "text": [
      "Continue DDIM with i = 0, t = 981, latent = torch.Size([1, 4, 64, 64]), device = cuda:0, type = torch.float16\n"
     ]
    },
    {
     "name": "stderr",
     "output_type": "stream",
     "text": [
      "  6%|▌         | 3/50 [00:00<00:05,  8.68it/s]"
     ]
    },
    {
     "name": "stdout",
     "output_type": "stream",
     "text": [
      "latent t1 found at i=1, t = 961\n"
     ]
    },
    {
     "name": "stderr",
     "output_type": "stream",
     "text": [
      " 12%|█▏        | 6/50 [00:00<00:05,  8.68it/s]"
     ]
    },
    {
     "name": "stdout",
     "output_type": "stream",
     "text": [
      "latent t0 found at i = 4, t = 901\n"
     ]
    },
    {
     "name": "stderr",
     "output_type": "stream",
     "text": [
      "100%|██████████| 50/50 [00:05<00:00,  8.65it/s]\n",
      "  0%|          | 0/50 [00:00<?, ?it/s]"
     ]
    },
    {
     "name": "stdout",
     "output_type": "stream",
     "text": [
      "Continue DDIM with i = 2, t = 941, latent = torch.Size([3, 4, 64, 64]), device = cuda:0, type = torch.float16\n"
     ]
    },
    {
     "name": "stderr",
     "output_type": "stream",
     "text": [
      " 96%|█████████▌| 48/50 [00:13<00:00,  3.66it/s]\n"
     ]
    },
    {
     "name": "stdout",
     "output_type": "stream",
     "text": [
      "Video successfully generated: ./generated_videos/text2video_People_sit_around_a_large_table_in_a_conference_room..mp4\n",
      "Initializing the model...\n",
      "Generating video for prompt: A person writes on a notepad during a meeting.\n",
      "Module Text2Video\n",
      "Model update\n"
     ]
    },
    {
     "name": "stderr",
     "output_type": "stream",
     "text": [
      "Fetching 12 files: 100%|██████████| 12/12 [00:00<00:00, 6056.76it/s]\n"
     ]
    },
    {
     "name": "stdout",
     "output_type": "stream",
     "text": [
      "Processing chunk 1 / 5\n",
      "t0 = 881 t1 = 941\n"
     ]
    },
    {
     "name": "stderr",
     "output_type": "stream",
     "text": [
      "  2%|▏         | 1/50 [00:00<00:05,  8.63it/s]"
     ]
    },
    {
     "name": "stdout",
     "output_type": "stream",
     "text": [
      "Continue DDIM with i = 0, t = 981, latent = torch.Size([1, 4, 64, 64]), device = cuda:0, type = torch.float16\n"
     ]
    },
    {
     "name": "stderr",
     "output_type": "stream",
     "text": [
      "  6%|▌         | 3/50 [00:00<00:05,  8.62it/s]"
     ]
    },
    {
     "name": "stdout",
     "output_type": "stream",
     "text": [
      "latent t1 found at i=1, t = 961\n"
     ]
    },
    {
     "name": "stderr",
     "output_type": "stream",
     "text": [
      " 12%|█▏        | 6/50 [00:00<00:05,  8.63it/s]"
     ]
    },
    {
     "name": "stdout",
     "output_type": "stream",
     "text": [
      "latent t0 found at i = 4, t = 901\n"
     ]
    },
    {
     "name": "stderr",
     "output_type": "stream",
     "text": [
      "100%|██████████| 50/50 [00:05<00:00,  8.67it/s]\n",
      "  0%|          | 0/50 [00:00<?, ?it/s]"
     ]
    },
    {
     "name": "stdout",
     "output_type": "stream",
     "text": [
      "Continue DDIM with i = 2, t = 941, latent = torch.Size([8, 4, 64, 64]), device = cuda:0, type = torch.float16\n"
     ]
    },
    {
     "name": "stderr",
     "output_type": "stream",
     "text": [
      " 96%|█████████▌| 48/50 [00:32<00:01,  1.50it/s]\n"
     ]
    },
    {
     "name": "stdout",
     "output_type": "stream",
     "text": [
      "Processing chunk 2 / 5\n",
      "t0 = 881 t1 = 941\n"
     ]
    },
    {
     "name": "stderr",
     "output_type": "stream",
     "text": [
      "  2%|▏         | 1/50 [00:00<00:05,  8.65it/s]"
     ]
    },
    {
     "name": "stdout",
     "output_type": "stream",
     "text": [
      "Continue DDIM with i = 0, t = 981, latent = torch.Size([1, 4, 64, 64]), device = cuda:0, type = torch.float16\n"
     ]
    },
    {
     "name": "stderr",
     "output_type": "stream",
     "text": [
      "  6%|▌         | 3/50 [00:00<00:05,  8.62it/s]"
     ]
    },
    {
     "name": "stdout",
     "output_type": "stream",
     "text": [
      "latent t1 found at i=1, t = 961\n"
     ]
    },
    {
     "name": "stderr",
     "output_type": "stream",
     "text": [
      " 12%|█▏        | 6/50 [00:00<00:05,  8.62it/s]"
     ]
    },
    {
     "name": "stdout",
     "output_type": "stream",
     "text": [
      "latent t0 found at i = 4, t = 901\n"
     ]
    },
    {
     "name": "stderr",
     "output_type": "stream",
     "text": [
      "100%|██████████| 50/50 [00:05<00:00,  8.66it/s]\n",
      "  0%|          | 0/50 [00:00<?, ?it/s]"
     ]
    },
    {
     "name": "stdout",
     "output_type": "stream",
     "text": [
      "Continue DDIM with i = 2, t = 941, latent = torch.Size([8, 4, 64, 64]), device = cuda:0, type = torch.float16\n"
     ]
    },
    {
     "name": "stderr",
     "output_type": "stream",
     "text": [
      " 96%|█████████▌| 48/50 [00:32<00:01,  1.49it/s]\n"
     ]
    },
    {
     "name": "stdout",
     "output_type": "stream",
     "text": [
      "Processing chunk 3 / 5\n",
      "t0 = 881 t1 = 941\n"
     ]
    },
    {
     "name": "stderr",
     "output_type": "stream",
     "text": [
      "  2%|▏         | 1/50 [00:00<00:05,  8.63it/s]"
     ]
    },
    {
     "name": "stdout",
     "output_type": "stream",
     "text": [
      "Continue DDIM with i = 0, t = 981, latent = torch.Size([1, 4, 64, 64]), device = cuda:0, type = torch.float16\n"
     ]
    },
    {
     "name": "stderr",
     "output_type": "stream",
     "text": [
      "  6%|▌         | 3/50 [00:00<00:05,  8.61it/s]"
     ]
    },
    {
     "name": "stdout",
     "output_type": "stream",
     "text": [
      "latent t1 found at i=1, t = 961\n"
     ]
    },
    {
     "name": "stderr",
     "output_type": "stream",
     "text": [
      " 12%|█▏        | 6/50 [00:00<00:05,  8.63it/s]"
     ]
    },
    {
     "name": "stdout",
     "output_type": "stream",
     "text": [
      "latent t0 found at i = 4, t = 901\n"
     ]
    },
    {
     "name": "stderr",
     "output_type": "stream",
     "text": [
      "100%|██████████| 50/50 [00:05<00:00,  8.67it/s]\n",
      "  0%|          | 0/50 [00:00<?, ?it/s]"
     ]
    },
    {
     "name": "stdout",
     "output_type": "stream",
     "text": [
      "Continue DDIM with i = 2, t = 941, latent = torch.Size([8, 4, 64, 64]), device = cuda:0, type = torch.float16\n"
     ]
    },
    {
     "name": "stderr",
     "output_type": "stream",
     "text": [
      " 96%|█████████▌| 48/50 [00:32<00:01,  1.49it/s]\n"
     ]
    },
    {
     "name": "stdout",
     "output_type": "stream",
     "text": [
      "Processing chunk 4 / 5\n",
      "t0 = 881 t1 = 941\n"
     ]
    },
    {
     "name": "stderr",
     "output_type": "stream",
     "text": [
      "  2%|▏         | 1/50 [00:00<00:05,  8.67it/s]"
     ]
    },
    {
     "name": "stdout",
     "output_type": "stream",
     "text": [
      "Continue DDIM with i = 0, t = 981, latent = torch.Size([1, 4, 64, 64]), device = cuda:0, type = torch.float16\n"
     ]
    },
    {
     "name": "stderr",
     "output_type": "stream",
     "text": [
      "  6%|▌         | 3/50 [00:00<00:05,  8.68it/s]"
     ]
    },
    {
     "name": "stdout",
     "output_type": "stream",
     "text": [
      "latent t1 found at i=1, t = 961\n"
     ]
    },
    {
     "name": "stderr",
     "output_type": "stream",
     "text": [
      " 12%|█▏        | 6/50 [00:00<00:05,  8.65it/s]"
     ]
    },
    {
     "name": "stdout",
     "output_type": "stream",
     "text": [
      "latent t0 found at i = 4, t = 901\n"
     ]
    },
    {
     "name": "stderr",
     "output_type": "stream",
     "text": [
      "100%|██████████| 50/50 [00:05<00:00,  8.65it/s]\n",
      "  0%|          | 0/50 [00:00<?, ?it/s]"
     ]
    },
    {
     "name": "stdout",
     "output_type": "stream",
     "text": [
      "Continue DDIM with i = 2, t = 941, latent = torch.Size([8, 4, 64, 64]), device = cuda:0, type = torch.float16\n"
     ]
    },
    {
     "name": "stderr",
     "output_type": "stream",
     "text": [
      " 96%|█████████▌| 48/50 [00:32<00:01,  1.49it/s]\n"
     ]
    },
    {
     "name": "stdout",
     "output_type": "stream",
     "text": [
      "Processing chunk 5 / 5\n",
      "t0 = 881 t1 = 941\n"
     ]
    },
    {
     "name": "stderr",
     "output_type": "stream",
     "text": [
      "  2%|▏         | 1/50 [00:00<00:05,  8.64it/s]"
     ]
    },
    {
     "name": "stdout",
     "output_type": "stream",
     "text": [
      "Continue DDIM with i = 0, t = 981, latent = torch.Size([1, 4, 64, 64]), device = cuda:0, type = torch.float16\n"
     ]
    },
    {
     "name": "stderr",
     "output_type": "stream",
     "text": [
      "  6%|▌         | 3/50 [00:00<00:05,  8.66it/s]"
     ]
    },
    {
     "name": "stdout",
     "output_type": "stream",
     "text": [
      "latent t1 found at i=1, t = 961\n"
     ]
    },
    {
     "name": "stderr",
     "output_type": "stream",
     "text": [
      " 12%|█▏        | 6/50 [00:00<00:05,  8.63it/s]"
     ]
    },
    {
     "name": "stdout",
     "output_type": "stream",
     "text": [
      "latent t0 found at i = 4, t = 901\n"
     ]
    },
    {
     "name": "stderr",
     "output_type": "stream",
     "text": [
      "100%|██████████| 50/50 [00:05<00:00,  8.67it/s]\n",
      "  0%|          | 0/50 [00:00<?, ?it/s]"
     ]
    },
    {
     "name": "stdout",
     "output_type": "stream",
     "text": [
      "Continue DDIM with i = 2, t = 941, latent = torch.Size([3, 4, 64, 64]), device = cuda:0, type = torch.float16\n"
     ]
    },
    {
     "name": "stderr",
     "output_type": "stream",
     "text": [
      " 96%|█████████▌| 48/50 [00:13<00:00,  3.65it/s]\n"
     ]
    },
    {
     "name": "stdout",
     "output_type": "stream",
     "text": [
      "Video successfully generated: ./generated_videos/text2video_A_person_writes_on_a_notepad_during_a_meeting..mp4\n",
      "Initializing the model...\n",
      "Generating video for prompt: A group discusses documents in an office.\n",
      "Module Text2Video\n",
      "Model update\n"
     ]
    },
    {
     "name": "stderr",
     "output_type": "stream",
     "text": [
      "Fetching 12 files: 100%|██████████| 12/12 [00:00<00:00, 4522.97it/s]\n"
     ]
    },
    {
     "name": "stdout",
     "output_type": "stream",
     "text": [
      "Processing chunk 1 / 5\n",
      "t0 = 881 t1 = 941\n"
     ]
    },
    {
     "name": "stderr",
     "output_type": "stream",
     "text": [
      "  2%|▏         | 1/50 [00:00<00:05,  8.62it/s]"
     ]
    },
    {
     "name": "stdout",
     "output_type": "stream",
     "text": [
      "Continue DDIM with i = 0, t = 981, latent = torch.Size([1, 4, 64, 64]), device = cuda:0, type = torch.float16\n"
     ]
    },
    {
     "name": "stderr",
     "output_type": "stream",
     "text": [
      "  6%|▌         | 3/50 [00:00<00:05,  8.52it/s]"
     ]
    },
    {
     "name": "stdout",
     "output_type": "stream",
     "text": [
      "latent t1 found at i=1, t = 961\n"
     ]
    },
    {
     "name": "stderr",
     "output_type": "stream",
     "text": [
      " 12%|█▏        | 6/50 [00:00<00:05,  8.62it/s]"
     ]
    },
    {
     "name": "stdout",
     "output_type": "stream",
     "text": [
      "latent t0 found at i = 4, t = 901\n"
     ]
    },
    {
     "name": "stderr",
     "output_type": "stream",
     "text": [
      "100%|██████████| 50/50 [00:05<00:00,  8.64it/s]\n",
      "  0%|          | 0/50 [00:00<?, ?it/s]"
     ]
    },
    {
     "name": "stdout",
     "output_type": "stream",
     "text": [
      "Continue DDIM with i = 2, t = 941, latent = torch.Size([8, 4, 64, 64]), device = cuda:0, type = torch.float16\n"
     ]
    },
    {
     "name": "stderr",
     "output_type": "stream",
     "text": [
      " 96%|█████████▌| 48/50 [00:32<00:01,  1.50it/s]\n"
     ]
    },
    {
     "name": "stdout",
     "output_type": "stream",
     "text": [
      "Processing chunk 2 / 5\n",
      "t0 = 881 t1 = 941\n"
     ]
    },
    {
     "name": "stderr",
     "output_type": "stream",
     "text": [
      "  2%|▏         | 1/50 [00:00<00:05,  8.72it/s]"
     ]
    },
    {
     "name": "stdout",
     "output_type": "stream",
     "text": [
      "Continue DDIM with i = 0, t = 981, latent = torch.Size([1, 4, 64, 64]), device = cuda:0, type = torch.float16\n"
     ]
    },
    {
     "name": "stderr",
     "output_type": "stream",
     "text": [
      "  6%|▌         | 3/50 [00:00<00:05,  8.66it/s]"
     ]
    },
    {
     "name": "stdout",
     "output_type": "stream",
     "text": [
      "latent t1 found at i=1, t = 961\n"
     ]
    },
    {
     "name": "stderr",
     "output_type": "stream",
     "text": [
      " 12%|█▏        | 6/50 [00:00<00:05,  8.62it/s]"
     ]
    },
    {
     "name": "stdout",
     "output_type": "stream",
     "text": [
      "latent t0 found at i = 4, t = 901\n"
     ]
    },
    {
     "name": "stderr",
     "output_type": "stream",
     "text": [
      "100%|██████████| 50/50 [00:05<00:00,  8.64it/s]\n",
      "  0%|          | 0/50 [00:00<?, ?it/s]"
     ]
    },
    {
     "name": "stdout",
     "output_type": "stream",
     "text": [
      "Continue DDIM with i = 2, t = 941, latent = torch.Size([8, 4, 64, 64]), device = cuda:0, type = torch.float16\n"
     ]
    },
    {
     "name": "stderr",
     "output_type": "stream",
     "text": [
      " 96%|█████████▌| 48/50 [00:32<00:01,  1.49it/s]\n"
     ]
    },
    {
     "name": "stdout",
     "output_type": "stream",
     "text": [
      "Processing chunk 3 / 5\n",
      "t0 = 881 t1 = 941\n"
     ]
    },
    {
     "name": "stderr",
     "output_type": "stream",
     "text": [
      "  2%|▏         | 1/50 [00:00<00:05,  8.66it/s]"
     ]
    },
    {
     "name": "stdout",
     "output_type": "stream",
     "text": [
      "Continue DDIM with i = 0, t = 981, latent = torch.Size([1, 4, 64, 64]), device = cuda:0, type = torch.float16\n"
     ]
    },
    {
     "name": "stderr",
     "output_type": "stream",
     "text": [
      "  6%|▌         | 3/50 [00:00<00:05,  8.63it/s]"
     ]
    },
    {
     "name": "stdout",
     "output_type": "stream",
     "text": [
      "latent t1 found at i=1, t = 961\n"
     ]
    },
    {
     "name": "stderr",
     "output_type": "stream",
     "text": [
      " 12%|█▏        | 6/50 [00:00<00:05,  8.64it/s]"
     ]
    },
    {
     "name": "stdout",
     "output_type": "stream",
     "text": [
      "latent t0 found at i = 4, t = 901\n"
     ]
    },
    {
     "name": "stderr",
     "output_type": "stream",
     "text": [
      "100%|██████████| 50/50 [00:05<00:00,  8.63it/s]\n",
      "  0%|          | 0/50 [00:00<?, ?it/s]"
     ]
    },
    {
     "name": "stdout",
     "output_type": "stream",
     "text": [
      "Continue DDIM with i = 2, t = 941, latent = torch.Size([8, 4, 64, 64]), device = cuda:0, type = torch.float16\n"
     ]
    },
    {
     "name": "stderr",
     "output_type": "stream",
     "text": [
      " 96%|█████████▌| 48/50 [00:32<00:01,  1.49it/s]\n"
     ]
    },
    {
     "name": "stdout",
     "output_type": "stream",
     "text": [
      "Processing chunk 4 / 5\n",
      "t0 = 881 t1 = 941\n"
     ]
    },
    {
     "name": "stderr",
     "output_type": "stream",
     "text": [
      "  2%|▏         | 1/50 [00:00<00:05,  8.67it/s]"
     ]
    },
    {
     "name": "stdout",
     "output_type": "stream",
     "text": [
      "Continue DDIM with i = 0, t = 981, latent = torch.Size([1, 4, 64, 64]), device = cuda:0, type = torch.float16\n"
     ]
    },
    {
     "name": "stderr",
     "output_type": "stream",
     "text": [
      "  6%|▌         | 3/50 [00:00<00:05,  8.64it/s]"
     ]
    },
    {
     "name": "stdout",
     "output_type": "stream",
     "text": [
      "latent t1 found at i=1, t = 961\n"
     ]
    },
    {
     "name": "stderr",
     "output_type": "stream",
     "text": [
      " 12%|█▏        | 6/50 [00:00<00:05,  8.65it/s]"
     ]
    },
    {
     "name": "stdout",
     "output_type": "stream",
     "text": [
      "latent t0 found at i = 4, t = 901\n"
     ]
    },
    {
     "name": "stderr",
     "output_type": "stream",
     "text": [
      "100%|██████████| 50/50 [00:05<00:00,  8.65it/s]\n",
      "  0%|          | 0/50 [00:00<?, ?it/s]"
     ]
    },
    {
     "name": "stdout",
     "output_type": "stream",
     "text": [
      "Continue DDIM with i = 2, t = 941, latent = torch.Size([8, 4, 64, 64]), device = cuda:0, type = torch.float16\n"
     ]
    },
    {
     "name": "stderr",
     "output_type": "stream",
     "text": [
      " 96%|█████████▌| 48/50 [00:32<00:01,  1.49it/s]\n"
     ]
    },
    {
     "name": "stdout",
     "output_type": "stream",
     "text": [
      "Processing chunk 5 / 5\n",
      "t0 = 881 t1 = 941\n"
     ]
    },
    {
     "name": "stderr",
     "output_type": "stream",
     "text": [
      "  2%|▏         | 1/50 [00:00<00:05,  8.66it/s]"
     ]
    },
    {
     "name": "stdout",
     "output_type": "stream",
     "text": [
      "Continue DDIM with i = 0, t = 981, latent = torch.Size([1, 4, 64, 64]), device = cuda:0, type = torch.float16\n"
     ]
    },
    {
     "name": "stderr",
     "output_type": "stream",
     "text": [
      "  6%|▌         | 3/50 [00:00<00:05,  8.59it/s]"
     ]
    },
    {
     "name": "stdout",
     "output_type": "stream",
     "text": [
      "latent t1 found at i=1, t = 961\n"
     ]
    },
    {
     "name": "stderr",
     "output_type": "stream",
     "text": [
      " 12%|█▏        | 6/50 [00:00<00:05,  8.56it/s]"
     ]
    },
    {
     "name": "stdout",
     "output_type": "stream",
     "text": [
      "latent t0 found at i = 4, t = 901\n"
     ]
    },
    {
     "name": "stderr",
     "output_type": "stream",
     "text": [
      "100%|██████████| 50/50 [00:05<00:00,  8.63it/s]\n",
      "  0%|          | 0/50 [00:00<?, ?it/s]"
     ]
    },
    {
     "name": "stdout",
     "output_type": "stream",
     "text": [
      "Continue DDIM with i = 2, t = 941, latent = torch.Size([3, 4, 64, 64]), device = cuda:0, type = torch.float16\n"
     ]
    },
    {
     "name": "stderr",
     "output_type": "stream",
     "text": [
      " 96%|█████████▌| 48/50 [00:13<00:00,  3.65it/s]\n"
     ]
    },
    {
     "name": "stdout",
     "output_type": "stream",
     "text": [
      "Video successfully generated: ./generated_videos/text2video_A_group_discusses_documents_in_an_office..mp4\n",
      "Initializing the model...\n",
      "Generating video for prompt: A clock on the wall shows the date.\n",
      "Module Text2Video\n",
      "Model update\n"
     ]
    },
    {
     "name": "stderr",
     "output_type": "stream",
     "text": [
      "Fetching 12 files: 100%|██████████| 12/12 [00:00<00:00, 6192.38it/s]\n"
     ]
    },
    {
     "name": "stdout",
     "output_type": "stream",
     "text": [
      "Processing chunk 1 / 5\n",
      "t0 = 881 t1 = 941\n"
     ]
    },
    {
     "name": "stderr",
     "output_type": "stream",
     "text": [
      "  2%|▏         | 1/50 [00:00<00:05,  8.68it/s]"
     ]
    },
    {
     "name": "stdout",
     "output_type": "stream",
     "text": [
      "Continue DDIM with i = 0, t = 981, latent = torch.Size([1, 4, 64, 64]), device = cuda:0, type = torch.float16\n"
     ]
    },
    {
     "name": "stderr",
     "output_type": "stream",
     "text": [
      "  6%|▌         | 3/50 [00:00<00:05,  8.65it/s]"
     ]
    },
    {
     "name": "stdout",
     "output_type": "stream",
     "text": [
      "latent t1 found at i=1, t = 961\n"
     ]
    },
    {
     "name": "stderr",
     "output_type": "stream",
     "text": [
      " 12%|█▏        | 6/50 [00:00<00:05,  8.59it/s]"
     ]
    },
    {
     "name": "stdout",
     "output_type": "stream",
     "text": [
      "latent t0 found at i = 4, t = 901\n"
     ]
    },
    {
     "name": "stderr",
     "output_type": "stream",
     "text": [
      "100%|██████████| 50/50 [00:05<00:00,  8.67it/s]\n",
      "  0%|          | 0/50 [00:00<?, ?it/s]"
     ]
    },
    {
     "name": "stdout",
     "output_type": "stream",
     "text": [
      "Continue DDIM with i = 2, t = 941, latent = torch.Size([8, 4, 64, 64]), device = cuda:0, type = torch.float16\n"
     ]
    },
    {
     "name": "stderr",
     "output_type": "stream",
     "text": [
      " 96%|█████████▌| 48/50 [00:32<00:01,  1.50it/s]\n"
     ]
    },
    {
     "name": "stdout",
     "output_type": "stream",
     "text": [
      "Processing chunk 2 / 5\n",
      "t0 = 881 t1 = 941\n"
     ]
    },
    {
     "name": "stderr",
     "output_type": "stream",
     "text": [
      "  2%|▏         | 1/50 [00:00<00:05,  8.66it/s]"
     ]
    },
    {
     "name": "stdout",
     "output_type": "stream",
     "text": [
      "Continue DDIM with i = 0, t = 981, latent = torch.Size([1, 4, 64, 64]), device = cuda:0, type = torch.float16\n"
     ]
    },
    {
     "name": "stderr",
     "output_type": "stream",
     "text": [
      "  6%|▌         | 3/50 [00:00<00:05,  8.63it/s]"
     ]
    },
    {
     "name": "stdout",
     "output_type": "stream",
     "text": [
      "latent t1 found at i=1, t = 961\n"
     ]
    },
    {
     "name": "stderr",
     "output_type": "stream",
     "text": [
      " 12%|█▏        | 6/50 [00:00<00:05,  8.63it/s]"
     ]
    },
    {
     "name": "stdout",
     "output_type": "stream",
     "text": [
      "latent t0 found at i = 4, t = 901\n"
     ]
    },
    {
     "name": "stderr",
     "output_type": "stream",
     "text": [
      "100%|██████████| 50/50 [00:05<00:00,  8.65it/s]\n",
      "  0%|          | 0/50 [00:00<?, ?it/s]"
     ]
    },
    {
     "name": "stdout",
     "output_type": "stream",
     "text": [
      "Continue DDIM with i = 2, t = 941, latent = torch.Size([8, 4, 64, 64]), device = cuda:0, type = torch.float16\n"
     ]
    },
    {
     "name": "stderr",
     "output_type": "stream",
     "text": [
      " 96%|█████████▌| 48/50 [00:32<00:01,  1.49it/s]\n"
     ]
    },
    {
     "name": "stdout",
     "output_type": "stream",
     "text": [
      "Processing chunk 3 / 5\n",
      "t0 = 881 t1 = 941\n"
     ]
    },
    {
     "name": "stderr",
     "output_type": "stream",
     "text": [
      "  2%|▏         | 1/50 [00:00<00:05,  8.62it/s]"
     ]
    },
    {
     "name": "stdout",
     "output_type": "stream",
     "text": [
      "Continue DDIM with i = 0, t = 981, latent = torch.Size([1, 4, 64, 64]), device = cuda:0, type = torch.float16\n"
     ]
    },
    {
     "name": "stderr",
     "output_type": "stream",
     "text": [
      "  6%|▌         | 3/50 [00:00<00:05,  8.62it/s]"
     ]
    },
    {
     "name": "stdout",
     "output_type": "stream",
     "text": [
      "latent t1 found at i=1, t = 961\n"
     ]
    },
    {
     "name": "stderr",
     "output_type": "stream",
     "text": [
      " 12%|█▏        | 6/50 [00:00<00:05,  8.63it/s]"
     ]
    },
    {
     "name": "stdout",
     "output_type": "stream",
     "text": [
      "latent t0 found at i = 4, t = 901\n"
     ]
    },
    {
     "name": "stderr",
     "output_type": "stream",
     "text": [
      "100%|██████████| 50/50 [00:05<00:00,  8.65it/s]\n",
      "  0%|          | 0/50 [00:00<?, ?it/s]"
     ]
    },
    {
     "name": "stdout",
     "output_type": "stream",
     "text": [
      "Continue DDIM with i = 2, t = 941, latent = torch.Size([8, 4, 64, 64]), device = cuda:0, type = torch.float16\n"
     ]
    },
    {
     "name": "stderr",
     "output_type": "stream",
     "text": [
      " 96%|█████████▌| 48/50 [00:32<00:01,  1.49it/s]\n"
     ]
    },
    {
     "name": "stdout",
     "output_type": "stream",
     "text": [
      "Processing chunk 4 / 5\n",
      "t0 = 881 t1 = 941\n"
     ]
    },
    {
     "name": "stderr",
     "output_type": "stream",
     "text": [
      "  2%|▏         | 1/50 [00:00<00:05,  8.65it/s]"
     ]
    },
    {
     "name": "stdout",
     "output_type": "stream",
     "text": [
      "Continue DDIM with i = 0, t = 981, latent = torch.Size([1, 4, 64, 64]), device = cuda:0, type = torch.float16\n"
     ]
    },
    {
     "name": "stderr",
     "output_type": "stream",
     "text": [
      "  6%|▌         | 3/50 [00:00<00:05,  8.57it/s]"
     ]
    },
    {
     "name": "stdout",
     "output_type": "stream",
     "text": [
      "latent t1 found at i=1, t = 961\n"
     ]
    },
    {
     "name": "stderr",
     "output_type": "stream",
     "text": [
      " 12%|█▏        | 6/50 [00:00<00:05,  8.57it/s]"
     ]
    },
    {
     "name": "stdout",
     "output_type": "stream",
     "text": [
      "latent t0 found at i = 4, t = 901\n"
     ]
    },
    {
     "name": "stderr",
     "output_type": "stream",
     "text": [
      "100%|██████████| 50/50 [00:05<00:00,  8.64it/s]\n",
      "  0%|          | 0/50 [00:00<?, ?it/s]"
     ]
    },
    {
     "name": "stdout",
     "output_type": "stream",
     "text": [
      "Continue DDIM with i = 2, t = 941, latent = torch.Size([8, 4, 64, 64]), device = cuda:0, type = torch.float16\n"
     ]
    },
    {
     "name": "stderr",
     "output_type": "stream",
     "text": [
      " 96%|█████████▌| 48/50 [00:32<00:01,  1.49it/s]\n"
     ]
    },
    {
     "name": "stdout",
     "output_type": "stream",
     "text": [
      "Processing chunk 5 / 5\n",
      "t0 = 881 t1 = 941\n"
     ]
    },
    {
     "name": "stderr",
     "output_type": "stream",
     "text": [
      "  2%|▏         | 1/50 [00:00<00:05,  8.61it/s]"
     ]
    },
    {
     "name": "stdout",
     "output_type": "stream",
     "text": [
      "Continue DDIM with i = 0, t = 981, latent = torch.Size([1, 4, 64, 64]), device = cuda:0, type = torch.float16\n"
     ]
    },
    {
     "name": "stderr",
     "output_type": "stream",
     "text": [
      "  6%|▌         | 3/50 [00:00<00:05,  8.60it/s]"
     ]
    },
    {
     "name": "stdout",
     "output_type": "stream",
     "text": [
      "latent t1 found at i=1, t = 961\n"
     ]
    },
    {
     "name": "stderr",
     "output_type": "stream",
     "text": [
      " 12%|█▏        | 6/50 [00:00<00:05,  8.64it/s]"
     ]
    },
    {
     "name": "stdout",
     "output_type": "stream",
     "text": [
      "latent t0 found at i = 4, t = 901\n"
     ]
    },
    {
     "name": "stderr",
     "output_type": "stream",
     "text": [
      "100%|██████████| 50/50 [00:05<00:00,  8.65it/s]\n",
      "  0%|          | 0/50 [00:00<?, ?it/s]"
     ]
    },
    {
     "name": "stdout",
     "output_type": "stream",
     "text": [
      "Continue DDIM with i = 2, t = 941, latent = torch.Size([3, 4, 64, 64]), device = cuda:0, type = torch.float16\n"
     ]
    },
    {
     "name": "stderr",
     "output_type": "stream",
     "text": [
      " 96%|█████████▌| 48/50 [00:13<00:00,  3.66it/s]\n"
     ]
    },
    {
     "name": "stdout",
     "output_type": "stream",
     "text": [
      "Video successfully generated: ./generated_videos/text2video_A_clock_on_the_wall_shows_the_date..mp4\n",
      "Audio content received successfully.\n",
      "Audio saved to: generated_audio/casual_voice_output_20241218_142751_148686.wav\n",
      "Audio content received successfully.\n",
      "Audio saved to: generated_audio/casual_voice_output_20241218_142751_725510.wav\n",
      "Audio content received successfully.\n",
      "Audio saved to: generated_audio/casual_voice_output_20241218_142752_381924.wav\n",
      "Audio content received successfully.\n",
      "Audio saved to: generated_audio/casual_voice_output_20241218_142752_921262.wav\n",
      "Audio content received successfully.\n",
      "Audio saved to: generated_audio/casual_voice_output_20241218_142753_451823.wav\n",
      "Audio content received successfully.\n",
      "Audio saved to: generated_audio/formal_voice_output_20241218_142753_994145.wav\n",
      "Audio content received successfully.\n",
      "Audio saved to: generated_audio/formal_voice_output_20241218_142754_571449.wav\n",
      "Audio content received successfully.\n",
      "Audio saved to: generated_audio/formal_voice_output_20241218_142755_135965.wav\n",
      "Audio content received successfully.\n",
      "Audio saved to: generated_audio/formal_voice_output_20241218_142755_802387.wav\n",
      "Audio content received successfully.\n",
      "Audio saved to: generated_audio/formal_voice_output_20241218_142756_437278.wav\n",
      "Moviepy - Building video casual_20241218_142757.mp4.\n",
      "MoviePy - Writing audio in casual_20241218_142757TEMP_MPY_wvf_snd.mp4\n"
     ]
    },
    {
     "name": "stderr",
     "output_type": "stream",
     "text": [
      "                                                                    \r"
     ]
    },
    {
     "name": "stdout",
     "output_type": "stream",
     "text": [
      "MoviePy - Done.\n",
      "Moviepy - Writing video casual_20241218_142757.mp4\n",
      "\n"
     ]
    },
    {
     "name": "stderr",
     "output_type": "stream",
     "text": [
      "                                                            \r"
     ]
    },
    {
     "name": "stdout",
     "output_type": "stream",
     "text": [
      "Moviepy - Done !\n",
      "Moviepy - video ready casual_20241218_142757.mp4\n",
      "Moviepy - Building video formal_20241218_142812.mp4.\n",
      "MoviePy - Writing audio in formal_20241218_142812TEMP_MPY_wvf_snd.mp4\n"
     ]
    },
    {
     "name": "stderr",
     "output_type": "stream",
     "text": [
      "                                                                    \r"
     ]
    },
    {
     "name": "stdout",
     "output_type": "stream",
     "text": [
      "MoviePy - Done.\n",
      "Moviepy - Writing video formal_20241218_142812.mp4\n",
      "\n"
     ]
    },
    {
     "name": "stderr",
     "output_type": "stream",
     "text": [
      "                                                              \r"
     ]
    },
    {
     "name": "stdout",
     "output_type": "stream",
     "text": [
      "Moviepy - Done !\n",
      "Moviepy - video ready formal_20241218_142812.mp4\n"
     ]
    }
   ],
   "source": [
    "from model.crawling import fullCrawl\n",
    "from model.GPT_summarization import GPT\n",
    "from model.runTTV import runTTV\n",
    "from model.runTTS import runTTS\n",
    "from model.runMoviepy import runMoviepy\n",
    "# import Model from Text2Video-Zero\n",
    "\n",
    "total_news=fullCrawl()\n",
    "sum = GPT(total_news)\n",
    "TTV_f_name = runTTV(sum[2])\n",
    "casual_f_name, formal_f_name = runTTS(sum[0], sum[1])\n",
    "\n",
    "runMoviepy(TTV_f_name, casual_f_name,sum[0],output_label=\"casual\")\n",
    "\n",
    "runMoviepy(TTV_f_name, formal_f_name, sum[1],output_label=\"formal\")\n"
   ]
  },
  {
   "cell_type": "code",
   "execution_count": 3,
   "metadata": {},
   "outputs": [
    {
     "name": "stdout",
     "output_type": "stream",
     "text": [
      "['A man enters a government building.', 'People sit around a large table in a conference room.', 'A person writes on a notepad during a meeting.', 'A group discusses documents in an office.', 'A clock on the wall shows the date.']\n"
     ]
    }
   ],
   "source": [
    "print(sum[2])"
   ]
  },
  {
   "cell_type": "code",
   "execution_count": 4,
   "metadata": {},
   "outputs": [
    {
     "name": "stdout",
     "output_type": "stream",
     "text": [
      "['한덕수 총리님이 국무회의에 참석한대요!', '정부가 야당의 6개 법안에 대해 거부할지를 정할 거래요.', '서울청사에서 19일 임시 국무회의가 열릴 예정이라네요.', '농업 4법 등 6개 법안의 거부 여부를 결판 낼 것 같아요!', '행사 시한은 21일까지고, 정부는 거부 쪽인 듯해요!']\n"
     ]
    }
   ],
   "source": [
    "print(sum[0])\n"
   ]
  },
  {
   "cell_type": "code",
   "execution_count": 5,
   "metadata": {},
   "outputs": [
    {
     "name": "stdout",
     "output_type": "stream",
     "text": [
      "Moviepy - Building video casual_20241218_142829.mp4.\n",
      "MoviePy - Writing audio in casual_20241218_142829TEMP_MPY_wvf_snd.mp4\n"
     ]
    },
    {
     "name": "stderr",
     "output_type": "stream",
     "text": [
      "                                                                    \r"
     ]
    },
    {
     "name": "stdout",
     "output_type": "stream",
     "text": [
      "MoviePy - Done.\n",
      "Moviepy - Writing video casual_20241218_142829.mp4\n",
      "\n"
     ]
    },
    {
     "name": "stderr",
     "output_type": "stream",
     "text": [
      "                                                            \r"
     ]
    },
    {
     "name": "stdout",
     "output_type": "stream",
     "text": [
      "Moviepy - Done !\n",
      "Moviepy - video ready casual_20241218_142829.mp4\n",
      "Moviepy - Building video formal_20241218_142844.mp4.\n",
      "MoviePy - Writing audio in formal_20241218_142844TEMP_MPY_wvf_snd.mp4\n"
     ]
    },
    {
     "name": "stderr",
     "output_type": "stream",
     "text": [
      "                                                                    \r"
     ]
    },
    {
     "name": "stdout",
     "output_type": "stream",
     "text": [
      "MoviePy - Done.\n",
      "Moviepy - Writing video formal_20241218_142844.mp4\n",
      "\n"
     ]
    },
    {
     "name": "stderr",
     "output_type": "stream",
     "text": [
      "                                                              \r"
     ]
    },
    {
     "name": "stdout",
     "output_type": "stream",
     "text": [
      "Moviepy - Done !\n",
      "Moviepy - video ready formal_20241218_142844.mp4\n"
     ]
    }
   ],
   "source": [
    "from model.runMoviepy import runMoviepy\n",
    "\n",
    "runMoviepy(TTV_f_name, casual_f_name,sum[0],output_label=\"casual\")\n",
    "\n",
    "runMoviepy(TTV_f_name, formal_f_name, sum[1],output_label=\"formal\")"
   ]
  },
  {
   "cell_type": "code",
   "execution_count": 6,
   "metadata": {},
   "outputs": [
    {
     "name": "stdout",
     "output_type": "stream",
     "text": [
      "/home/elicer/capstone_1216\n"
     ]
    }
   ],
   "source": [
    "import os\n",
    "print(os.getcwd())\n"
   ]
  },
  {
   "cell_type": "code",
   "execution_count": 7,
   "metadata": {},
   "outputs": [],
   "source": [
    "prompts=['A woman types on a computer in an office.', 'A man in a uniform looks at a document in a police station.', 'A man talks on the phone in a meeting room.', 'A woman watches a video on a screen in a living room.', 'A man stands at a desk in an office.']\n"
   ]
  },
  {
   "cell_type": "code",
   "execution_count": 8,
   "metadata": {},
   "outputs": [
    {
     "name": "stdout",
     "output_type": "stream",
     "text": [
      "Initializing the model...\n",
      "Generating video for prompt: A woman types on a computer in an office.\n",
      "Module Text2Video\n",
      "Model update\n"
     ]
    },
    {
     "name": "stderr",
     "output_type": "stream",
     "text": [
      "Fetching 12 files: 100%|██████████| 12/12 [00:00<00:00, 4770.32it/s]\n"
     ]
    },
    {
     "name": "stdout",
     "output_type": "stream",
     "text": [
      "Processing chunk 1 / 5\n",
      "t0 = 881 t1 = 941\n"
     ]
    },
    {
     "name": "stderr",
     "output_type": "stream",
     "text": [
      "  2%|▏         | 1/50 [00:00<00:05,  8.64it/s]"
     ]
    },
    {
     "name": "stdout",
     "output_type": "stream",
     "text": [
      "Continue DDIM with i = 0, t = 981, latent = torch.Size([1, 4, 64, 64]), device = cuda:0, type = torch.float16\n"
     ]
    },
    {
     "name": "stderr",
     "output_type": "stream",
     "text": [
      "  6%|▌         | 3/50 [00:00<00:05,  8.65it/s]"
     ]
    },
    {
     "name": "stdout",
     "output_type": "stream",
     "text": [
      "latent t1 found at i=1, t = 961\n"
     ]
    },
    {
     "name": "stderr",
     "output_type": "stream",
     "text": [
      " 12%|█▏        | 6/50 [00:00<00:05,  8.69it/s]"
     ]
    },
    {
     "name": "stdout",
     "output_type": "stream",
     "text": [
      "latent t0 found at i = 4, t = 901\n"
     ]
    },
    {
     "name": "stderr",
     "output_type": "stream",
     "text": [
      "100%|██████████| 50/50 [00:05<00:00,  8.67it/s]\n",
      "WARNING:py.warnings:/home/elicer/.cap/lib/python3.9/site-packages/torch/nn/functional.py:4227: UserWarning: Default grid_sample and affine_grid behavior has changed to align_corners=False since 1.3.0. Please specify align_corners=True if the old behavior is desired. See the documentation of grid_sample for details.\n",
      "  warnings.warn(\n",
      "\n",
      "  0%|          | 0/50 [00:00<?, ?it/s]"
     ]
    },
    {
     "name": "stdout",
     "output_type": "stream",
     "text": [
      "Continue DDIM with i = 2, t = 941, latent = torch.Size([8, 4, 64, 64]), device = cuda:0, type = torch.float16\n"
     ]
    },
    {
     "name": "stderr",
     "output_type": "stream",
     "text": [
      " 96%|█████████▌| 48/50 [00:32<00:01,  1.50it/s]\n"
     ]
    },
    {
     "name": "stdout",
     "output_type": "stream",
     "text": [
      "Processing chunk 2 / 5\n",
      "t0 = 881 t1 = 941\n"
     ]
    },
    {
     "name": "stderr",
     "output_type": "stream",
     "text": [
      "  2%|▏         | 1/50 [00:00<00:05,  8.71it/s]"
     ]
    },
    {
     "name": "stdout",
     "output_type": "stream",
     "text": [
      "Continue DDIM with i = 0, t = 981, latent = torch.Size([1, 4, 64, 64]), device = cuda:0, type = torch.float16\n"
     ]
    },
    {
     "name": "stderr",
     "output_type": "stream",
     "text": [
      "  6%|▌         | 3/50 [00:00<00:05,  8.65it/s]"
     ]
    },
    {
     "name": "stdout",
     "output_type": "stream",
     "text": [
      "latent t1 found at i=1, t = 961\n"
     ]
    },
    {
     "name": "stderr",
     "output_type": "stream",
     "text": [
      " 12%|█▏        | 6/50 [00:00<00:05,  8.65it/s]"
     ]
    },
    {
     "name": "stdout",
     "output_type": "stream",
     "text": [
      "latent t0 found at i = 4, t = 901\n"
     ]
    },
    {
     "name": "stderr",
     "output_type": "stream",
     "text": [
      "100%|██████████| 50/50 [00:05<00:00,  8.64it/s]\n",
      "  0%|          | 0/50 [00:00<?, ?it/s]"
     ]
    },
    {
     "name": "stdout",
     "output_type": "stream",
     "text": [
      "Continue DDIM with i = 2, t = 941, latent = torch.Size([8, 4, 64, 64]), device = cuda:0, type = torch.float16\n"
     ]
    },
    {
     "name": "stderr",
     "output_type": "stream",
     "text": [
      " 96%|█████████▌| 48/50 [00:32<00:01,  1.49it/s]\n"
     ]
    },
    {
     "name": "stdout",
     "output_type": "stream",
     "text": [
      "Processing chunk 3 / 5\n",
      "t0 = 881 t1 = 941\n"
     ]
    },
    {
     "name": "stderr",
     "output_type": "stream",
     "text": [
      "  2%|▏         | 1/50 [00:00<00:05,  8.65it/s]"
     ]
    },
    {
     "name": "stdout",
     "output_type": "stream",
     "text": [
      "Continue DDIM with i = 0, t = 981, latent = torch.Size([1, 4, 64, 64]), device = cuda:0, type = torch.float16\n"
     ]
    },
    {
     "name": "stderr",
     "output_type": "stream",
     "text": [
      "  6%|▌         | 3/50 [00:00<00:05,  8.68it/s]"
     ]
    },
    {
     "name": "stdout",
     "output_type": "stream",
     "text": [
      "latent t1 found at i=1, t = 961\n"
     ]
    },
    {
     "name": "stderr",
     "output_type": "stream",
     "text": [
      " 12%|█▏        | 6/50 [00:00<00:05,  8.65it/s]"
     ]
    },
    {
     "name": "stdout",
     "output_type": "stream",
     "text": [
      "latent t0 found at i = 4, t = 901\n"
     ]
    },
    {
     "name": "stderr",
     "output_type": "stream",
     "text": [
      "100%|██████████| 50/50 [00:05<00:00,  8.65it/s]\n",
      "  0%|          | 0/50 [00:00<?, ?it/s]"
     ]
    },
    {
     "name": "stdout",
     "output_type": "stream",
     "text": [
      "Continue DDIM with i = 2, t = 941, latent = torch.Size([8, 4, 64, 64]), device = cuda:0, type = torch.float16\n"
     ]
    },
    {
     "name": "stderr",
     "output_type": "stream",
     "text": [
      " 96%|█████████▌| 48/50 [00:32<00:01,  1.49it/s]\n"
     ]
    },
    {
     "name": "stdout",
     "output_type": "stream",
     "text": [
      "Processing chunk 4 / 5\n",
      "t0 = 881 t1 = 941\n"
     ]
    },
    {
     "name": "stderr",
     "output_type": "stream",
     "text": [
      "  2%|▏         | 1/50 [00:00<00:05,  8.71it/s]"
     ]
    },
    {
     "name": "stdout",
     "output_type": "stream",
     "text": [
      "Continue DDIM with i = 0, t = 981, latent = torch.Size([1, 4, 64, 64]), device = cuda:0, type = torch.float16\n"
     ]
    },
    {
     "name": "stderr",
     "output_type": "stream",
     "text": [
      "  6%|▌         | 3/50 [00:00<00:05,  8.65it/s]"
     ]
    },
    {
     "name": "stdout",
     "output_type": "stream",
     "text": [
      "latent t1 found at i=1, t = 961\n"
     ]
    },
    {
     "name": "stderr",
     "output_type": "stream",
     "text": [
      " 12%|█▏        | 6/50 [00:00<00:05,  8.70it/s]"
     ]
    },
    {
     "name": "stdout",
     "output_type": "stream",
     "text": [
      "latent t0 found at i = 4, t = 901\n"
     ]
    },
    {
     "name": "stderr",
     "output_type": "stream",
     "text": [
      "100%|██████████| 50/50 [00:05<00:00,  8.64it/s]\n",
      "  0%|          | 0/50 [00:00<?, ?it/s]"
     ]
    },
    {
     "name": "stdout",
     "output_type": "stream",
     "text": [
      "Continue DDIM with i = 2, t = 941, latent = torch.Size([8, 4, 64, 64]), device = cuda:0, type = torch.float16\n"
     ]
    },
    {
     "name": "stderr",
     "output_type": "stream",
     "text": [
      " 96%|█████████▌| 48/50 [00:32<00:01,  1.49it/s]\n"
     ]
    },
    {
     "name": "stdout",
     "output_type": "stream",
     "text": [
      "Processing chunk 5 / 5\n",
      "t0 = 881 t1 = 941\n"
     ]
    },
    {
     "name": "stderr",
     "output_type": "stream",
     "text": [
      "  2%|▏         | 1/50 [00:00<00:05,  8.63it/s]"
     ]
    },
    {
     "name": "stdout",
     "output_type": "stream",
     "text": [
      "Continue DDIM with i = 0, t = 981, latent = torch.Size([1, 4, 64, 64]), device = cuda:0, type = torch.float16\n"
     ]
    },
    {
     "name": "stderr",
     "output_type": "stream",
     "text": [
      "  6%|▌         | 3/50 [00:00<00:05,  8.63it/s]"
     ]
    },
    {
     "name": "stdout",
     "output_type": "stream",
     "text": [
      "latent t1 found at i=1, t = 961\n"
     ]
    },
    {
     "name": "stderr",
     "output_type": "stream",
     "text": [
      " 12%|█▏        | 6/50 [00:00<00:05,  8.64it/s]"
     ]
    },
    {
     "name": "stdout",
     "output_type": "stream",
     "text": [
      "latent t0 found at i = 4, t = 901\n"
     ]
    },
    {
     "name": "stderr",
     "output_type": "stream",
     "text": [
      "100%|██████████| 50/50 [00:05<00:00,  8.67it/s]\n",
      "  0%|          | 0/50 [00:00<?, ?it/s]"
     ]
    },
    {
     "name": "stdout",
     "output_type": "stream",
     "text": [
      "Continue DDIM with i = 2, t = 941, latent = torch.Size([3, 4, 64, 64]), device = cuda:0, type = torch.float16\n"
     ]
    },
    {
     "name": "stderr",
     "output_type": "stream",
     "text": [
      " 96%|█████████▌| 48/50 [00:13<00:00,  3.65it/s]\n"
     ]
    },
    {
     "name": "stdout",
     "output_type": "stream",
     "text": [
      "Video successfully generated: ./generated_videos/text2video_A_woman_types_on_a_computer_in_an_office..mp4\n",
      "Initializing the model...\n",
      "Generating video for prompt: A man in a uniform looks at a document in a police station.\n",
      "Module Text2Video\n",
      "Model update\n"
     ]
    },
    {
     "name": "stderr",
     "output_type": "stream",
     "text": [
      "Fetching 12 files: 100%|██████████| 12/12 [00:00<00:00, 4834.00it/s]\n"
     ]
    },
    {
     "name": "stdout",
     "output_type": "stream",
     "text": [
      "Processing chunk 1 / 5\n",
      "t0 = 881 t1 = 941\n"
     ]
    },
    {
     "name": "stderr",
     "output_type": "stream",
     "text": [
      "  2%|▏         | 1/50 [00:00<00:05,  8.64it/s]"
     ]
    },
    {
     "name": "stdout",
     "output_type": "stream",
     "text": [
      "Continue DDIM with i = 0, t = 981, latent = torch.Size([1, 4, 64, 64]), device = cuda:0, type = torch.float16\n"
     ]
    },
    {
     "name": "stderr",
     "output_type": "stream",
     "text": [
      "  6%|▌         | 3/50 [00:00<00:05,  8.61it/s]"
     ]
    },
    {
     "name": "stdout",
     "output_type": "stream",
     "text": [
      "latent t1 found at i=1, t = 961\n"
     ]
    },
    {
     "name": "stderr",
     "output_type": "stream",
     "text": [
      " 12%|█▏        | 6/50 [00:00<00:05,  8.64it/s]"
     ]
    },
    {
     "name": "stdout",
     "output_type": "stream",
     "text": [
      "latent t0 found at i = 4, t = 901\n"
     ]
    },
    {
     "name": "stderr",
     "output_type": "stream",
     "text": [
      "100%|██████████| 50/50 [00:05<00:00,  8.64it/s]\n",
      "  0%|          | 0/50 [00:00<?, ?it/s]"
     ]
    },
    {
     "name": "stdout",
     "output_type": "stream",
     "text": [
      "Continue DDIM with i = 2, t = 941, latent = torch.Size([8, 4, 64, 64]), device = cuda:0, type = torch.float16\n"
     ]
    },
    {
     "name": "stderr",
     "output_type": "stream",
     "text": [
      " 96%|█████████▌| 48/50 [00:32<00:01,  1.50it/s]\n"
     ]
    },
    {
     "name": "stdout",
     "output_type": "stream",
     "text": [
      "Processing chunk 2 / 5\n",
      "t0 = 881 t1 = 941\n"
     ]
    },
    {
     "name": "stderr",
     "output_type": "stream",
     "text": [
      "  2%|▏         | 1/50 [00:00<00:05,  8.61it/s]"
     ]
    },
    {
     "name": "stdout",
     "output_type": "stream",
     "text": [
      "Continue DDIM with i = 0, t = 981, latent = torch.Size([1, 4, 64, 64]), device = cuda:0, type = torch.float16\n"
     ]
    },
    {
     "name": "stderr",
     "output_type": "stream",
     "text": [
      "  6%|▌         | 3/50 [00:00<00:05,  8.55it/s]"
     ]
    },
    {
     "name": "stdout",
     "output_type": "stream",
     "text": [
      "latent t1 found at i=1, t = 961\n"
     ]
    },
    {
     "name": "stderr",
     "output_type": "stream",
     "text": [
      " 12%|█▏        | 6/50 [00:00<00:05,  8.59it/s]"
     ]
    },
    {
     "name": "stdout",
     "output_type": "stream",
     "text": [
      "latent t0 found at i = 4, t = 901\n"
     ]
    },
    {
     "name": "stderr",
     "output_type": "stream",
     "text": [
      "100%|██████████| 50/50 [00:05<00:00,  8.61it/s]\n",
      "  0%|          | 0/50 [00:00<?, ?it/s]"
     ]
    },
    {
     "name": "stdout",
     "output_type": "stream",
     "text": [
      "Continue DDIM with i = 2, t = 941, latent = torch.Size([8, 4, 64, 64]), device = cuda:0, type = torch.float16\n"
     ]
    },
    {
     "name": "stderr",
     "output_type": "stream",
     "text": [
      " 96%|█████████▌| 48/50 [00:32<00:01,  1.49it/s]\n"
     ]
    },
    {
     "name": "stdout",
     "output_type": "stream",
     "text": [
      "Processing chunk 3 / 5\n",
      "t0 = 881 t1 = 941\n"
     ]
    },
    {
     "name": "stderr",
     "output_type": "stream",
     "text": [
      "  2%|▏         | 1/50 [00:00<00:05,  8.70it/s]"
     ]
    },
    {
     "name": "stdout",
     "output_type": "stream",
     "text": [
      "Continue DDIM with i = 0, t = 981, latent = torch.Size([1, 4, 64, 64]), device = cuda:0, type = torch.float16\n"
     ]
    },
    {
     "name": "stderr",
     "output_type": "stream",
     "text": [
      "  6%|▌         | 3/50 [00:00<00:05,  8.65it/s]"
     ]
    },
    {
     "name": "stdout",
     "output_type": "stream",
     "text": [
      "latent t1 found at i=1, t = 961\n"
     ]
    },
    {
     "name": "stderr",
     "output_type": "stream",
     "text": [
      " 12%|█▏        | 6/50 [00:00<00:05,  8.62it/s]"
     ]
    },
    {
     "name": "stdout",
     "output_type": "stream",
     "text": [
      "latent t0 found at i = 4, t = 901\n"
     ]
    },
    {
     "name": "stderr",
     "output_type": "stream",
     "text": [
      "100%|██████████| 50/50 [00:05<00:00,  8.64it/s]\n",
      "  0%|          | 0/50 [00:00<?, ?it/s]"
     ]
    },
    {
     "name": "stdout",
     "output_type": "stream",
     "text": [
      "Continue DDIM with i = 2, t = 941, latent = torch.Size([8, 4, 64, 64]), device = cuda:0, type = torch.float16\n"
     ]
    },
    {
     "name": "stderr",
     "output_type": "stream",
     "text": [
      " 96%|█████████▌| 48/50 [00:32<00:01,  1.49it/s]\n"
     ]
    },
    {
     "name": "stdout",
     "output_type": "stream",
     "text": [
      "Processing chunk 4 / 5\n",
      "t0 = 881 t1 = 941\n"
     ]
    },
    {
     "name": "stderr",
     "output_type": "stream",
     "text": [
      "  2%|▏         | 1/50 [00:00<00:05,  8.66it/s]"
     ]
    },
    {
     "name": "stdout",
     "output_type": "stream",
     "text": [
      "Continue DDIM with i = 0, t = 981, latent = torch.Size([1, 4, 64, 64]), device = cuda:0, type = torch.float16\n"
     ]
    },
    {
     "name": "stderr",
     "output_type": "stream",
     "text": [
      "  6%|▌         | 3/50 [00:00<00:05,  8.53it/s]"
     ]
    },
    {
     "name": "stdout",
     "output_type": "stream",
     "text": [
      "latent t1 found at i=1, t = 961\n"
     ]
    },
    {
     "name": "stderr",
     "output_type": "stream",
     "text": [
      " 12%|█▏        | 6/50 [00:00<00:05,  8.60it/s]"
     ]
    },
    {
     "name": "stdout",
     "output_type": "stream",
     "text": [
      "latent t0 found at i = 4, t = 901\n"
     ]
    },
    {
     "name": "stderr",
     "output_type": "stream",
     "text": [
      "100%|██████████| 50/50 [00:05<00:00,  8.58it/s]\n",
      "  0%|          | 0/50 [00:00<?, ?it/s]"
     ]
    },
    {
     "name": "stdout",
     "output_type": "stream",
     "text": [
      "Continue DDIM with i = 2, t = 941, latent = torch.Size([8, 4, 64, 64]), device = cuda:0, type = torch.float16\n"
     ]
    },
    {
     "name": "stderr",
     "output_type": "stream",
     "text": [
      " 96%|█████████▌| 48/50 [00:32<00:01,  1.49it/s]\n"
     ]
    },
    {
     "name": "stdout",
     "output_type": "stream",
     "text": [
      "Processing chunk 5 / 5\n",
      "t0 = 881 t1 = 941\n"
     ]
    },
    {
     "name": "stderr",
     "output_type": "stream",
     "text": [
      "  2%|▏         | 1/50 [00:00<00:05,  8.67it/s]"
     ]
    },
    {
     "name": "stdout",
     "output_type": "stream",
     "text": [
      "Continue DDIM with i = 0, t = 981, latent = torch.Size([1, 4, 64, 64]), device = cuda:0, type = torch.float16\n"
     ]
    },
    {
     "name": "stderr",
     "output_type": "stream",
     "text": [
      "  6%|▌         | 3/50 [00:00<00:05,  8.58it/s]"
     ]
    },
    {
     "name": "stdout",
     "output_type": "stream",
     "text": [
      "latent t1 found at i=1, t = 961\n"
     ]
    },
    {
     "name": "stderr",
     "output_type": "stream",
     "text": [
      " 12%|█▏        | 6/50 [00:00<00:05,  8.56it/s]"
     ]
    },
    {
     "name": "stdout",
     "output_type": "stream",
     "text": [
      "latent t0 found at i = 4, t = 901\n"
     ]
    },
    {
     "name": "stderr",
     "output_type": "stream",
     "text": [
      "100%|██████████| 50/50 [00:05<00:00,  8.64it/s]\n",
      "  0%|          | 0/50 [00:00<?, ?it/s]"
     ]
    },
    {
     "name": "stdout",
     "output_type": "stream",
     "text": [
      "Continue DDIM with i = 2, t = 941, latent = torch.Size([3, 4, 64, 64]), device = cuda:0, type = torch.float16\n"
     ]
    },
    {
     "name": "stderr",
     "output_type": "stream",
     "text": [
      " 96%|█████████▌| 48/50 [00:13<00:00,  3.66it/s]\n"
     ]
    },
    {
     "name": "stdout",
     "output_type": "stream",
     "text": [
      "Video successfully generated: ./generated_videos/text2video_A_man_in_a_uniform_looks_at_a_document_in_a_police_station..mp4\n",
      "Initializing the model...\n",
      "Generating video for prompt: A man talks on the phone in a meeting room.\n",
      "Module Text2Video\n",
      "Model update\n"
     ]
    },
    {
     "name": "stderr",
     "output_type": "stream",
     "text": [
      "Fetching 12 files: 100%|██████████| 12/12 [00:00<00:00, 4859.21it/s]\n"
     ]
    },
    {
     "name": "stdout",
     "output_type": "stream",
     "text": [
      "Processing chunk 1 / 5\n",
      "t0 = 881 t1 = 941\n"
     ]
    },
    {
     "name": "stderr",
     "output_type": "stream",
     "text": [
      "  2%|▏         | 1/50 [00:00<00:05,  8.65it/s]"
     ]
    },
    {
     "name": "stdout",
     "output_type": "stream",
     "text": [
      "Continue DDIM with i = 0, t = 981, latent = torch.Size([1, 4, 64, 64]), device = cuda:0, type = torch.float16\n"
     ]
    },
    {
     "name": "stderr",
     "output_type": "stream",
     "text": [
      "  6%|▌         | 3/50 [00:00<00:05,  8.38it/s]"
     ]
    },
    {
     "name": "stdout",
     "output_type": "stream",
     "text": [
      "latent t1 found at i=1, t = 961\n"
     ]
    },
    {
     "name": "stderr",
     "output_type": "stream",
     "text": [
      " 12%|█▏        | 6/50 [00:00<00:05,  8.55it/s]"
     ]
    },
    {
     "name": "stdout",
     "output_type": "stream",
     "text": [
      "latent t0 found at i = 4, t = 901\n"
     ]
    },
    {
     "name": "stderr",
     "output_type": "stream",
     "text": [
      "100%|██████████| 50/50 [00:05<00:00,  8.56it/s]\n",
      "  0%|          | 0/50 [00:00<?, ?it/s]"
     ]
    },
    {
     "name": "stdout",
     "output_type": "stream",
     "text": [
      "Continue DDIM with i = 2, t = 941, latent = torch.Size([8, 4, 64, 64]), device = cuda:0, type = torch.float16\n"
     ]
    },
    {
     "name": "stderr",
     "output_type": "stream",
     "text": [
      " 96%|█████████▌| 48/50 [00:32<00:01,  1.50it/s]\n"
     ]
    },
    {
     "name": "stdout",
     "output_type": "stream",
     "text": [
      "Processing chunk 2 / 5\n",
      "t0 = 881 t1 = 941\n"
     ]
    },
    {
     "name": "stderr",
     "output_type": "stream",
     "text": [
      "  2%|▏         | 1/50 [00:00<00:05,  8.65it/s]"
     ]
    },
    {
     "name": "stdout",
     "output_type": "stream",
     "text": [
      "Continue DDIM with i = 0, t = 981, latent = torch.Size([1, 4, 64, 64]), device = cuda:0, type = torch.float16\n"
     ]
    },
    {
     "name": "stderr",
     "output_type": "stream",
     "text": [
      "  6%|▌         | 3/50 [00:00<00:05,  8.64it/s]"
     ]
    },
    {
     "name": "stdout",
     "output_type": "stream",
     "text": [
      "latent t1 found at i=1, t = 961\n"
     ]
    },
    {
     "name": "stderr",
     "output_type": "stream",
     "text": [
      " 12%|█▏        | 6/50 [00:00<00:05,  8.66it/s]"
     ]
    },
    {
     "name": "stdout",
     "output_type": "stream",
     "text": [
      "latent t0 found at i = 4, t = 901\n"
     ]
    },
    {
     "name": "stderr",
     "output_type": "stream",
     "text": [
      "100%|██████████| 50/50 [00:05<00:00,  8.65it/s]\n",
      "  0%|          | 0/50 [00:00<?, ?it/s]"
     ]
    },
    {
     "name": "stdout",
     "output_type": "stream",
     "text": [
      "Continue DDIM with i = 2, t = 941, latent = torch.Size([8, 4, 64, 64]), device = cuda:0, type = torch.float16\n"
     ]
    },
    {
     "name": "stderr",
     "output_type": "stream",
     "text": [
      " 96%|█████████▌| 48/50 [00:32<00:01,  1.49it/s]\n"
     ]
    },
    {
     "name": "stdout",
     "output_type": "stream",
     "text": [
      "Processing chunk 3 / 5\n",
      "t0 = 881 t1 = 941\n"
     ]
    },
    {
     "name": "stderr",
     "output_type": "stream",
     "text": [
      "  2%|▏         | 1/50 [00:00<00:05,  8.66it/s]"
     ]
    },
    {
     "name": "stdout",
     "output_type": "stream",
     "text": [
      "Continue DDIM with i = 0, t = 981, latent = torch.Size([1, 4, 64, 64]), device = cuda:0, type = torch.float16\n"
     ]
    },
    {
     "name": "stderr",
     "output_type": "stream",
     "text": [
      "  6%|▌         | 3/50 [00:00<00:05,  8.62it/s]"
     ]
    },
    {
     "name": "stdout",
     "output_type": "stream",
     "text": [
      "latent t1 found at i=1, t = 961\n"
     ]
    },
    {
     "name": "stderr",
     "output_type": "stream",
     "text": [
      " 12%|█▏        | 6/50 [00:00<00:05,  8.61it/s]"
     ]
    },
    {
     "name": "stdout",
     "output_type": "stream",
     "text": [
      "latent t0 found at i = 4, t = 901\n"
     ]
    },
    {
     "name": "stderr",
     "output_type": "stream",
     "text": [
      "100%|██████████| 50/50 [00:05<00:00,  8.64it/s]\n",
      "  0%|          | 0/50 [00:00<?, ?it/s]"
     ]
    },
    {
     "name": "stdout",
     "output_type": "stream",
     "text": [
      "Continue DDIM with i = 2, t = 941, latent = torch.Size([8, 4, 64, 64]), device = cuda:0, type = torch.float16\n"
     ]
    },
    {
     "name": "stderr",
     "output_type": "stream",
     "text": [
      " 96%|█████████▌| 48/50 [00:32<00:01,  1.49it/s]\n"
     ]
    },
    {
     "name": "stdout",
     "output_type": "stream",
     "text": [
      "Processing chunk 4 / 5\n",
      "t0 = 881 t1 = 941\n"
     ]
    },
    {
     "name": "stderr",
     "output_type": "stream",
     "text": [
      "  2%|▏         | 1/50 [00:00<00:05,  8.65it/s]"
     ]
    },
    {
     "name": "stdout",
     "output_type": "stream",
     "text": [
      "Continue DDIM with i = 0, t = 981, latent = torch.Size([1, 4, 64, 64]), device = cuda:0, type = torch.float16\n"
     ]
    },
    {
     "name": "stderr",
     "output_type": "stream",
     "text": [
      "  6%|▌         | 3/50 [00:00<00:05,  8.64it/s]"
     ]
    },
    {
     "name": "stdout",
     "output_type": "stream",
     "text": [
      "latent t1 found at i=1, t = 961\n"
     ]
    },
    {
     "name": "stderr",
     "output_type": "stream",
     "text": [
      " 12%|█▏        | 6/50 [00:00<00:05,  8.64it/s]"
     ]
    },
    {
     "name": "stdout",
     "output_type": "stream",
     "text": [
      "latent t0 found at i = 4, t = 901\n"
     ]
    },
    {
     "name": "stderr",
     "output_type": "stream",
     "text": [
      "100%|██████████| 50/50 [00:05<00:00,  8.65it/s]\n",
      "  0%|          | 0/50 [00:00<?, ?it/s]"
     ]
    },
    {
     "name": "stdout",
     "output_type": "stream",
     "text": [
      "Continue DDIM with i = 2, t = 941, latent = torch.Size([8, 4, 64, 64]), device = cuda:0, type = torch.float16\n"
     ]
    },
    {
     "name": "stderr",
     "output_type": "stream",
     "text": [
      " 96%|█████████▌| 48/50 [00:32<00:01,  1.49it/s]\n"
     ]
    },
    {
     "name": "stdout",
     "output_type": "stream",
     "text": [
      "Processing chunk 5 / 5\n",
      "t0 = 881 t1 = 941\n"
     ]
    },
    {
     "name": "stderr",
     "output_type": "stream",
     "text": [
      "  2%|▏         | 1/50 [00:00<00:05,  8.67it/s]"
     ]
    },
    {
     "name": "stdout",
     "output_type": "stream",
     "text": [
      "Continue DDIM with i = 0, t = 981, latent = torch.Size([1, 4, 64, 64]), device = cuda:0, type = torch.float16\n"
     ]
    },
    {
     "name": "stderr",
     "output_type": "stream",
     "text": [
      "  6%|▌         | 3/50 [00:00<00:05,  8.64it/s]"
     ]
    },
    {
     "name": "stdout",
     "output_type": "stream",
     "text": [
      "latent t1 found at i=1, t = 961\n"
     ]
    },
    {
     "name": "stderr",
     "output_type": "stream",
     "text": [
      " 12%|█▏        | 6/50 [00:00<00:05,  8.62it/s]"
     ]
    },
    {
     "name": "stdout",
     "output_type": "stream",
     "text": [
      "latent t0 found at i = 4, t = 901\n"
     ]
    },
    {
     "name": "stderr",
     "output_type": "stream",
     "text": [
      "100%|██████████| 50/50 [00:05<00:00,  8.68it/s]\n",
      "  0%|          | 0/50 [00:00<?, ?it/s]"
     ]
    },
    {
     "name": "stdout",
     "output_type": "stream",
     "text": [
      "Continue DDIM with i = 2, t = 941, latent = torch.Size([3, 4, 64, 64]), device = cuda:0, type = torch.float16\n"
     ]
    },
    {
     "name": "stderr",
     "output_type": "stream",
     "text": [
      " 96%|█████████▌| 48/50 [00:13<00:00,  3.65it/s]\n"
     ]
    },
    {
     "name": "stdout",
     "output_type": "stream",
     "text": [
      "Video successfully generated: ./generated_videos/text2video_A_man_talks_on_the_phone_in_a_meeting_room..mp4\n",
      "Initializing the model...\n",
      "Generating video for prompt: A woman watches a video on a screen in a living room.\n",
      "Module Text2Video\n",
      "Model update\n"
     ]
    },
    {
     "name": "stderr",
     "output_type": "stream",
     "text": [
      "Fetching 12 files: 100%|██████████| 12/12 [00:00<00:00, 6285.17it/s]\n"
     ]
    },
    {
     "name": "stdout",
     "output_type": "stream",
     "text": [
      "Processing chunk 1 / 5\n",
      "t0 = 881 t1 = 941\n"
     ]
    },
    {
     "name": "stderr",
     "output_type": "stream",
     "text": [
      "  2%|▏         | 1/50 [00:00<00:05,  8.63it/s]"
     ]
    },
    {
     "name": "stdout",
     "output_type": "stream",
     "text": [
      "Continue DDIM with i = 0, t = 981, latent = torch.Size([1, 4, 64, 64]), device = cuda:0, type = torch.float16\n"
     ]
    },
    {
     "name": "stderr",
     "output_type": "stream",
     "text": [
      "  6%|▌         | 3/50 [00:00<00:05,  8.63it/s]"
     ]
    },
    {
     "name": "stdout",
     "output_type": "stream",
     "text": [
      "latent t1 found at i=1, t = 961\n"
     ]
    },
    {
     "name": "stderr",
     "output_type": "stream",
     "text": [
      " 12%|█▏        | 6/50 [00:00<00:05,  8.65it/s]"
     ]
    },
    {
     "name": "stdout",
     "output_type": "stream",
     "text": [
      "latent t0 found at i = 4, t = 901\n"
     ]
    },
    {
     "name": "stderr",
     "output_type": "stream",
     "text": [
      "100%|██████████| 50/50 [00:05<00:00,  8.65it/s]\n",
      "  0%|          | 0/50 [00:00<?, ?it/s]"
     ]
    },
    {
     "name": "stdout",
     "output_type": "stream",
     "text": [
      "Continue DDIM with i = 2, t = 941, latent = torch.Size([8, 4, 64, 64]), device = cuda:0, type = torch.float16\n"
     ]
    },
    {
     "name": "stderr",
     "output_type": "stream",
     "text": [
      " 96%|█████████▌| 48/50 [00:32<00:01,  1.50it/s]\n"
     ]
    },
    {
     "name": "stdout",
     "output_type": "stream",
     "text": [
      "Processing chunk 2 / 5\n",
      "t0 = 881 t1 = 941\n"
     ]
    },
    {
     "name": "stderr",
     "output_type": "stream",
     "text": [
      "  2%|▏         | 1/50 [00:00<00:05,  8.72it/s]"
     ]
    },
    {
     "name": "stdout",
     "output_type": "stream",
     "text": [
      "Continue DDIM with i = 0, t = 981, latent = torch.Size([1, 4, 64, 64]), device = cuda:0, type = torch.float16\n"
     ]
    },
    {
     "name": "stderr",
     "output_type": "stream",
     "text": [
      "  6%|▌         | 3/50 [00:00<00:05,  8.69it/s]"
     ]
    },
    {
     "name": "stdout",
     "output_type": "stream",
     "text": [
      "latent t1 found at i=1, t = 961\n"
     ]
    },
    {
     "name": "stderr",
     "output_type": "stream",
     "text": [
      " 12%|█▏        | 6/50 [00:00<00:05,  8.66it/s]"
     ]
    },
    {
     "name": "stdout",
     "output_type": "stream",
     "text": [
      "latent t0 found at i = 4, t = 901\n"
     ]
    },
    {
     "name": "stderr",
     "output_type": "stream",
     "text": [
      "100%|██████████| 50/50 [00:05<00:00,  8.66it/s]\n",
      "  0%|          | 0/50 [00:00<?, ?it/s]"
     ]
    },
    {
     "name": "stdout",
     "output_type": "stream",
     "text": [
      "Continue DDIM with i = 2, t = 941, latent = torch.Size([8, 4, 64, 64]), device = cuda:0, type = torch.float16\n"
     ]
    },
    {
     "name": "stderr",
     "output_type": "stream",
     "text": [
      " 96%|█████████▌| 48/50 [00:32<00:01,  1.49it/s]\n"
     ]
    },
    {
     "name": "stdout",
     "output_type": "stream",
     "text": [
      "Processing chunk 3 / 5\n",
      "t0 = 881 t1 = 941\n"
     ]
    },
    {
     "name": "stderr",
     "output_type": "stream",
     "text": [
      "  2%|▏         | 1/50 [00:00<00:05,  8.71it/s]"
     ]
    },
    {
     "name": "stdout",
     "output_type": "stream",
     "text": [
      "Continue DDIM with i = 0, t = 981, latent = torch.Size([1, 4, 64, 64]), device = cuda:0, type = torch.float16\n"
     ]
    },
    {
     "name": "stderr",
     "output_type": "stream",
     "text": [
      "  6%|▌         | 3/50 [00:00<00:05,  8.67it/s]"
     ]
    },
    {
     "name": "stdout",
     "output_type": "stream",
     "text": [
      "latent t1 found at i=1, t = 961\n"
     ]
    },
    {
     "name": "stderr",
     "output_type": "stream",
     "text": [
      " 12%|█▏        | 6/50 [00:00<00:05,  8.65it/s]"
     ]
    },
    {
     "name": "stdout",
     "output_type": "stream",
     "text": [
      "latent t0 found at i = 4, t = 901\n"
     ]
    },
    {
     "name": "stderr",
     "output_type": "stream",
     "text": [
      "100%|██████████| 50/50 [00:05<00:00,  8.64it/s]\n",
      "  0%|          | 0/50 [00:00<?, ?it/s]"
     ]
    },
    {
     "name": "stdout",
     "output_type": "stream",
     "text": [
      "Continue DDIM with i = 2, t = 941, latent = torch.Size([8, 4, 64, 64]), device = cuda:0, type = torch.float16\n"
     ]
    },
    {
     "name": "stderr",
     "output_type": "stream",
     "text": [
      " 86%|████████▌ | 43/50 [00:29<00:04,  1.47it/s]\n"
     ]
    },
    {
     "ename": "KeyboardInterrupt",
     "evalue": "",
     "output_type": "error",
     "traceback": [
      "\u001b[0;31m---------------------------------------------------------------------------\u001b[0m",
      "\u001b[0;31mKeyboardInterrupt\u001b[0m                         Traceback (most recent call last)",
      "\u001b[1;32m/home/elicer/capstone_1216/e2e.ipynb Cell 8\u001b[0m line \u001b[0;36m3\n\u001b[1;32m      <a href='vscode-notebook-cell://qngrpctnppqfmhps.tunnel-pt.elice.io/home/elicer/capstone_1216/e2e.ipynb#X10sdnNjb2RlLXJlbW90ZQ%3D%3D?line=0'>1</a>\u001b[0m \u001b[39mfrom\u001b[39;00m \u001b[39mmodel\u001b[39;00m\u001b[39m.\u001b[39;00m\u001b[39mrunTTV\u001b[39;00m \u001b[39mimport\u001b[39;00m runTTV\n\u001b[0;32m----> <a href='vscode-notebook-cell://qngrpctnppqfmhps.tunnel-pt.elice.io/home/elicer/capstone_1216/e2e.ipynb#X10sdnNjb2RlLXJlbW90ZQ%3D%3D?line=2'>3</a>\u001b[0m TTV_f_name \u001b[39m=\u001b[39m runTTV(prompts)\n",
      "File \u001b[0;32m~/capstone_1216/model/runTTV.py:126\u001b[0m, in \u001b[0;36mrunTTV\u001b[0;34m(prompts)\u001b[0m\n\u001b[1;32m    123\u001b[0m     os\u001b[39m.\u001b[39mmakedirs(output_dir)\n\u001b[1;32m    125\u001b[0m \u001b[39m# 비디오 생성 실행\u001b[39;00m\n\u001b[0;32m--> 126\u001b[0m makeOutput(prompts, output_dir\u001b[39m=\u001b[39;49moutput_dir)\n\u001b[1;32m    128\u001b[0m \u001b[39mreturn\u001b[39;00m video_name\n",
      "File \u001b[0;32m~/capstone_1216/model/runTTV.py:116\u001b[0m, in \u001b[0;36mmakeOutput\u001b[0;34m(prompts, output_dir, fps)\u001b[0m\n\u001b[1;32m    107\u001b[0m \u001b[39m\u001b[39m\u001b[39m\"\"\"\u001b[39;00m\n\u001b[1;32m    108\u001b[0m \u001b[39m여러 문장을 입력받아 각 문장에 대해 비디오 생성 실행.\u001b[39;00m\n\u001b[1;32m    109\u001b[0m \u001b[39m\u001b[39;00m\n\u001b[0;32m   (...)\u001b[0m\n\u001b[1;32m    113\u001b[0m \u001b[39m    fps (int): 출력 비디오의 초당 프레임 수.\u001b[39;00m\n\u001b[1;32m    114\u001b[0m \u001b[39m\"\"\"\u001b[39;00m\n\u001b[1;32m    115\u001b[0m \u001b[39mfor\u001b[39;00m prompt \u001b[39min\u001b[39;00m prompts:\n\u001b[0;32m--> 116\u001b[0m     runTTVPerSec(prompt, output_dir\u001b[39m=\u001b[39;49moutput_dir, fps\u001b[39m=\u001b[39;49mfps)\n",
      "File \u001b[0;32m~/capstone_1216/model/runTTV.py:101\u001b[0m, in \u001b[0;36mrunTTVPerSec\u001b[0;34m(prompt, params, output_dir, fps)\u001b[0m\n\u001b[1;32m     99\u001b[0m \u001b[39mtry\u001b[39;00m:\n\u001b[1;32m    100\u001b[0m     \u001b[39mprint\u001b[39m(\u001b[39mf\u001b[39m\u001b[39m\"\u001b[39m\u001b[39mGenerating video for prompt: \u001b[39m\u001b[39m{\u001b[39;00mprompt\u001b[39m}\u001b[39;00m\u001b[39m\"\u001b[39m)\n\u001b[0;32m--> 101\u001b[0m     model\u001b[39m.\u001b[39;49mprocess_text2video(prompt, fps\u001b[39m=\u001b[39;49mfps, path\u001b[39m=\u001b[39;49mout_path, \u001b[39m*\u001b[39;49m\u001b[39m*\u001b[39;49mparams)\n\u001b[1;32m    102\u001b[0m     \u001b[39mprint\u001b[39m(\u001b[39mf\u001b[39m\u001b[39m\"\u001b[39m\u001b[39mVideo successfully generated: \u001b[39m\u001b[39m{\u001b[39;00mout_path\u001b[39m}\u001b[39;00m\u001b[39m\"\u001b[39m)\n\u001b[1;32m    103\u001b[0m \u001b[39mexcept\u001b[39;00m \u001b[39mException\u001b[39;00m \u001b[39mas\u001b[39;00m e:\n",
      "File \u001b[0;32m~/capstone_1216/Text2Video-Zero/model.py:474\u001b[0m, in \u001b[0;36mModel.process_text2video\u001b[0;34m(self, prompt, model_name, motion_field_strength_x, motion_field_strength_y, t0, t1, n_prompt, chunk_size, video_length, watermark, merging_ratio, seed, resolution, fps, use_cf_attn, use_motion_field, smooth_bg, smooth_bg_strength, path)\u001b[0m\n\u001b[1;32m    471\u001b[0m \u001b[39melse\u001b[39;00m:\n\u001b[1;32m    472\u001b[0m     negative_prompt \u001b[39m=\u001b[39m \u001b[39mNone\u001b[39;00m\n\u001b[0;32m--> 474\u001b[0m result \u001b[39m=\u001b[39m \u001b[39mself\u001b[39;49m\u001b[39m.\u001b[39;49minference(prompt\u001b[39m=\u001b[39;49mprompt,\n\u001b[1;32m    475\u001b[0m                         video_length\u001b[39m=\u001b[39;49mvideo_length,\n\u001b[1;32m    476\u001b[0m                         height\u001b[39m=\u001b[39;49mresolution,\n\u001b[1;32m    477\u001b[0m                         width\u001b[39m=\u001b[39;49mresolution,\n\u001b[1;32m    478\u001b[0m                         num_inference_steps\u001b[39m=\u001b[39;49m\u001b[39m50\u001b[39;49m,\n\u001b[1;32m    479\u001b[0m                         guidance_scale\u001b[39m=\u001b[39;49m\u001b[39m7.5\u001b[39;49m,\n\u001b[1;32m    480\u001b[0m                         guidance_stop_step\u001b[39m=\u001b[39;49m\u001b[39m1.0\u001b[39;49m,\n\u001b[1;32m    481\u001b[0m                         t0\u001b[39m=\u001b[39;49mt0,\n\u001b[1;32m    482\u001b[0m                         t1\u001b[39m=\u001b[39;49mt1,\n\u001b[1;32m    483\u001b[0m                         motion_field_strength_x\u001b[39m=\u001b[39;49mmotion_field_strength_x,\n\u001b[1;32m    484\u001b[0m                         motion_field_strength_y\u001b[39m=\u001b[39;49mmotion_field_strength_y,\n\u001b[1;32m    485\u001b[0m                         use_motion_field\u001b[39m=\u001b[39;49muse_motion_field,\n\u001b[1;32m    486\u001b[0m                         smooth_bg\u001b[39m=\u001b[39;49msmooth_bg,\n\u001b[1;32m    487\u001b[0m                         smooth_bg_strength\u001b[39m=\u001b[39;49msmooth_bg_strength,\n\u001b[1;32m    488\u001b[0m                         seed\u001b[39m=\u001b[39;49mseed,\n\u001b[1;32m    489\u001b[0m                         output_type\u001b[39m=\u001b[39;49m\u001b[39m'\u001b[39;49m\u001b[39mnumpy\u001b[39;49m\u001b[39m'\u001b[39;49m,\n\u001b[1;32m    490\u001b[0m                         negative_prompt\u001b[39m=\u001b[39;49mnegative_prompt,\n\u001b[1;32m    491\u001b[0m                         merging_ratio\u001b[39m=\u001b[39;49mmerging_ratio,\n\u001b[1;32m    492\u001b[0m                         split_to_chunks\u001b[39m=\u001b[39;49m\u001b[39mTrue\u001b[39;49;00m,\n\u001b[1;32m    493\u001b[0m                         chunk_size\u001b[39m=\u001b[39;49mchunk_size,\n\u001b[1;32m    494\u001b[0m                         )\n\u001b[1;32m    495\u001b[0m \u001b[39mreturn\u001b[39;00m utils\u001b[39m.\u001b[39mcreate_video(result, fps, path\u001b[39m=\u001b[39mpath, watermark\u001b[39m=\u001b[39mgradio_utils\u001b[39m.\u001b[39mlogo_name_to_path(watermark))\n",
      "File \u001b[0;32m~/capstone_1216/Text2Video-Zero/model.py:120\u001b[0m, in \u001b[0;36mModel.inference\u001b[0;34m(self, split_to_chunks, chunk_size, **kwargs)\u001b[0m\n\u001b[1;32m    118\u001b[0m \u001b[39mself\u001b[39m\u001b[39m.\u001b[39mgenerator\u001b[39m.\u001b[39mmanual_seed(seed)\n\u001b[1;32m    119\u001b[0m \u001b[39mprint\u001b[39m(\u001b[39mf\u001b[39m\u001b[39m'\u001b[39m\u001b[39mProcessing chunk \u001b[39m\u001b[39m{\u001b[39;00mi\u001b[39m \u001b[39m\u001b[39m+\u001b[39m\u001b[39m \u001b[39m\u001b[39m1\u001b[39m\u001b[39m}\u001b[39;00m\u001b[39m / \u001b[39m\u001b[39m{\u001b[39;00m\u001b[39mlen\u001b[39m(chunk_ids)\u001b[39m}\u001b[39;00m\u001b[39m'\u001b[39m)\n\u001b[0;32m--> 120\u001b[0m result\u001b[39m.\u001b[39mappend(\u001b[39mself\u001b[39;49m\u001b[39m.\u001b[39;49minference_chunk(frame_ids\u001b[39m=\u001b[39;49mframe_ids,\n\u001b[1;32m    121\u001b[0m                                    prompt\u001b[39m=\u001b[39;49mprompt,\n\u001b[1;32m    122\u001b[0m                                    negative_prompt\u001b[39m=\u001b[39;49mnegative_prompt,\n\u001b[1;32m    123\u001b[0m                                    \u001b[39m*\u001b[39;49m\u001b[39m*\u001b[39;49mkwargs)\u001b[39m.\u001b[39mimages[\u001b[39m1\u001b[39m:])\n\u001b[1;32m    124\u001b[0m frames_counter \u001b[39m+\u001b[39m\u001b[39m=\u001b[39m \u001b[39mlen\u001b[39m(chunk_ids)\u001b[39m-\u001b[39m\u001b[39m1\u001b[39m\n\u001b[1;32m    125\u001b[0m \u001b[39mif\u001b[39;00m on_huggingspace \u001b[39mand\u001b[39;00m frames_counter \u001b[39m>\u001b[39m\u001b[39m=\u001b[39m \u001b[39m80\u001b[39m:\n",
      "File \u001b[0;32m~/capstone_1216/Text2Video-Zero/model.py:79\u001b[0m, in \u001b[0;36mModel.inference_chunk\u001b[0;34m(self, frame_ids, **kwargs)\u001b[0m\n\u001b[1;32m     77\u001b[0m \u001b[39mif\u001b[39;00m \u001b[39mself\u001b[39m\u001b[39m.\u001b[39mmodel_type \u001b[39m==\u001b[39m ModelType\u001b[39m.\u001b[39mText2Video:\n\u001b[1;32m     78\u001b[0m     kwargs[\u001b[39m\"\u001b[39m\u001b[39mframe_ids\u001b[39m\u001b[39m\"\u001b[39m] \u001b[39m=\u001b[39m frame_ids\n\u001b[0;32m---> 79\u001b[0m \u001b[39mreturn\u001b[39;00m \u001b[39mself\u001b[39;49m\u001b[39m.\u001b[39;49mpipe(prompt\u001b[39m=\u001b[39;49mprompt[frame_ids]\u001b[39m.\u001b[39;49mtolist(),\n\u001b[1;32m     80\u001b[0m                  negative_prompt\u001b[39m=\u001b[39;49mnegative_prompt[frame_ids]\u001b[39m.\u001b[39;49mtolist(),\n\u001b[1;32m     81\u001b[0m                  latents\u001b[39m=\u001b[39;49mlatents,\n\u001b[1;32m     82\u001b[0m                  generator\u001b[39m=\u001b[39;49m\u001b[39mself\u001b[39;49m\u001b[39m.\u001b[39;49mgenerator,\n\u001b[1;32m     83\u001b[0m                  \u001b[39m*\u001b[39;49m\u001b[39m*\u001b[39;49mkwargs)\n",
      "File \u001b[0;32m~/.cap/lib/python3.9/site-packages/torch/autograd/grad_mode.py:27\u001b[0m, in \u001b[0;36m_DecoratorContextManager.__call__.<locals>.decorate_context\u001b[0;34m(*args, **kwargs)\u001b[0m\n\u001b[1;32m     24\u001b[0m \u001b[39m@functools\u001b[39m\u001b[39m.\u001b[39mwraps(func)\n\u001b[1;32m     25\u001b[0m \u001b[39mdef\u001b[39;00m \u001b[39mdecorate_context\u001b[39m(\u001b[39m*\u001b[39margs, \u001b[39m*\u001b[39m\u001b[39m*\u001b[39mkwargs):\n\u001b[1;32m     26\u001b[0m     \u001b[39mwith\u001b[39;00m \u001b[39mself\u001b[39m\u001b[39m.\u001b[39mclone():\n\u001b[0;32m---> 27\u001b[0m         \u001b[39mreturn\u001b[39;00m func(\u001b[39m*\u001b[39;49margs, \u001b[39m*\u001b[39;49m\u001b[39m*\u001b[39;49mkwargs)\n",
      "File \u001b[0;32m~/capstone_1216/Text2Video-Zero/text_to_video_pipeline.py:390\u001b[0m, in \u001b[0;36mTextToVideoPipeline.__call__\u001b[0;34m(***failed resolving arguments***)\u001b[0m\n\u001b[1;32m    386\u001b[0m     \u001b[39mraise\u001b[39;00m \u001b[39mException\u001b[39;00m\n\u001b[1;32m    388\u001b[0m x_t1 \u001b[39m=\u001b[39m torch\u001b[39m.\u001b[39mcat([x_t1_1, x_t1_k], dim\u001b[39m=\u001b[39m\u001b[39m2\u001b[39m)\u001b[39m.\u001b[39mclone()\u001b[39m.\u001b[39mdetach()\n\u001b[0;32m--> 390\u001b[0m ddim_res \u001b[39m=\u001b[39m \u001b[39mself\u001b[39;49m\u001b[39m.\u001b[39;49mDDIM_backward(num_inference_steps\u001b[39m=\u001b[39;49mnum_inference_steps, timesteps\u001b[39m=\u001b[39;49mtimesteps, skip_t\u001b[39m=\u001b[39;49mt1, t0\u001b[39m=\u001b[39;49m\u001b[39m-\u001b[39;49m\u001b[39m1\u001b[39;49m, t1\u001b[39m=\u001b[39;49m\u001b[39m-\u001b[39;49m\u001b[39m1\u001b[39;49m, do_classifier_free_guidance\u001b[39m=\u001b[39;49mdo_classifier_free_guidance,\n\u001b[1;32m    391\u001b[0m                               null_embs\u001b[39m=\u001b[39;49mnull_embs, text_embeddings\u001b[39m=\u001b[39;49mtext_embeddings, latents_local\u001b[39m=\u001b[39;49mx_t1, latents_dtype\u001b[39m=\u001b[39;49mdtype, guidance_scale\u001b[39m=\u001b[39;49mguidance_scale,\n\u001b[1;32m    392\u001b[0m                               guidance_stop_step\u001b[39m=\u001b[39;49mguidance_stop_step, callback\u001b[39m=\u001b[39;49mcallback, callback_steps\u001b[39m=\u001b[39;49mcallback_steps, extra_step_kwargs\u001b[39m=\u001b[39;49mextra_step_kwargs, num_warmup_steps\u001b[39m=\u001b[39;49mnum_warmup_steps)\n\u001b[1;32m    394\u001b[0m x0 \u001b[39m=\u001b[39m ddim_res[\u001b[39m\"\u001b[39m\u001b[39mx0\u001b[39m\u001b[39m\"\u001b[39m]\u001b[39m.\u001b[39mdetach()\n\u001b[1;32m    395\u001b[0m \u001b[39mdel\u001b[39;00m ddim_res\n",
      "File \u001b[0;32m~/capstone_1216/Text2Video-Zero/text_to_video_pipeline.py:152\u001b[0m, in \u001b[0;36mTextToVideoPipeline.DDIM_backward\u001b[0;34m(self, num_inference_steps, timesteps, skip_t, t0, t1, do_classifier_free_guidance, null_embs, text_embeddings, latents_local, latents_dtype, guidance_scale, guidance_stop_step, callback, callback_steps, extra_step_kwargs, num_warmup_steps)\u001b[0m\n\u001b[1;32m    149\u001b[0m         text_embeddings[\u001b[39m0\u001b[39m] \u001b[39m=\u001b[39m null_embs[i][\u001b[39m0\u001b[39m]\n\u001b[1;32m    150\u001b[0m     te \u001b[39m=\u001b[39m torch\u001b[39m.\u001b[39mcat([repeat(text_embeddings[\u001b[39m0\u001b[39m, :, :], \u001b[39m\"\u001b[39m\u001b[39mc k -> f c k\u001b[39m\u001b[39m\"\u001b[39m, f\u001b[39m=\u001b[39mf),\n\u001b[1;32m    151\u001b[0m                    repeat(text_embeddings[\u001b[39m1\u001b[39m, :, :], \u001b[39m\"\u001b[39m\u001b[39mc k -> f c k\u001b[39m\u001b[39m\"\u001b[39m, f\u001b[39m=\u001b[39mf)])\n\u001b[0;32m--> 152\u001b[0m     noise_pred \u001b[39m=\u001b[39m \u001b[39mself\u001b[39;49m\u001b[39m.\u001b[39;49munet(\n\u001b[1;32m    153\u001b[0m         latent_model_input, t, encoder_hidden_states\u001b[39m=\u001b[39;49mte)\u001b[39m.\u001b[39msample\u001b[39m.\u001b[39mto(dtype\u001b[39m=\u001b[39mlatents_dtype)\n\u001b[1;32m    155\u001b[0m \u001b[39m# perform guidance\u001b[39;00m\n\u001b[1;32m    156\u001b[0m \u001b[39mif\u001b[39;00m do_classifier_free_guidance:\n",
      "File \u001b[0;32m~/.cap/lib/python3.9/site-packages/torch/nn/modules/module.py:1212\u001b[0m, in \u001b[0;36mModule._call_impl\u001b[0;34m(self, *input, **kwargs)\u001b[0m\n\u001b[1;32m   1209\u001b[0m     bw_hook \u001b[39m=\u001b[39m hooks\u001b[39m.\u001b[39mBackwardHook(\u001b[39mself\u001b[39m, full_backward_hooks)\n\u001b[1;32m   1210\u001b[0m     \u001b[39minput\u001b[39m \u001b[39m=\u001b[39m bw_hook\u001b[39m.\u001b[39msetup_input_hook(\u001b[39minput\u001b[39m)\n\u001b[0;32m-> 1212\u001b[0m result \u001b[39m=\u001b[39m forward_call(\u001b[39m*\u001b[39;49m\u001b[39minput\u001b[39;49m, \u001b[39m*\u001b[39;49m\u001b[39m*\u001b[39;49mkwargs)\n\u001b[1;32m   1213\u001b[0m \u001b[39mif\u001b[39;00m _global_forward_hooks \u001b[39mor\u001b[39;00m \u001b[39mself\u001b[39m\u001b[39m.\u001b[39m_forward_hooks:\n\u001b[1;32m   1214\u001b[0m     \u001b[39mfor\u001b[39;00m hook \u001b[39min\u001b[39;00m (\u001b[39m*\u001b[39m_global_forward_hooks\u001b[39m.\u001b[39mvalues(), \u001b[39m*\u001b[39m\u001b[39mself\u001b[39m\u001b[39m.\u001b[39m_forward_hooks\u001b[39m.\u001b[39mvalues()):\n",
      "File \u001b[0;32m~/.cap/lib/python3.9/site-packages/diffusers/models/unet_2d_condition.py:631\u001b[0m, in \u001b[0;36mUNet2DConditionModel.forward\u001b[0;34m(self, sample, timestep, encoder_hidden_states, class_labels, timestep_cond, attention_mask, cross_attention_kwargs, down_block_additional_residuals, mid_block_additional_residual, return_dict)\u001b[0m\n\u001b[1;32m    628\u001b[0m     upsample_size \u001b[39m=\u001b[39m down_block_res_samples[\u001b[39m-\u001b[39m\u001b[39m1\u001b[39m]\u001b[39m.\u001b[39mshape[\u001b[39m2\u001b[39m:]\n\u001b[1;32m    630\u001b[0m \u001b[39mif\u001b[39;00m \u001b[39mhasattr\u001b[39m(upsample_block, \u001b[39m\"\u001b[39m\u001b[39mhas_cross_attention\u001b[39m\u001b[39m\"\u001b[39m) \u001b[39mand\u001b[39;00m upsample_block\u001b[39m.\u001b[39mhas_cross_attention:\n\u001b[0;32m--> 631\u001b[0m     sample \u001b[39m=\u001b[39m upsample_block(\n\u001b[1;32m    632\u001b[0m         hidden_states\u001b[39m=\u001b[39;49msample,\n\u001b[1;32m    633\u001b[0m         temb\u001b[39m=\u001b[39;49memb,\n\u001b[1;32m    634\u001b[0m         res_hidden_states_tuple\u001b[39m=\u001b[39;49mres_samples,\n\u001b[1;32m    635\u001b[0m         encoder_hidden_states\u001b[39m=\u001b[39;49mencoder_hidden_states,\n\u001b[1;32m    636\u001b[0m         cross_attention_kwargs\u001b[39m=\u001b[39;49mcross_attention_kwargs,\n\u001b[1;32m    637\u001b[0m         upsample_size\u001b[39m=\u001b[39;49mupsample_size,\n\u001b[1;32m    638\u001b[0m         attention_mask\u001b[39m=\u001b[39;49mattention_mask,\n\u001b[1;32m    639\u001b[0m     )\n\u001b[1;32m    640\u001b[0m \u001b[39melse\u001b[39;00m:\n\u001b[1;32m    641\u001b[0m     sample \u001b[39m=\u001b[39m upsample_block(\n\u001b[1;32m    642\u001b[0m         hidden_states\u001b[39m=\u001b[39msample, temb\u001b[39m=\u001b[39memb, res_hidden_states_tuple\u001b[39m=\u001b[39mres_samples, upsample_size\u001b[39m=\u001b[39mupsample_size\n\u001b[1;32m    643\u001b[0m     )\n",
      "File \u001b[0;32m~/.cap/lib/python3.9/site-packages/torch/nn/modules/module.py:1194\u001b[0m, in \u001b[0;36mModule._call_impl\u001b[0;34m(self, *input, **kwargs)\u001b[0m\n\u001b[1;32m   1190\u001b[0m \u001b[39m# If we don't have any hooks, we want to skip the rest of the logic in\u001b[39;00m\n\u001b[1;32m   1191\u001b[0m \u001b[39m# this function, and just call forward.\u001b[39;00m\n\u001b[1;32m   1192\u001b[0m \u001b[39mif\u001b[39;00m \u001b[39mnot\u001b[39;00m (\u001b[39mself\u001b[39m\u001b[39m.\u001b[39m_backward_hooks \u001b[39mor\u001b[39;00m \u001b[39mself\u001b[39m\u001b[39m.\u001b[39m_forward_hooks \u001b[39mor\u001b[39;00m \u001b[39mself\u001b[39m\u001b[39m.\u001b[39m_forward_pre_hooks \u001b[39mor\u001b[39;00m _global_backward_hooks\n\u001b[1;32m   1193\u001b[0m         \u001b[39mor\u001b[39;00m _global_forward_hooks \u001b[39mor\u001b[39;00m _global_forward_pre_hooks):\n\u001b[0;32m-> 1194\u001b[0m     \u001b[39mreturn\u001b[39;00m forward_call(\u001b[39m*\u001b[39;49m\u001b[39minput\u001b[39;49m, \u001b[39m*\u001b[39;49m\u001b[39m*\u001b[39;49mkwargs)\n\u001b[1;32m   1195\u001b[0m \u001b[39m# Do not call functions when jit is used\u001b[39;00m\n\u001b[1;32m   1196\u001b[0m full_backward_hooks, non_full_backward_hooks \u001b[39m=\u001b[39m [], []\n",
      "File \u001b[0;32m~/.cap/lib/python3.9/site-packages/diffusers/models/unet_2d_blocks.py:1813\u001b[0m, in \u001b[0;36mCrossAttnUpBlock2D.forward\u001b[0;34m(self, hidden_states, res_hidden_states_tuple, temb, encoder_hidden_states, cross_attention_kwargs, upsample_size, attention_mask)\u001b[0m\n\u001b[1;32m   1811\u001b[0m     \u001b[39melse\u001b[39;00m:\n\u001b[1;32m   1812\u001b[0m         hidden_states \u001b[39m=\u001b[39m resnet(hidden_states, temb)\n\u001b[0;32m-> 1813\u001b[0m         hidden_states \u001b[39m=\u001b[39m attn(\n\u001b[1;32m   1814\u001b[0m             hidden_states,\n\u001b[1;32m   1815\u001b[0m             encoder_hidden_states\u001b[39m=\u001b[39;49mencoder_hidden_states,\n\u001b[1;32m   1816\u001b[0m             cross_attention_kwargs\u001b[39m=\u001b[39;49mcross_attention_kwargs,\n\u001b[1;32m   1817\u001b[0m         )\u001b[39m.\u001b[39msample\n\u001b[1;32m   1819\u001b[0m \u001b[39mif\u001b[39;00m \u001b[39mself\u001b[39m\u001b[39m.\u001b[39mupsamplers \u001b[39mis\u001b[39;00m \u001b[39mnot\u001b[39;00m \u001b[39mNone\u001b[39;00m:\n\u001b[1;32m   1820\u001b[0m     \u001b[39mfor\u001b[39;00m upsampler \u001b[39min\u001b[39;00m \u001b[39mself\u001b[39m\u001b[39m.\u001b[39mupsamplers:\n",
      "File \u001b[0;32m~/.cap/lib/python3.9/site-packages/torch/nn/modules/module.py:1194\u001b[0m, in \u001b[0;36mModule._call_impl\u001b[0;34m(self, *input, **kwargs)\u001b[0m\n\u001b[1;32m   1190\u001b[0m \u001b[39m# If we don't have any hooks, we want to skip the rest of the logic in\u001b[39;00m\n\u001b[1;32m   1191\u001b[0m \u001b[39m# this function, and just call forward.\u001b[39;00m\n\u001b[1;32m   1192\u001b[0m \u001b[39mif\u001b[39;00m \u001b[39mnot\u001b[39;00m (\u001b[39mself\u001b[39m\u001b[39m.\u001b[39m_backward_hooks \u001b[39mor\u001b[39;00m \u001b[39mself\u001b[39m\u001b[39m.\u001b[39m_forward_hooks \u001b[39mor\u001b[39;00m \u001b[39mself\u001b[39m\u001b[39m.\u001b[39m_forward_pre_hooks \u001b[39mor\u001b[39;00m _global_backward_hooks\n\u001b[1;32m   1193\u001b[0m         \u001b[39mor\u001b[39;00m _global_forward_hooks \u001b[39mor\u001b[39;00m _global_forward_pre_hooks):\n\u001b[0;32m-> 1194\u001b[0m     \u001b[39mreturn\u001b[39;00m forward_call(\u001b[39m*\u001b[39;49m\u001b[39minput\u001b[39;49m, \u001b[39m*\u001b[39;49m\u001b[39m*\u001b[39;49mkwargs)\n\u001b[1;32m   1195\u001b[0m \u001b[39m# Do not call functions when jit is used\u001b[39;00m\n\u001b[1;32m   1196\u001b[0m full_backward_hooks, non_full_backward_hooks \u001b[39m=\u001b[39m [], []\n",
      "File \u001b[0;32m~/.cap/lib/python3.9/site-packages/diffusers/models/transformer_2d.py:265\u001b[0m, in \u001b[0;36mTransformer2DModel.forward\u001b[0;34m(self, hidden_states, encoder_hidden_states, timestep, class_labels, cross_attention_kwargs, return_dict)\u001b[0m\n\u001b[1;32m    263\u001b[0m \u001b[39m# 2. Blocks\u001b[39;00m\n\u001b[1;32m    264\u001b[0m \u001b[39mfor\u001b[39;00m block \u001b[39min\u001b[39;00m \u001b[39mself\u001b[39m\u001b[39m.\u001b[39mtransformer_blocks:\n\u001b[0;32m--> 265\u001b[0m     hidden_states \u001b[39m=\u001b[39m block(\n\u001b[1;32m    266\u001b[0m         hidden_states,\n\u001b[1;32m    267\u001b[0m         encoder_hidden_states\u001b[39m=\u001b[39;49mencoder_hidden_states,\n\u001b[1;32m    268\u001b[0m         timestep\u001b[39m=\u001b[39;49mtimestep,\n\u001b[1;32m    269\u001b[0m         cross_attention_kwargs\u001b[39m=\u001b[39;49mcross_attention_kwargs,\n\u001b[1;32m    270\u001b[0m         class_labels\u001b[39m=\u001b[39;49mclass_labels,\n\u001b[1;32m    271\u001b[0m     )\n\u001b[1;32m    273\u001b[0m \u001b[39m# 3. Output\u001b[39;00m\n\u001b[1;32m    274\u001b[0m \u001b[39mif\u001b[39;00m \u001b[39mself\u001b[39m\u001b[39m.\u001b[39mis_input_continuous:\n",
      "File \u001b[0;32m~/.cap/lib/python3.9/site-packages/torch/nn/modules/module.py:1194\u001b[0m, in \u001b[0;36mModule._call_impl\u001b[0;34m(self, *input, **kwargs)\u001b[0m\n\u001b[1;32m   1190\u001b[0m \u001b[39m# If we don't have any hooks, we want to skip the rest of the logic in\u001b[39;00m\n\u001b[1;32m   1191\u001b[0m \u001b[39m# this function, and just call forward.\u001b[39;00m\n\u001b[1;32m   1192\u001b[0m \u001b[39mif\u001b[39;00m \u001b[39mnot\u001b[39;00m (\u001b[39mself\u001b[39m\u001b[39m.\u001b[39m_backward_hooks \u001b[39mor\u001b[39;00m \u001b[39mself\u001b[39m\u001b[39m.\u001b[39m_forward_hooks \u001b[39mor\u001b[39;00m \u001b[39mself\u001b[39m\u001b[39m.\u001b[39m_forward_pre_hooks \u001b[39mor\u001b[39;00m _global_backward_hooks\n\u001b[1;32m   1193\u001b[0m         \u001b[39mor\u001b[39;00m _global_forward_hooks \u001b[39mor\u001b[39;00m _global_forward_pre_hooks):\n\u001b[0;32m-> 1194\u001b[0m     \u001b[39mreturn\u001b[39;00m forward_call(\u001b[39m*\u001b[39;49m\u001b[39minput\u001b[39;49m, \u001b[39m*\u001b[39;49m\u001b[39m*\u001b[39;49mkwargs)\n\u001b[1;32m   1195\u001b[0m \u001b[39m# Do not call functions when jit is used\u001b[39;00m\n\u001b[1;32m   1196\u001b[0m full_backward_hooks, non_full_backward_hooks \u001b[39m=\u001b[39m [], []\n",
      "File \u001b[0;32m~/.cap/lib/python3.9/site-packages/tomesd/patch.py:131\u001b[0m, in \u001b[0;36mmake_diffusers_tome_block.<locals>.ToMeBlock.forward\u001b[0;34m(self, hidden_states, attention_mask, encoder_hidden_states, encoder_attention_mask, timestep, cross_attention_kwargs, class_labels)\u001b[0m\n\u001b[1;32m    128\u001b[0m norm_hidden_states \u001b[39m=\u001b[39m m_c(norm_hidden_states)\n\u001b[1;32m    130\u001b[0m \u001b[39m# 2. Cross-Attention\u001b[39;00m\n\u001b[0;32m--> 131\u001b[0m attn_output \u001b[39m=\u001b[39m \u001b[39mself\u001b[39;49m\u001b[39m.\u001b[39;49mattn2(\n\u001b[1;32m    132\u001b[0m     norm_hidden_states,\n\u001b[1;32m    133\u001b[0m     encoder_hidden_states\u001b[39m=\u001b[39;49mencoder_hidden_states,\n\u001b[1;32m    134\u001b[0m     attention_mask\u001b[39m=\u001b[39;49mencoder_attention_mask,\n\u001b[1;32m    135\u001b[0m     \u001b[39m*\u001b[39;49m\u001b[39m*\u001b[39;49mcross_attention_kwargs,\n\u001b[1;32m    136\u001b[0m )\n\u001b[1;32m    137\u001b[0m \u001b[39m# (5) ToMe u_c\u001b[39;00m\n\u001b[1;32m    138\u001b[0m hidden_states \u001b[39m=\u001b[39m u_c(attn_output) \u001b[39m+\u001b[39m hidden_states\n",
      "File \u001b[0;32m~/.cap/lib/python3.9/site-packages/torch/nn/modules/module.py:1194\u001b[0m, in \u001b[0;36mModule._call_impl\u001b[0;34m(self, *input, **kwargs)\u001b[0m\n\u001b[1;32m   1190\u001b[0m \u001b[39m# If we don't have any hooks, we want to skip the rest of the logic in\u001b[39;00m\n\u001b[1;32m   1191\u001b[0m \u001b[39m# this function, and just call forward.\u001b[39;00m\n\u001b[1;32m   1192\u001b[0m \u001b[39mif\u001b[39;00m \u001b[39mnot\u001b[39;00m (\u001b[39mself\u001b[39m\u001b[39m.\u001b[39m_backward_hooks \u001b[39mor\u001b[39;00m \u001b[39mself\u001b[39m\u001b[39m.\u001b[39m_forward_hooks \u001b[39mor\u001b[39;00m \u001b[39mself\u001b[39m\u001b[39m.\u001b[39m_forward_pre_hooks \u001b[39mor\u001b[39;00m _global_backward_hooks\n\u001b[1;32m   1193\u001b[0m         \u001b[39mor\u001b[39;00m _global_forward_hooks \u001b[39mor\u001b[39;00m _global_forward_pre_hooks):\n\u001b[0;32m-> 1194\u001b[0m     \u001b[39mreturn\u001b[39;00m forward_call(\u001b[39m*\u001b[39;49m\u001b[39minput\u001b[39;49m, \u001b[39m*\u001b[39;49m\u001b[39m*\u001b[39;49mkwargs)\n\u001b[1;32m   1195\u001b[0m \u001b[39m# Do not call functions when jit is used\u001b[39;00m\n\u001b[1;32m   1196\u001b[0m full_backward_hooks, non_full_backward_hooks \u001b[39m=\u001b[39m [], []\n",
      "File \u001b[0;32m~/.cap/lib/python3.9/site-packages/diffusers/models/cross_attention.py:205\u001b[0m, in \u001b[0;36mCrossAttention.forward\u001b[0;34m(self, hidden_states, encoder_hidden_states, attention_mask, **cross_attention_kwargs)\u001b[0m\n\u001b[1;32m    201\u001b[0m \u001b[39mdef\u001b[39;00m \u001b[39mforward\u001b[39m(\u001b[39mself\u001b[39m, hidden_states, encoder_hidden_states\u001b[39m=\u001b[39m\u001b[39mNone\u001b[39;00m, attention_mask\u001b[39m=\u001b[39m\u001b[39mNone\u001b[39;00m, \u001b[39m*\u001b[39m\u001b[39m*\u001b[39mcross_attention_kwargs):\n\u001b[1;32m    202\u001b[0m     \u001b[39m# The `CrossAttention` class can call different attention processors / attention functions\u001b[39;00m\n\u001b[1;32m    203\u001b[0m     \u001b[39m# here we simply pass along all tensors to the selected processor class\u001b[39;00m\n\u001b[1;32m    204\u001b[0m     \u001b[39m# For standard processors that are defined here, `**cross_attention_kwargs` is empty\u001b[39;00m\n\u001b[0;32m--> 205\u001b[0m     \u001b[39mreturn\u001b[39;00m \u001b[39mself\u001b[39;49m\u001b[39m.\u001b[39;49mprocessor(\n\u001b[1;32m    206\u001b[0m         \u001b[39mself\u001b[39;49m,\n\u001b[1;32m    207\u001b[0m         hidden_states,\n\u001b[1;32m    208\u001b[0m         encoder_hidden_states\u001b[39m=\u001b[39;49mencoder_hidden_states,\n\u001b[1;32m    209\u001b[0m         attention_mask\u001b[39m=\u001b[39;49mattention_mask,\n\u001b[1;32m    210\u001b[0m         \u001b[39m*\u001b[39;49m\u001b[39m*\u001b[39;49mcross_attention_kwargs,\n\u001b[1;32m    211\u001b[0m     )\n",
      "File \u001b[0;32m~/capstone_1216/Text2Video-Zero/utils.py:200\u001b[0m, in \u001b[0;36mCrossFrameAttnProcessor.__call__\u001b[0;34m(self, attn, hidden_states, encoder_hidden_states, attention_mask)\u001b[0m\n\u001b[1;32m    198\u001b[0m     encoder_hidden_states \u001b[39m=\u001b[39m attn\u001b[39m.\u001b[39mnorm_cross(encoder_hidden_states)\n\u001b[1;32m    199\u001b[0m key \u001b[39m=\u001b[39m attn\u001b[39m.\u001b[39mto_k(encoder_hidden_states)\n\u001b[0;32m--> 200\u001b[0m value \u001b[39m=\u001b[39m attn\u001b[39m.\u001b[39;49mto_v(encoder_hidden_states)\n\u001b[1;32m    201\u001b[0m \u001b[39m# Sparse Attention\u001b[39;00m\n\u001b[1;32m    202\u001b[0m \u001b[39mif\u001b[39;00m \u001b[39mnot\u001b[39;00m is_cross_attention:\n",
      "File \u001b[0;32m~/.cap/lib/python3.9/site-packages/torch/nn/modules/module.py:1189\u001b[0m, in \u001b[0;36mModule._call_impl\u001b[0;34m(self, *input, **kwargs)\u001b[0m\n\u001b[1;32m   1188\u001b[0m \u001b[39mdef\u001b[39;00m \u001b[39m_call_impl\u001b[39m(\u001b[39mself\u001b[39m, \u001b[39m*\u001b[39m\u001b[39minput\u001b[39m, \u001b[39m*\u001b[39m\u001b[39m*\u001b[39mkwargs):\n\u001b[0;32m-> 1189\u001b[0m     forward_call \u001b[39m=\u001b[39m (\u001b[39mself\u001b[39m\u001b[39m.\u001b[39m_slow_forward \u001b[39mif\u001b[39;00m torch\u001b[39m.\u001b[39;49m_C\u001b[39m.\u001b[39;49m_get_tracing_state() \u001b[39melse\u001b[39;00m \u001b[39mself\u001b[39m\u001b[39m.\u001b[39mforward)\n\u001b[1;32m   1190\u001b[0m     \u001b[39m# If we don't have any hooks, we want to skip the rest of the logic in\u001b[39;00m\n\u001b[1;32m   1191\u001b[0m     \u001b[39m# this function, and just call forward.\u001b[39;00m\n\u001b[1;32m   1192\u001b[0m     \u001b[39mif\u001b[39;00m \u001b[39mnot\u001b[39;00m (\u001b[39mself\u001b[39m\u001b[39m.\u001b[39m_backward_hooks \u001b[39mor\u001b[39;00m \u001b[39mself\u001b[39m\u001b[39m.\u001b[39m_forward_hooks \u001b[39mor\u001b[39;00m \u001b[39mself\u001b[39m\u001b[39m.\u001b[39m_forward_pre_hooks \u001b[39mor\u001b[39;00m _global_backward_hooks\n\u001b[1;32m   1193\u001b[0m             \u001b[39mor\u001b[39;00m _global_forward_hooks \u001b[39mor\u001b[39;00m _global_forward_pre_hooks):\n",
      "\u001b[0;31mKeyboardInterrupt\u001b[0m: "
     ]
    }
   ],
   "source": [
    "from model.runTTV import runTTV\n",
    "\n",
    "TTV_f_name = runTTV(prompts)"
   ]
  }
 ],
 "metadata": {
  "kernelspec": {
   "display_name": ".cap",
   "language": "python",
   "name": "python3"
  },
  "language_info": {
   "codemirror_mode": {
    "name": "ipython",
    "version": 3
   },
   "file_extension": ".py",
   "mimetype": "text/x-python",
   "name": "python",
   "nbconvert_exporter": "python",
   "pygments_lexer": "ipython3",
   "version": "3.9.21"
  }
 },
 "nbformat": 4,
 "nbformat_minor": 2
}
