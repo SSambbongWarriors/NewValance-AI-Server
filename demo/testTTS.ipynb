{
 "cells": [
  {
   "cell_type": "code",
   "execution_count": 1,
   "metadata": {},
   "outputs": [
    {
     "name": "stdout",
     "output_type": "stream",
     "text": [
      "Requirement already satisfied: google-cloud-texttospeech in /home/elicer/.cap/lib/python3.9/site-packages (2.22.0)\n",
      "Requirement already satisfied: sounddevice in /home/elicer/.cap/lib/python3.9/site-packages (0.5.1)\n",
      "Requirement already satisfied: numpy in /home/elicer/.cap/lib/python3.9/site-packages (1.24.1)\n",
      "Requirement already satisfied: google-api-core!=2.0.*,!=2.1.*,!=2.10.*,!=2.2.*,!=2.3.*,!=2.4.*,!=2.5.*,!=2.6.*,!=2.7.*,!=2.8.*,!=2.9.*,<3.0.0dev,>=1.34.1 in /home/elicer/.cap/lib/python3.9/site-packages (from google-api-core[grpc]!=2.0.*,!=2.1.*,!=2.10.*,!=2.2.*,!=2.3.*,!=2.4.*,!=2.5.*,!=2.6.*,!=2.7.*,!=2.8.*,!=2.9.*,<3.0.0dev,>=1.34.1->google-cloud-texttospeech) (2.24.0)\n",
      "Requirement already satisfied: google-auth!=2.24.0,!=2.25.0,<3.0.0dev,>=2.14.1 in /home/elicer/.cap/lib/python3.9/site-packages (from google-cloud-texttospeech) (2.37.0)\n",
      "Requirement already satisfied: proto-plus<2.0.0dev,>=1.22.3 in /home/elicer/.cap/lib/python3.9/site-packages (from google-cloud-texttospeech) (1.25.0)\n",
      "Requirement already satisfied: protobuf!=4.21.0,!=4.21.1,!=4.21.2,!=4.21.3,!=4.21.4,!=4.21.5,<6.0.0dev,>=3.20.2 in /home/elicer/.cap/lib/python3.9/site-packages (from google-cloud-texttospeech) (5.29.1)\n",
      "Requirement already satisfied: CFFI>=1.0 in /home/elicer/.cap/lib/python3.9/site-packages (from sounddevice) (1.17.1)\n",
      "Requirement already satisfied: pycparser in /home/elicer/.cap/lib/python3.9/site-packages (from CFFI>=1.0->sounddevice) (2.22)\n",
      "Requirement already satisfied: googleapis-common-protos<2.0.dev0,>=1.56.2 in /home/elicer/.cap/lib/python3.9/site-packages (from google-api-core!=2.0.*,!=2.1.*,!=2.10.*,!=2.2.*,!=2.3.*,!=2.4.*,!=2.5.*,!=2.6.*,!=2.7.*,!=2.8.*,!=2.9.*,<3.0.0dev,>=1.34.1->google-api-core[grpc]!=2.0.*,!=2.1.*,!=2.10.*,!=2.2.*,!=2.3.*,!=2.4.*,!=2.5.*,!=2.6.*,!=2.7.*,!=2.8.*,!=2.9.*,<3.0.0dev,>=1.34.1->google-cloud-texttospeech) (1.66.0)\n",
      "Requirement already satisfied: requests<3.0.0.dev0,>=2.18.0 in /home/elicer/.cap/lib/python3.9/site-packages (from google-api-core!=2.0.*,!=2.1.*,!=2.10.*,!=2.2.*,!=2.3.*,!=2.4.*,!=2.5.*,!=2.6.*,!=2.7.*,!=2.8.*,!=2.9.*,<3.0.0dev,>=1.34.1->google-api-core[grpc]!=2.0.*,!=2.1.*,!=2.10.*,!=2.2.*,!=2.3.*,!=2.4.*,!=2.5.*,!=2.6.*,!=2.7.*,!=2.8.*,!=2.9.*,<3.0.0dev,>=1.34.1->google-cloud-texttospeech) (2.32.3)\n",
      "Requirement already satisfied: grpcio<2.0dev,>=1.33.2 in /home/elicer/.cap/lib/python3.9/site-packages (from google-api-core[grpc]!=2.0.*,!=2.1.*,!=2.10.*,!=2.2.*,!=2.3.*,!=2.4.*,!=2.5.*,!=2.6.*,!=2.7.*,!=2.8.*,!=2.9.*,<3.0.0dev,>=1.34.1->google-cloud-texttospeech) (1.68.1)\n",
      "Requirement already satisfied: grpcio-status<2.0.dev0,>=1.33.2 in /home/elicer/.cap/lib/python3.9/site-packages (from google-api-core[grpc]!=2.0.*,!=2.1.*,!=2.10.*,!=2.2.*,!=2.3.*,!=2.4.*,!=2.5.*,!=2.6.*,!=2.7.*,!=2.8.*,!=2.9.*,<3.0.0dev,>=1.34.1->google-cloud-texttospeech) (1.68.1)\n",
      "Requirement already satisfied: cachetools<6.0,>=2.0.0 in /home/elicer/.cap/lib/python3.9/site-packages (from google-auth!=2.24.0,!=2.25.0,<3.0.0dev,>=2.14.1->google-cloud-texttospeech) (5.5.0)\n",
      "Requirement already satisfied: pyasn1-modules>=0.2.1 in /home/elicer/.cap/lib/python3.9/site-packages (from google-auth!=2.24.0,!=2.25.0,<3.0.0dev,>=2.14.1->google-cloud-texttospeech) (0.4.1)\n",
      "Requirement already satisfied: rsa<5,>=3.1.4 in /home/elicer/.cap/lib/python3.9/site-packages (from google-auth!=2.24.0,!=2.25.0,<3.0.0dev,>=2.14.1->google-cloud-texttospeech) (4.9)\n",
      "Requirement already satisfied: pyasn1<0.7.0,>=0.4.6 in /home/elicer/.cap/lib/python3.9/site-packages (from pyasn1-modules>=0.2.1->google-auth!=2.24.0,!=2.25.0,<3.0.0dev,>=2.14.1->google-cloud-texttospeech) (0.6.1)\n",
      "Requirement already satisfied: charset-normalizer<4,>=2 in /home/elicer/.cap/lib/python3.9/site-packages (from requests<3.0.0.dev0,>=2.18.0->google-api-core!=2.0.*,!=2.1.*,!=2.10.*,!=2.2.*,!=2.3.*,!=2.4.*,!=2.5.*,!=2.6.*,!=2.7.*,!=2.8.*,!=2.9.*,<3.0.0dev,>=1.34.1->google-api-core[grpc]!=2.0.*,!=2.1.*,!=2.10.*,!=2.2.*,!=2.3.*,!=2.4.*,!=2.5.*,!=2.6.*,!=2.7.*,!=2.8.*,!=2.9.*,<3.0.0dev,>=1.34.1->google-cloud-texttospeech) (3.4.0)\n",
      "Requirement already satisfied: idna<4,>=2.5 in /home/elicer/.cap/lib/python3.9/site-packages (from requests<3.0.0.dev0,>=2.18.0->google-api-core!=2.0.*,!=2.1.*,!=2.10.*,!=2.2.*,!=2.3.*,!=2.4.*,!=2.5.*,!=2.6.*,!=2.7.*,!=2.8.*,!=2.9.*,<3.0.0dev,>=1.34.1->google-api-core[grpc]!=2.0.*,!=2.1.*,!=2.10.*,!=2.2.*,!=2.3.*,!=2.4.*,!=2.5.*,!=2.6.*,!=2.7.*,!=2.8.*,!=2.9.*,<3.0.0dev,>=1.34.1->google-cloud-texttospeech) (3.10)\n",
      "Requirement already satisfied: urllib3<3,>=1.21.1 in /home/elicer/.cap/lib/python3.9/site-packages (from requests<3.0.0.dev0,>=2.18.0->google-api-core!=2.0.*,!=2.1.*,!=2.10.*,!=2.2.*,!=2.3.*,!=2.4.*,!=2.5.*,!=2.6.*,!=2.7.*,!=2.8.*,!=2.9.*,<3.0.0dev,>=1.34.1->google-api-core[grpc]!=2.0.*,!=2.1.*,!=2.10.*,!=2.2.*,!=2.3.*,!=2.4.*,!=2.5.*,!=2.6.*,!=2.7.*,!=2.8.*,!=2.9.*,<3.0.0dev,>=1.34.1->google-cloud-texttospeech) (2.2.3)\n",
      "Requirement already satisfied: certifi>=2017.4.17 in /home/elicer/.cap/lib/python3.9/site-packages (from requests<3.0.0.dev0,>=2.18.0->google-api-core!=2.0.*,!=2.1.*,!=2.10.*,!=2.2.*,!=2.3.*,!=2.4.*,!=2.5.*,!=2.6.*,!=2.7.*,!=2.8.*,!=2.9.*,<3.0.0dev,>=1.34.1->google-api-core[grpc]!=2.0.*,!=2.1.*,!=2.10.*,!=2.2.*,!=2.3.*,!=2.4.*,!=2.5.*,!=2.6.*,!=2.7.*,!=2.8.*,!=2.9.*,<3.0.0dev,>=1.34.1->google-cloud-texttospeech) (2024.12.14)\n"
     ]
    }
   ],
   "source": [
    "import sys\n",
    "import os\n",
    "\n",
    "# 현재 파일의 상위 디렉토리 기준으로 경로 설정\n",
    "current_dir = os.path.dirname(os.path.abspath(\"/home/elicer/capstone_1216/demo/testTTS.ipynb\"))\n",
    "model_dir = os.path.join(current_dir, \"../model\")\n",
    "\n",
    "# model 디렉토리를 Python 경로에 추가\n",
    "sys.path.append(model_dir)\n",
    "\n",
    "# runTTS 함수 import\n",
    "from runTTS import runTTS\n"
   ]
  },
  {
   "cell_type": "code",
   "execution_count": 2,
   "metadata": {},
   "outputs": [
    {
     "name": "stdout",
     "output_type": "stream",
     "text": [
      "Audio content received successfully.\n",
      "Audio saved to: generated_audio/casual_voice_output_20241218_152739_086462.wav\n",
      "Audio content received successfully.\n",
      "Audio saved to: generated_audio/casual_voice_output_20241218_152739_564457.wav\n",
      "Audio content received successfully.\n",
      "Audio saved to: generated_audio/casual_voice_output_20241218_152739_985805.wav\n",
      "Audio content received successfully.\n",
      "Audio saved to: generated_audio/casual_voice_output_20241218_152740_402949.wav\n",
      "Audio content received successfully.\n",
      "Audio saved to: generated_audio/casual_voice_output_20241218_152740_815367.wav\n",
      "Audio content received successfully.\n",
      "Audio saved to: generated_audio/formal_voice_output_20241218_152741_220822.wav\n",
      "Audio content received successfully.\n",
      "Audio saved to: generated_audio/formal_voice_output_20241218_152741_628836.wav\n",
      "Audio content received successfully.\n",
      "Audio saved to: generated_audio/formal_voice_output_20241218_152742_061064.wav\n",
      "Audio content received successfully.\n",
      "Audio saved to: generated_audio/formal_voice_output_20241218_152742_473050.wav\n",
      "Audio content received successfully.\n",
      "Audio saved to: generated_audio/formal_voice_output_20241218_152742_906719.wav\n"
     ]
    }
   ],
   "source": [
    "\n",
    "casual_prompts=['국민의힘 당원 게시판에서 한동훈 대표를 깎아내리는 글이 화제예요!', '경찰이 글쓴이를 잡기 위해 사건을 분당경찰서에 넘겼다고 합니다.', '추경호 원내대표는 ‘빨리 어떤 식으로든 해결하자!’고 했대요.', '글이 윤석열 대통령 부부를 비난하는 내용이라 유튜브에 퍼져버렸죠.', '국민의힘은 ‘허위 사실 유포에 법적으로 대응할 것’이라고 하네요!']\n",
    "formal_prompts=['국민의힘 당원 게시판에서 한동훈 대표 비방 글이 논란이 커지고 있습니다.', '경기남부경찰청은 사건을 분당경찰서에 배당해 글쓴이를 추적 중입니다.', '추경호 원내대표는 당 차원의 대응을 요청하며 해결을 촉구했습니다.', '게시글은 윤석열 대통령 부부를 비난하는 내용으로 유튜브에 퍼졌습니다.', '국민의힘 법률자문위원회는 허위 사실 유포에 대해 법적 대응할 예정입니다.']\n",
    "\n",
    "\n",
    "casual_f_name, formal_f_name = runTTS(casual_prompts, formal_prompts)\n",
    "\n"
   ]
  },
  {
   "cell_type": "code",
   "execution_count": null,
   "metadata": {},
   "outputs": [],
   "source": [
    "print(casual_f_name)"
   ]
  },
  {
   "cell_type": "code",
   "execution_count": null,
   "metadata": {},
   "outputs": [],
   "source": [
    "print(formal_f_name)"
   ]
  }
 ],
 "metadata": {
  "kernelspec": {
   "display_name": ".cap",
   "language": "python",
   "name": "python3"
  },
  "language_info": {
   "codemirror_mode": {
    "name": "ipython",
    "version": 3
   },
   "file_extension": ".py",
   "mimetype": "text/x-python",
   "name": "python",
   "nbconvert_exporter": "python",
   "pygments_lexer": "ipython3",
   "version": "3.9.21"
  }
 },
 "nbformat": 4,
 "nbformat_minor": 2
}
