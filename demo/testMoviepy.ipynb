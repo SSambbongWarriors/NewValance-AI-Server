{
 "cells": [
  {
   "cell_type": "code",
   "execution_count": null,
   "metadata": {},
   "outputs": [],
   "source": [
    "import sys\n",
    "import os\n",
    "\n",
    "# 현재 파일의 상위 디렉토리 기준으로 경로 설정\n",
    "current_dir = os.path.dirname(os.path.abspath(\"/home/elicer/capstone_1216/demo/testMoviepy.ipynb\"))\n",
    "model_dir = os.path.join(current_dir, \"../model\")\n",
    "\n",
    "# model 디렉토리를 Python 경로에 추가\n",
    "sys.path.append(model_dir)\n",
    "\n",
    "# runTTS 함수 import\n",
    "from runMoviepy import runMoviepy"
   ]
  },
  {
   "cell_type": "code",
   "execution_count": null,
   "metadata": {},
   "outputs": [],
   "source": [
    "casual_prompts=[]\n",
    "formal_prompts=[]\n",
    "\n",
    "\n",
    "TTV_f_path=[]\n",
    "TTS_casual_f_path=[]\n",
    "TTS_formal_f_path=[]"
   ]
  },
  {
   "cell_type": "code",
   "execution_count": null,
   "metadata": {},
   "outputs": [],
   "source": [
    "from model.runMoviepy import runMoviepy\n",
    "\n",
    "\n",
    "\n",
    "runMoviepy(TTV_f_name, casual_f_name,sum[0],output_label=\"casual\")\n",
    "\n",
    "runMoviepy(TTV_f_name, formal_f_name, sum[1],output_label=\"formal\")\n"
   ]
  }
 ],
 "metadata": {
  "kernelspec": {
   "display_name": ".cap",
   "language": "python",
   "name": "python3"
  },
  "language_info": {
   "name": "python",
   "version": "3.9.21"
  }
 },
 "nbformat": 4,
 "nbformat_minor": 2
}
