{
 "cells": [
  {
   "cell_type": "code",
   "execution_count": null,
   "metadata": {},
   "outputs": [],
   "source": [
    "casual_prompts=['국민의힘 당원 게시판에서 한동훈 대표를 깎아내리는 글이 화제예요!', '경찰이 글쓴이를 잡기 위해 사건을 분당경찰서에 넘겼다고 합니다.', '추경호 원내대표는 ‘빨리 어떤 식으로든 해결하자!’고 했대요.', '글이 윤석열 대통령 부부를 비난하는 내용이라 유튜브에 퍼져버렸죠.', '국민의힘은 ‘허위 사실 유포에 법적으로 대응할 것’이라고 하네요!']\n",
    "formal_prompts=['국민의힘 당원 게시판에서 한동훈 대표 비방 글이 논란이 커지고 있습니다.', '경기남부경찰청은 사건을 분당경찰서에 배당해 글쓴이를 추적 중입니다.', '추경호 원내대표는 당 차원의 대응을 요청하며 해결을 촉구했습니다.', '게시글은 윤석열 대통령 부부를 비난하는 내용으로 유튜브에 퍼졌습니다.', '국민의힘 법률자문위원회는 허위 사실 유포에 대해 법적 대응할 예정입니다.']\n",
    "\n",
    "\n",
    "TTV_f_path=\n",
    "TTS_casual_f_path=['/home/elicer/capstone_1216/generated_audio/casual_voice_output_20241217_160339_542547.wav', '/home/elicer/capstone_1216/generated_audio/casual_voice_output_20241217_160340_186014.wav', '/home/elicer/capstone_1216/generated_audio/casual_voice_output_20241217_160340_747869.wav', '/home/elicer/capstone_1216/generated_audio/casual_voice_output_20241217_160341_305815.wav', '/home/elicer/capstone_1216/generated_audio/casual_voice_output_20241217_160341_868786.wav']\n",
    "TTS_formal_f_path=['/home/elicer/capstone_1216/generated_audio/formal_voice_output_20241217_160342_423879.wav', '/home/elicer/capstone_1216/generated_audio/formal_voice_output_20241217_160343_015706.wav', '/home/elicer/capstone_1216/generated_audio/formal_voice_output_20241217_160343_443486.wav', '/home/elicer/capstone_1216/generated_audio/formal_voice_output_20241217_160343_990765.wav', '/home/elicer/capstone_1216/generated_audio/formal_voice_output_20241217_160344_540136.wav']"
   ]
  },
  {
   "cell_type": "code",
   "execution_count": null,
   "metadata": {},
   "outputs": [],
   "source": [
    "from model.runMoviepy import runMoviepy\n",
    "\n",
    "\n",
    "\n",
    "runMoviepy(TTV_f_name, casual_f_name,sum[0],output_label=\"casual\")\n",
    "\n",
    "runMoviepy(TTV_f_name, formal_f_name, sum[1],output_label=\"formal\")\n"
   ]
  }
 ],
 "metadata": {
  "kernelspec": {
   "display_name": ".cap",
   "language": "python",
   "name": "python3"
  },
  "language_info": {
   "name": "python",
   "version": "3.9.21"
  }
 },
 "nbformat": 4,
 "nbformat_minor": 2
}
